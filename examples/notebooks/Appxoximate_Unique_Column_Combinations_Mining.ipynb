{
  "cells": [
    {
      "cell_type": "markdown",
      "metadata": {
        "id": "9ftLdUPi-C-h"
      },
      "source": [
        "# Approximate Unique Column Combinations\n",
        "\n",
        "This example illustrates the usage of `Approximate` Unique Column Combinations (AUCC).\n",
        "\n",
        "- An exact UCC declares that some columns uniquely identify every tuple in a table.\n",
        "- An approximate UCC declares that some columns uniquely identify every tuple in a table, **but allows a certain degree of violation**.\n",
        "\n",
        "For more information consult:\n",
        "\n",
        "```\n",
        "A Hybrid Approach for Efficient Unique Column Combination Discovery,\n",
        "        by T. Papenbrock and F. Naumann.\n",
        "Efficient Discovery of Approximate Dependencies,\n",
        "        by S. Kruse and F. Naumann.\n",
        "````"
      ]
    },
    {
      "cell_type": "markdown",
      "metadata": {
        "id": "px8ql8ee1G8T"
      },
      "source": [
        "# Install dependencies"
      ]
    },
    {
      "cell_type": "code",
      "execution_count": null,
      "metadata": {
        "colab": {
          "base_uri": "https://localhost:8080/"
        },
        "id": "U_NOQVWeutjR",
        "outputId": "df9151f3-4cb5-48d9-ae42-949f39bcce43"
      },
      "outputs": [
        {
          "name": "stdout",
          "output_type": "stream",
          "text": [
            "Requirement already satisfied: desbordante==2.3.2 in /usr/local/lib/python3.11/dist-packages (2.3.2)\n",
            "Requirement already satisfied: pandas in /usr/local/lib/python3.11/dist-packages (2.2.2)\n",
            "Requirement already satisfied: numpy>=1.23.2 in /usr/local/lib/python3.11/dist-packages (from pandas) (2.0.2)\n",
            "Requirement already satisfied: python-dateutil>=2.8.2 in /usr/local/lib/python3.11/dist-packages (from pandas) (2.8.2)\n",
            "Requirement already satisfied: pytz>=2020.1 in /usr/local/lib/python3.11/dist-packages (from pandas) (2025.2)\n",
            "Requirement already satisfied: tzdata>=2022.7 in /usr/local/lib/python3.11/dist-packages (from pandas) (2025.2)\n",
            "Requirement already satisfied: six>=1.5 in /usr/local/lib/python3.11/dist-packages (from python-dateutil>=2.8.2->pandas) (1.17.0)\n"
          ]
        }
      ],
      "source": [
        "!pip install desbordante==2.3.2\n",
        "!pip install pandas"
      ]
    },
    {
      "cell_type": "markdown",
      "metadata": {
        "id": "-MVDDGqY1MyH"
      },
      "source": [
        "## Import python libraries"
      ]
    },
    {
      "cell_type": "code",
      "execution_count": null,
      "metadata": {
        "id": "tp8ifcd9w-78"
      },
      "outputs": [],
      "source": [
        "import desbordante as db\n",
        "import pandas as pd"
      ]
    },
    {
      "cell_type": "markdown",
      "metadata": {
        "id": "RZKQfHR6Dcdl"
      },
      "source": [
        "## Approximate UCC\n",
        "\n",
        "Let's discover approximate UCC."
      ]
    },
    {
      "cell_type": "code",
      "execution_count": 15,
      "metadata": {
        "id": "RltCD2PlDi96"
      },
      "outputs": [],
      "source": [
        "!wget -q https://raw.githubusercontent.com/Desbordante/desbordante-core/main/examples/datasets/ucc_datasets/aucc.csv\n",
        "!wget -q https://raw.githubusercontent.com/Desbordante/desbordante-core/main/examples/datasets/ucc_datasets/aucc_correct.csv"
      ]
    },
    {
      "cell_type": "markdown",
      "metadata": {
        "id": "eiGt4i3pDzM_"
      },
      "source": [
        "The following table contains records about employees."
      ]
    },
    {
      "cell_type": "code",
      "execution_count": 16,
      "metadata": {
        "colab": {
          "base_uri": "https://localhost:8080/",
          "height": 269
        },
        "id": "k9E-OwK2D0t6",
        "outputId": "793c86ef-2bc1-4cfd-94b6-aee5dd21bab6"
      },
      "outputs": [
        {
          "data": {
            "application/vnd.google.colaboratory.intrinsic+json": {
              "summary": "{\n  \"name\": \"pd\",\n  \"rows\": 7,\n  \"fields\": [\n    {\n      \"column\": \"Name\",\n      \"properties\": {\n        \"dtype\": \"string\",\n        \"num_unique_values\": 6,\n        \"samples\": [\n          \"Mark\",\n          \"Joyce\",\n          \"Nancy\"\n        ],\n        \"semantic_type\": \"\",\n        \"description\": \"\"\n      }\n    },\n    {\n      \"column\": \"Grade\",\n      \"properties\": {\n        \"dtype\": \"number\",\n        \"std\": 1,\n        \"min\": 1,\n        \"max\": 7,\n        \"num_unique_values\": 5,\n        \"samples\": [\n          2,\n          1,\n          3\n        ],\n        \"semantic_type\": \"\",\n        \"description\": \"\"\n      }\n    },\n    {\n      \"column\": \"Salary\",\n      \"properties\": {\n        \"dtype\": \"number\",\n        \"std\": 93,\n        \"min\": 900,\n        \"max\": 1150,\n        \"num_unique_values\": 4,\n        \"samples\": [\n          1100,\n          900,\n          1150\n        ],\n        \"semantic_type\": \"\",\n        \"description\": \"\"\n      }\n    },\n    {\n      \"column\": \"Work_experience\",\n      \"properties\": {\n        \"dtype\": \"number\",\n        \"std\": 3,\n        \"min\": 3,\n        \"max\": 12,\n        \"num_unique_values\": 5,\n        \"samples\": [\n          5,\n          3,\n          7\n        ],\n        \"semantic_type\": \"\",\n        \"description\": \"\"\n      }\n    }\n  ]\n}",
              "type": "dataframe"
            },
            "text/html": [
              "\n",
              "  <div id=\"df-ae469bdd-bb24-4e05-9047-7aa0117f882b\" class=\"colab-df-container\">\n",
              "    <div>\n",
              "<style scoped>\n",
              "    .dataframe tbody tr th:only-of-type {\n",
              "        vertical-align: middle;\n",
              "    }\n",
              "\n",
              "    .dataframe tbody tr th {\n",
              "        vertical-align: top;\n",
              "    }\n",
              "\n",
              "    .dataframe thead th {\n",
              "        text-align: right;\n",
              "    }\n",
              "</style>\n",
              "<table border=\"1\" class=\"dataframe\">\n",
              "  <thead>\n",
              "    <tr style=\"text-align: right;\">\n",
              "      <th></th>\n",
              "      <th>Name</th>\n",
              "      <th>Grade</th>\n",
              "      <th>Salary</th>\n",
              "      <th>Work_experience</th>\n",
              "    </tr>\n",
              "  </thead>\n",
              "  <tbody>\n",
              "    <tr>\n",
              "      <th>0</th>\n",
              "      <td>Mark</td>\n",
              "      <td>7</td>\n",
              "      <td>1150</td>\n",
              "      <td>12</td>\n",
              "    </tr>\n",
              "    <tr>\n",
              "      <th>1</th>\n",
              "      <td>Joyce</td>\n",
              "      <td>2</td>\n",
              "      <td>1100</td>\n",
              "      <td>5</td>\n",
              "    </tr>\n",
              "    <tr>\n",
              "      <th>2</th>\n",
              "      <td>Harry</td>\n",
              "      <td>3</td>\n",
              "      <td>1000</td>\n",
              "      <td>7</td>\n",
              "    </tr>\n",
              "    <tr>\n",
              "      <th>3</th>\n",
              "      <td>Grace</td>\n",
              "      <td>4</td>\n",
              "      <td>900</td>\n",
              "      <td>12</td>\n",
              "    </tr>\n",
              "    <tr>\n",
              "      <th>4</th>\n",
              "      <td>Harry</td>\n",
              "      <td>4</td>\n",
              "      <td>1000</td>\n",
              "      <td>5</td>\n",
              "    </tr>\n",
              "    <tr>\n",
              "      <th>5</th>\n",
              "      <td>Samuel</td>\n",
              "      <td>1</td>\n",
              "      <td>900</td>\n",
              "      <td>9</td>\n",
              "    </tr>\n",
              "    <tr>\n",
              "      <th>6</th>\n",
              "      <td>Nancy</td>\n",
              "      <td>2</td>\n",
              "      <td>1000</td>\n",
              "      <td>3</td>\n",
              "    </tr>\n",
              "  </tbody>\n",
              "</table>\n",
              "</div>\n",
              "    <div class=\"colab-df-buttons\">\n",
              "\n",
              "  <div class=\"colab-df-container\">\n",
              "    <button class=\"colab-df-convert\" onclick=\"convertToInteractive('df-ae469bdd-bb24-4e05-9047-7aa0117f882b')\"\n",
              "            title=\"Convert this dataframe to an interactive table.\"\n",
              "            style=\"display:none;\">\n",
              "\n",
              "  <svg xmlns=\"http://www.w3.org/2000/svg\" height=\"24px\" viewBox=\"0 -960 960 960\">\n",
              "    <path d=\"M120-120v-720h720v720H120Zm60-500h600v-160H180v160Zm220 220h160v-160H400v160Zm0 220h160v-160H400v160ZM180-400h160v-160H180v160Zm440 0h160v-160H620v160ZM180-180h160v-160H180v160Zm440 0h160v-160H620v160Z\"/>\n",
              "  </svg>\n",
              "    </button>\n",
              "\n",
              "  <style>\n",
              "    .colab-df-container {\n",
              "      display:flex;\n",
              "      gap: 12px;\n",
              "    }\n",
              "\n",
              "    .colab-df-convert {\n",
              "      background-color: #E8F0FE;\n",
              "      border: none;\n",
              "      border-radius: 50%;\n",
              "      cursor: pointer;\n",
              "      display: none;\n",
              "      fill: #1967D2;\n",
              "      height: 32px;\n",
              "      padding: 0 0 0 0;\n",
              "      width: 32px;\n",
              "    }\n",
              "\n",
              "    .colab-df-convert:hover {\n",
              "      background-color: #E2EBFA;\n",
              "      box-shadow: 0px 1px 2px rgba(60, 64, 67, 0.3), 0px 1px 3px 1px rgba(60, 64, 67, 0.15);\n",
              "      fill: #174EA6;\n",
              "    }\n",
              "\n",
              "    .colab-df-buttons div {\n",
              "      margin-bottom: 4px;\n",
              "    }\n",
              "\n",
              "    [theme=dark] .colab-df-convert {\n",
              "      background-color: #3B4455;\n",
              "      fill: #D2E3FC;\n",
              "    }\n",
              "\n",
              "    [theme=dark] .colab-df-convert:hover {\n",
              "      background-color: #434B5C;\n",
              "      box-shadow: 0px 1px 3px 1px rgba(0, 0, 0, 0.15);\n",
              "      filter: drop-shadow(0px 1px 2px rgba(0, 0, 0, 0.3));\n",
              "      fill: #FFFFFF;\n",
              "    }\n",
              "  </style>\n",
              "\n",
              "    <script>\n",
              "      const buttonEl =\n",
              "        document.querySelector('#df-ae469bdd-bb24-4e05-9047-7aa0117f882b button.colab-df-convert');\n",
              "      buttonEl.style.display =\n",
              "        google.colab.kernel.accessAllowed ? 'block' : 'none';\n",
              "\n",
              "      async function convertToInteractive(key) {\n",
              "        const element = document.querySelector('#df-ae469bdd-bb24-4e05-9047-7aa0117f882b');\n",
              "        const dataTable =\n",
              "          await google.colab.kernel.invokeFunction('convertToInteractive',\n",
              "                                                    [key], {});\n",
              "        if (!dataTable) return;\n",
              "\n",
              "        const docLinkHtml = 'Like what you see? Visit the ' +\n",
              "          '<a target=\"_blank\" href=https://colab.research.google.com/notebooks/data_table.ipynb>data table notebook</a>'\n",
              "          + ' to learn more about interactive tables.';\n",
              "        element.innerHTML = '';\n",
              "        dataTable['output_type'] = 'display_data';\n",
              "        await google.colab.output.renderOutput(dataTable, element);\n",
              "        const docLink = document.createElement('div');\n",
              "        docLink.innerHTML = docLinkHtml;\n",
              "        element.appendChild(docLink);\n",
              "      }\n",
              "    </script>\n",
              "  </div>\n",
              "\n",
              "\n",
              "<div id=\"df-b2ed46d9-36ac-4682-a93d-f8b41e9d281f\">\n",
              "  <button class=\"colab-df-quickchart\" onclick=\"quickchart('df-b2ed46d9-36ac-4682-a93d-f8b41e9d281f')\"\n",
              "            title=\"Suggest charts\"\n",
              "            style=\"display:none;\">\n",
              "\n",
              "<svg xmlns=\"http://www.w3.org/2000/svg\" height=\"24px\"viewBox=\"0 0 24 24\"\n",
              "     width=\"24px\">\n",
              "    <g>\n",
              "        <path d=\"M19 3H5c-1.1 0-2 .9-2 2v14c0 1.1.9 2 2 2h14c1.1 0 2-.9 2-2V5c0-1.1-.9-2-2-2zM9 17H7v-7h2v7zm4 0h-2V7h2v10zm4 0h-2v-4h2v4z\"/>\n",
              "    </g>\n",
              "</svg>\n",
              "  </button>\n",
              "\n",
              "<style>\n",
              "  .colab-df-quickchart {\n",
              "      --bg-color: #E8F0FE;\n",
              "      --fill-color: #1967D2;\n",
              "      --hover-bg-color: #E2EBFA;\n",
              "      --hover-fill-color: #174EA6;\n",
              "      --disabled-fill-color: #AAA;\n",
              "      --disabled-bg-color: #DDD;\n",
              "  }\n",
              "\n",
              "  [theme=dark] .colab-df-quickchart {\n",
              "      --bg-color: #3B4455;\n",
              "      --fill-color: #D2E3FC;\n",
              "      --hover-bg-color: #434B5C;\n",
              "      --hover-fill-color: #FFFFFF;\n",
              "      --disabled-bg-color: #3B4455;\n",
              "      --disabled-fill-color: #666;\n",
              "  }\n",
              "\n",
              "  .colab-df-quickchart {\n",
              "    background-color: var(--bg-color);\n",
              "    border: none;\n",
              "    border-radius: 50%;\n",
              "    cursor: pointer;\n",
              "    display: none;\n",
              "    fill: var(--fill-color);\n",
              "    height: 32px;\n",
              "    padding: 0;\n",
              "    width: 32px;\n",
              "  }\n",
              "\n",
              "  .colab-df-quickchart:hover {\n",
              "    background-color: var(--hover-bg-color);\n",
              "    box-shadow: 0 1px 2px rgba(60, 64, 67, 0.3), 0 1px 3px 1px rgba(60, 64, 67, 0.15);\n",
              "    fill: var(--button-hover-fill-color);\n",
              "  }\n",
              "\n",
              "  .colab-df-quickchart-complete:disabled,\n",
              "  .colab-df-quickchart-complete:disabled:hover {\n",
              "    background-color: var(--disabled-bg-color);\n",
              "    fill: var(--disabled-fill-color);\n",
              "    box-shadow: none;\n",
              "  }\n",
              "\n",
              "  .colab-df-spinner {\n",
              "    border: 2px solid var(--fill-color);\n",
              "    border-color: transparent;\n",
              "    border-bottom-color: var(--fill-color);\n",
              "    animation:\n",
              "      spin 1s steps(1) infinite;\n",
              "  }\n",
              "\n",
              "  @keyframes spin {\n",
              "    0% {\n",
              "      border-color: transparent;\n",
              "      border-bottom-color: var(--fill-color);\n",
              "      border-left-color: var(--fill-color);\n",
              "    }\n",
              "    20% {\n",
              "      border-color: transparent;\n",
              "      border-left-color: var(--fill-color);\n",
              "      border-top-color: var(--fill-color);\n",
              "    }\n",
              "    30% {\n",
              "      border-color: transparent;\n",
              "      border-left-color: var(--fill-color);\n",
              "      border-top-color: var(--fill-color);\n",
              "      border-right-color: var(--fill-color);\n",
              "    }\n",
              "    40% {\n",
              "      border-color: transparent;\n",
              "      border-right-color: var(--fill-color);\n",
              "      border-top-color: var(--fill-color);\n",
              "    }\n",
              "    60% {\n",
              "      border-color: transparent;\n",
              "      border-right-color: var(--fill-color);\n",
              "    }\n",
              "    80% {\n",
              "      border-color: transparent;\n",
              "      border-right-color: var(--fill-color);\n",
              "      border-bottom-color: var(--fill-color);\n",
              "    }\n",
              "    90% {\n",
              "      border-color: transparent;\n",
              "      border-bottom-color: var(--fill-color);\n",
              "    }\n",
              "  }\n",
              "</style>\n",
              "\n",
              "  <script>\n",
              "    async function quickchart(key) {\n",
              "      const quickchartButtonEl =\n",
              "        document.querySelector('#' + key + ' button');\n",
              "      quickchartButtonEl.disabled = true;  // To prevent multiple clicks.\n",
              "      quickchartButtonEl.classList.add('colab-df-spinner');\n",
              "      try {\n",
              "        const charts = await google.colab.kernel.invokeFunction(\n",
              "            'suggestCharts', [key], {});\n",
              "      } catch (error) {\n",
              "        console.error('Error during call to suggestCharts:', error);\n",
              "      }\n",
              "      quickchartButtonEl.classList.remove('colab-df-spinner');\n",
              "      quickchartButtonEl.classList.add('colab-df-quickchart-complete');\n",
              "    }\n",
              "    (() => {\n",
              "      let quickchartButtonEl =\n",
              "        document.querySelector('#df-b2ed46d9-36ac-4682-a93d-f8b41e9d281f button');\n",
              "      quickchartButtonEl.style.display =\n",
              "        google.colab.kernel.accessAllowed ? 'block' : 'none';\n",
              "    })();\n",
              "  </script>\n",
              "</div>\n",
              "    </div>\n",
              "  </div>\n"
            ],
            "text/plain": [
              "     Name  Grade  Salary  Work_experience\n",
              "0    Mark      7    1150               12\n",
              "1   Joyce      2    1100                5\n",
              "2   Harry      3    1000                7\n",
              "3   Grace      4     900               12\n",
              "4   Harry      4    1000                5\n",
              "5  Samuel      1     900                9\n",
              "6   Nancy      2    1000                3"
            ]
          },
          "execution_count": 16,
          "metadata": {},
          "output_type": "execute_result"
        }
      ],
      "source": [
        "pd.read_csv(\"aucc.csv\")"
      ]
    },
    {
      "cell_type": "markdown",
      "metadata": {
        "id": "KpGeYJ7RD76i"
      },
      "source": [
        "Again, we need to select a column that will serve as a unique key (ID).\n",
        "This time though, the AUCC mining algorithm with error threshold will be used.\n",
        "\n",
        "The smaller threshold gets, the less violations (repeated values) are allowed in column combinations.\n",
        "\n",
        "Let's run AUCC mining algorithm with threshold equal to `0`.\n",
        "Setting threshold to `0` means mining exact UCCs (without violations)."
      ]
    },
    {
      "cell_type": "code",
      "execution_count": 17,
      "metadata": {
        "id": "W34q1UxaEloO"
      },
      "outputs": [],
      "source": [
        "algo = db.ucc.algorithms.PyroUCC()\n",
        "algo.load_data(table=(\"aucc.csv\", ',', True))\n",
        "algo.execute(error=0)\n",
        "uccs = algo.get_uccs()"
      ]
    },
    {
      "cell_type": "code",
      "execution_count": 18,
      "metadata": {
        "colab": {
          "base_uri": "https://localhost:8080/"
        },
        "id": "Qdku668yEtPG",
        "outputId": "9bb0f247-9464-4321-b55f-89e4a3d6d0ac"
      },
      "outputs": [
        {
          "name": "stdout",
          "output_type": "stream",
          "text": [
            "[Name Grade]\n",
            "[Name Work_experience]\n",
            "[Grade Work_experience]\n",
            "[Grade Salary]\n",
            "[Salary Work_experience]\n"
          ]
        }
      ],
      "source": [
        "for ucc in uccs:\n",
        "    print(ucc.to_long_string())"
      ]
    },
    {
      "cell_type": "markdown",
      "metadata": {
        "id": "6xJ_edCCE_bE"
      },
      "source": [
        "And again, there are no unary UCCs, so there is no single column that can define a key.\n",
        "\n",
        "Let's run algorithm with bigger threshold (= `0.1`)."
      ]
    },
    {
      "cell_type": "code",
      "execution_count": 19,
      "metadata": {
        "id": "AsCMtJ4vFEiP"
      },
      "outputs": [],
      "source": [
        "algo = db.ucc.algorithms.PyroUCC()\n",
        "algo.load_data(table=(\"aucc.csv\", ',', True))\n",
        "algo.execute(error=0.1)\n",
        "auccs = algo.get_uccs()"
      ]
    },
    {
      "cell_type": "code",
      "execution_count": 20,
      "metadata": {
        "colab": {
          "base_uri": "https://localhost:8080/"
        },
        "id": "0QjpuxM1FPz_",
        "outputId": "aee77ae8-fd8c-49f8-801a-26e239e58391"
      },
      "outputs": [
        {
          "name": "stdout",
          "output_type": "stream",
          "text": [
            "[Name]\n",
            "[Grade]\n",
            "[Work_experience]\n"
          ]
        }
      ],
      "source": [
        "for aucc in auccs:\n",
        "    print(aucc.to_long_string())"
      ]
    },
    {
      "cell_type": "markdown",
      "metadata": {
        "id": "hh8Vwa_VFXgK"
      },
      "source": [
        "Now, almost all columns are considered to be unique, but that is not what we wanted. Let's test a smaller threshold (= `0.05`)."
      ]
    },
    {
      "cell_type": "code",
      "execution_count": 21,
      "metadata": {
        "id": "oHJ8nithFnS5"
      },
      "outputs": [],
      "source": [
        "algo = db.ucc.algorithms.PyroUCC()\n",
        "algo.load_data(table=(\"aucc.csv\", ',', True))\n",
        "algo.execute(error=0.05)\n",
        "auccs = algo.get_uccs()"
      ]
    },
    {
      "cell_type": "code",
      "execution_count": 22,
      "metadata": {
        "colab": {
          "base_uri": "https://localhost:8080/"
        },
        "id": "ZfLvCSNEFv7X",
        "outputId": "034f132e-0044-45c5-dbb9-ed4d9f4aabcd"
      },
      "outputs": [
        {
          "name": "stdout",
          "output_type": "stream",
          "text": [
            "[Name]\n",
            "[Grade Salary]\n",
            "[Grade Work_experience]\n",
            "[Salary Work_experience]\n"
          ]
        }
      ],
      "source": [
        "for aucc in auccs:\n",
        "    print(aucc.to_long_string())"
      ]
    },
    {
      "cell_type": "markdown",
      "metadata": {
        "id": "4dkAP4c0F9Oy"
      },
      "source": [
        "Out of single-column UCCs, `Name` requires the smallest threshold to be \"unique\".\n",
        "\n",
        "It means that `Name` has less violations than other columns.\n",
        "\n",
        "Let's look at the table again, paying a special attention to the `Name` column."
      ]
    },
    {
      "cell_type": "code",
      "execution_count": 43,
      "metadata": {
        "colab": {
          "base_uri": "https://localhost:8080/",
          "height": 269
        },
        "id": "0E7Is5I8GIcu",
        "outputId": "67ae49db-a0a9-4a53-beee-546a01f875c8"
      },
      "outputs": [
        {
          "data": {
            "text/html": [
              "<style type=\"text/css\">\n",
              "#T_c8ef3_row2_col0, #T_c8ef3_row4_col0 {\n",
              "  color: red;\n",
              "  font-weight: bold;\n",
              "}\n",
              "</style>\n",
              "<table id=\"T_c8ef3\" class=\"dataframe\">\n",
              "  <thead>\n",
              "    <tr>\n",
              "      <th class=\"blank level0\" >&nbsp;</th>\n",
              "      <th id=\"T_c8ef3_level0_col0\" class=\"col_heading level0 col0\" >Name</th>\n",
              "      <th id=\"T_c8ef3_level0_col1\" class=\"col_heading level0 col1\" >Grade</th>\n",
              "      <th id=\"T_c8ef3_level0_col2\" class=\"col_heading level0 col2\" >Salary</th>\n",
              "      <th id=\"T_c8ef3_level0_col3\" class=\"col_heading level0 col3\" >Work_experience</th>\n",
              "    </tr>\n",
              "  </thead>\n",
              "  <tbody>\n",
              "    <tr>\n",
              "      <th id=\"T_c8ef3_level0_row0\" class=\"row_heading level0 row0\" >0</th>\n",
              "      <td id=\"T_c8ef3_row0_col0\" class=\"data row0 col0\" >Mark</td>\n",
              "      <td id=\"T_c8ef3_row0_col1\" class=\"data row0 col1\" >7</td>\n",
              "      <td id=\"T_c8ef3_row0_col2\" class=\"data row0 col2\" >1150</td>\n",
              "      <td id=\"T_c8ef3_row0_col3\" class=\"data row0 col3\" >12</td>\n",
              "    </tr>\n",
              "    <tr>\n",
              "      <th id=\"T_c8ef3_level0_row1\" class=\"row_heading level0 row1\" >1</th>\n",
              "      <td id=\"T_c8ef3_row1_col0\" class=\"data row1 col0\" >Joyce</td>\n",
              "      <td id=\"T_c8ef3_row1_col1\" class=\"data row1 col1\" >2</td>\n",
              "      <td id=\"T_c8ef3_row1_col2\" class=\"data row1 col2\" >1100</td>\n",
              "      <td id=\"T_c8ef3_row1_col3\" class=\"data row1 col3\" >5</td>\n",
              "    </tr>\n",
              "    <tr>\n",
              "      <th id=\"T_c8ef3_level0_row2\" class=\"row_heading level0 row2\" >2</th>\n",
              "      <td id=\"T_c8ef3_row2_col0\" class=\"data row2 col0\" >Harry</td>\n",
              "      <td id=\"T_c8ef3_row2_col1\" class=\"data row2 col1\" >3</td>\n",
              "      <td id=\"T_c8ef3_row2_col2\" class=\"data row2 col2\" >1000</td>\n",
              "      <td id=\"T_c8ef3_row2_col3\" class=\"data row2 col3\" >7</td>\n",
              "    </tr>\n",
              "    <tr>\n",
              "      <th id=\"T_c8ef3_level0_row3\" class=\"row_heading level0 row3\" >3</th>\n",
              "      <td id=\"T_c8ef3_row3_col0\" class=\"data row3 col0\" >Grace</td>\n",
              "      <td id=\"T_c8ef3_row3_col1\" class=\"data row3 col1\" >4</td>\n",
              "      <td id=\"T_c8ef3_row3_col2\" class=\"data row3 col2\" >900</td>\n",
              "      <td id=\"T_c8ef3_row3_col3\" class=\"data row3 col3\" >12</td>\n",
              "    </tr>\n",
              "    <tr>\n",
              "      <th id=\"T_c8ef3_level0_row4\" class=\"row_heading level0 row4\" >4</th>\n",
              "      <td id=\"T_c8ef3_row4_col0\" class=\"data row4 col0\" >Harry</td>\n",
              "      <td id=\"T_c8ef3_row4_col1\" class=\"data row4 col1\" >4</td>\n",
              "      <td id=\"T_c8ef3_row4_col2\" class=\"data row4 col2\" >1000</td>\n",
              "      <td id=\"T_c8ef3_row4_col3\" class=\"data row4 col3\" >5</td>\n",
              "    </tr>\n",
              "    <tr>\n",
              "      <th id=\"T_c8ef3_level0_row5\" class=\"row_heading level0 row5\" >5</th>\n",
              "      <td id=\"T_c8ef3_row5_col0\" class=\"data row5 col0\" >Samuel</td>\n",
              "      <td id=\"T_c8ef3_row5_col1\" class=\"data row5 col1\" >1</td>\n",
              "      <td id=\"T_c8ef3_row5_col2\" class=\"data row5 col2\" >900</td>\n",
              "      <td id=\"T_c8ef3_row5_col3\" class=\"data row5 col3\" >9</td>\n",
              "    </tr>\n",
              "    <tr>\n",
              "      <th id=\"T_c8ef3_level0_row6\" class=\"row_heading level0 row6\" >6</th>\n",
              "      <td id=\"T_c8ef3_row6_col0\" class=\"data row6 col0\" >Nancy</td>\n",
              "      <td id=\"T_c8ef3_row6_col1\" class=\"data row6 col1\" >2</td>\n",
              "      <td id=\"T_c8ef3_row6_col2\" class=\"data row6 col2\" >1000</td>\n",
              "      <td id=\"T_c8ef3_row6_col3\" class=\"data row6 col3\" >3</td>\n",
              "    </tr>\n",
              "  </tbody>\n",
              "</table>\n"
            ],
            "text/plain": [
              "<pandas.io.formats.style.Styler at 0x7dac285effd0>"
            ]
          },
          "execution_count": 43,
          "metadata": {},
          "output_type": "execute_result"
        }
      ],
      "source": [
        "df = pd.read_csv(\"aucc.csv\")\n",
        "def color_cells(x):\n",
        "  df1=pd.DataFrame('',index=x.index,columns=x.columns)\n",
        "  df1.iloc[2,0]='color:red;font-weight:bold'\n",
        "  df1.iloc[4,0]='color:red;font-weight:bold'\n",
        "  return df1\n",
        "\n",
        "df.style.apply(color_cells, axis=None)"
      ]
    },
    {
      "cell_type": "markdown",
      "metadata": {
        "id": "37fikEfDJboE"
      },
      "source": [
        "There are two `Harrys`. They have different work experience,therefore they are two different employees. This is most likely an error/oversight in data.\n",
        "\n",
        "If we represented their records using unique names, the `Name` AUCC would hold with threshold = `0`, and `Name` could be used as a key."
      ]
    },
    {
      "cell_type": "code",
      "execution_count": 46,
      "metadata": {
        "colab": {
          "base_uri": "https://localhost:8080/",
          "height": 269
        },
        "id": "rafej0crJwFM",
        "outputId": "c25653f1-a03e-4101-b45e-ac189a57849b"
      },
      "outputs": [
        {
          "data": {
            "text/html": [
              "<style type=\"text/css\">\n",
              "#T_07179_row2_col0, #T_07179_row4_col0 {\n",
              "  color: green;\n",
              "  font-weight: bold;\n",
              "}\n",
              "</style>\n",
              "<table id=\"T_07179\" class=\"dataframe\">\n",
              "  <thead>\n",
              "    <tr>\n",
              "      <th class=\"blank level0\" >&nbsp;</th>\n",
              "      <th id=\"T_07179_level0_col0\" class=\"col_heading level0 col0\" >Name</th>\n",
              "      <th id=\"T_07179_level0_col1\" class=\"col_heading level0 col1\" >Grade</th>\n",
              "      <th id=\"T_07179_level0_col2\" class=\"col_heading level0 col2\" >Salary</th>\n",
              "      <th id=\"T_07179_level0_col3\" class=\"col_heading level0 col3\" >Work_experience</th>\n",
              "    </tr>\n",
              "  </thead>\n",
              "  <tbody>\n",
              "    <tr>\n",
              "      <th id=\"T_07179_level0_row0\" class=\"row_heading level0 row0\" >0</th>\n",
              "      <td id=\"T_07179_row0_col0\" class=\"data row0 col0\" >Mark</td>\n",
              "      <td id=\"T_07179_row0_col1\" class=\"data row0 col1\" >7</td>\n",
              "      <td id=\"T_07179_row0_col2\" class=\"data row0 col2\" >1150</td>\n",
              "      <td id=\"T_07179_row0_col3\" class=\"data row0 col3\" >12</td>\n",
              "    </tr>\n",
              "    <tr>\n",
              "      <th id=\"T_07179_level0_row1\" class=\"row_heading level0 row1\" >1</th>\n",
              "      <td id=\"T_07179_row1_col0\" class=\"data row1 col0\" >Joyce</td>\n",
              "      <td id=\"T_07179_row1_col1\" class=\"data row1 col1\" >2</td>\n",
              "      <td id=\"T_07179_row1_col2\" class=\"data row1 col2\" >1100</td>\n",
              "      <td id=\"T_07179_row1_col3\" class=\"data row1 col3\" >5</td>\n",
              "    </tr>\n",
              "    <tr>\n",
              "      <th id=\"T_07179_level0_row2\" class=\"row_heading level0 row2\" >2</th>\n",
              "      <td id=\"T_07179_row2_col0\" class=\"data row2 col0\" >Harry_1</td>\n",
              "      <td id=\"T_07179_row2_col1\" class=\"data row2 col1\" >3</td>\n",
              "      <td id=\"T_07179_row2_col2\" class=\"data row2 col2\" >1000</td>\n",
              "      <td id=\"T_07179_row2_col3\" class=\"data row2 col3\" >7</td>\n",
              "    </tr>\n",
              "    <tr>\n",
              "      <th id=\"T_07179_level0_row3\" class=\"row_heading level0 row3\" >3</th>\n",
              "      <td id=\"T_07179_row3_col0\" class=\"data row3 col0\" >Grace</td>\n",
              "      <td id=\"T_07179_row3_col1\" class=\"data row3 col1\" >4</td>\n",
              "      <td id=\"T_07179_row3_col2\" class=\"data row3 col2\" >900</td>\n",
              "      <td id=\"T_07179_row3_col3\" class=\"data row3 col3\" >12</td>\n",
              "    </tr>\n",
              "    <tr>\n",
              "      <th id=\"T_07179_level0_row4\" class=\"row_heading level0 row4\" >4</th>\n",
              "      <td id=\"T_07179_row4_col0\" class=\"data row4 col0\" >Harry_2</td>\n",
              "      <td id=\"T_07179_row4_col1\" class=\"data row4 col1\" >4</td>\n",
              "      <td id=\"T_07179_row4_col2\" class=\"data row4 col2\" >1000</td>\n",
              "      <td id=\"T_07179_row4_col3\" class=\"data row4 col3\" >5</td>\n",
              "    </tr>\n",
              "    <tr>\n",
              "      <th id=\"T_07179_level0_row5\" class=\"row_heading level0 row5\" >5</th>\n",
              "      <td id=\"T_07179_row5_col0\" class=\"data row5 col0\" >Samuel</td>\n",
              "      <td id=\"T_07179_row5_col1\" class=\"data row5 col1\" >1</td>\n",
              "      <td id=\"T_07179_row5_col2\" class=\"data row5 col2\" >900</td>\n",
              "      <td id=\"T_07179_row5_col3\" class=\"data row5 col3\" >9</td>\n",
              "    </tr>\n",
              "    <tr>\n",
              "      <th id=\"T_07179_level0_row6\" class=\"row_heading level0 row6\" >6</th>\n",
              "      <td id=\"T_07179_row6_col0\" class=\"data row6 col0\" >Nancy</td>\n",
              "      <td id=\"T_07179_row6_col1\" class=\"data row6 col1\" >2</td>\n",
              "      <td id=\"T_07179_row6_col2\" class=\"data row6 col2\" >1000</td>\n",
              "      <td id=\"T_07179_row6_col3\" class=\"data row6 col3\" >3</td>\n",
              "    </tr>\n",
              "  </tbody>\n",
              "</table>\n"
            ],
            "text/plain": [
              "<pandas.io.formats.style.Styler at 0x7dac271c5d50>"
            ]
          },
          "execution_count": 46,
          "metadata": {},
          "output_type": "execute_result"
        }
      ],
      "source": [
        "df = pd.read_csv(\"aucc_correct.csv\")\n",
        "def color_cells(x):\n",
        "  df1=pd.DataFrame('',index=x.index,columns=x.columns)\n",
        "  df1.iloc[2,0]='color:green;font-weight:bold'\n",
        "  df1.iloc[4,0]='color:green;font-weight:bold'\n",
        "  return df1\n",
        "\n",
        "df.style.apply(color_cells, axis=None)"
      ]
    },
    {
      "cell_type": "markdown",
      "metadata": {
        "id": "LqU8uzWLKMCb"
      },
      "source": [
        "Let's run algorithm once more with threshold = `0`"
      ]
    },
    {
      "cell_type": "code",
      "execution_count": 48,
      "metadata": {
        "id": "J5HMBnRlKRTt"
      },
      "outputs": [],
      "source": [
        "algo = db.ucc.algorithms.PyroUCC()\n",
        "algo.load_data(table=(\"aucc_correct.csv\", ',', True))\n",
        "algo.execute(error=0)\n",
        "uccs = algo.get_uccs()"
      ]
    },
    {
      "cell_type": "code",
      "execution_count": 49,
      "metadata": {
        "colab": {
          "base_uri": "https://localhost:8080/"
        },
        "id": "EMqSx_FWKbIh",
        "outputId": "18be1315-ff0b-46fa-f588-c718a7807a68"
      },
      "outputs": [
        {
          "name": "stdout",
          "output_type": "stream",
          "text": [
            "[Name]\n",
            "[Grade Salary]\n",
            "[Grade Work_experience]\n",
            "[Salary Work_experience]\n"
          ]
        }
      ],
      "source": [
        "for ucc in uccs:\n",
        "    print(ucc.to_long_string())"
      ]
    },
    {
      "cell_type": "markdown",
      "metadata": {
        "id": "ygc7C3o-Kffk"
      },
      "source": [
        "Now we can use `Name` as a key."
      ]
    }
  ],
  "metadata": {
    "colab": {
      "provenance": []
    },
    "kernelspec": {
      "display_name": "Python 3",
      "name": "python3"
    },
    "language_info": {
      "name": "python"
    }
  },
  "nbformat": 4,
  "nbformat_minor": 0
}
