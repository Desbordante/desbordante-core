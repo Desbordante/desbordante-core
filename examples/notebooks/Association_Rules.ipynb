{
  "nbformat": 4,
  "nbformat_minor": 0,
  "metadata": {
    "colab": {
      "provenance": []
    },
    "kernelspec": {
      "name": "python3",
      "display_name": "Python 3"
    },
    "language_info": {
      "name": "python"
    }
  },
  "cells": [
    {
      "cell_type": "markdown",
      "source": [
        "**Association rules** have infiltrated your data while you were asleep! 😯 What are they and how to find them? Let's try them with [Desbordante](https://github.com/Desbordante/desbordante-core)!"
      ],
      "metadata": {
        "id": "CRpM7kN3VTtq"
      }
    },
    {
      "cell_type": "markdown",
      "source": [
        "# Install necessary dependencies"
      ],
      "metadata": {
        "id": "whhYPyd9V1A1"
      }
    },
    {
      "cell_type": "markdown",
      "source": [
        "Firstly, let's download and import necessary libraries:"
      ],
      "metadata": {
        "id": "VaIAaR1sV21F"
      }
    },
    {
      "cell_type": "code",
      "execution_count": null,
      "metadata": {
        "colab": {
          "base_uri": "https://localhost:8080/"
        },
        "id": "eQf1x0fUVPfF",
        "outputId": "f006678d-2808-4c71-82a8-021246b53f41"
      },
      "outputs": [
        {
          "output_type": "stream",
          "name": "stdout",
          "text": [
            "Collecting desbordante==2.3.2\n",
            "  Downloading desbordante-2.3.2-cp311-cp311-manylinux_2_17_x86_64.manylinux2014_x86_64.whl.metadata (19 kB)\n",
            "Downloading desbordante-2.3.2-cp311-cp311-manylinux_2_17_x86_64.manylinux2014_x86_64.whl (4.0 MB)\n",
            "\u001b[?25l   \u001b[90m━━━━━━━━━━━━━━━━━━━━━━━━━━━━━━━━━━━━━━━━\u001b[0m \u001b[32m0.0/4.0 MB\u001b[0m \u001b[31m?\u001b[0m eta \u001b[36m-:--:--\u001b[0m\r\u001b[2K   \u001b[91m━━━━━━━━━━━━━━━━━━━━━━━━━━\u001b[0m\u001b[91m╸\u001b[0m\u001b[90m━━━━━━━━━━━━━\u001b[0m \u001b[32m2.7/4.0 MB\u001b[0m \u001b[31m78.4 MB/s\u001b[0m eta \u001b[36m0:00:01\u001b[0m\r\u001b[2K   \u001b[91m━━━━━━━━━━━━━━━━━━━━━━━━━━━━━━━━━━━━━━━\u001b[0m\u001b[91m╸\u001b[0m \u001b[32m4.0/4.0 MB\u001b[0m \u001b[31m82.8 MB/s\u001b[0m eta \u001b[36m0:00:01\u001b[0m\r\u001b[2K   \u001b[90m━━━━━━━━━━━━━━━━━━━━━━━━━━━━━━━━━━━━━━━━\u001b[0m \u001b[32m4.0/4.0 MB\u001b[0m \u001b[31m49.8 MB/s\u001b[0m eta \u001b[36m0:00:00\u001b[0m\n",
            "\u001b[?25hInstalling collected packages: desbordante\n",
            "Successfully installed desbordante-2.3.2\n"
          ]
        }
      ],
      "source": [
        "!pip install desbordante==2.3.2"
      ]
    },
    {
      "cell_type": "markdown",
      "source": [
        "Desbordante library will be used for discovery of association rules and Pandas library will be used for visualising the data:"
      ],
      "metadata": {
        "id": "djhsgrQuV6ri"
      }
    },
    {
      "cell_type": "code",
      "source": [
        "import desbordante\n",
        "import pandas as pd"
      ],
      "metadata": {
        "id": "Hs3PG0ujV7B7"
      },
      "execution_count": null,
      "outputs": []
    },
    {
      "cell_type": "markdown",
      "source": [
        "Let's download example data:"
      ],
      "metadata": {
        "id": "Hc3mtFfnWAJa"
      }
    },
    {
      "cell_type": "code",
      "source": [
        "!wget https://raw.githubusercontent.com/Desbordante/desbordante-core/refs/heads/main/examples/datasets/rules_book_rows.csv\n",
        "!wget https://raw.githubusercontent.com/Desbordante/desbordante-core/refs/heads/main/examples/datasets/rules_book.csv"
      ],
      "metadata": {
        "colab": {
          "base_uri": "https://localhost:8080/"
        },
        "id": "zpFryvzkWAjR",
        "outputId": "79c6ebee-b6e3-4813-e477-1c3415e18978"
      },
      "execution_count": null,
      "outputs": [
        {
          "output_type": "stream",
          "name": "stdout",
          "text": [
            "--2025-03-20 17:00:04--  https://raw.githubusercontent.com/Desbordante/desbordante-core/refs/heads/main/examples/datasets/rules_book_rows.csv\n",
            "Resolving raw.githubusercontent.com (raw.githubusercontent.com)... 185.199.108.133, 185.199.109.133, 185.199.110.133, ...\n",
            "Connecting to raw.githubusercontent.com (raw.githubusercontent.com)|185.199.108.133|:443... connected.\n",
            "HTTP request sent, awaiting response... 200 OK\n",
            "Length: 98 [text/plain]\n",
            "Saving to: ‘rules_book_rows.csv’\n",
            "\n",
            "\rrules_book_rows.csv   0%[                    ]       0  --.-KB/s               \rrules_book_rows.csv 100%[===================>]      98  --.-KB/s    in 0s      \n",
            "\n",
            "2025-03-20 17:00:04 (5.37 MB/s) - ‘rules_book_rows.csv’ saved [98/98]\n",
            "\n",
            "--2025-03-20 17:00:04--  https://raw.githubusercontent.com/Desbordante/desbordante-core/refs/heads/main/examples/datasets/rules_book.csv\n",
            "Resolving raw.githubusercontent.com (raw.githubusercontent.com)... 185.199.108.133, 185.199.109.133, 185.199.110.133, ...\n",
            "Connecting to raw.githubusercontent.com (raw.githubusercontent.com)|185.199.108.133|:443... connected.\n",
            "HTTP request sent, awaiting response... 200 OK\n",
            "Length: 126 [text/plain]\n",
            "Saving to: ‘rules_book.csv’\n",
            "\n",
            "rules_book.csv      100%[===================>]     126  --.-KB/s    in 0s      \n",
            "\n",
            "2025-03-20 17:00:04 (5.45 MB/s) - ‘rules_book.csv’ saved [126/126]\n",
            "\n"
          ]
        }
      ]
    },
    {
      "cell_type": "markdown",
      "source": [
        "# Explore data"
      ],
      "metadata": {
        "id": "rlYz_zIlWXga"
      }
    },
    {
      "cell_type": "markdown",
      "source": [
        "Let's look at the dataset:"
      ],
      "metadata": {
        "id": "-NRuNF7BWZTd"
      }
    },
    {
      "cell_type": "code",
      "source": [
        "dataset = pd.read_csv('rules_book_rows.csv', header=None, keep_default_na=False)\n",
        "dataset"
      ],
      "metadata": {
        "colab": {
          "base_uri": "https://localhost:8080/",
          "height": 206
        },
        "id": "MYjHvND7Wcwq",
        "outputId": "5dc44646-2576-4f51-c744-2b656868fbbd"
      },
      "execution_count": null,
      "outputs": [
        {
          "output_type": "execute_result",
          "data": {
            "text/plain": [
              "        0       1       2     3\n",
              "0   Bread  Butter    Milk      \n",
              "1    Eggs    Milk  Yogurt      \n",
              "2   Bread  Cheese    Eggs  Milk\n",
              "3    Eggs    Milk  Yogurt      \n",
              "4  Cheese    Milk  Yogurt      "
            ],
            "text/html": [
              "\n",
              "  <div id=\"df-5d11f9ea-7490-4e7e-8bf2-00d39f1867ac\" class=\"colab-df-container\">\n",
              "    <div>\n",
              "<style scoped>\n",
              "    .dataframe tbody tr th:only-of-type {\n",
              "        vertical-align: middle;\n",
              "    }\n",
              "\n",
              "    .dataframe tbody tr th {\n",
              "        vertical-align: top;\n",
              "    }\n",
              "\n",
              "    .dataframe thead th {\n",
              "        text-align: right;\n",
              "    }\n",
              "</style>\n",
              "<table border=\"1\" class=\"dataframe\">\n",
              "  <thead>\n",
              "    <tr style=\"text-align: right;\">\n",
              "      <th></th>\n",
              "      <th>0</th>\n",
              "      <th>1</th>\n",
              "      <th>2</th>\n",
              "      <th>3</th>\n",
              "    </tr>\n",
              "  </thead>\n",
              "  <tbody>\n",
              "    <tr>\n",
              "      <th>0</th>\n",
              "      <td>Bread</td>\n",
              "      <td>Butter</td>\n",
              "      <td>Milk</td>\n",
              "      <td></td>\n",
              "    </tr>\n",
              "    <tr>\n",
              "      <th>1</th>\n",
              "      <td>Eggs</td>\n",
              "      <td>Milk</td>\n",
              "      <td>Yogurt</td>\n",
              "      <td></td>\n",
              "    </tr>\n",
              "    <tr>\n",
              "      <th>2</th>\n",
              "      <td>Bread</td>\n",
              "      <td>Cheese</td>\n",
              "      <td>Eggs</td>\n",
              "      <td>Milk</td>\n",
              "    </tr>\n",
              "    <tr>\n",
              "      <th>3</th>\n",
              "      <td>Eggs</td>\n",
              "      <td>Milk</td>\n",
              "      <td>Yogurt</td>\n",
              "      <td></td>\n",
              "    </tr>\n",
              "    <tr>\n",
              "      <th>4</th>\n",
              "      <td>Cheese</td>\n",
              "      <td>Milk</td>\n",
              "      <td>Yogurt</td>\n",
              "      <td></td>\n",
              "    </tr>\n",
              "  </tbody>\n",
              "</table>\n",
              "</div>\n",
              "    <div class=\"colab-df-buttons\">\n",
              "\n",
              "  <div class=\"colab-df-container\">\n",
              "    <button class=\"colab-df-convert\" onclick=\"convertToInteractive('df-5d11f9ea-7490-4e7e-8bf2-00d39f1867ac')\"\n",
              "            title=\"Convert this dataframe to an interactive table.\"\n",
              "            style=\"display:none;\">\n",
              "\n",
              "  <svg xmlns=\"http://www.w3.org/2000/svg\" height=\"24px\" viewBox=\"0 -960 960 960\">\n",
              "    <path d=\"M120-120v-720h720v720H120Zm60-500h600v-160H180v160Zm220 220h160v-160H400v160Zm0 220h160v-160H400v160ZM180-400h160v-160H180v160Zm440 0h160v-160H620v160ZM180-180h160v-160H180v160Zm440 0h160v-160H620v160Z\"/>\n",
              "  </svg>\n",
              "    </button>\n",
              "\n",
              "  <style>\n",
              "    .colab-df-container {\n",
              "      display:flex;\n",
              "      gap: 12px;\n",
              "    }\n",
              "\n",
              "    .colab-df-convert {\n",
              "      background-color: #E8F0FE;\n",
              "      border: none;\n",
              "      border-radius: 50%;\n",
              "      cursor: pointer;\n",
              "      display: none;\n",
              "      fill: #1967D2;\n",
              "      height: 32px;\n",
              "      padding: 0 0 0 0;\n",
              "      width: 32px;\n",
              "    }\n",
              "\n",
              "    .colab-df-convert:hover {\n",
              "      background-color: #E2EBFA;\n",
              "      box-shadow: 0px 1px 2px rgba(60, 64, 67, 0.3), 0px 1px 3px 1px rgba(60, 64, 67, 0.15);\n",
              "      fill: #174EA6;\n",
              "    }\n",
              "\n",
              "    .colab-df-buttons div {\n",
              "      margin-bottom: 4px;\n",
              "    }\n",
              "\n",
              "    [theme=dark] .colab-df-convert {\n",
              "      background-color: #3B4455;\n",
              "      fill: #D2E3FC;\n",
              "    }\n",
              "\n",
              "    [theme=dark] .colab-df-convert:hover {\n",
              "      background-color: #434B5C;\n",
              "      box-shadow: 0px 1px 3px 1px rgba(0, 0, 0, 0.15);\n",
              "      filter: drop-shadow(0px 1px 2px rgba(0, 0, 0, 0.3));\n",
              "      fill: #FFFFFF;\n",
              "    }\n",
              "  </style>\n",
              "\n",
              "    <script>\n",
              "      const buttonEl =\n",
              "        document.querySelector('#df-5d11f9ea-7490-4e7e-8bf2-00d39f1867ac button.colab-df-convert');\n",
              "      buttonEl.style.display =\n",
              "        google.colab.kernel.accessAllowed ? 'block' : 'none';\n",
              "\n",
              "      async function convertToInteractive(key) {\n",
              "        const element = document.querySelector('#df-5d11f9ea-7490-4e7e-8bf2-00d39f1867ac');\n",
              "        const dataTable =\n",
              "          await google.colab.kernel.invokeFunction('convertToInteractive',\n",
              "                                                    [key], {});\n",
              "        if (!dataTable) return;\n",
              "\n",
              "        const docLinkHtml = 'Like what you see? Visit the ' +\n",
              "          '<a target=\"_blank\" href=https://colab.research.google.com/notebooks/data_table.ipynb>data table notebook</a>'\n",
              "          + ' to learn more about interactive tables.';\n",
              "        element.innerHTML = '';\n",
              "        dataTable['output_type'] = 'display_data';\n",
              "        await google.colab.output.renderOutput(dataTable, element);\n",
              "        const docLink = document.createElement('div');\n",
              "        docLink.innerHTML = docLinkHtml;\n",
              "        element.appendChild(docLink);\n",
              "      }\n",
              "    </script>\n",
              "  </div>\n",
              "\n",
              "\n",
              "<div id=\"df-22aa5571-6871-48df-9d5f-e2fb0fb94723\">\n",
              "  <button class=\"colab-df-quickchart\" onclick=\"quickchart('df-22aa5571-6871-48df-9d5f-e2fb0fb94723')\"\n",
              "            title=\"Suggest charts\"\n",
              "            style=\"display:none;\">\n",
              "\n",
              "<svg xmlns=\"http://www.w3.org/2000/svg\" height=\"24px\"viewBox=\"0 0 24 24\"\n",
              "     width=\"24px\">\n",
              "    <g>\n",
              "        <path d=\"M19 3H5c-1.1 0-2 .9-2 2v14c0 1.1.9 2 2 2h14c1.1 0 2-.9 2-2V5c0-1.1-.9-2-2-2zM9 17H7v-7h2v7zm4 0h-2V7h2v10zm4 0h-2v-4h2v4z\"/>\n",
              "    </g>\n",
              "</svg>\n",
              "  </button>\n",
              "\n",
              "<style>\n",
              "  .colab-df-quickchart {\n",
              "      --bg-color: #E8F0FE;\n",
              "      --fill-color: #1967D2;\n",
              "      --hover-bg-color: #E2EBFA;\n",
              "      --hover-fill-color: #174EA6;\n",
              "      --disabled-fill-color: #AAA;\n",
              "      --disabled-bg-color: #DDD;\n",
              "  }\n",
              "\n",
              "  [theme=dark] .colab-df-quickchart {\n",
              "      --bg-color: #3B4455;\n",
              "      --fill-color: #D2E3FC;\n",
              "      --hover-bg-color: #434B5C;\n",
              "      --hover-fill-color: #FFFFFF;\n",
              "      --disabled-bg-color: #3B4455;\n",
              "      --disabled-fill-color: #666;\n",
              "  }\n",
              "\n",
              "  .colab-df-quickchart {\n",
              "    background-color: var(--bg-color);\n",
              "    border: none;\n",
              "    border-radius: 50%;\n",
              "    cursor: pointer;\n",
              "    display: none;\n",
              "    fill: var(--fill-color);\n",
              "    height: 32px;\n",
              "    padding: 0;\n",
              "    width: 32px;\n",
              "  }\n",
              "\n",
              "  .colab-df-quickchart:hover {\n",
              "    background-color: var(--hover-bg-color);\n",
              "    box-shadow: 0 1px 2px rgba(60, 64, 67, 0.3), 0 1px 3px 1px rgba(60, 64, 67, 0.15);\n",
              "    fill: var(--button-hover-fill-color);\n",
              "  }\n",
              "\n",
              "  .colab-df-quickchart-complete:disabled,\n",
              "  .colab-df-quickchart-complete:disabled:hover {\n",
              "    background-color: var(--disabled-bg-color);\n",
              "    fill: var(--disabled-fill-color);\n",
              "    box-shadow: none;\n",
              "  }\n",
              "\n",
              "  .colab-df-spinner {\n",
              "    border: 2px solid var(--fill-color);\n",
              "    border-color: transparent;\n",
              "    border-bottom-color: var(--fill-color);\n",
              "    animation:\n",
              "      spin 1s steps(1) infinite;\n",
              "  }\n",
              "\n",
              "  @keyframes spin {\n",
              "    0% {\n",
              "      border-color: transparent;\n",
              "      border-bottom-color: var(--fill-color);\n",
              "      border-left-color: var(--fill-color);\n",
              "    }\n",
              "    20% {\n",
              "      border-color: transparent;\n",
              "      border-left-color: var(--fill-color);\n",
              "      border-top-color: var(--fill-color);\n",
              "    }\n",
              "    30% {\n",
              "      border-color: transparent;\n",
              "      border-left-color: var(--fill-color);\n",
              "      border-top-color: var(--fill-color);\n",
              "      border-right-color: var(--fill-color);\n",
              "    }\n",
              "    40% {\n",
              "      border-color: transparent;\n",
              "      border-right-color: var(--fill-color);\n",
              "      border-top-color: var(--fill-color);\n",
              "    }\n",
              "    60% {\n",
              "      border-color: transparent;\n",
              "      border-right-color: var(--fill-color);\n",
              "    }\n",
              "    80% {\n",
              "      border-color: transparent;\n",
              "      border-right-color: var(--fill-color);\n",
              "      border-bottom-color: var(--fill-color);\n",
              "    }\n",
              "    90% {\n",
              "      border-color: transparent;\n",
              "      border-bottom-color: var(--fill-color);\n",
              "    }\n",
              "  }\n",
              "</style>\n",
              "\n",
              "  <script>\n",
              "    async function quickchart(key) {\n",
              "      const quickchartButtonEl =\n",
              "        document.querySelector('#' + key + ' button');\n",
              "      quickchartButtonEl.disabled = true;  // To prevent multiple clicks.\n",
              "      quickchartButtonEl.classList.add('colab-df-spinner');\n",
              "      try {\n",
              "        const charts = await google.colab.kernel.invokeFunction(\n",
              "            'suggestCharts', [key], {});\n",
              "      } catch (error) {\n",
              "        console.error('Error during call to suggestCharts:', error);\n",
              "      }\n",
              "      quickchartButtonEl.classList.remove('colab-df-spinner');\n",
              "      quickchartButtonEl.classList.add('colab-df-quickchart-complete');\n",
              "    }\n",
              "    (() => {\n",
              "      let quickchartButtonEl =\n",
              "        document.querySelector('#df-22aa5571-6871-48df-9d5f-e2fb0fb94723 button');\n",
              "      quickchartButtonEl.style.display =\n",
              "        google.colab.kernel.accessAllowed ? 'block' : 'none';\n",
              "    })();\n",
              "  </script>\n",
              "</div>\n",
              "    </div>\n",
              "  </div>\n"
            ],
            "application/vnd.google.colaboratory.intrinsic+json": {
              "type": "dataframe",
              "variable_name": "dataset",
              "summary": "{\n  \"name\": \"dataset\",\n  \"rows\": 5,\n  \"fields\": [\n    {\n      \"column\": 0,\n      \"properties\": {\n        \"dtype\": \"string\",\n        \"num_unique_values\": 3,\n        \"samples\": [\n          \"Bread\",\n          \"Eggs\",\n          \"Cheese\"\n        ],\n        \"semantic_type\": \"\",\n        \"description\": \"\"\n      }\n    },\n    {\n      \"column\": 1,\n      \"properties\": {\n        \"dtype\": \"string\",\n        \"num_unique_values\": 3,\n        \"samples\": [\n          \"Butter\",\n          \"Milk\",\n          \"Cheese\"\n        ],\n        \"semantic_type\": \"\",\n        \"description\": \"\"\n      }\n    },\n    {\n      \"column\": 2,\n      \"properties\": {\n        \"dtype\": \"string\",\n        \"num_unique_values\": 3,\n        \"samples\": [\n          \"Milk\",\n          \"Yogurt\",\n          \"Eggs\"\n        ],\n        \"semantic_type\": \"\",\n        \"description\": \"\"\n      }\n    },\n    {\n      \"column\": 3,\n      \"properties\": {\n        \"dtype\": \"category\",\n        \"num_unique_values\": 2,\n        \"samples\": [\n          \"Milk\",\n          \"\"\n        ],\n        \"semantic_type\": \"\",\n        \"description\": \"\"\n      }\n    }\n  ]\n}"
            }
          },
          "metadata": {},
          "execution_count": 4
        }
      ]
    },
    {
      "cell_type": "markdown",
      "source": [
        "The dataset contains receipts from some supermarket: each row of the dataset is a single receipt. This kind of data is called transactional data."
      ],
      "metadata": {
        "id": "5yFoVhqbXA6S"
      }
    },
    {
      "cell_type": "markdown",
      "source": [
        "# Find association rules"
      ],
      "metadata": {
        "id": "4OBbmWQiZFF_"
      }
    },
    {
      "cell_type": "markdown",
      "source": [
        "Now, let's find associtaion rules (ARs) with Desbordante:"
      ],
      "metadata": {
        "id": "GuAU3uLCZHjg"
      }
    },
    {
      "cell_type": "code",
      "source": [
        "algo = desbordante.ar.algorithms.Default()\n",
        "algo.load_data(table=dataset, input_format='tabular')\n",
        "algo.execute(minconf=1)\n",
        "ars = algo.get_ars()\n",
        "print('Total count of ARs:', len(ars))\n",
        "print('The first 10 ARs:')\n",
        "for ar in ars[:10]:\n",
        "  print(ar)"
      ],
      "metadata": {
        "colab": {
          "base_uri": "https://localhost:8080/"
        },
        "id": "TUvgbaEsZLVe",
        "outputId": "ef35e864-1f64-4695-8e5e-e6cdcaf37d63"
      },
      "execution_count": null,
      "outputs": [
        {
          "output_type": "stream",
          "name": "stdout",
          "text": [
            "Total count of ARs: 24\n",
            "The first 10 ARs:\n",
            "conf: 1.000000\tsup: 0.200000\t{Butter} -> {Bread}\n",
            "conf: 1.000000\tsup: 0.400000\t{Bread} -> {Milk}\n",
            "conf: 1.000000\tsup: 0.200000\t{Butter} -> {Milk}\n",
            "conf: 1.000000\tsup: 0.600000\t{Eggs} -> {Milk}\n",
            "conf: 1.000000\tsup: 0.600000\t{Yogurt} -> {Milk}\n",
            "conf: 1.000000\tsup: 0.400000\t{Cheese} -> {Milk}\n",
            "conf: 1.000000\tsup: 0.200000\t{Butter, Milk} -> {Bread}\n",
            "conf: 1.000000\tsup: 0.200000\t{Bread, Butter} -> {Milk}\n",
            "conf: 1.000000\tsup: 0.200000\t{Butter} -> {Bread, Milk}\n",
            "conf: 1.000000\tsup: 0.200000\t{Bread, Eggs} -> {Milk}\n"
          ]
        }
      ]
    },
    {
      "cell_type": "markdown",
      "source": [
        "The AR mining algorithm has found 24 ARs!"
      ],
      "metadata": {
        "id": "ozWX_rJhuqwo"
      }
    },
    {
      "cell_type": "markdown",
      "source": [
        "['Butter'] -> ['Bread'] with confidence 1 means that whenever butter is found in the receipt, bread will always be present as well. As we can see, the only receipt containing butter is the first receipt. This receipt also contains bread, thus this AR holds in the table."
      ],
      "metadata": {
        "id": "FFmNS_-5j1e9"
      }
    },
    {
      "cell_type": "markdown",
      "source": [
        "# Support and confidence"
      ],
      "metadata": {
        "id": "yArfdM8Zj8KM"
      }
    },
    {
      "cell_type": "markdown",
      "source": [
        "Let's discuss support and confidence of an association rule.\n",
        "\n",
        "Support of the AR is the percentage of rows that satisfy both the left-hand side (LHS) and the right-hand side (RHS) of the AR. Support equals to the number of rows satisfying LHS and RHS divided by the number of all rows: $supp(X \\rightarrow Y ) = \\frac{n(X \\cup Y)}{N}$.\n",
        "\n",
        "For example, let's calculate the support of the above AR ['Butter'] -> ['Bread']. It can easily be seen that there is only one receipt in the table that contains both bread and butter. The number of all receipts is 5, so\n",
        "the support of the AR ['Butter'] -> ['Bread'] equals $\\frac{1}{5} = 0.2$.\n",
        "\n",
        "Confidence of the AR is the percentage of rows satisfying LHS that also satisfy RHS. Confidence equals to the number of rows satisfying LHS and RHS divided by the number of rows satisfying LHS: $conf(X \\rightarrow Y ) = \\frac{n(X \\cup Y)}{n(X)}$.\n",
        "\n",
        "Let's calculate the confidence of the above AR. We already know that the number of receipts containing both bread and butter is 1. As we can see, the number of rows satisfying LHS (i.e. the number of receipts containing butter) also equals 1, so the confidence of the AR equals $\\frac{1}{1} = 1$.\n",
        "\n",
        "When the confidence of the AR equals 1, that means that if a row satisfies LHS, than it will always satisfy RHS. In our example, if butter is present in the receipt than bread will always be present as well. If the confidence is less than 1, then there are counterexamples of this AR in the dataset, and RHS is only likely to be satisfied given that LHS is satisfied."
      ],
      "metadata": {
        "id": "_M4LOgR9j-ud"
      }
    },
    {
      "cell_type": "markdown",
      "source": [
        "Let's see more examples of ARs with different support and confidence."
      ],
      "metadata": {
        "id": "6L5ySCSWpk9R"
      }
    },
    {
      "cell_type": "markdown",
      "source": [
        "# Second example: minimum confidence"
      ],
      "metadata": {
        "id": "kdHqXrtVprUW"
      }
    },
    {
      "cell_type": "markdown",
      "source": [
        "Now, let's examine the same dataset with *minconf*=0.6. The option *minconf* defines minimum confidence that we allow an AR to have. All ARs with less confidence are omitted from the results. By setting this option to 0.6 we allow more ARs to be present than with previous value of 1:"
      ],
      "metadata": {
        "id": "8bbz--RfpuS2"
      }
    },
    {
      "cell_type": "code",
      "source": [
        "algo.execute(minconf=0.6)\n",
        "ars = algo.get_ars()\n",
        "print('Total count of ARs:', len(ars))\n",
        "print('The first 10 ARs:')\n",
        "for ar in ars[:10]:\n",
        "  print(ar)"
      ],
      "metadata": {
        "colab": {
          "base_uri": "https://localhost:8080/"
        },
        "id": "eH4yxD9lp0os",
        "outputId": "97135ccc-6c59-4892-d280-987422d726ff"
      },
      "execution_count": null,
      "outputs": [
        {
          "output_type": "stream",
          "name": "stdout",
          "text": [
            "Total count of ARs: 32\n",
            "The first 10 ARs:\n",
            "conf: 1.000000\tsup: 0.200000\t{Butter} -> {Bread}\n",
            "conf: 1.000000\tsup: 0.400000\t{Bread} -> {Milk}\n",
            "conf: 1.000000\tsup: 0.200000\t{Butter} -> {Milk}\n",
            "conf: 1.000000\tsup: 0.600000\t{Eggs} -> {Milk}\n",
            "conf: 0.600000\tsup: 0.600000\t{Milk} -> {Eggs}\n",
            "conf: 1.000000\tsup: 0.600000\t{Yogurt} -> {Milk}\n",
            "conf: 0.600000\tsup: 0.600000\t{Milk} -> {Yogurt}\n",
            "conf: 1.000000\tsup: 0.400000\t{Cheese} -> {Milk}\n",
            "conf: 0.666667\tsup: 0.400000\t{Yogurt} -> {Eggs}\n",
            "conf: 0.666667\tsup: 0.400000\t{Eggs} -> {Yogurt}\n"
          ]
        }
      ]
    },
    {
      "cell_type": "markdown",
      "source": [
        "As we can see, the number of ARs has increased from 24 to 32, as we expected."
      ],
      "metadata": {
        "id": "4XJZzww_qf_J"
      }
    },
    {
      "cell_type": "markdown",
      "source": [
        "['Yogurt'] -> ['Eggs'] with confidence 0.67 means that when yogurt is found in the receipt, the chance of eggs being present amounts to 67%. So, customers are likely to buy eggs with yogurt."
      ],
      "metadata": {
        "id": "MwvzZ7bQqovF"
      }
    },
    {
      "cell_type": "markdown",
      "source": [
        "As it can be seen, the number of receipts containing yogurt is 3, while only two of them also contain eggs:"
      ],
      "metadata": {
        "id": "mHcEEW9T0Wdo"
      }
    },
    {
      "cell_type": "code",
      "source": [
        "def color_cells(x):\n",
        "  df1=pd.DataFrame('',index=x.index,columns=x.columns)\n",
        "  df1.iloc[1,2]='color:green;font-weight:bold'\n",
        "  df1.iloc[3,2]='color:green;font-weight:bold'\n",
        "  df1.iloc[4,2]='color:green;font-weight:bold'\n",
        "  df1.iloc[1,0]='color:red;font-weight:bold'\n",
        "  df1.iloc[3,0]='color:red;font-weight:bold'\n",
        "  return df1\n",
        "\n",
        "dataset.style.apply(color_cells,axis=None)"
      ],
      "metadata": {
        "colab": {
          "base_uri": "https://localhost:8080/",
          "height": 206
        },
        "id": "N5My6_wc0md9",
        "outputId": "ed07ea09-378b-4eb6-de62-5774bdee165d"
      },
      "execution_count": null,
      "outputs": [
        {
          "output_type": "execute_result",
          "data": {
            "text/plain": [
              "<pandas.io.formats.style.Styler at 0x7a34b6be0150>"
            ],
            "text/html": [
              "<style type=\"text/css\">\n",
              "#T_2f602_row1_col0, #T_2f602_row3_col0 {\n",
              "  color: red;\n",
              "  font-weight: bold;\n",
              "}\n",
              "#T_2f602_row1_col2, #T_2f602_row3_col2, #T_2f602_row4_col2 {\n",
              "  color: green;\n",
              "  font-weight: bold;\n",
              "}\n",
              "</style>\n",
              "<table id=\"T_2f602\" class=\"dataframe\">\n",
              "  <thead>\n",
              "    <tr>\n",
              "      <th class=\"blank level0\" >&nbsp;</th>\n",
              "      <th id=\"T_2f602_level0_col0\" class=\"col_heading level0 col0\" >0</th>\n",
              "      <th id=\"T_2f602_level0_col1\" class=\"col_heading level0 col1\" >1</th>\n",
              "      <th id=\"T_2f602_level0_col2\" class=\"col_heading level0 col2\" >2</th>\n",
              "      <th id=\"T_2f602_level0_col3\" class=\"col_heading level0 col3\" >3</th>\n",
              "    </tr>\n",
              "  </thead>\n",
              "  <tbody>\n",
              "    <tr>\n",
              "      <th id=\"T_2f602_level0_row0\" class=\"row_heading level0 row0\" >0</th>\n",
              "      <td id=\"T_2f602_row0_col0\" class=\"data row0 col0\" >Bread</td>\n",
              "      <td id=\"T_2f602_row0_col1\" class=\"data row0 col1\" >Butter</td>\n",
              "      <td id=\"T_2f602_row0_col2\" class=\"data row0 col2\" >Milk</td>\n",
              "      <td id=\"T_2f602_row0_col3\" class=\"data row0 col3\" ></td>\n",
              "    </tr>\n",
              "    <tr>\n",
              "      <th id=\"T_2f602_level0_row1\" class=\"row_heading level0 row1\" >1</th>\n",
              "      <td id=\"T_2f602_row1_col0\" class=\"data row1 col0\" >Eggs</td>\n",
              "      <td id=\"T_2f602_row1_col1\" class=\"data row1 col1\" >Milk</td>\n",
              "      <td id=\"T_2f602_row1_col2\" class=\"data row1 col2\" >Yogurt</td>\n",
              "      <td id=\"T_2f602_row1_col3\" class=\"data row1 col3\" ></td>\n",
              "    </tr>\n",
              "    <tr>\n",
              "      <th id=\"T_2f602_level0_row2\" class=\"row_heading level0 row2\" >2</th>\n",
              "      <td id=\"T_2f602_row2_col0\" class=\"data row2 col0\" >Bread</td>\n",
              "      <td id=\"T_2f602_row2_col1\" class=\"data row2 col1\" >Cheese</td>\n",
              "      <td id=\"T_2f602_row2_col2\" class=\"data row2 col2\" >Eggs</td>\n",
              "      <td id=\"T_2f602_row2_col3\" class=\"data row2 col3\" >Milk</td>\n",
              "    </tr>\n",
              "    <tr>\n",
              "      <th id=\"T_2f602_level0_row3\" class=\"row_heading level0 row3\" >3</th>\n",
              "      <td id=\"T_2f602_row3_col0\" class=\"data row3 col0\" >Eggs</td>\n",
              "      <td id=\"T_2f602_row3_col1\" class=\"data row3 col1\" >Milk</td>\n",
              "      <td id=\"T_2f602_row3_col2\" class=\"data row3 col2\" >Yogurt</td>\n",
              "      <td id=\"T_2f602_row3_col3\" class=\"data row3 col3\" ></td>\n",
              "    </tr>\n",
              "    <tr>\n",
              "      <th id=\"T_2f602_level0_row4\" class=\"row_heading level0 row4\" >4</th>\n",
              "      <td id=\"T_2f602_row4_col0\" class=\"data row4 col0\" >Cheese</td>\n",
              "      <td id=\"T_2f602_row4_col1\" class=\"data row4 col1\" >Milk</td>\n",
              "      <td id=\"T_2f602_row4_col2\" class=\"data row4 col2\" >Yogurt</td>\n",
              "      <td id=\"T_2f602_row4_col3\" class=\"data row4 col3\" ></td>\n",
              "    </tr>\n",
              "  </tbody>\n",
              "</table>\n"
            ]
          },
          "metadata": {},
          "execution_count": 7
        }
      ]
    },
    {
      "cell_type": "markdown",
      "source": [
        "The row 4 is a counterexample: the receipt contains yougurt but doesn't contain eggs. This lowers the confidence from 1 to $\\frac{2}{3} \\approx 0.67$."
      ],
      "metadata": {
        "id": "SgIg46a_1EyF"
      }
    },
    {
      "cell_type": "markdown",
      "source": [
        "# Third example: minimum support"
      ],
      "metadata": {
        "id": "XdhJEwwxq14V"
      }
    },
    {
      "cell_type": "markdown",
      "source": [
        "Let us turn to the next issue. You can observe that there are a lot of association rules found in this small dataset. This happens because we did not set up the minimum support value. Since the default support value is 0, the system discovers all association rules, even those that only occur once in the dataset. Now, let's see the results with *minsup*=0.4 and *minconf*=0.6."
      ],
      "metadata": {
        "id": "SnjMIskAq4Gm"
      }
    },
    {
      "cell_type": "code",
      "source": [
        "algo.execute(minsup=0.4, minconf=0.6)\n",
        "ars = algo.get_ars()\n",
        "print('Total count of ARs:', len(ars))\n",
        "print('The first 10 ARs:')\n",
        "for ar in ars[:10]:\n",
        "  print(ar)"
      ],
      "metadata": {
        "colab": {
          "base_uri": "https://localhost:8080/"
        },
        "id": "Xjz7EvFrrjYu",
        "outputId": "6494c83f-0223-40b8-f2e2-0cdb556359cf"
      },
      "execution_count": null,
      "outputs": [
        {
          "output_type": "stream",
          "name": "stdout",
          "text": [
            "Total count of ARs: 13\n",
            "The first 10 ARs:\n",
            "conf: 1.000000\tsup: 0.400000\t{Bread} -> {Milk}\n",
            "conf: 1.000000\tsup: 0.600000\t{Eggs} -> {Milk}\n",
            "conf: 0.600000\tsup: 0.600000\t{Milk} -> {Eggs}\n",
            "conf: 1.000000\tsup: 0.600000\t{Yogurt} -> {Milk}\n",
            "conf: 0.600000\tsup: 0.600000\t{Milk} -> {Yogurt}\n",
            "conf: 1.000000\tsup: 0.400000\t{Cheese} -> {Milk}\n",
            "conf: 0.666667\tsup: 0.400000\t{Yogurt} -> {Eggs}\n",
            "conf: 0.666667\tsup: 0.400000\t{Eggs} -> {Yogurt}\n",
            "conf: 1.000000\tsup: 0.400000\t{Eggs, Yogurt} -> {Milk}\n",
            "conf: 0.666667\tsup: 0.400000\t{Milk, Yogurt} -> {Eggs}\n"
          ]
        }
      ]
    },
    {
      "cell_type": "markdown",
      "source": [
        "Now we can see that the number of association rules has decreased significantly. This happened due to *minsup* being set to 0.4: now ARs with low support are not present in the results. For example, the AR ['Butter'] -> ['Bread'] is no more present because its support of 0.2 is too low. For real-world data a low support means that the pattern occurs too rarely to be meaningful."
      ],
      "metadata": {
        "id": "lsfDE_v9ryda"
      }
    },
    {
      "cell_type": "markdown",
      "source": [
        "# Fourth example: usefulness"
      ],
      "metadata": {
        "id": "Yl6scBlxsjZ7"
      }
    },
    {
      "cell_type": "markdown",
      "source": [
        "A typical approach to controlling the algorithm is to employ \"usefulness\", which is defined as confidence * support. In the last example, we set up min \"usefulness\" = 0.6 * 0.4 = 0.24.\n",
        "\n",
        "Now, let's try with *minsup*=0.6, *minconf*=0.6 and \"usefulness\"=0.36:"
      ],
      "metadata": {
        "id": "zt4ru702se_N"
      }
    },
    {
      "cell_type": "code",
      "source": [
        "algo.execute(minsup=0.6, minconf=0.6)\n",
        "ars = algo.get_ars()\n",
        "print('Total count of ARs:', len(ars))\n",
        "print('The first 10 ARs:')\n",
        "for ar in ars[:10]:\n",
        "  print(ar)"
      ],
      "metadata": {
        "colab": {
          "base_uri": "https://localhost:8080/"
        },
        "id": "PFohbhzpsmqC",
        "outputId": "501e3bcb-63d1-4765-d9e6-8dd61f99611e"
      },
      "execution_count": null,
      "outputs": [
        {
          "output_type": "stream",
          "name": "stdout",
          "text": [
            "Total count of ARs: 4\n",
            "The first 10 ARs:\n",
            "conf: 1.000000\tsup: 0.600000\t{Eggs} -> {Milk}\n",
            "conf: 0.600000\tsup: 0.600000\t{Milk} -> {Eggs}\n",
            "conf: 1.000000\tsup: 0.600000\t{Yogurt} -> {Milk}\n",
            "conf: 0.600000\tsup: 0.600000\t{Milk} -> {Yogurt}\n"
          ]
        }
      ]
    },
    {
      "cell_type": "markdown",
      "source": [
        "So, now the total number of returned association rules is only four. We reduced the amount of \"noisy\" information in our output. You are free to play with these parameters to see how it changes things. Eventually, you will find out what fits your dataset and your task best."
      ],
      "metadata": {
        "id": "bGx4KaYessN-"
      }
    },
    {
      "cell_type": "markdown",
      "source": [
        "# Input formats"
      ],
      "metadata": {
        "id": "kO61ZczVs1Uk"
      }
    },
    {
      "cell_type": "markdown",
      "source": [
        "In all previous examples we used a \"tabular\" input format, which means that transactions are passed in a table:"
      ],
      "metadata": {
        "id": "9QeAFSyls4WI"
      }
    },
    {
      "cell_type": "code",
      "source": [
        "dataset"
      ],
      "metadata": {
        "colab": {
          "base_uri": "https://localhost:8080/",
          "height": 206
        },
        "id": "9BHYVcOStPmQ",
        "outputId": "b813d121-8588-46c9-bacf-f831e369344e"
      },
      "execution_count": null,
      "outputs": [
        {
          "output_type": "execute_result",
          "data": {
            "text/plain": [
              "        0       1       2     3\n",
              "0   Bread  Butter    Milk      \n",
              "1    Eggs    Milk  Yogurt      \n",
              "2   Bread  Cheese    Eggs  Milk\n",
              "3    Eggs    Milk  Yogurt      \n",
              "4  Cheese    Milk  Yogurt      "
            ],
            "text/html": [
              "\n",
              "  <div id=\"df-1f8c5d92-1af7-4fac-838c-e74cddf2cd25\" class=\"colab-df-container\">\n",
              "    <div>\n",
              "<style scoped>\n",
              "    .dataframe tbody tr th:only-of-type {\n",
              "        vertical-align: middle;\n",
              "    }\n",
              "\n",
              "    .dataframe tbody tr th {\n",
              "        vertical-align: top;\n",
              "    }\n",
              "\n",
              "    .dataframe thead th {\n",
              "        text-align: right;\n",
              "    }\n",
              "</style>\n",
              "<table border=\"1\" class=\"dataframe\">\n",
              "  <thead>\n",
              "    <tr style=\"text-align: right;\">\n",
              "      <th></th>\n",
              "      <th>0</th>\n",
              "      <th>1</th>\n",
              "      <th>2</th>\n",
              "      <th>3</th>\n",
              "    </tr>\n",
              "  </thead>\n",
              "  <tbody>\n",
              "    <tr>\n",
              "      <th>0</th>\n",
              "      <td>Bread</td>\n",
              "      <td>Butter</td>\n",
              "      <td>Milk</td>\n",
              "      <td></td>\n",
              "    </tr>\n",
              "    <tr>\n",
              "      <th>1</th>\n",
              "      <td>Eggs</td>\n",
              "      <td>Milk</td>\n",
              "      <td>Yogurt</td>\n",
              "      <td></td>\n",
              "    </tr>\n",
              "    <tr>\n",
              "      <th>2</th>\n",
              "      <td>Bread</td>\n",
              "      <td>Cheese</td>\n",
              "      <td>Eggs</td>\n",
              "      <td>Milk</td>\n",
              "    </tr>\n",
              "    <tr>\n",
              "      <th>3</th>\n",
              "      <td>Eggs</td>\n",
              "      <td>Milk</td>\n",
              "      <td>Yogurt</td>\n",
              "      <td></td>\n",
              "    </tr>\n",
              "    <tr>\n",
              "      <th>4</th>\n",
              "      <td>Cheese</td>\n",
              "      <td>Milk</td>\n",
              "      <td>Yogurt</td>\n",
              "      <td></td>\n",
              "    </tr>\n",
              "  </tbody>\n",
              "</table>\n",
              "</div>\n",
              "    <div class=\"colab-df-buttons\">\n",
              "\n",
              "  <div class=\"colab-df-container\">\n",
              "    <button class=\"colab-df-convert\" onclick=\"convertToInteractive('df-1f8c5d92-1af7-4fac-838c-e74cddf2cd25')\"\n",
              "            title=\"Convert this dataframe to an interactive table.\"\n",
              "            style=\"display:none;\">\n",
              "\n",
              "  <svg xmlns=\"http://www.w3.org/2000/svg\" height=\"24px\" viewBox=\"0 -960 960 960\">\n",
              "    <path d=\"M120-120v-720h720v720H120Zm60-500h600v-160H180v160Zm220 220h160v-160H400v160Zm0 220h160v-160H400v160ZM180-400h160v-160H180v160Zm440 0h160v-160H620v160ZM180-180h160v-160H180v160Zm440 0h160v-160H620v160Z\"/>\n",
              "  </svg>\n",
              "    </button>\n",
              "\n",
              "  <style>\n",
              "    .colab-df-container {\n",
              "      display:flex;\n",
              "      gap: 12px;\n",
              "    }\n",
              "\n",
              "    .colab-df-convert {\n",
              "      background-color: #E8F0FE;\n",
              "      border: none;\n",
              "      border-radius: 50%;\n",
              "      cursor: pointer;\n",
              "      display: none;\n",
              "      fill: #1967D2;\n",
              "      height: 32px;\n",
              "      padding: 0 0 0 0;\n",
              "      width: 32px;\n",
              "    }\n",
              "\n",
              "    .colab-df-convert:hover {\n",
              "      background-color: #E2EBFA;\n",
              "      box-shadow: 0px 1px 2px rgba(60, 64, 67, 0.3), 0px 1px 3px 1px rgba(60, 64, 67, 0.15);\n",
              "      fill: #174EA6;\n",
              "    }\n",
              "\n",
              "    .colab-df-buttons div {\n",
              "      margin-bottom: 4px;\n",
              "    }\n",
              "\n",
              "    [theme=dark] .colab-df-convert {\n",
              "      background-color: #3B4455;\n",
              "      fill: #D2E3FC;\n",
              "    }\n",
              "\n",
              "    [theme=dark] .colab-df-convert:hover {\n",
              "      background-color: #434B5C;\n",
              "      box-shadow: 0px 1px 3px 1px rgba(0, 0, 0, 0.15);\n",
              "      filter: drop-shadow(0px 1px 2px rgba(0, 0, 0, 0.3));\n",
              "      fill: #FFFFFF;\n",
              "    }\n",
              "  </style>\n",
              "\n",
              "    <script>\n",
              "      const buttonEl =\n",
              "        document.querySelector('#df-1f8c5d92-1af7-4fac-838c-e74cddf2cd25 button.colab-df-convert');\n",
              "      buttonEl.style.display =\n",
              "        google.colab.kernel.accessAllowed ? 'block' : 'none';\n",
              "\n",
              "      async function convertToInteractive(key) {\n",
              "        const element = document.querySelector('#df-1f8c5d92-1af7-4fac-838c-e74cddf2cd25');\n",
              "        const dataTable =\n",
              "          await google.colab.kernel.invokeFunction('convertToInteractive',\n",
              "                                                    [key], {});\n",
              "        if (!dataTable) return;\n",
              "\n",
              "        const docLinkHtml = 'Like what you see? Visit the ' +\n",
              "          '<a target=\"_blank\" href=https://colab.research.google.com/notebooks/data_table.ipynb>data table notebook</a>'\n",
              "          + ' to learn more about interactive tables.';\n",
              "        element.innerHTML = '';\n",
              "        dataTable['output_type'] = 'display_data';\n",
              "        await google.colab.output.renderOutput(dataTable, element);\n",
              "        const docLink = document.createElement('div');\n",
              "        docLink.innerHTML = docLinkHtml;\n",
              "        element.appendChild(docLink);\n",
              "      }\n",
              "    </script>\n",
              "  </div>\n",
              "\n",
              "\n",
              "<div id=\"df-e449fe16-a072-46c5-8425-c713c4144e22\">\n",
              "  <button class=\"colab-df-quickchart\" onclick=\"quickchart('df-e449fe16-a072-46c5-8425-c713c4144e22')\"\n",
              "            title=\"Suggest charts\"\n",
              "            style=\"display:none;\">\n",
              "\n",
              "<svg xmlns=\"http://www.w3.org/2000/svg\" height=\"24px\"viewBox=\"0 0 24 24\"\n",
              "     width=\"24px\">\n",
              "    <g>\n",
              "        <path d=\"M19 3H5c-1.1 0-2 .9-2 2v14c0 1.1.9 2 2 2h14c1.1 0 2-.9 2-2V5c0-1.1-.9-2-2-2zM9 17H7v-7h2v7zm4 0h-2V7h2v10zm4 0h-2v-4h2v4z\"/>\n",
              "    </g>\n",
              "</svg>\n",
              "  </button>\n",
              "\n",
              "<style>\n",
              "  .colab-df-quickchart {\n",
              "      --bg-color: #E8F0FE;\n",
              "      --fill-color: #1967D2;\n",
              "      --hover-bg-color: #E2EBFA;\n",
              "      --hover-fill-color: #174EA6;\n",
              "      --disabled-fill-color: #AAA;\n",
              "      --disabled-bg-color: #DDD;\n",
              "  }\n",
              "\n",
              "  [theme=dark] .colab-df-quickchart {\n",
              "      --bg-color: #3B4455;\n",
              "      --fill-color: #D2E3FC;\n",
              "      --hover-bg-color: #434B5C;\n",
              "      --hover-fill-color: #FFFFFF;\n",
              "      --disabled-bg-color: #3B4455;\n",
              "      --disabled-fill-color: #666;\n",
              "  }\n",
              "\n",
              "  .colab-df-quickchart {\n",
              "    background-color: var(--bg-color);\n",
              "    border: none;\n",
              "    border-radius: 50%;\n",
              "    cursor: pointer;\n",
              "    display: none;\n",
              "    fill: var(--fill-color);\n",
              "    height: 32px;\n",
              "    padding: 0;\n",
              "    width: 32px;\n",
              "  }\n",
              "\n",
              "  .colab-df-quickchart:hover {\n",
              "    background-color: var(--hover-bg-color);\n",
              "    box-shadow: 0 1px 2px rgba(60, 64, 67, 0.3), 0 1px 3px 1px rgba(60, 64, 67, 0.15);\n",
              "    fill: var(--button-hover-fill-color);\n",
              "  }\n",
              "\n",
              "  .colab-df-quickchart-complete:disabled,\n",
              "  .colab-df-quickchart-complete:disabled:hover {\n",
              "    background-color: var(--disabled-bg-color);\n",
              "    fill: var(--disabled-fill-color);\n",
              "    box-shadow: none;\n",
              "  }\n",
              "\n",
              "  .colab-df-spinner {\n",
              "    border: 2px solid var(--fill-color);\n",
              "    border-color: transparent;\n",
              "    border-bottom-color: var(--fill-color);\n",
              "    animation:\n",
              "      spin 1s steps(1) infinite;\n",
              "  }\n",
              "\n",
              "  @keyframes spin {\n",
              "    0% {\n",
              "      border-color: transparent;\n",
              "      border-bottom-color: var(--fill-color);\n",
              "      border-left-color: var(--fill-color);\n",
              "    }\n",
              "    20% {\n",
              "      border-color: transparent;\n",
              "      border-left-color: var(--fill-color);\n",
              "      border-top-color: var(--fill-color);\n",
              "    }\n",
              "    30% {\n",
              "      border-color: transparent;\n",
              "      border-left-color: var(--fill-color);\n",
              "      border-top-color: var(--fill-color);\n",
              "      border-right-color: var(--fill-color);\n",
              "    }\n",
              "    40% {\n",
              "      border-color: transparent;\n",
              "      border-right-color: var(--fill-color);\n",
              "      border-top-color: var(--fill-color);\n",
              "    }\n",
              "    60% {\n",
              "      border-color: transparent;\n",
              "      border-right-color: var(--fill-color);\n",
              "    }\n",
              "    80% {\n",
              "      border-color: transparent;\n",
              "      border-right-color: var(--fill-color);\n",
              "      border-bottom-color: var(--fill-color);\n",
              "    }\n",
              "    90% {\n",
              "      border-color: transparent;\n",
              "      border-bottom-color: var(--fill-color);\n",
              "    }\n",
              "  }\n",
              "</style>\n",
              "\n",
              "  <script>\n",
              "    async function quickchart(key) {\n",
              "      const quickchartButtonEl =\n",
              "        document.querySelector('#' + key + ' button');\n",
              "      quickchartButtonEl.disabled = true;  // To prevent multiple clicks.\n",
              "      quickchartButtonEl.classList.add('colab-df-spinner');\n",
              "      try {\n",
              "        const charts = await google.colab.kernel.invokeFunction(\n",
              "            'suggestCharts', [key], {});\n",
              "      } catch (error) {\n",
              "        console.error('Error during call to suggestCharts:', error);\n",
              "      }\n",
              "      quickchartButtonEl.classList.remove('colab-df-spinner');\n",
              "      quickchartButtonEl.classList.add('colab-df-quickchart-complete');\n",
              "    }\n",
              "    (() => {\n",
              "      let quickchartButtonEl =\n",
              "        document.querySelector('#df-e449fe16-a072-46c5-8425-c713c4144e22 button');\n",
              "      quickchartButtonEl.style.display =\n",
              "        google.colab.kernel.accessAllowed ? 'block' : 'none';\n",
              "    })();\n",
              "  </script>\n",
              "</div>\n",
              "    </div>\n",
              "  </div>\n"
            ],
            "application/vnd.google.colaboratory.intrinsic+json": {
              "type": "dataframe",
              "variable_name": "dataset",
              "summary": "{\n  \"name\": \"dataset\",\n  \"rows\": 5,\n  \"fields\": [\n    {\n      \"column\": 0,\n      \"properties\": {\n        \"dtype\": \"string\",\n        \"num_unique_values\": 3,\n        \"samples\": [\n          \"Bread\",\n          \"Eggs\",\n          \"Cheese\"\n        ],\n        \"semantic_type\": \"\",\n        \"description\": \"\"\n      }\n    },\n    {\n      \"column\": 1,\n      \"properties\": {\n        \"dtype\": \"string\",\n        \"num_unique_values\": 3,\n        \"samples\": [\n          \"Butter\",\n          \"Milk\",\n          \"Cheese\"\n        ],\n        \"semantic_type\": \"\",\n        \"description\": \"\"\n      }\n    },\n    {\n      \"column\": 2,\n      \"properties\": {\n        \"dtype\": \"string\",\n        \"num_unique_values\": 3,\n        \"samples\": [\n          \"Milk\",\n          \"Yogurt\",\n          \"Eggs\"\n        ],\n        \"semantic_type\": \"\",\n        \"description\": \"\"\n      }\n    },\n    {\n      \"column\": 3,\n      \"properties\": {\n        \"dtype\": \"category\",\n        \"num_unique_values\": 2,\n        \"samples\": [\n          \"Milk\",\n          \"\"\n        ],\n        \"semantic_type\": \"\",\n        \"description\": \"\"\n      }\n    }\n  ]\n}"
            }
          },
          "metadata": {},
          "execution_count": 10
        }
      ]
    },
    {
      "cell_type": "markdown",
      "source": [
        "Desbordante also supports another input format called \"singular\". This is a two-column format, where the first column is the order of the items, and the second column is the item that belongs to that order:"
      ],
      "metadata": {
        "id": "4PCKRB4qtTUH"
      }
    },
    {
      "cell_type": "code",
      "source": [
        "singular_dataset = pd.read_csv('rules_book.csv', header=None, keep_default_na=False)\n",
        "singular_dataset"
      ],
      "metadata": {
        "colab": {
          "base_uri": "https://localhost:8080/",
          "height": 551
        },
        "id": "m3ADJx2BtdQR",
        "outputId": "3e8ecce2-6acd-46d8-9371-4807c5809468"
      },
      "execution_count": null,
      "outputs": [
        {
          "output_type": "execute_result",
          "data": {
            "text/plain": [
              "    0       1\n",
              "0   1   Bread\n",
              "1   1  Butter\n",
              "2   3  Cheese\n",
              "3   2    Eggs\n",
              "4   1    Milk\n",
              "5   2    Milk\n",
              "6   2  Yogurt\n",
              "7   3   Bread\n",
              "8   3    Eggs\n",
              "9   3    Milk\n",
              "10  4    Eggs\n",
              "11  4    Milk\n",
              "12  4  Yogurt\n",
              "13  5  Cheese\n",
              "14  5    Milk\n",
              "15  5  Yogurt"
            ],
            "text/html": [
              "\n",
              "  <div id=\"df-bde2d42f-7569-4f30-ae6c-93783cd1325b\" class=\"colab-df-container\">\n",
              "    <div>\n",
              "<style scoped>\n",
              "    .dataframe tbody tr th:only-of-type {\n",
              "        vertical-align: middle;\n",
              "    }\n",
              "\n",
              "    .dataframe tbody tr th {\n",
              "        vertical-align: top;\n",
              "    }\n",
              "\n",
              "    .dataframe thead th {\n",
              "        text-align: right;\n",
              "    }\n",
              "</style>\n",
              "<table border=\"1\" class=\"dataframe\">\n",
              "  <thead>\n",
              "    <tr style=\"text-align: right;\">\n",
              "      <th></th>\n",
              "      <th>0</th>\n",
              "      <th>1</th>\n",
              "    </tr>\n",
              "  </thead>\n",
              "  <tbody>\n",
              "    <tr>\n",
              "      <th>0</th>\n",
              "      <td>1</td>\n",
              "      <td>Bread</td>\n",
              "    </tr>\n",
              "    <tr>\n",
              "      <th>1</th>\n",
              "      <td>1</td>\n",
              "      <td>Butter</td>\n",
              "    </tr>\n",
              "    <tr>\n",
              "      <th>2</th>\n",
              "      <td>3</td>\n",
              "      <td>Cheese</td>\n",
              "    </tr>\n",
              "    <tr>\n",
              "      <th>3</th>\n",
              "      <td>2</td>\n",
              "      <td>Eggs</td>\n",
              "    </tr>\n",
              "    <tr>\n",
              "      <th>4</th>\n",
              "      <td>1</td>\n",
              "      <td>Milk</td>\n",
              "    </tr>\n",
              "    <tr>\n",
              "      <th>5</th>\n",
              "      <td>2</td>\n",
              "      <td>Milk</td>\n",
              "    </tr>\n",
              "    <tr>\n",
              "      <th>6</th>\n",
              "      <td>2</td>\n",
              "      <td>Yogurt</td>\n",
              "    </tr>\n",
              "    <tr>\n",
              "      <th>7</th>\n",
              "      <td>3</td>\n",
              "      <td>Bread</td>\n",
              "    </tr>\n",
              "    <tr>\n",
              "      <th>8</th>\n",
              "      <td>3</td>\n",
              "      <td>Eggs</td>\n",
              "    </tr>\n",
              "    <tr>\n",
              "      <th>9</th>\n",
              "      <td>3</td>\n",
              "      <td>Milk</td>\n",
              "    </tr>\n",
              "    <tr>\n",
              "      <th>10</th>\n",
              "      <td>4</td>\n",
              "      <td>Eggs</td>\n",
              "    </tr>\n",
              "    <tr>\n",
              "      <th>11</th>\n",
              "      <td>4</td>\n",
              "      <td>Milk</td>\n",
              "    </tr>\n",
              "    <tr>\n",
              "      <th>12</th>\n",
              "      <td>4</td>\n",
              "      <td>Yogurt</td>\n",
              "    </tr>\n",
              "    <tr>\n",
              "      <th>13</th>\n",
              "      <td>5</td>\n",
              "      <td>Cheese</td>\n",
              "    </tr>\n",
              "    <tr>\n",
              "      <th>14</th>\n",
              "      <td>5</td>\n",
              "      <td>Milk</td>\n",
              "    </tr>\n",
              "    <tr>\n",
              "      <th>15</th>\n",
              "      <td>5</td>\n",
              "      <td>Yogurt</td>\n",
              "    </tr>\n",
              "  </tbody>\n",
              "</table>\n",
              "</div>\n",
              "    <div class=\"colab-df-buttons\">\n",
              "\n",
              "  <div class=\"colab-df-container\">\n",
              "    <button class=\"colab-df-convert\" onclick=\"convertToInteractive('df-bde2d42f-7569-4f30-ae6c-93783cd1325b')\"\n",
              "            title=\"Convert this dataframe to an interactive table.\"\n",
              "            style=\"display:none;\">\n",
              "\n",
              "  <svg xmlns=\"http://www.w3.org/2000/svg\" height=\"24px\" viewBox=\"0 -960 960 960\">\n",
              "    <path d=\"M120-120v-720h720v720H120Zm60-500h600v-160H180v160Zm220 220h160v-160H400v160Zm0 220h160v-160H400v160ZM180-400h160v-160H180v160Zm440 0h160v-160H620v160ZM180-180h160v-160H180v160Zm440 0h160v-160H620v160Z\"/>\n",
              "  </svg>\n",
              "    </button>\n",
              "\n",
              "  <style>\n",
              "    .colab-df-container {\n",
              "      display:flex;\n",
              "      gap: 12px;\n",
              "    }\n",
              "\n",
              "    .colab-df-convert {\n",
              "      background-color: #E8F0FE;\n",
              "      border: none;\n",
              "      border-radius: 50%;\n",
              "      cursor: pointer;\n",
              "      display: none;\n",
              "      fill: #1967D2;\n",
              "      height: 32px;\n",
              "      padding: 0 0 0 0;\n",
              "      width: 32px;\n",
              "    }\n",
              "\n",
              "    .colab-df-convert:hover {\n",
              "      background-color: #E2EBFA;\n",
              "      box-shadow: 0px 1px 2px rgba(60, 64, 67, 0.3), 0px 1px 3px 1px rgba(60, 64, 67, 0.15);\n",
              "      fill: #174EA6;\n",
              "    }\n",
              "\n",
              "    .colab-df-buttons div {\n",
              "      margin-bottom: 4px;\n",
              "    }\n",
              "\n",
              "    [theme=dark] .colab-df-convert {\n",
              "      background-color: #3B4455;\n",
              "      fill: #D2E3FC;\n",
              "    }\n",
              "\n",
              "    [theme=dark] .colab-df-convert:hover {\n",
              "      background-color: #434B5C;\n",
              "      box-shadow: 0px 1px 3px 1px rgba(0, 0, 0, 0.15);\n",
              "      filter: drop-shadow(0px 1px 2px rgba(0, 0, 0, 0.3));\n",
              "      fill: #FFFFFF;\n",
              "    }\n",
              "  </style>\n",
              "\n",
              "    <script>\n",
              "      const buttonEl =\n",
              "        document.querySelector('#df-bde2d42f-7569-4f30-ae6c-93783cd1325b button.colab-df-convert');\n",
              "      buttonEl.style.display =\n",
              "        google.colab.kernel.accessAllowed ? 'block' : 'none';\n",
              "\n",
              "      async function convertToInteractive(key) {\n",
              "        const element = document.querySelector('#df-bde2d42f-7569-4f30-ae6c-93783cd1325b');\n",
              "        const dataTable =\n",
              "          await google.colab.kernel.invokeFunction('convertToInteractive',\n",
              "                                                    [key], {});\n",
              "        if (!dataTable) return;\n",
              "\n",
              "        const docLinkHtml = 'Like what you see? Visit the ' +\n",
              "          '<a target=\"_blank\" href=https://colab.research.google.com/notebooks/data_table.ipynb>data table notebook</a>'\n",
              "          + ' to learn more about interactive tables.';\n",
              "        element.innerHTML = '';\n",
              "        dataTable['output_type'] = 'display_data';\n",
              "        await google.colab.output.renderOutput(dataTable, element);\n",
              "        const docLink = document.createElement('div');\n",
              "        docLink.innerHTML = docLinkHtml;\n",
              "        element.appendChild(docLink);\n",
              "      }\n",
              "    </script>\n",
              "  </div>\n",
              "\n",
              "\n",
              "<div id=\"df-1c1875ee-788a-466c-8763-aa626c52c5a9\">\n",
              "  <button class=\"colab-df-quickchart\" onclick=\"quickchart('df-1c1875ee-788a-466c-8763-aa626c52c5a9')\"\n",
              "            title=\"Suggest charts\"\n",
              "            style=\"display:none;\">\n",
              "\n",
              "<svg xmlns=\"http://www.w3.org/2000/svg\" height=\"24px\"viewBox=\"0 0 24 24\"\n",
              "     width=\"24px\">\n",
              "    <g>\n",
              "        <path d=\"M19 3H5c-1.1 0-2 .9-2 2v14c0 1.1.9 2 2 2h14c1.1 0 2-.9 2-2V5c0-1.1-.9-2-2-2zM9 17H7v-7h2v7zm4 0h-2V7h2v10zm4 0h-2v-4h2v4z\"/>\n",
              "    </g>\n",
              "</svg>\n",
              "  </button>\n",
              "\n",
              "<style>\n",
              "  .colab-df-quickchart {\n",
              "      --bg-color: #E8F0FE;\n",
              "      --fill-color: #1967D2;\n",
              "      --hover-bg-color: #E2EBFA;\n",
              "      --hover-fill-color: #174EA6;\n",
              "      --disabled-fill-color: #AAA;\n",
              "      --disabled-bg-color: #DDD;\n",
              "  }\n",
              "\n",
              "  [theme=dark] .colab-df-quickchart {\n",
              "      --bg-color: #3B4455;\n",
              "      --fill-color: #D2E3FC;\n",
              "      --hover-bg-color: #434B5C;\n",
              "      --hover-fill-color: #FFFFFF;\n",
              "      --disabled-bg-color: #3B4455;\n",
              "      --disabled-fill-color: #666;\n",
              "  }\n",
              "\n",
              "  .colab-df-quickchart {\n",
              "    background-color: var(--bg-color);\n",
              "    border: none;\n",
              "    border-radius: 50%;\n",
              "    cursor: pointer;\n",
              "    display: none;\n",
              "    fill: var(--fill-color);\n",
              "    height: 32px;\n",
              "    padding: 0;\n",
              "    width: 32px;\n",
              "  }\n",
              "\n",
              "  .colab-df-quickchart:hover {\n",
              "    background-color: var(--hover-bg-color);\n",
              "    box-shadow: 0 1px 2px rgba(60, 64, 67, 0.3), 0 1px 3px 1px rgba(60, 64, 67, 0.15);\n",
              "    fill: var(--button-hover-fill-color);\n",
              "  }\n",
              "\n",
              "  .colab-df-quickchart-complete:disabled,\n",
              "  .colab-df-quickchart-complete:disabled:hover {\n",
              "    background-color: var(--disabled-bg-color);\n",
              "    fill: var(--disabled-fill-color);\n",
              "    box-shadow: none;\n",
              "  }\n",
              "\n",
              "  .colab-df-spinner {\n",
              "    border: 2px solid var(--fill-color);\n",
              "    border-color: transparent;\n",
              "    border-bottom-color: var(--fill-color);\n",
              "    animation:\n",
              "      spin 1s steps(1) infinite;\n",
              "  }\n",
              "\n",
              "  @keyframes spin {\n",
              "    0% {\n",
              "      border-color: transparent;\n",
              "      border-bottom-color: var(--fill-color);\n",
              "      border-left-color: var(--fill-color);\n",
              "    }\n",
              "    20% {\n",
              "      border-color: transparent;\n",
              "      border-left-color: var(--fill-color);\n",
              "      border-top-color: var(--fill-color);\n",
              "    }\n",
              "    30% {\n",
              "      border-color: transparent;\n",
              "      border-left-color: var(--fill-color);\n",
              "      border-top-color: var(--fill-color);\n",
              "      border-right-color: var(--fill-color);\n",
              "    }\n",
              "    40% {\n",
              "      border-color: transparent;\n",
              "      border-right-color: var(--fill-color);\n",
              "      border-top-color: var(--fill-color);\n",
              "    }\n",
              "    60% {\n",
              "      border-color: transparent;\n",
              "      border-right-color: var(--fill-color);\n",
              "    }\n",
              "    80% {\n",
              "      border-color: transparent;\n",
              "      border-right-color: var(--fill-color);\n",
              "      border-bottom-color: var(--fill-color);\n",
              "    }\n",
              "    90% {\n",
              "      border-color: transparent;\n",
              "      border-bottom-color: var(--fill-color);\n",
              "    }\n",
              "  }\n",
              "</style>\n",
              "\n",
              "  <script>\n",
              "    async function quickchart(key) {\n",
              "      const quickchartButtonEl =\n",
              "        document.querySelector('#' + key + ' button');\n",
              "      quickchartButtonEl.disabled = true;  // To prevent multiple clicks.\n",
              "      quickchartButtonEl.classList.add('colab-df-spinner');\n",
              "      try {\n",
              "        const charts = await google.colab.kernel.invokeFunction(\n",
              "            'suggestCharts', [key], {});\n",
              "      } catch (error) {\n",
              "        console.error('Error during call to suggestCharts:', error);\n",
              "      }\n",
              "      quickchartButtonEl.classList.remove('colab-df-spinner');\n",
              "      quickchartButtonEl.classList.add('colab-df-quickchart-complete');\n",
              "    }\n",
              "    (() => {\n",
              "      let quickchartButtonEl =\n",
              "        document.querySelector('#df-1c1875ee-788a-466c-8763-aa626c52c5a9 button');\n",
              "      quickchartButtonEl.style.display =\n",
              "        google.colab.kernel.accessAllowed ? 'block' : 'none';\n",
              "    })();\n",
              "  </script>\n",
              "</div>\n",
              "    </div>\n",
              "  </div>\n"
            ],
            "application/vnd.google.colaboratory.intrinsic+json": {
              "type": "dataframe",
              "variable_name": "singular_dataset",
              "summary": "{\n  \"name\": \"singular_dataset\",\n  \"rows\": 16,\n  \"fields\": [\n    {\n      \"column\": 0,\n      \"properties\": {\n        \"dtype\": \"number\",\n        \"std\": 1,\n        \"min\": 1,\n        \"max\": 5,\n        \"num_unique_values\": 5,\n        \"samples\": [\n          3,\n          5,\n          2\n        ],\n        \"semantic_type\": \"\",\n        \"description\": \"\"\n      }\n    },\n    {\n      \"column\": 1,\n      \"properties\": {\n        \"dtype\": \"category\",\n        \"num_unique_values\": 6,\n        \"samples\": [\n          \"Bread\",\n          \"Butter\",\n          \"Yogurt\"\n        ],\n        \"semantic_type\": \"\",\n        \"description\": \"\"\n      }\n    }\n  ]\n}"
            }
          },
          "metadata": {},
          "execution_count": 11
        }
      ]
    },
    {
      "cell_type": "markdown",
      "source": [
        "The singular input format is just a different table representation. In our example the above two datasets are equivalent. Let's find some ARs with singular input format and see if results are the same:"
      ],
      "metadata": {
        "id": "3gGA_2astp0S"
      }
    },
    {
      "cell_type": "code",
      "source": [
        "algo = desbordante.ar.algorithms.Default()\n",
        "algo.load_data(table=singular_dataset, input_format='singular')\n",
        "algo.execute(minsup=0.6, minconf=0.6)\n",
        "new_ars = algo.get_ars()\n",
        "print('Total count of ARs:', len(new_ars))\n",
        "print('The first 10 ARs:')\n",
        "for ar in new_ars[:10]:\n",
        "  print(ar)"
      ],
      "metadata": {
        "colab": {
          "base_uri": "https://localhost:8080/"
        },
        "id": "wVfrCHUYuCTR",
        "outputId": "c1f27bb3-92ab-45b5-ff81-37e92b777292"
      },
      "execution_count": null,
      "outputs": [
        {
          "output_type": "stream",
          "name": "stdout",
          "text": [
            "Total count of ARs: 4\n",
            "The first 10 ARs:\n",
            "conf: 0.600000\tsup: 0.600000\t{Milk} -> {Eggs}\n",
            "conf: 1.000000\tsup: 0.600000\t{Eggs} -> {Milk}\n",
            "conf: 1.000000\tsup: 0.600000\t{Yogurt} -> {Milk}\n",
            "conf: 0.600000\tsup: 0.600000\t{Milk} -> {Yogurt}\n"
          ]
        }
      ]
    },
    {
      "cell_type": "markdown",
      "source": [
        "Let's recall previous results:"
      ],
      "metadata": {
        "id": "AgcmEv1guSGg"
      }
    },
    {
      "cell_type": "code",
      "source": [
        "print('Total count of ARs:', len(ars))\n",
        "print('The first 10 ARs:')\n",
        "for ar in ars[:10]:\n",
        "  print(ar)"
      ],
      "metadata": {
        "colab": {
          "base_uri": "https://localhost:8080/"
        },
        "id": "iuTz47hFuNlS",
        "outputId": "d7687d61-1932-479e-c960-05a89b46fcf6"
      },
      "execution_count": null,
      "outputs": [
        {
          "output_type": "stream",
          "name": "stdout",
          "text": [
            "Total count of ARs: 4\n",
            "The first 10 ARs:\n",
            "conf: 1.000000\tsup: 0.600000\t{Eggs} -> {Milk}\n",
            "conf: 0.600000\tsup: 0.600000\t{Milk} -> {Eggs}\n",
            "conf: 1.000000\tsup: 0.600000\t{Yogurt} -> {Milk}\n",
            "conf: 0.600000\tsup: 0.600000\t{Milk} -> {Yogurt}\n"
          ]
        }
      ]
    },
    {
      "cell_type": "markdown",
      "source": [
        "As we can see, the results are identical, as expected."
      ],
      "metadata": {
        "id": "LY7PK5ANuQ0Y"
      }
    },
    {
      "cell_type": "markdown",
      "source": [
        "# Find unique items"
      ],
      "metadata": {
        "id": "Rrizf1whuhkZ"
      }
    },
    {
      "cell_type": "markdown",
      "source": [
        "An additional feature of the AR mining algorithm is the following: it can list all of the unique items in a dataset. Let's do it:"
      ],
      "metadata": {
        "id": "eDuPtaJ7unSA"
      }
    },
    {
      "cell_type": "code",
      "source": [
        "items = algo.get_itemnames()\n",
        "print('Total number of items:', len(items))\n",
        "for item in items:\n",
        "  print(item)"
      ],
      "metadata": {
        "colab": {
          "base_uri": "https://localhost:8080/"
        },
        "id": "TBVmMhGHu_Vc",
        "outputId": "5960d4ec-63c1-48d7-f88b-fd633c26d828"
      },
      "execution_count": null,
      "outputs": [
        {
          "output_type": "stream",
          "name": "stdout",
          "text": [
            "Total number of items: 6\n",
            "Bread\n",
            "Butter\n",
            "Cheese\n",
            "Eggs\n",
            "Milk\n",
            "Yogurt\n"
          ]
        }
      ]
    },
    {
      "cell_type": "markdown",
      "source": [
        "# Conclusion"
      ],
      "metadata": {
        "id": "CovoJc5gvRuG"
      }
    },
    {
      "cell_type": "markdown",
      "source": [
        "If you are reading this, then you have learnt about association rules. Congratulations!\n",
        "\n",
        "We have explored data and found that people tend to buy milk with eggs. We have also learnt about support and confidence and how they affect the number of meaningful ARs.\n",
        "\n",
        "If you wish to find these patterns in your data, now you know how to do it 🙂\n",
        "Also, you can learn more about other pattern types presented in [Desbordante](https://github.com/Desbordante/desbordante-core)."
      ],
      "metadata": {
        "id": "Lh_kwnA5vTP3"
      }
    }
  ]
}