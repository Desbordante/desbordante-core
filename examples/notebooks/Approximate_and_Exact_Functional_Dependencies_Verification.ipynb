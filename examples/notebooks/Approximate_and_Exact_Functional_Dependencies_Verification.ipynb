{
  "cells": [
    {
      "cell_type": "markdown",
      "metadata": {
        "id": "6vEiQctD7EZb"
      },
      "source": [
        "First, take a look at [Functional Dependencies Mining](/examples/notebooks/Functional_Dependencies_Mining.ipynb), if you haven't already.\n",
        "\n",
        "# What is an Approximate Functional Dependency?\n",
        "\n",
        "In Desbordante we consider an approximate functional dependency ($AFD$)\n",
        "any kind of functional dependency ($FD$) that employs an error metric and is not named (e.g. *soft functional dependencies*).\n",
        "\n",
        "This metric is used to calculate the extent of violation for a given exact $FD$ and lies within `[0, 1]` range (the lower, the less violations\n",
        "are found in data).\n",
        "\n",
        "For the discovery task a user can specify the threshold and Desbordante\n",
        "will find all $AFDs$, which have their error equal or less than the threshold, according to the selected metric."
      ]
    },
    {
      "cell_type": "markdown",
      "metadata": {
        "id": "kZKv1oOL7o1e"
      },
      "source": [
        "# What we have to offer\n",
        "\n",
        "Currently, Desbordante supports several AFD discovery algorithms:\n",
        "\n",
        "- `Tane` with the following metrics: `g1`, `pdep`, `tau`, `mu+`, `rho`\n",
        "- `Pyro` (faster than `Tane`) with `g1` metric.\n",
        "\n",
        "You can utilize these metrics in the following ways:\n",
        "\n",
        "- Discovery: `g1`, `pdep`, `tau`, `mu+`, `rho`\n",
        "- Validation: `g1`.\n",
        "\n",
        "For more information consider:\n",
        "1. [Measuring Approximate Functional Dependencies: A Comparative Study by M. Parciak et al.](https://www.researchgate.net/publication/377895992_Measuring_Approximate_Functional_Dependencies_a_Comparative_Study)\n",
        "2. [Efficient Discovery of Approximate Dependencies by S. Kruse and F. Naumann.](https://dl.acm.org/doi/10.14778/3192965.3192968)\n",
        "3. [TANE: An Efficient Algorithm for Discovering Functional and Approximate Dependencies by Y. Huhtala et al.](https://dl.acm.org/doi/10.14778/3192965.3192968)"
      ]
    },
    {
      "cell_type": "markdown",
      "metadata": {
        "id": "do-g8Un18P1r"
      },
      "source": [
        "## Demonstration\n",
        "\n",
        "Now, we are going to demonstrate how to verify $AFDs$ and $FDs$.\n",
        "\n",
        "First, install Python dependencies, import the modules and load the dataset."
      ]
    },
    {
      "cell_type": "code",
      "execution_count": 1,
      "metadata": {
        "colab": {
          "base_uri": "https://localhost:8080/"
        },
        "id": "N4yegEmaOIMv",
        "outputId": "530f46e1-d2f9-4de7-fe8f-07ddfcbf43d3"
      },
      "outputs": [
        {
          "name": "stdout",
          "output_type": "stream",
          "text": [
            "Collecting desbordante==2.3.2\n",
            "  Downloading desbordante-2.3.2-cp311-cp311-manylinux_2_17_x86_64.manylinux2014_x86_64.whl.metadata (19 kB)\n",
            "Downloading desbordante-2.3.2-cp311-cp311-manylinux_2_17_x86_64.manylinux2014_x86_64.whl (4.0 MB)\n",
            "\u001b[2K   \u001b[90m━━━━━━━━━━━━━━━━━━━━━━━━━━━━━━━━━━━━━━━━\u001b[0m \u001b[32m4.0/4.0 MB\u001b[0m \u001b[31m19.9 MB/s\u001b[0m eta \u001b[36m0:00:00\u001b[0m\n",
            "\u001b[?25hInstalling collected packages: desbordante\n",
            "Successfully installed desbordante-2.3.2\n",
            "Requirement already satisfied: pandas in /usr/local/lib/python3.11/dist-packages (2.2.2)\n",
            "Requirement already satisfied: numpy>=1.23.2 in /usr/local/lib/python3.11/dist-packages (from pandas) (2.0.2)\n",
            "Requirement already satisfied: python-dateutil>=2.8.2 in /usr/local/lib/python3.11/dist-packages (from pandas) (2.8.2)\n",
            "Requirement already satisfied: pytz>=2020.1 in /usr/local/lib/python3.11/dist-packages (from pandas) (2025.2)\n",
            "Requirement already satisfied: tzdata>=2022.7 in /usr/local/lib/python3.11/dist-packages (from pandas) (2025.2)\n",
            "Requirement already satisfied: six>=1.5 in /usr/local/lib/python3.11/dist-packages (from python-dateutil>=2.8.2->pandas) (1.17.0)\n"
          ]
        }
      ],
      "source": [
        "!pip install desbordante==2.3.2\n",
        "!pip install pandas"
      ]
    },
    {
      "cell_type": "code",
      "execution_count": 2,
      "metadata": {
        "id": "LobUSaJPOUfG"
      },
      "outputs": [],
      "source": [
        "import desbordante as db\n",
        "import pandas as pd"
      ]
    },
    {
      "cell_type": "code",
      "execution_count": null,
      "metadata": {
        "id": "KTGNtElvOWbo"
      },
      "outputs": [],
      "source": [
        "!wget -q https://raw.githubusercontent.com/Desbordante/desbordante-core/main/examples/datasets/duplicates_short.csv\n",
        "!wget -q https://raw.githubusercontent.com/Desbordante/desbordante-core/main/examples/datasets/DnD.csv"
      ]
    },
    {
      "cell_type": "markdown",
      "metadata": {},
      "source": [
        "### Verify functional dependencies\n",
        "\n",
        "Let's look at the `duplicates_short.csv` table."
      ]
    },
    {
      "cell_type": "code",
      "execution_count": null,
      "metadata": {},
      "outputs": [],
      "source": [
        "data = pd.read_csv(\"duplicates_short.csv\")\n",
        "data"
      ]
    },
    {
      "cell_type": "markdown",
      "metadata": {},
      "source": [
        "Now we verify whether `[id]` $\\rightarrow$ `[name]` FD holds."
      ]
    },
    {
      "cell_type": "code",
      "execution_count": null,
      "metadata": {},
      "outputs": [],
      "source": [
        "def print_clusters(verifier, data, lhs, rhs):\n",
        "    print(f\"Number of clusters violating FD: {verifier.get_num_error_clusters()}\")\n",
        "    for i, highlight in enumerate(verifier.get_highlights(), start=1):\n",
        "        print(f\"#{i} cluster:\")\n",
        "        for el in highlight.cluster:\n",
        "            print(f\"\\t{el}: {data[data.columns[lhs]][el]} -> {data[data.columns[rhs]][el]}\")\n",
        "\n",
        "        print(f\"Most frequent rhs value proportion: {highlight.most_frequent_rhs_value_proportion}\")\n",
        "        print(f\"Num distinct rhs values: {highlight.num_distinct_rhs_values}\")\n",
        "\n",
        "\n",
        "def print_results_for_fd(verifier, data, lhs, rhs):\n",
        "    if verifier.fd_holds():\n",
        "        print(\"FD holds\")\n",
        "    else:\n",
        "        print(\"FD does not hold\")\n",
        "        print_clusters(verifier, data, lhs, rhs)"
      ]
    },
    {
      "cell_type": "code",
      "execution_count": null,
      "metadata": {},
      "outputs": [],
      "source": [
        "algo = db.afd_verification.algorithms.Default()\n",
        "algo.load_data(table=(\"duplicates_short.csv\", \",\", True))\n",
        "algo.execute(lhs_indices=[0], rhs_indices=[2])\n",
        "print_results_for_fd(algo, data, 0, 2)"
      ]
    },
    {
      "cell_type": "markdown",
      "metadata": {},
      "source": [
        "Now check whether `[name]` $\\rightarrow$ `[credit_score]` FD holds."
      ]
    },
    {
      "cell_type": "code",
      "execution_count": null,
      "metadata": {},
      "outputs": [],
      "source": [
        "algo.execute(lhs_indices=[1], rhs_indices=[2])\n",
        "print_results_for_fd(algo, data, 1, 2)"
      ]
    },
    {
      "cell_type": "markdown",
      "metadata": {},
      "source": [
        "We learned that in this case the specified FD does not hold and there are two clusters of rows that contain values that prevent our FD from holding.\n",
        "\n",
        "First, what is a **cluster**`? A **cluster** (with respect to a fixed FD) is a collection of rows that share the same left-hand side part but differ on the right-hand side one."
      ]
    },
    {
      "cell_type": "markdown",
      "metadata": {},
      "source": [
        "Now, let us take a closer look at them."
      ]
    },
    {
      "cell_type": "markdown",
      "metadata": {},
      "source": [
        "In the first cluster, three values are `0` and a single one is `NaN`.\n",
        "This suggests that this single entry with the `NaN` value is a result of a mistake by someone who is not familiar with the table population policy. Therefore, it should probably be changed to `0`.\n",
        "\n",
        "Now let's take a look at the second cluster.\n",
        "There are two entries: `27` and `28`.\n",
        "In this case, it is probably a typo, since buttons `7` and `8` are located close to each other on the keyboard.\n",
        "\n",
        "Having analyzed these clusters, we can conclude that our FD does not hold due to typos in the data.\n",
        "\n",
        "Therefore, by eliminating them, we can get this FD to hold (and make our dataset error-free)."
      ]
    },
    {
      "cell_type": "markdown",
      "metadata": {
        "id": "VY49ei-nmpDR"
      },
      "source": [
        "### AFD's verification example\n",
        "\n",
        "Now let's look at the `DnD.csv`."
      ]
    },
    {
      "cell_type": "code",
      "execution_count": 7,
      "metadata": {
        "colab": {
          "base_uri": "https://localhost:8080/",
          "height": 269
        },
        "id": "7U6G4Fq6nZcs",
        "outputId": "c9732a5d-8899-4649-c3db-a1d2d060b23b"
      },
      "outputs": [
        {
          "data": {
            "application/vnd.google.colaboratory.intrinsic+json": {
              "summary": "{\n  \"name\": \"data\",\n  \"rows\": 7,\n  \"fields\": [\n    {\n      \"column\": \"Creature\",\n      \"properties\": {\n        \"dtype\": \"category\",\n        \"num_unique_values\": 3,\n        \"samples\": [\n          \"Ogre\",\n          \"Elf\",\n          \"Dwarf\"\n        ],\n        \"semantic_type\": \"\",\n        \"description\": \"\"\n      }\n    },\n    {\n      \"column\": \"Strength\",\n      \"properties\": {\n        \"dtype\": \"number\",\n        \"std\": 2,\n        \"min\": 1,\n        \"max\": 9,\n        \"num_unique_values\": 3,\n        \"samples\": [\n          9,\n          6,\n          1\n        ],\n        \"semantic_type\": \"\",\n        \"description\": \"\"\n      }\n    },\n    {\n      \"column\": \"HaveMagic\",\n      \"properties\": {\n        \"dtype\": \"boolean\",\n        \"num_unique_values\": 2,\n        \"samples\": [\n          true,\n          false\n        ],\n        \"semantic_type\": \"\",\n        \"description\": \"\"\n      }\n    }\n  ]\n}",
              "type": "dataframe",
              "variable_name": "data"
            },
            "text/html": [
              "\n",
              "  <div id=\"df-6b4b2ad1-87e7-46a1-95a5-44b89ddadf88\" class=\"colab-df-container\">\n",
              "    <div>\n",
              "<style scoped>\n",
              "    .dataframe tbody tr th:only-of-type {\n",
              "        vertical-align: middle;\n",
              "    }\n",
              "\n",
              "    .dataframe tbody tr th {\n",
              "        vertical-align: top;\n",
              "    }\n",
              "\n",
              "    .dataframe thead th {\n",
              "        text-align: right;\n",
              "    }\n",
              "</style>\n",
              "<table border=\"1\" class=\"dataframe\">\n",
              "  <thead>\n",
              "    <tr style=\"text-align: right;\">\n",
              "      <th></th>\n",
              "      <th>Creature</th>\n",
              "      <th>Strength</th>\n",
              "      <th>HaveMagic</th>\n",
              "    </tr>\n",
              "  </thead>\n",
              "  <tbody>\n",
              "    <tr>\n",
              "      <th>0</th>\n",
              "      <td>Ogre</td>\n",
              "      <td>9</td>\n",
              "      <td>False</td>\n",
              "    </tr>\n",
              "    <tr>\n",
              "      <th>1</th>\n",
              "      <td>Ogre</td>\n",
              "      <td>6</td>\n",
              "      <td>False</td>\n",
              "    </tr>\n",
              "    <tr>\n",
              "      <th>2</th>\n",
              "      <td>Elf</td>\n",
              "      <td>6</td>\n",
              "      <td>True</td>\n",
              "    </tr>\n",
              "    <tr>\n",
              "      <th>3</th>\n",
              "      <td>Elf</td>\n",
              "      <td>6</td>\n",
              "      <td>True</td>\n",
              "    </tr>\n",
              "    <tr>\n",
              "      <th>4</th>\n",
              "      <td>Elf</td>\n",
              "      <td>1</td>\n",
              "      <td>True</td>\n",
              "    </tr>\n",
              "    <tr>\n",
              "      <th>5</th>\n",
              "      <td>Dwarf</td>\n",
              "      <td>9</td>\n",
              "      <td>False</td>\n",
              "    </tr>\n",
              "    <tr>\n",
              "      <th>6</th>\n",
              "      <td>Dwarf</td>\n",
              "      <td>6</td>\n",
              "      <td>False</td>\n",
              "    </tr>\n",
              "  </tbody>\n",
              "</table>\n",
              "</div>\n",
              "    <div class=\"colab-df-buttons\">\n",
              "\n",
              "  <div class=\"colab-df-container\">\n",
              "    <button class=\"colab-df-convert\" onclick=\"convertToInteractive('df-6b4b2ad1-87e7-46a1-95a5-44b89ddadf88')\"\n",
              "            title=\"Convert this dataframe to an interactive table.\"\n",
              "            style=\"display:none;\">\n",
              "\n",
              "  <svg xmlns=\"http://www.w3.org/2000/svg\" height=\"24px\" viewBox=\"0 -960 960 960\">\n",
              "    <path d=\"M120-120v-720h720v720H120Zm60-500h600v-160H180v160Zm220 220h160v-160H400v160Zm0 220h160v-160H400v160ZM180-400h160v-160H180v160Zm440 0h160v-160H620v160ZM180-180h160v-160H180v160Zm440 0h160v-160H620v160Z\"/>\n",
              "  </svg>\n",
              "    </button>\n",
              "\n",
              "  <style>\n",
              "    .colab-df-container {\n",
              "      display:flex;\n",
              "      gap: 12px;\n",
              "    }\n",
              "\n",
              "    .colab-df-convert {\n",
              "      background-color: #E8F0FE;\n",
              "      border: none;\n",
              "      border-radius: 50%;\n",
              "      cursor: pointer;\n",
              "      display: none;\n",
              "      fill: #1967D2;\n",
              "      height: 32px;\n",
              "      padding: 0 0 0 0;\n",
              "      width: 32px;\n",
              "    }\n",
              "\n",
              "    .colab-df-convert:hover {\n",
              "      background-color: #E2EBFA;\n",
              "      box-shadow: 0px 1px 2px rgba(60, 64, 67, 0.3), 0px 1px 3px 1px rgba(60, 64, 67, 0.15);\n",
              "      fill: #174EA6;\n",
              "    }\n",
              "\n",
              "    .colab-df-buttons div {\n",
              "      margin-bottom: 4px;\n",
              "    }\n",
              "\n",
              "    [theme=dark] .colab-df-convert {\n",
              "      background-color: #3B4455;\n",
              "      fill: #D2E3FC;\n",
              "    }\n",
              "\n",
              "    [theme=dark] .colab-df-convert:hover {\n",
              "      background-color: #434B5C;\n",
              "      box-shadow: 0px 1px 3px 1px rgba(0, 0, 0, 0.15);\n",
              "      filter: drop-shadow(0px 1px 2px rgba(0, 0, 0, 0.3));\n",
              "      fill: #FFFFFF;\n",
              "    }\n",
              "  </style>\n",
              "\n",
              "    <script>\n",
              "      const buttonEl =\n",
              "        document.querySelector('#df-6b4b2ad1-87e7-46a1-95a5-44b89ddadf88 button.colab-df-convert');\n",
              "      buttonEl.style.display =\n",
              "        google.colab.kernel.accessAllowed ? 'block' : 'none';\n",
              "\n",
              "      async function convertToInteractive(key) {\n",
              "        const element = document.querySelector('#df-6b4b2ad1-87e7-46a1-95a5-44b89ddadf88');\n",
              "        const dataTable =\n",
              "          await google.colab.kernel.invokeFunction('convertToInteractive',\n",
              "                                                    [key], {});\n",
              "        if (!dataTable) return;\n",
              "\n",
              "        const docLinkHtml = 'Like what you see? Visit the ' +\n",
              "          '<a target=\"_blank\" href=https://colab.research.google.com/notebooks/data_table.ipynb>data table notebook</a>'\n",
              "          + ' to learn more about interactive tables.';\n",
              "        element.innerHTML = '';\n",
              "        dataTable['output_type'] = 'display_data';\n",
              "        await google.colab.output.renderOutput(dataTable, element);\n",
              "        const docLink = document.createElement('div');\n",
              "        docLink.innerHTML = docLinkHtml;\n",
              "        element.appendChild(docLink);\n",
              "      }\n",
              "    </script>\n",
              "  </div>\n",
              "\n",
              "\n",
              "<div id=\"df-ee9c4244-915d-4f41-9e0d-0c7184cb9b2e\">\n",
              "  <button class=\"colab-df-quickchart\" onclick=\"quickchart('df-ee9c4244-915d-4f41-9e0d-0c7184cb9b2e')\"\n",
              "            title=\"Suggest charts\"\n",
              "            style=\"display:none;\">\n",
              "\n",
              "<svg xmlns=\"http://www.w3.org/2000/svg\" height=\"24px\"viewBox=\"0 0 24 24\"\n",
              "     width=\"24px\">\n",
              "    <g>\n",
              "        <path d=\"M19 3H5c-1.1 0-2 .9-2 2v14c0 1.1.9 2 2 2h14c1.1 0 2-.9 2-2V5c0-1.1-.9-2-2-2zM9 17H7v-7h2v7zm4 0h-2V7h2v10zm4 0h-2v-4h2v4z\"/>\n",
              "    </g>\n",
              "</svg>\n",
              "  </button>\n",
              "\n",
              "<style>\n",
              "  .colab-df-quickchart {\n",
              "      --bg-color: #E8F0FE;\n",
              "      --fill-color: #1967D2;\n",
              "      --hover-bg-color: #E2EBFA;\n",
              "      --hover-fill-color: #174EA6;\n",
              "      --disabled-fill-color: #AAA;\n",
              "      --disabled-bg-color: #DDD;\n",
              "  }\n",
              "\n",
              "  [theme=dark] .colab-df-quickchart {\n",
              "      --bg-color: #3B4455;\n",
              "      --fill-color: #D2E3FC;\n",
              "      --hover-bg-color: #434B5C;\n",
              "      --hover-fill-color: #FFFFFF;\n",
              "      --disabled-bg-color: #3B4455;\n",
              "      --disabled-fill-color: #666;\n",
              "  }\n",
              "\n",
              "  .colab-df-quickchart {\n",
              "    background-color: var(--bg-color);\n",
              "    border: none;\n",
              "    border-radius: 50%;\n",
              "    cursor: pointer;\n",
              "    display: none;\n",
              "    fill: var(--fill-color);\n",
              "    height: 32px;\n",
              "    padding: 0;\n",
              "    width: 32px;\n",
              "  }\n",
              "\n",
              "  .colab-df-quickchart:hover {\n",
              "    background-color: var(--hover-bg-color);\n",
              "    box-shadow: 0 1px 2px rgba(60, 64, 67, 0.3), 0 1px 3px 1px rgba(60, 64, 67, 0.15);\n",
              "    fill: var(--button-hover-fill-color);\n",
              "  }\n",
              "\n",
              "  .colab-df-quickchart-complete:disabled,\n",
              "  .colab-df-quickchart-complete:disabled:hover {\n",
              "    background-color: var(--disabled-bg-color);\n",
              "    fill: var(--disabled-fill-color);\n",
              "    box-shadow: none;\n",
              "  }\n",
              "\n",
              "  .colab-df-spinner {\n",
              "    border: 2px solid var(--fill-color);\n",
              "    border-color: transparent;\n",
              "    border-bottom-color: var(--fill-color);\n",
              "    animation:\n",
              "      spin 1s steps(1) infinite;\n",
              "  }\n",
              "\n",
              "  @keyframes spin {\n",
              "    0% {\n",
              "      border-color: transparent;\n",
              "      border-bottom-color: var(--fill-color);\n",
              "      border-left-color: var(--fill-color);\n",
              "    }\n",
              "    20% {\n",
              "      border-color: transparent;\n",
              "      border-left-color: var(--fill-color);\n",
              "      border-top-color: var(--fill-color);\n",
              "    }\n",
              "    30% {\n",
              "      border-color: transparent;\n",
              "      border-left-color: var(--fill-color);\n",
              "      border-top-color: var(--fill-color);\n",
              "      border-right-color: var(--fill-color);\n",
              "    }\n",
              "    40% {\n",
              "      border-color: transparent;\n",
              "      border-right-color: var(--fill-color);\n",
              "      border-top-color: var(--fill-color);\n",
              "    }\n",
              "    60% {\n",
              "      border-color: transparent;\n",
              "      border-right-color: var(--fill-color);\n",
              "    }\n",
              "    80% {\n",
              "      border-color: transparent;\n",
              "      border-right-color: var(--fill-color);\n",
              "      border-bottom-color: var(--fill-color);\n",
              "    }\n",
              "    90% {\n",
              "      border-color: transparent;\n",
              "      border-bottom-color: var(--fill-color);\n",
              "    }\n",
              "  }\n",
              "</style>\n",
              "\n",
              "  <script>\n",
              "    async function quickchart(key) {\n",
              "      const quickchartButtonEl =\n",
              "        document.querySelector('#' + key + ' button');\n",
              "      quickchartButtonEl.disabled = true;  // To prevent multiple clicks.\n",
              "      quickchartButtonEl.classList.add('colab-df-spinner');\n",
              "      try {\n",
              "        const charts = await google.colab.kernel.invokeFunction(\n",
              "            'suggestCharts', [key], {});\n",
              "      } catch (error) {\n",
              "        console.error('Error during call to suggestCharts:', error);\n",
              "      }\n",
              "      quickchartButtonEl.classList.remove('colab-df-spinner');\n",
              "      quickchartButtonEl.classList.add('colab-df-quickchart-complete');\n",
              "    }\n",
              "    (() => {\n",
              "      let quickchartButtonEl =\n",
              "        document.querySelector('#df-ee9c4244-915d-4f41-9e0d-0c7184cb9b2e button');\n",
              "      quickchartButtonEl.style.display =\n",
              "        google.colab.kernel.accessAllowed ? 'block' : 'none';\n",
              "    })();\n",
              "  </script>\n",
              "</div>\n",
              "    </div>\n",
              "  </div>\n"
            ],
            "text/plain": [
              "  Creature  Strength  HaveMagic\n",
              "0     Ogre         9      False\n",
              "1     Ogre         6      False\n",
              "2      Elf         6       True\n",
              "3      Elf         6       True\n",
              "4      Elf         1       True\n",
              "5    Dwarf         9      False\n",
              "6    Dwarf         6      False"
            ]
          },
          "execution_count": 7,
          "metadata": {},
          "output_type": "execute_result"
        }
      ],
      "source": [
        "data = pd.read_csv(\"DnD.csv\", header=[0])\n",
        "data"
      ]
    },
    {
      "cell_type": "code",
      "execution_count": 10,
      "metadata": {
        "id": "pcAuSUx_nM2c"
      },
      "outputs": [],
      "source": [
        "def print_clusters(verifier, data, lhs, rhs):\n",
        "    print(f\"Number of clusters violating FD: {verifier.get_num_error_clusters()}\")\n",
        "    for i, highlight in enumerate(verifier.get_highlights(), start=1):\n",
        "        print(f\"#{i} cluster: \")\n",
        "        for el in highlight.cluster:\n",
        "            print(f\"\\t{el}: {data[data.columns[lhs]][el]} -> {data[data.columns[rhs]][el]}\")\n",
        "\n",
        "        print(f\"Most frequent rhs value proportion: {highlight.most_frequent_rhs_value_proportion}\")\n",
        "        print(f\"Num distinct rhs values: {highlight.num_distinct_rhs_values}\\n\")\n",
        "\n",
        "def print_results_for_fd(verifier, data, lhs, rhs):\n",
        "    if verifier.fd_holds():\n",
        "        print(\"FD holds\")\n",
        "    else:\n",
        "        print(\"FD does not hold\")\n",
        "        print_clusters(verifier, data, lhs, rhs)\n",
        "\n",
        "algo = db.afd_verification.algorithms.Default()\n",
        "algo.load_data(table=data)\n",
        "algo.execute(lhs_indices=[0], rhs_indices=[1])"
      ]
    },
    {
      "cell_type": "code",
      "execution_count": 12,
      "metadata": {
        "id": "0IpeHj1JoOHf"
      },
      "outputs": [],
      "source": [
        "def print_results_for_afd(verifier, error):\n",
        "    if verifier.get_error() < error:\n",
        "        print(\"AFD with this error threshold holds\")\n",
        "    else:\n",
        "        print(\"AFD with this error threshold does not hold\")\n",
        "        print(f\"But the same AFD with error threshold = {verifier.get_error()} holds\")"
      ]
    },
    {
      "cell_type": "markdown",
      "metadata": {
        "id": "PL8R6lAWnm6N"
      },
      "source": [
        "Checking whether `[Creature]` $\\rightarrow$ `[Strength]` AFD holds (error threshold = 0.5)."
      ]
    },
    {
      "cell_type": "code",
      "execution_count": 13,
      "metadata": {
        "colab": {
          "base_uri": "https://localhost:8080/"
        },
        "id": "0NkzKtAIng1r",
        "outputId": "812a3eb2-0e99-4417-b537-aa8746f31826"
      },
      "outputs": [
        {
          "name": "stdout",
          "output_type": "stream",
          "text": [
            "AFD with this error threshold holds\n"
          ]
        }
      ],
      "source": [
        "print_results_for_afd(algo, 0.5)"
      ]
    },
    {
      "cell_type": "markdown",
      "metadata": {
        "id": "12xy7abooY_k"
      },
      "source": [
        "Checking whether `[Creature]` $\\rightarrow$ `[Strength]` AFD holds (error threshold = 0.1)\n"
      ]
    },
    {
      "cell_type": "code",
      "execution_count": 14,
      "metadata": {
        "colab": {
          "base_uri": "https://localhost:8080/"
        },
        "id": "7vat3i_FnjGx",
        "outputId": "3131591e-fa35-42f6-8a41-ca16834adc17"
      },
      "outputs": [
        {
          "name": "stdout",
          "output_type": "stream",
          "text": [
            "AFD with this error threshold does not hold\n",
            "But the same AFD with error threshold = 0.19047619047619047 holds\n"
          ]
        }
      ],
      "source": [
        "print_results_for_afd(algo, 0.1)"
      ]
    },
    {
      "cell_type": "markdown",
      "metadata": {
        "id": "bX4iblbKolqm"
      },
      "source": [
        "Similarly to the FD verification primitive, the AFD one can provide a user with clusters."
      ]
    },
    {
      "cell_type": "code",
      "execution_count": 15,
      "metadata": {
        "colab": {
          "base_uri": "https://localhost:8080/"
        },
        "id": "LQx2de8MnlZx",
        "outputId": "e9c14a98-bd95-4d8d-bc27-fc1816603477"
      },
      "outputs": [
        {
          "name": "stdout",
          "output_type": "stream",
          "text": [
            "Number of clusters violating FD: 3\n",
            "#1 cluster: \n",
            "\t2: Elf -> 6\n",
            "\t3: Elf -> 6\n",
            "\t4: Elf -> 1\n",
            "Most frequent rhs value proportion: 0.6666666666666666\n",
            "Num distinct rhs values: 2\n",
            "\n",
            "#2 cluster: \n",
            "\t0: Ogre -> 9\n",
            "\t1: Ogre -> 6\n",
            "Most frequent rhs value proportion: 0.5\n",
            "Num distinct rhs values: 2\n",
            "\n",
            "#3 cluster: \n",
            "\t5: Dwarf -> 9\n",
            "\t6: Dwarf -> 6\n",
            "Most frequent rhs value proportion: 0.5\n",
            "Num distinct rhs values: 2\n",
            "\n"
          ]
        }
      ],
      "source": [
        "print_clusters(algo, data, 0, 1)"
      ]
    }
  ],
  "metadata": {
    "colab": {
      "provenance": []
    },
    "kernelspec": {
      "display_name": "Python 3",
      "name": "python3"
    },
    "language_info": {
      "name": "python"
    }
  },
  "nbformat": 4,
  "nbformat_minor": 0
}
