{
  "nbformat": 4,
  "nbformat_minor": 0,
  "metadata": {
    "colab": {
      "provenance": []
    },
    "kernelspec": {
      "name": "python3",
      "display_name": "Python 3"
    },
    "language_info": {
      "name": "python"
    }
  },
  "cells": [
    {
      "cell_type": "markdown",
      "source": [
        "This collection of scenarios demonstrates how to solve various data quality problems by exploiting patterns found (or validated) by Desbordante.\n",
        "\n",
        "In this scenario, we showcase a simple application that performs anomaly detection in a table.\n",
        "\n",
        "The idea of this scenario is described in the paper \"Solving Data Quality Problems with Desbordante: a Demo\" by G. Chernishev et al., available at https://arxiv.org/abs/2307.14935. There is also an interactive demo at https://desbordante.streamlit.app/."
      ],
      "metadata": {
        "id": "3h5ZVoxSGMHC"
      }
    },
    {
      "cell_type": "markdown",
      "source": [
        "# Anomaly detection example using Desbordante algorithms."
      ],
      "metadata": {
        "id": "w0jF-5JlzE5e"
      }
    },
    {
      "cell_type": "code",
      "source": [
        "!pip install desbordante==2.3.2\n",
        "!wget https://raw.githubusercontent.com/Desbordante/desbordante-core/refs/heads/main/examples/datasets/cargo_data_1.csv\n",
        "!wget https://raw.githubusercontent.com/Desbordante/desbordante-core/refs/heads/main/examples/datasets/cargo_data_2.csv\n",
        "!wget https://raw.githubusercontent.com/Desbordante/desbordante-core/refs/heads/main/examples/datasets/cargo_data_3.csv\n",
        "\n",
        "\n",
        "import desbordante\n",
        "import pandas\n",
        "\n",
        "\n",
        "def setup_pandas_print():\n",
        "    pandas.set_option('display.max_columns', None)\n",
        "    pandas.set_option(\"display.max_rows\", None)\n",
        "    pandas.set_option('display.width', None)\n",
        "    pandas.set_option('display.max_colwidth', None)\n",
        "    pandas.set_option('display.expand_frame_repr', False)\n",
        "\n",
        "setup_pandas_print()"
      ],
      "metadata": {
        "colab": {
          "base_uri": "https://localhost:8080/"
        },
        "id": "e2ogzUWhlaWt",
        "outputId": "9e74ef49-4985-4805-f320-b6e9f58de624"
      },
      "execution_count": null,
      "outputs": [
        {
          "output_type": "stream",
          "name": "stdout",
          "text": [
            "Collecting desbordante==2.3.2\n",
            "  Downloading desbordante-2.3.2-cp311-cp311-manylinux_2_17_x86_64.manylinux2014_x86_64.whl.metadata (19 kB)\n",
            "Downloading desbordante-2.3.2-cp311-cp311-manylinux_2_17_x86_64.manylinux2014_x86_64.whl (4.0 MB)\n",
            "\u001b[2K   \u001b[90m━━━━━━━━━━━━━━━━━━━━━━━━━━━━━━━━━━━━━━━━\u001b[0m \u001b[32m4.0/4.0 MB\u001b[0m \u001b[31m27.4 MB/s\u001b[0m eta \u001b[36m0:00:00\u001b[0m\n",
            "\u001b[?25hInstalling collected packages: desbordante\n",
            "Successfully installed desbordante-2.3.2\n",
            "--2025-03-20 18:46:41--  https://raw.githubusercontent.com/Desbordante/desbordante-core/refs/heads/main/examples/datasets/cargo_data_1.csv\n",
            "Resolving raw.githubusercontent.com (raw.githubusercontent.com)... 185.199.108.133, 185.199.109.133, 185.199.110.133, ...\n",
            "Connecting to raw.githubusercontent.com (raw.githubusercontent.com)|185.199.108.133|:443... connected.\n",
            "HTTP request sent, awaiting response... 200 OK\n",
            "Length: 4139 (4.0K) [text/plain]\n",
            "Saving to: ‘cargo_data_1.csv’\n",
            "\n",
            "cargo_data_1.csv    100%[===================>]   4.04K  --.-KB/s    in 0s      \n",
            "\n",
            "2025-03-20 18:46:41 (32.1 MB/s) - ‘cargo_data_1.csv’ saved [4139/4139]\n",
            "\n",
            "--2025-03-20 18:46:41--  https://raw.githubusercontent.com/Desbordante/desbordante-core/refs/heads/main/examples/datasets/cargo_data_2.csv\n",
            "Resolving raw.githubusercontent.com (raw.githubusercontent.com)... 185.199.108.133, 185.199.109.133, 185.199.110.133, ...\n",
            "Connecting to raw.githubusercontent.com (raw.githubusercontent.com)|185.199.108.133|:443... connected.\n",
            "HTTP request sent, awaiting response... 200 OK\n",
            "Length: 4249 (4.1K) [text/plain]\n",
            "Saving to: ‘cargo_data_2.csv’\n",
            "\n",
            "cargo_data_2.csv    100%[===================>]   4.15K  --.-KB/s    in 0.001s  \n",
            "\n",
            "2025-03-20 18:46:41 (3.19 MB/s) - ‘cargo_data_2.csv’ saved [4249/4249]\n",
            "\n",
            "--2025-03-20 18:46:41--  https://raw.githubusercontent.com/Desbordante/desbordante-core/refs/heads/main/examples/datasets/cargo_data_3.csv\n",
            "Resolving raw.githubusercontent.com (raw.githubusercontent.com)... 185.199.108.133, 185.199.109.133, 185.199.110.133, ...\n",
            "Connecting to raw.githubusercontent.com (raw.githubusercontent.com)|185.199.108.133|:443... connected.\n",
            "HTTP request sent, awaiting response... 200 OK\n",
            "Length: 4249 (4.1K) [text/plain]\n",
            "Saving to: ‘cargo_data_3.csv’\n",
            "\n",
            "cargo_data_3.csv    100%[===================>]   4.15K  --.-KB/s    in 0s      \n",
            "\n",
            "2025-03-20 18:46:41 (60.0 MB/s) - ‘cargo_data_3.csv’ saved [4249/4249]\n",
            "\n"
          ]
        }
      ]
    },
    {
      "cell_type": "markdown",
      "source": [
        "## Setting up various algorithm parameters."
      ],
      "metadata": {
        "id": "zRAc6mNW5T6_"
      }
    },
    {
      "cell_type": "code",
      "source": [
        "# Parameters for pandas.read_csv(...).\n",
        "HEADER = 0\n",
        "SEPARATOR = \",\"\n",
        "\n",
        "# Algorithm that finds exact FDs and its config.\n",
        "EXACT_ALGORITHM_TYPE = desbordante.fd.algorithms.Default\n",
        "EXACT_ALGORITHM_CONFIG = {}\n",
        "\n",
        "# Algorithm that finds approximate FDs and its config.\n",
        "APPROXIMATE_ALGORITHM_TYPE = desbordante.afd.algorithms.Default\n",
        "ERROR = [0.01, 0.03, 0.05]\n",
        "APPROXIMATE_ALGORITHM_CONFIG = {'error': ERROR}\n",
        "\n",
        "METRIC_VERIFIER = \"MetricVerifier\"\n",
        "METRIC_VERIFIER_CONFIG = {\n",
        "    \"lhs_indices\": [1],\n",
        "    \"rhs_indices\": [3],\n",
        "    \"metric\": \"euclidean\",\n",
        "    \"metric_algorithm\": \"brute\",\n",
        "    \"parameter\": 4,\n",
        "}\n",
        "\n",
        "# available metrics: euclidean, levenshtein, cosine\n",
        "# available metric algorithms: brute, approx, calipers\n",
        "# parameter: desired distance related to metric. e.g., for euclidean metric parameter=4 means that euclidean distance has to be no larger than 4\n",
        "\n",
        "# Variables to simplify the configuration string construction below.\n",
        "EXACT_ALGORITHM = EXACT_ALGORITHM_TYPE.__name__\n",
        "APPROXIMATE_ALGORITHM = APPROXIMATE_ALGORITHM_TYPE.__name__\n",
        "\n",
        "CONFIG_STRING = f\"\"\"Starting anomaly detection scenario with parameters:\n",
        "{ERROR=}\n",
        "{HEADER=}\n",
        "{SEPARATOR=}\n",
        "{EXACT_ALGORITHM=}\n",
        "{APPROXIMATE_ALGORITHM=}\n",
        "{METRIC_VERIFIER=}\"\"\""
      ],
      "metadata": {
        "id": "Nty20bIy0i2W"
      },
      "execution_count": null,
      "outputs": []
    },
    {
      "cell_type": "markdown",
      "source": [
        "## Defining necessary functions."
      ],
      "metadata": {
        "id": "zDJ7mdTx5uoh"
      }
    },
    {
      "cell_type": "code",
      "source": [
        "def get_result_set_fd(df, algo_type, algo_config):\n",
        "    algo = algo_type()\n",
        "    algo.load_data(table=df, **algo_config)\n",
        "    algo.execute(**algo_config)\n",
        "    return set(algo.get_fds())\n",
        "\n",
        "\n",
        "def get_result_mv(df, mv_config):\n",
        "    mv = desbordante.mfd_verification.algorithms.Default()\n",
        "    mv.load_data(table=df, **mv_config)\n",
        "    mv.execute(**mv_config)\n",
        "    return mv.mfd_holds()\n",
        "\n",
        "\n",
        "def print_fds(fds):\n",
        "    print('\\n'.join(map(str, sorted(fds, key=lambda fd: fd.to_name_tuple()))))\n",
        "\n",
        "\n",
        "def diff(fd_set_1, fd_set_2):\n",
        "    diff = fd_set_1 - fd_set_2\n",
        "\n",
        "    if diff:\n",
        "        print(\"Missing FDs:\")\n",
        "        print_fds(diff)\n",
        "    else:\n",
        "        print(\"No missing FDs.\")\n",
        "\n",
        "    return diff"
      ],
      "metadata": {
        "id": "GBa3kfddu4cZ"
      },
      "execution_count": null,
      "outputs": []
    },
    {
      "cell_type": "markdown",
      "source": [
        "## Starting anomaly detection scenario with parameters:"
      ],
      "metadata": {
        "id": "5XtQJov86Lgo"
      }
    },
    {
      "cell_type": "code",
      "source": [
        "print(CONFIG_STRING)"
      ],
      "metadata": {
        "colab": {
          "base_uri": "https://localhost:8080/"
        },
        "id": "VLvN6CRF6Pcf",
        "outputId": "7583bf7c-19bc-4301-be2a-ccac0da247f8"
      },
      "execution_count": null,
      "outputs": [
        {
          "output_type": "stream",
          "name": "stdout",
          "text": [
            "Starting anomaly detection scenario with parameters:\n",
            "ERROR=[0.01, 0.03, 0.05]\n",
            "HEADER=0\n",
            "SEPARATOR=','\n",
            "EXACT_ALGORITHM='HyFD'\n",
            "APPROXIMATE_ALGORITHM='Pyro'\n",
            "METRIC_VERIFIER='MetricVerifier'\n"
          ]
        }
      ]
    },
    {
      "cell_type": "code",
      "source": [
        "df1 = pandas.read_csv(\"cargo_data_1.csv\", sep=SEPARATOR, header=HEADER)\n",
        "df2 = pandas.read_csv(\"cargo_data_2.csv\", sep=SEPARATOR, header=HEADER)\n",
        "df3 = pandas.read_csv(\"cargo_data_3.csv\", sep=SEPARATOR, header=HEADER)\n",
        "\n",
        "if not (df1.columns.tolist() == df2.columns.tolist() == df3.columns.tolist()):\n",
        "    print('Datasets must have the same schemas!')\n",
        "else:\n",
        "    # mine FDs for D1\n",
        "    print(\"============================\")\n",
        "    print(\"FDs found for dataset 1:\")\n",
        "    fds1 = get_result_set_fd(df1, EXACT_ALGORITHM_TYPE, EXACT_ALGORITHM_CONFIG)\n",
        "    print_fds(fds1)\n",
        "\n",
        "    # mine FDs for D2\n",
        "    print(\"============================\")\n",
        "    print(\"FDs found for dataset 2:\")\n",
        "    fds2 = get_result_set_fd(df2, EXACT_ALGORITHM_TYPE, EXACT_ALGORITHM_CONFIG)\n",
        "    print_fds(fds2)\n",
        "\n",
        "    print()\n",
        "\n",
        "    # check whether some of FDs are missing\n",
        "    diff12 = diff(fds1, fds2)\n",
        "    # diff is empty, proceed to D3"
      ],
      "metadata": {
        "id": "5SXtg3-h6K_0",
        "colab": {
          "base_uri": "https://localhost:8080/"
        },
        "outputId": "0d1c9b25-0124-4c02-d103-44d0b3b793b4"
      },
      "execution_count": null,
      "outputs": [
        {
          "output_type": "stream",
          "name": "stdout",
          "text": [
            "============================\n",
            "FDs found for dataset 1:\n",
            "[item_id] -> item_weight\n",
            "[item_weight] -> item_id\n",
            "[record_id] -> cargo_id\n",
            "[record_id] -> item_id\n",
            "[record_id] -> item_weight\n",
            "[record_id] -> timestamp\n",
            "[timestamp] -> cargo_id\n",
            "[timestamp] -> item_id\n",
            "[timestamp] -> item_weight\n",
            "[timestamp] -> record_id\n",
            "============================\n",
            "FDs found for dataset 2:\n",
            "[item_id] -> item_weight\n",
            "[item_weight] -> item_id\n",
            "[record_id] -> cargo_id\n",
            "[record_id] -> item_id\n",
            "[record_id] -> item_weight\n",
            "[record_id] -> timestamp\n",
            "[timestamp] -> cargo_id\n",
            "[timestamp] -> item_id\n",
            "[timestamp] -> item_weight\n",
            "[timestamp] -> record_id\n",
            "\n",
            "No missing FDs.\n"
          ]
        }
      ]
    },
    {
      "cell_type": "code",
      "source": [
        "# mine FDs for D3\n",
        "print(\"FDs found for dataset 3:\")\n",
        "fds3 = get_result_set_fd(df3, EXACT_ALGORITHM_TYPE, EXACT_ALGORITHM_CONFIG)\n",
        "print_fds(fds3)\n",
        "print()\n",
        "\n",
        "# missing FD found here\n",
        "diff23 = diff(fds2, fds3)"
      ],
      "metadata": {
        "colab": {
          "base_uri": "https://localhost:8080/"
        },
        "id": "Fy9AGHirnnfH",
        "outputId": "92c5fbdf-0bce-4551-89be-564c192b3868"
      },
      "execution_count": null,
      "outputs": [
        {
          "output_type": "stream",
          "name": "stdout",
          "text": [
            "FDs found for dataset 3:\n",
            "[item_weight] -> item_id\n",
            "[record_id] -> cargo_id\n",
            "[record_id] -> item_id\n",
            "[record_id] -> item_weight\n",
            "[record_id] -> timestamp\n",
            "[timestamp] -> cargo_id\n",
            "[timestamp] -> item_id\n",
            "[timestamp] -> item_weight\n",
            "[timestamp] -> record_id\n",
            "\n",
            "Missing FDs:\n",
            "[item_id] -> item_weight\n"
          ]
        }
      ]
    },
    {
      "cell_type": "code",
      "source": [
        "# initiate processes for checking if missing FD has become an AFD\n",
        "\n",
        "is_AFD = False\n",
        "for error in ERROR:\n",
        "    print(\"Checking for AFD with error =\", error)\n",
        "    APPROXIMATE_ALGORITHM_CONFIG[\"error\"] = error\n",
        "    afds = get_result_set_fd(df3, APPROXIMATE_ALGORITHM_TYPE, APPROXIMATE_ALGORITHM_CONFIG)\n",
        "    # print_fds(afds)\n",
        "\n",
        "    if diff in afds:\n",
        "        is_AFD = True\n",
        "        print(\"Missing FD is an AFD.\")\n",
        "    else:\n",
        "        print(\"Missing FD is not an AFD.\")\n",
        "\n",
        "    print()\n",
        "\n",
        "print()\n",
        "\n",
        "if not is_AFD:\n",
        "  print(\"Missing FD is not part of AFD set. proceed to MFD validation phase\\n\")\n",
        "  # check the stats of RHS attribute\n",
        "  print(df3[\"item_weight\"].describe())\n",
        "\n",
        "  # define range for MetricVerifier parameter as [1; std]\n",
        "  for pj in range(1, int(df3[\"item_weight\"].std())):\n",
        "      METRIC_VERIFIER_CONFIG[\"parameter\"] = pj\n",
        "      mfd_holds = get_result_mv(df3, METRIC_VERIFIER_CONFIG)\n",
        "\n",
        "      if mfd_holds:\n",
        "          print(\"MFD with parameter {} holds.\".format(pj))\n",
        "          break\n",
        "      else:\n",
        "          print(\"MFD with parameter {} not holds.\".format(pj))\n"
      ],
      "metadata": {
        "colab": {
          "base_uri": "https://localhost:8080/"
        },
        "id": "Mf2nb9mdnBvB",
        "outputId": "9fbed847-f6db-493a-ede8-9326c2e2347b"
      },
      "execution_count": null,
      "outputs": [
        {
          "output_type": "stream",
          "name": "stdout",
          "text": [
            "Checking for AFD with error = 0.01\n",
            "Missing FD is not an AFD.\n",
            "\n",
            "Checking for AFD with error = 0.03\n",
            "Missing FD is not an AFD.\n",
            "\n",
            "Checking for AFD with error = 0.05\n",
            "Missing FD is not an AFD.\n",
            "\n",
            "\n",
            "Missing FD is not part of AFD set. proceed to MFD validation phase\n",
            "\n",
            "count    100.000000\n",
            "mean      54.590000\n",
            "std       20.758883\n",
            "min       27.000000\n",
            "25%       32.000000\n",
            "50%       59.000000\n",
            "75%       68.250000\n",
            "max       89.000000\n",
            "Name: item_weight, dtype: float64\n",
            "MFD with parameter 1 not holds.\n",
            "MFD with parameter 2 holds.\n"
          ]
        }
      ]
    }
  ]
}