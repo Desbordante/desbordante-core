{
  "cells": [
    {
      "cell_type": "markdown",
      "metadata": {
        "id": "Ez3YrpgEoLPI"
      },
      "source": [
        "# What are IND and AIND?\n",
        "\n",
        "In Desbordante we consider an approximate inclusion dependency (AIND)\n",
        "as any inclusion dependency (IND) that utilizes an error metric to measure\n",
        "violations.\n",
        "\n",
        "This metric calculates the proportion of distinct values in the\n",
        "dependent set (LHS) that must be removed to satisfy the dependency on the\n",
        "referenced set (RHS) completely.\n",
        "\n",
        "The metric lies within the `[0, 1]` range:\n",
        "- A value of `0` means the IND holds exactly (no violations exist).\n",
        "- A value closer to `1` indicates a significant proportion of LHS values violate the dependency."
      ]
    },
    {
      "cell_type": "markdown",
      "metadata": {
        "id": "zREqdLM4nkzd"
      },
      "source": [
        "## What you can do with it?\n",
        "\n",
        "Desbordante supports the **discovery** and **verification** of both exact INDs and approximate INDs:\n",
        "  1. Exact INDs: All values in the LHS set must match a value in the RHS set.\n",
        "  2. Approximate INDs: Allows for controlled violations quantified by the error metric.\n",
        "\n",
        "For `discovery` tasks, users can specify an error threshold, and Desbordante will return all AINDs with an error value equal to or less than the specified threshold.\n",
        "\n",
        "For `verification` tasks, users can specify an AIND, and Desbordante will calculate the error value, identifying clusters of violating values.\n",
        "\n",
        "The error metric used for AINDs is an adaptation of `g3`, originally designed for approximate functional dependencies (FDs).\n",
        "\n",
        "For more information, consider:\n",
        "\n",
        "```\n",
        "\"Unary and n-ary inclusion dependency discovery in relational databases\",\n",
        "        Fabien De Marchi, Stéphane Lopes, and Jean-Marc Petit.\n",
        "```"
      ]
    },
    {
      "cell_type": "markdown",
      "metadata": {
        "id": "DiBj7mM4pMyu"
      },
      "source": [
        "# Demonstration\n",
        "\n",
        "We will show how you can discover and verify both exact and approximate inlusion dependencies."
      ]
    },
    {
      "cell_type": "markdown",
      "metadata": {
        "id": "px8ql8ee1G8T"
      },
      "source": [
        "# Install python dependencies"
      ]
    },
    {
      "cell_type": "code",
      "execution_count": 1,
      "metadata": {
        "colab": {
          "base_uri": "https://localhost:8080/"
        },
        "id": "U_NOQVWeutjR",
        "outputId": "2df34da3-0c1d-4d50-f1c0-9bad4125265b"
      },
      "outputs": [
        {
          "name": "stdout",
          "output_type": "stream",
          "text": [
            "Collecting desbordante==2.3.2\n",
            "  Downloading desbordante-2.3.2-cp311-cp311-manylinux_2_17_x86_64.manylinux2014_x86_64.whl.metadata (19 kB)\n",
            "Downloading desbordante-2.3.2-cp311-cp311-manylinux_2_17_x86_64.manylinux2014_x86_64.whl (4.0 MB)\n",
            "\u001b[2K   \u001b[90m━━━━━━━━━━━━━━━━━━━━━━━━━━━━━━━━━━━━━━━━\u001b[0m \u001b[32m4.0/4.0 MB\u001b[0m \u001b[31m20.2 MB/s\u001b[0m eta \u001b[36m0:00:00\u001b[0m\n",
            "\u001b[?25hInstalling collected packages: desbordante\n",
            "Successfully installed desbordante-2.3.2\n",
            "Requirement already satisfied: pandas in /usr/local/lib/python3.11/dist-packages (2.2.2)\n",
            "Requirement already satisfied: numpy>=1.23.2 in /usr/local/lib/python3.11/dist-packages (from pandas) (2.0.2)\n",
            "Requirement already satisfied: python-dateutil>=2.8.2 in /usr/local/lib/python3.11/dist-packages (from pandas) (2.8.2)\n",
            "Requirement already satisfied: pytz>=2020.1 in /usr/local/lib/python3.11/dist-packages (from pandas) (2025.2)\n",
            "Requirement already satisfied: tzdata>=2022.7 in /usr/local/lib/python3.11/dist-packages (from pandas) (2025.2)\n",
            "Requirement already satisfied: six>=1.5 in /usr/local/lib/python3.11/dist-packages (from python-dateutil>=2.8.2->pandas) (1.17.0)\n",
            "Requirement already satisfied: tabulate in /usr/local/lib/python3.11/dist-packages (0.9.0)\n"
          ]
        }
      ],
      "source": [
        "!pip install desbordante==2.3.2\n",
        "!pip install pandas\n",
        "!pip install tabulate"
      ]
    },
    {
      "cell_type": "markdown",
      "metadata": {
        "id": "-MVDDGqY1MyH"
      },
      "source": [
        "# Import python modules"
      ]
    },
    {
      "cell_type": "code",
      "execution_count": 17,
      "metadata": {
        "id": "tp8ifcd9w-78"
      },
      "outputs": [],
      "source": [
        "import desbordante\n",
        "import pandas as pd\n",
        "from tabulate import tabulate\n",
        "import textwrap"
      ]
    },
    {
      "cell_type": "markdown",
      "metadata": {
        "id": "VxdusId-1Rx0"
      },
      "source": [
        "# Get sample datasets"
      ]
    },
    {
      "cell_type": "code",
      "execution_count": null,
      "metadata": {
        "id": "F2gMF5m1u7wg"
      },
      "outputs": [],
      "source": [
        "!wget -q https://raw.githubusercontent.com/Desbordante/desbordante-core/main/examples/datasets/ind_datasets/orders.csv\n",
        "!wget -q https://raw.githubusercontent.com/Desbordante/desbordante-core/main/examples/datasets/ind_datasets/products.csv\n",
        "!wget -q https://raw.githubusercontent.com/Desbordante/desbordante-core/main/examples/datasets/ind_datasets/customers.csv"
      ]
    },
    {
      "cell_type": "markdown",
      "metadata": {
        "id": "64dNOJLRQ8ts"
      },
      "source": [
        "### Verifying exact INDs\n",
        "\n",
        "Let's start with the exact IND verification scenario.\n",
        "\n",
        "The datasets under consideration for this scenario are `orders`\n",
        "and `products`.\n",
        "\n",
        "Start by verifying exact IND holding between those tables."
      ]
    },
    {
      "cell_type": "code",
      "execution_count": 21,
      "metadata": {
        "colab": {
          "base_uri": "https://localhost:8080/"
        },
        "id": "wt2PhasxRbQr",
        "outputId": "6517d693-27f8-4b83-ea8b-6519c171c980"
      },
      "outputs": [
        {
          "name": "stdout",
          "output_type": "stream",
          "text": [
            "Dataset 'orders':\n",
            "+----+------+---------------+-----------+\n",
            "|    |   id |   customer_id | product   |\n",
            "|----+------+---------------+-----------|\n",
            "|  0 |    1 |           101 | Laptop    |\n",
            "|  1 |    2 |           102 | Phone     |\n",
            "|  2 |    3 |           103 | Tablet    |\n",
            "|  3 |    4 |           104 | Monitor   |\n",
            "|  4 |    5 |           108 | Keyboard  |\n",
            "|  5 |    6 |           201 | Mouse     |\n",
            "|  6 |    7 |           102 | Charger   |\n",
            "+----+------+---------------+-----------+\n",
            "\n",
            "Dataset 'products':\n",
            "+----+------+----------+-------------+\n",
            "|    |   id | name     | category    |\n",
            "|----+------+----------+-------------|\n",
            "|  0 |    1 | Laptop   | Electronics |\n",
            "|  1 |    2 | Phone    | Electronics |\n",
            "|  2 |    3 | Tablet   | Electronics |\n",
            "|  3 |    4 | Monitor  | Electronics |\n",
            "|  4 |    5 | Keyboard | Accessories |\n",
            "|  5 |    6 | Mouse    | Accessories |\n",
            "|  6 |    7 | Charger  | Accessories |\n",
            "+----+------+----------+-------------+\n",
            "\n",
            "Checking the IND [orders.product] -> [products.name]\n",
            "IND holds\n"
          ]
        }
      ],
      "source": [
        "def get_table_df(dataset):\n",
        "    return pd.read_csv(f\"{dataset}.csv\", header=[0])\n",
        "\n",
        "def aind_str(lhs, rhs):\n",
        "    def cc_str(cc):\n",
        "        (table_name, df, indices) = cc\n",
        "        columns = [df.columns[idx] for idx in indices]\n",
        "        return \", \".join(f\"{table_name}.{col}\" for col in columns)\n",
        "\n",
        "    return f\"[{cc_str(lhs)}] -> [{cc_str(rhs)}]\"\n",
        "\n",
        "def print_table(table, title):\n",
        "    print(title)\n",
        "    print(tabulate(table, headers='keys', tablefmt='psql'), end='\\n\\n')\n",
        "\n",
        "def print_results_for_ind(verifier):\n",
        "    if verifier.get_error() == 0:\n",
        "        print(\"IND holds\")\n",
        "    else:\n",
        "        print(f\"AIND holds with error = {verifier.get_error():.2}\")\n",
        "\n",
        "def aind_verify(lhs, rhs):\n",
        "    (lhs_table_name, lhs_table, lhs_indices) = lhs\n",
        "    (rhs_table_name, rhs_table, rhs_indices) = rhs\n",
        "\n",
        "    print_table(lhs_table, f\"Dataset '{lhs_table_name}':\")\n",
        "    print_table(rhs_table, f\"Dataset '{rhs_table_name}':\")\n",
        "\n",
        "    print(f\"Checking the IND {aind_str((lhs_table_name, lhs_table, lhs_indices), (rhs_table_name, rhs_table, rhs_indices))}\")\n",
        "\n",
        "    algo = desbordante.aind_verification.algorithms.Default()\n",
        "    algo.load_data(tables=[lhs_table, rhs_table])\n",
        "    algo.execute(lhs_indices=lhs_indices, rhs_indices=rhs_indices)\n",
        "\n",
        "    return algo\n",
        "\n",
        "\n",
        "algo = aind_verify(('orders', get_table_df('orders'), [2]),\n",
        "                    ('products', get_table_df('products'), [1]))\n",
        "\n",
        "print_results_for_ind(algo)"
      ]
    },
    {
      "cell_type": "markdown",
      "metadata": {
        "id": "NliXQI1lRhNT"
      },
      "source": [
        "The IND holds because there are no inconsistencies between the two tables. The `products.name` column acts as a primary key, and all values in the `orders.product` column match entries in `products.name` without any typos or missing data."
      ]
    },
    {
      "cell_type": "markdown",
      "metadata": {
        "id": "-REdXptOTibX"
      },
      "source": [
        "### Verifying Approximate INDs\n",
        "\n",
        "Now, let's consider the approximate IND verification scenario (AIND).\n",
        "Unlike exact INDs, approximate INDs allow for a certain level of error.\n",
        "This error indicates how accurately the dependency holds between the datasets.\n",
        "\n",
        "In this scenario, we will use the `orders` and `customers` datasets."
      ]
    },
    {
      "cell_type": "code",
      "execution_count": 24,
      "metadata": {
        "colab": {
          "base_uri": "https://localhost:8080/"
        },
        "id": "v-9rbLENT04b",
        "outputId": "1a60d54a-06a3-4955-f461-170a7cbf4f00"
      },
      "outputs": [
        {
          "name": "stdout",
          "output_type": "stream",
          "text": [
            "Dataset 'orders':\n",
            "+----+------+---------------+-----------+\n",
            "|    |   id |   customer_id | product   |\n",
            "|----+------+---------------+-----------|\n",
            "|  0 |    1 |           101 | Laptop    |\n",
            "|  1 |    2 |           102 | Phone     |\n",
            "|  2 |    3 |           103 | Tablet    |\n",
            "|  3 |    4 |           104 | Monitor   |\n",
            "|  4 |    5 |           108 | Keyboard  |\n",
            "|  5 |    6 |           201 | Mouse     |\n",
            "|  6 |    7 |           102 | Charger   |\n",
            "+----+------+---------------+-----------+\n",
            "\n",
            "Dataset 'customers':\n",
            "+----+------+---------+-----------+\n",
            "|    |   id | name    | country   |\n",
            "|----+------+---------+-----------|\n",
            "|  0 |  101 | Alice   | USA       |\n",
            "|  1 |  102 | Bob     | UK        |\n",
            "|  2 |  103 | Charlie | Canada    |\n",
            "|  3 |  104 | David   | Germany   |\n",
            "|  4 |  105 | Eve     | France    |\n",
            "+----+------+---------+-----------+\n",
            "\n",
            "Checking the IND [orders.customer_id] -> [customers.id]\n",
            "AIND holds with error = 0.33\n"
          ]
        }
      ],
      "source": [
        "verify = lambda lhs_df, rhs_df: aind_verify(('orders', lhs_df, [1]),\n",
        "                                            ('customers', rhs_df, [0]))\n",
        "\n",
        "lhs_df = get_table_df('orders')\n",
        "rhs_df = get_table_df('customers')\n",
        "\n",
        "algo = verify(lhs_df, rhs_df)\n",
        "\n",
        "print_results_for_ind(algo)"
      ]
    },
    {
      "cell_type": "markdown",
      "metadata": {
        "id": "9r0ht9nLUITg"
      },
      "source": [
        "We see that this AIND has an error of `0.33`.\n",
        "Let's examine the violating clusters in more detail to understand the errors."
      ]
    },
    {
      "cell_type": "code",
      "execution_count": 27,
      "metadata": {
        "colab": {
          "base_uri": "https://localhost:8080/"
        },
        "id": "VGc5AvW4UMzR",
        "outputId": "2577a893-7449-4a61-e86f-c439ecc1ddeb"
      },
      "outputs": [
        {
          "name": "stdout",
          "output_type": "stream",
          "text": [
            "Number of clusters violating IND: 2\n",
            "#1 cluster:\n",
            "\t5: 201\n",
            "#2 cluster:\n",
            "\t4: 108\n"
          ]
        }
      ],
      "source": [
        "def print_clusters(verifier, lhs):\n",
        "    (table_name, table, indices) = lhs\n",
        "\n",
        "    print(f\"Number of clusters violating IND: {verifier.get_violating_clusters_count()}\")\n",
        "    for i, cluster in enumerate(verifier.get_violating_clusters(), start=1):\n",
        "        print(f\"#{i} cluster:\")\n",
        "        for el in cluster:\n",
        "            values = \" \".join([f\"{table[table.columns[idx]][el]}\" for idx in indices])\n",
        "            print(f\"\\t{el}: {values}\")\n",
        "\n",
        "print_clusters(algo, ('orders', lhs_df, [1]))"
      ]
    },
    {
      "cell_type": "markdown",
      "metadata": {
        "id": "jL5jHHQpVEAy"
      },
      "source": [
        "Based on our analysis, this AIND does not hold due to the following reasons:\n",
        "1. The `orders.customer_id` value `201` does not match any entry in the `customers.id` column. This suggests a possible typo where `201` might have been entered instead of `101`, indicating that the customer who bought the `Mouse` should be `Alice`.\n",
        "2. The `orders.customer_id` value `108` also violates the AIND. This appears to be a case where the `customers` table might be incomplete,\n",
        "and some customer entries are missing.\n",
        "\n",
        "In such cases, resolving typos and ensuring data completeness in the reference table `customers` can help improve the accuracy of this dependency."
      ]
    },
    {
      "cell_type": "markdown",
      "metadata": {
        "id": "YdJfjHTuVhLC"
      },
      "source": [
        "Let's fix the issues.\n",
        "1. Fix data issue in the `orders` dataset by updating the value in the `orders.customer_id` column where it is `201` to `101`."
      ]
    },
    {
      "cell_type": "code",
      "execution_count": 28,
      "metadata": {
        "colab": {
          "base_uri": "https://localhost:8080/"
        },
        "id": "E-RHkJ2lV402",
        "outputId": "d7d78464-adfa-4342-a525-338427a22f4e"
      },
      "outputs": [
        {
          "name": "stdout",
          "output_type": "stream",
          "text": [
            "Dataset 'orders':\n",
            "+----+------+---------------+-----------+\n",
            "|    |   id |   customer_id | product   |\n",
            "|----+------+---------------+-----------|\n",
            "|  0 |    1 |           101 | Laptop    |\n",
            "|  1 |    2 |           102 | Phone     |\n",
            "|  2 |    3 |           103 | Tablet    |\n",
            "|  3 |    4 |           104 | Monitor   |\n",
            "|  4 |    5 |           108 | Keyboard  |\n",
            "|  5 |    6 |           101 | Mouse     |\n",
            "|  6 |    7 |           102 | Charger   |\n",
            "+----+------+---------------+-----------+\n",
            "\n",
            "Dataset 'customers':\n",
            "+----+------+---------+-----------+\n",
            "|    |   id | name    | country   |\n",
            "|----+------+---------+-----------|\n",
            "|  0 |  101 | Alice   | USA       |\n",
            "|  1 |  102 | Bob     | UK        |\n",
            "|  2 |  103 | Charlie | Canada    |\n",
            "|  3 |  104 | David   | Germany   |\n",
            "|  4 |  105 | Eve     | France    |\n",
            "+----+------+---------+-----------+\n",
            "\n",
            "Checking the IND [orders.customer_id] -> [customers.id]\n",
            "AIND holds with error = 0.2\n"
          ]
        }
      ],
      "source": [
        "lhs_df.loc[lhs_df['customer_id'] == 201, 'customer_id'] = 101\n",
        "algo = verify(lhs_df, rhs_df)\n",
        "\n",
        "print_results_for_ind(algo)"
      ]
    },
    {
      "cell_type": "markdown",
      "metadata": {
        "id": "1CE8X4s9WAY5"
      },
      "source": [
        "We have successfully fixed the typo in the `orders` dataset.\n",
        "Now, let's address the missing customer entry.\n"
      ]
    },
    {
      "cell_type": "markdown",
      "metadata": {
        "id": "8pQwitOWWLAL"
      },
      "source": [
        "2. Add the missing customer to the `customers` dataset.\n",
        "Adding a new customer with id `108`, name `Frank`, and country `Italy."
      ]
    },
    {
      "cell_type": "code",
      "execution_count": 29,
      "metadata": {
        "colab": {
          "base_uri": "https://localhost:8080/"
        },
        "id": "LuuDTyLRWROU",
        "outputId": "e611f294-8426-4284-8d64-61d3ef6cf232"
      },
      "outputs": [
        {
          "name": "stdout",
          "output_type": "stream",
          "text": [
            "Dataset 'orders':\n",
            "+----+------+---------------+-----------+\n",
            "|    |   id |   customer_id | product   |\n",
            "|----+------+---------------+-----------|\n",
            "|  0 |    1 |           101 | Laptop    |\n",
            "|  1 |    2 |           102 | Phone     |\n",
            "|  2 |    3 |           103 | Tablet    |\n",
            "|  3 |    4 |           104 | Monitor   |\n",
            "|  4 |    5 |           108 | Keyboard  |\n",
            "|  5 |    6 |           101 | Mouse     |\n",
            "|  6 |    7 |           102 | Charger   |\n",
            "+----+------+---------------+-----------+\n",
            "\n",
            "Dataset 'customers':\n",
            "+----+------+---------+-----------+\n",
            "|    |   id | name    | country   |\n",
            "|----+------+---------+-----------|\n",
            "|  0 |  101 | Alice   | USA       |\n",
            "|  1 |  102 | Bob     | UK        |\n",
            "|  2 |  103 | Charlie | Canada    |\n",
            "|  3 |  104 | David   | Germany   |\n",
            "|  4 |  105 | Eve     | France    |\n",
            "|  5 |  108 | Frank   | Italy     |\n",
            "+----+------+---------+-----------+\n",
            "\n",
            "Checking the IND [orders.customer_id] -> [customers.id]\n",
            "IND holds\n"
          ]
        }
      ],
      "source": [
        "new_entry = {'id': 108, 'name': 'Frank', 'country': 'Italy'}\n",
        "rhs_df = pd.concat([rhs_df, pd.DataFrame([new_entry])], ignore_index=True)\n",
        "algo = verify(lhs_df, rhs_df)\n",
        "\n",
        "print_results_for_ind(algo)"
      ]
    },
    {
      "cell_type": "markdown",
      "metadata": {
        "id": "5sXm37ycWVG3"
      },
      "source": [
        "The missing customer has been successfully added to the `customers` dataset.\n",
        "\n",
        "All issues in the `orders` and `customers` datasets have been resolved!"
      ]
    }
  ],
  "metadata": {
    "colab": {
      "provenance": []
    },
    "kernelspec": {
      "display_name": "Python 3",
      "name": "python3"
    },
    "language_info": {
      "name": "python"
    }
  },
  "nbformat": 4,
  "nbformat_minor": 0
}
