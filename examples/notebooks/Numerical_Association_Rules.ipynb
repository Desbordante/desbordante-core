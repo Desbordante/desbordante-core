{
  "nbformat": 4,
  "nbformat_minor": 0,
  "metadata": {
    "colab": {
      "provenance": []
    },
    "kernelspec": {
      "name": "python3",
      "display_name": "Python 3"
    },
    "language_info": {
      "name": "python"
    }
  },
  "cells": [
    {
      "cell_type": "markdown",
      "source": [
        "**Numerical association rules** are easy-to-understand non-trivial patterns that can be discovered in your data. Let's try them with [Desbordante](https://github.com/Desbordante/desbordante-core)!"
      ],
      "metadata": {
        "id": "5k7Hoh7Ca2g2"
      }
    },
    {
      "cell_type": "markdown",
      "source": [
        "# Install necessary dependencies"
      ],
      "metadata": {
        "id": "1gFuIVj7bzWN"
      }
    },
    {
      "cell_type": "markdown",
      "source": [
        "Firstly, let's download and import necessary libraries:"
      ],
      "metadata": {
        "id": "R3EekrMeb4fV"
      }
    },
    {
      "cell_type": "code",
      "execution_count": null,
      "metadata": {
        "colab": {
          "base_uri": "https://localhost:8080/"
        },
        "id": "NIvpG5TMat3b",
        "outputId": "29e4b309-208d-40f6-e7b2-8e33a8e95a52"
      },
      "outputs": [
        {
          "output_type": "stream",
          "name": "stdout",
          "text": [
            "Collecting desbordante==2.3.2\n",
            "  Downloading desbordante-2.3.2-cp311-cp311-manylinux_2_17_x86_64.manylinux2014_x86_64.whl.metadata (19 kB)\n",
            "Downloading desbordante-2.3.2-cp311-cp311-manylinux_2_17_x86_64.manylinux2014_x86_64.whl (4.0 MB)\n",
            "\u001b[2K   \u001b[90m━━━━━━━━━━━━━━━━━━━━━━━━━━━━━━━━━━━━━━━━\u001b[0m \u001b[32m4.0/4.0 MB\u001b[0m \u001b[31m16.7 MB/s\u001b[0m eta \u001b[36m0:00:00\u001b[0m\n",
            "\u001b[?25hInstalling collected packages: desbordante\n",
            "Successfully installed desbordante-2.3.2\n"
          ]
        }
      ],
      "source": [
        "!pip install desbordante==2.3.2"
      ]
    },
    {
      "cell_type": "markdown",
      "source": [
        "Desbordante library will be used for discovery of numerical association rules and Pandas library will be used for visualising the data:"
      ],
      "metadata": {
        "id": "KLkVoWoVb8VH"
      }
    },
    {
      "cell_type": "code",
      "source": [
        "import desbordante\n",
        "import pandas as pd"
      ],
      "metadata": {
        "id": "sp9aFYKHb9OC"
      },
      "execution_count": null,
      "outputs": []
    },
    {
      "cell_type": "markdown",
      "source": [
        "Let's download example data:"
      ],
      "metadata": {
        "id": "9lgs4QmscQ6n"
      }
    },
    {
      "cell_type": "code",
      "source": [
        "!wget https://raw.githubusercontent.com/Desbordante/desbordante-core/refs/heads/main/examples/datasets/dog_breeds.csv"
      ],
      "metadata": {
        "colab": {
          "base_uri": "https://localhost:8080/"
        },
        "id": "e1qgR1yRcQWG",
        "outputId": "bf969e97-b1d8-42a2-d7e6-5a4f66bd66ee"
      },
      "execution_count": null,
      "outputs": [
        {
          "output_type": "stream",
          "name": "stdout",
          "text": [
            "--2025-03-20 13:13:33--  https://raw.githubusercontent.com/Desbordante/desbordante-core/refs/heads/main/examples/datasets/dog_breeds.csv\n",
            "Resolving raw.githubusercontent.com (raw.githubusercontent.com)... 185.199.111.133, 185.199.109.133, 185.199.108.133, ...\n",
            "Connecting to raw.githubusercontent.com (raw.githubusercontent.com)|185.199.111.133|:443... connected.\n",
            "HTTP request sent, awaiting response... 200 OK\n",
            "Length: 11999 (12K) [text/plain]\n",
            "Saving to: ‘dog_breeds.csv’\n",
            "\n",
            "dog_breeds.csv      100%[===================>]  11.72K  --.-KB/s    in 0.001s  \n",
            "\n",
            "2025-03-20 13:13:33 (18.5 MB/s) - ‘dog_breeds.csv’ saved [11999/11999]\n",
            "\n"
          ]
        }
      ]
    },
    {
      "cell_type": "markdown",
      "source": [
        "# Numerical association rules: an example"
      ],
      "metadata": {
        "id": "5H2OZxXscSyW"
      }
    },
    {
      "cell_type": "markdown",
      "source": [
        "Suppose we have a table containing students' exam grades and how many hours they studied for the exam. Such a table might hold the following numerical association rule:"
      ],
      "metadata": {
        "id": "BmfZbLSjcmFo"
      }
    },
    {
      "cell_type": "markdown",
      "source": [
        "```\n",
        "Study_Hours[15.5 - 30.2] ⎤-Antecedent\n",
        "Subject[Topology]        ⎦\n",
        "      |\n",
        "      |\n",
        "      V\n",
        "Grade[3 - 5]             ]-Consequent\n",
        "   support = 0.21\n",
        "   confidence = 0.93\n",
        "```"
      ],
      "metadata": {
        "id": "a65njrt_csVj"
      }
    },
    {
      "cell_type": "markdown",
      "source": [
        "This rule states that students who study Topology for between 15.5 and 30.2 hours will receive a grade between 3 and 5. This rule has support of 0.21, which means that 21% of rows in the dataset satisfy both the antecedent's and consequent's requirements. This rule also has confidence of 0.93, meaning that 93% of rows that satisfy the antecedent also satisfy the consequent. Note that attributes can be integers, floating point numbers, or strings."
      ],
      "metadata": {
        "id": "j0ScBTeVcxCQ"
      }
    },
    {
      "cell_type": "markdown",
      "source": [
        "Numerical association rules (NAR) are an extension of traditional association rules (AR), which help to discover patterns in data. Unlike ARs, which work with binary attributes (e.g., whether an item was purchased or not), NARs can handle numerical data (e.g., how many units of an item were purchased). This makes NARs more flexible for discovering relationships in datasets with numerical data. You can learn more about traditional association rules [here](./Association_Rules.ipynb). Through this link you can also find more information about support and confidence."
      ],
      "metadata": {
        "id": "I-Dkj0rLvQSw"
      }
    },
    {
      "cell_type": "markdown",
      "source": [
        "# Explore data"
      ],
      "metadata": {
        "id": "cRi8iDO9fVhF"
      }
    },
    {
      "cell_type": "markdown",
      "source": [
        "Let's have a look at the dataset:"
      ],
      "metadata": {
        "id": "PePcLGr9fuKf"
      }
    },
    {
      "cell_type": "code",
      "source": [
        "dataset = pd.read_csv('dog_breeds.csv')\n",
        "dataset"
      ],
      "metadata": {
        "colab": {
          "base_uri": "https://localhost:8080/",
          "height": 493
        },
        "id": "yvhSu4pIfxvQ",
        "outputId": "2692a93a-dcc5-4795-95cd-52e575ac3971"
      },
      "execution_count": null,
      "outputs": [
        {
          "output_type": "execute_result",
          "data": {
            "text/plain": [
              "                            Name       Origin          Type  Friendliness  \\\n",
              "0                  Affenpinscher      Germany           Toy             7   \n",
              "1                   Afghan Hound  Afghanistan         Hound             5   \n",
              "2               Airedale Terrier      England       Terrier             8   \n",
              "3                          Akita        Japan       Working             6   \n",
              "4               Alaskan Malamute   Alaska USA       Working             7   \n",
              "..                           ...          ...           ...           ...   \n",
              "154             Wire Fox Terrier      England       Terrier             7   \n",
              "155         Wirehaired Dachshund      Germany         Hound             7   \n",
              "156  Wirehaired Pointing Griffon  Netherlands      Sporting             7   \n",
              "157               Xoloitzcuintli       Mexico  Non-Sporting             7   \n",
              "158            Yorkshire Terrier      England           Toy             8   \n",
              "\n",
              "     Life Span  Size Grooming Needs  Exercise Requirements Good with Children  \\\n",
              "0           14     1           High                    1.5                Yes   \n",
              "1           13     3      Very High                    2.0                 No   \n",
              "2           12     2           High                    2.0                Yes   \n",
              "3           11     3       Moderate                    2.0      With Training   \n",
              "4           11     3           High                    3.0                Yes   \n",
              "..         ...   ...            ...                    ...                ...   \n",
              "154         14     1       Moderate                    2.0                Yes   \n",
              "155         13     1       Moderate                    1.5      With Training   \n",
              "156         13     2           High                    2.0                Yes   \n",
              "157         15     3            Low                    2.0      With Training   \n",
              "158         13     0           High                    1.0                Yes   \n",
              "\n",
              "     Intelligence   Shedding Health Issues Risk  Weight  Training Difficulty  \n",
              "0               8   Moderate                Low     4.0                    6  \n",
              "1               4       High           Moderate    25.0                    8  \n",
              "2               7   Moderate                Low    21.0                    6  \n",
              "3               7       High               High    45.0                    9  \n",
              "4               6  Very High           Moderate    36.0                    8  \n",
              "..            ...        ...                ...     ...                  ...  \n",
              "154             7   Moderate           Moderate     8.0                    7  \n",
              "155             7   Moderate               High     8.0                    7  \n",
              "156             7   Moderate           Moderate    20.0                    6  \n",
              "157             8        Low           Moderate    25.0                    6  \n",
              "158             7   Moderate           Moderate     2.5                    6  \n",
              "\n",
              "[159 rows x 14 columns]"
            ],
            "text/html": [
              "\n",
              "  <div id=\"df-aa8526f4-9bc0-4182-9fff-eddfe25f24af\" class=\"colab-df-container\">\n",
              "    <div>\n",
              "<style scoped>\n",
              "    .dataframe tbody tr th:only-of-type {\n",
              "        vertical-align: middle;\n",
              "    }\n",
              "\n",
              "    .dataframe tbody tr th {\n",
              "        vertical-align: top;\n",
              "    }\n",
              "\n",
              "    .dataframe thead th {\n",
              "        text-align: right;\n",
              "    }\n",
              "</style>\n",
              "<table border=\"1\" class=\"dataframe\">\n",
              "  <thead>\n",
              "    <tr style=\"text-align: right;\">\n",
              "      <th></th>\n",
              "      <th>Name</th>\n",
              "      <th>Origin</th>\n",
              "      <th>Type</th>\n",
              "      <th>Friendliness</th>\n",
              "      <th>Life Span</th>\n",
              "      <th>Size</th>\n",
              "      <th>Grooming Needs</th>\n",
              "      <th>Exercise Requirements</th>\n",
              "      <th>Good with Children</th>\n",
              "      <th>Intelligence</th>\n",
              "      <th>Shedding</th>\n",
              "      <th>Health Issues Risk</th>\n",
              "      <th>Weight</th>\n",
              "      <th>Training Difficulty</th>\n",
              "    </tr>\n",
              "  </thead>\n",
              "  <tbody>\n",
              "    <tr>\n",
              "      <th>0</th>\n",
              "      <td>Affenpinscher</td>\n",
              "      <td>Germany</td>\n",
              "      <td>Toy</td>\n",
              "      <td>7</td>\n",
              "      <td>14</td>\n",
              "      <td>1</td>\n",
              "      <td>High</td>\n",
              "      <td>1.5</td>\n",
              "      <td>Yes</td>\n",
              "      <td>8</td>\n",
              "      <td>Moderate</td>\n",
              "      <td>Low</td>\n",
              "      <td>4.0</td>\n",
              "      <td>6</td>\n",
              "    </tr>\n",
              "    <tr>\n",
              "      <th>1</th>\n",
              "      <td>Afghan Hound</td>\n",
              "      <td>Afghanistan</td>\n",
              "      <td>Hound</td>\n",
              "      <td>5</td>\n",
              "      <td>13</td>\n",
              "      <td>3</td>\n",
              "      <td>Very High</td>\n",
              "      <td>2.0</td>\n",
              "      <td>No</td>\n",
              "      <td>4</td>\n",
              "      <td>High</td>\n",
              "      <td>Moderate</td>\n",
              "      <td>25.0</td>\n",
              "      <td>8</td>\n",
              "    </tr>\n",
              "    <tr>\n",
              "      <th>2</th>\n",
              "      <td>Airedale Terrier</td>\n",
              "      <td>England</td>\n",
              "      <td>Terrier</td>\n",
              "      <td>8</td>\n",
              "      <td>12</td>\n",
              "      <td>2</td>\n",
              "      <td>High</td>\n",
              "      <td>2.0</td>\n",
              "      <td>Yes</td>\n",
              "      <td>7</td>\n",
              "      <td>Moderate</td>\n",
              "      <td>Low</td>\n",
              "      <td>21.0</td>\n",
              "      <td>6</td>\n",
              "    </tr>\n",
              "    <tr>\n",
              "      <th>3</th>\n",
              "      <td>Akita</td>\n",
              "      <td>Japan</td>\n",
              "      <td>Working</td>\n",
              "      <td>6</td>\n",
              "      <td>11</td>\n",
              "      <td>3</td>\n",
              "      <td>Moderate</td>\n",
              "      <td>2.0</td>\n",
              "      <td>With Training</td>\n",
              "      <td>7</td>\n",
              "      <td>High</td>\n",
              "      <td>High</td>\n",
              "      <td>45.0</td>\n",
              "      <td>9</td>\n",
              "    </tr>\n",
              "    <tr>\n",
              "      <th>4</th>\n",
              "      <td>Alaskan Malamute</td>\n",
              "      <td>Alaska USA</td>\n",
              "      <td>Working</td>\n",
              "      <td>7</td>\n",
              "      <td>11</td>\n",
              "      <td>3</td>\n",
              "      <td>High</td>\n",
              "      <td>3.0</td>\n",
              "      <td>Yes</td>\n",
              "      <td>6</td>\n",
              "      <td>Very High</td>\n",
              "      <td>Moderate</td>\n",
              "      <td>36.0</td>\n",
              "      <td>8</td>\n",
              "    </tr>\n",
              "    <tr>\n",
              "      <th>...</th>\n",
              "      <td>...</td>\n",
              "      <td>...</td>\n",
              "      <td>...</td>\n",
              "      <td>...</td>\n",
              "      <td>...</td>\n",
              "      <td>...</td>\n",
              "      <td>...</td>\n",
              "      <td>...</td>\n",
              "      <td>...</td>\n",
              "      <td>...</td>\n",
              "      <td>...</td>\n",
              "      <td>...</td>\n",
              "      <td>...</td>\n",
              "      <td>...</td>\n",
              "    </tr>\n",
              "    <tr>\n",
              "      <th>154</th>\n",
              "      <td>Wire Fox Terrier</td>\n",
              "      <td>England</td>\n",
              "      <td>Terrier</td>\n",
              "      <td>7</td>\n",
              "      <td>14</td>\n",
              "      <td>1</td>\n",
              "      <td>Moderate</td>\n",
              "      <td>2.0</td>\n",
              "      <td>Yes</td>\n",
              "      <td>7</td>\n",
              "      <td>Moderate</td>\n",
              "      <td>Moderate</td>\n",
              "      <td>8.0</td>\n",
              "      <td>7</td>\n",
              "    </tr>\n",
              "    <tr>\n",
              "      <th>155</th>\n",
              "      <td>Wirehaired Dachshund</td>\n",
              "      <td>Germany</td>\n",
              "      <td>Hound</td>\n",
              "      <td>7</td>\n",
              "      <td>13</td>\n",
              "      <td>1</td>\n",
              "      <td>Moderate</td>\n",
              "      <td>1.5</td>\n",
              "      <td>With Training</td>\n",
              "      <td>7</td>\n",
              "      <td>Moderate</td>\n",
              "      <td>High</td>\n",
              "      <td>8.0</td>\n",
              "      <td>7</td>\n",
              "    </tr>\n",
              "    <tr>\n",
              "      <th>156</th>\n",
              "      <td>Wirehaired Pointing Griffon</td>\n",
              "      <td>Netherlands</td>\n",
              "      <td>Sporting</td>\n",
              "      <td>7</td>\n",
              "      <td>13</td>\n",
              "      <td>2</td>\n",
              "      <td>High</td>\n",
              "      <td>2.0</td>\n",
              "      <td>Yes</td>\n",
              "      <td>7</td>\n",
              "      <td>Moderate</td>\n",
              "      <td>Moderate</td>\n",
              "      <td>20.0</td>\n",
              "      <td>6</td>\n",
              "    </tr>\n",
              "    <tr>\n",
              "      <th>157</th>\n",
              "      <td>Xoloitzcuintli</td>\n",
              "      <td>Mexico</td>\n",
              "      <td>Non-Sporting</td>\n",
              "      <td>7</td>\n",
              "      <td>15</td>\n",
              "      <td>3</td>\n",
              "      <td>Low</td>\n",
              "      <td>2.0</td>\n",
              "      <td>With Training</td>\n",
              "      <td>8</td>\n",
              "      <td>Low</td>\n",
              "      <td>Moderate</td>\n",
              "      <td>25.0</td>\n",
              "      <td>6</td>\n",
              "    </tr>\n",
              "    <tr>\n",
              "      <th>158</th>\n",
              "      <td>Yorkshire Terrier</td>\n",
              "      <td>England</td>\n",
              "      <td>Toy</td>\n",
              "      <td>8</td>\n",
              "      <td>13</td>\n",
              "      <td>0</td>\n",
              "      <td>High</td>\n",
              "      <td>1.0</td>\n",
              "      <td>Yes</td>\n",
              "      <td>7</td>\n",
              "      <td>Moderate</td>\n",
              "      <td>Moderate</td>\n",
              "      <td>2.5</td>\n",
              "      <td>6</td>\n",
              "    </tr>\n",
              "  </tbody>\n",
              "</table>\n",
              "<p>159 rows × 14 columns</p>\n",
              "</div>\n",
              "    <div class=\"colab-df-buttons\">\n",
              "\n",
              "  <div class=\"colab-df-container\">\n",
              "    <button class=\"colab-df-convert\" onclick=\"convertToInteractive('df-aa8526f4-9bc0-4182-9fff-eddfe25f24af')\"\n",
              "            title=\"Convert this dataframe to an interactive table.\"\n",
              "            style=\"display:none;\">\n",
              "\n",
              "  <svg xmlns=\"http://www.w3.org/2000/svg\" height=\"24px\" viewBox=\"0 -960 960 960\">\n",
              "    <path d=\"M120-120v-720h720v720H120Zm60-500h600v-160H180v160Zm220 220h160v-160H400v160Zm0 220h160v-160H400v160ZM180-400h160v-160H180v160Zm440 0h160v-160H620v160ZM180-180h160v-160H180v160Zm440 0h160v-160H620v160Z\"/>\n",
              "  </svg>\n",
              "    </button>\n",
              "\n",
              "  <style>\n",
              "    .colab-df-container {\n",
              "      display:flex;\n",
              "      gap: 12px;\n",
              "    }\n",
              "\n",
              "    .colab-df-convert {\n",
              "      background-color: #E8F0FE;\n",
              "      border: none;\n",
              "      border-radius: 50%;\n",
              "      cursor: pointer;\n",
              "      display: none;\n",
              "      fill: #1967D2;\n",
              "      height: 32px;\n",
              "      padding: 0 0 0 0;\n",
              "      width: 32px;\n",
              "    }\n",
              "\n",
              "    .colab-df-convert:hover {\n",
              "      background-color: #E2EBFA;\n",
              "      box-shadow: 0px 1px 2px rgba(60, 64, 67, 0.3), 0px 1px 3px 1px rgba(60, 64, 67, 0.15);\n",
              "      fill: #174EA6;\n",
              "    }\n",
              "\n",
              "    .colab-df-buttons div {\n",
              "      margin-bottom: 4px;\n",
              "    }\n",
              "\n",
              "    [theme=dark] .colab-df-convert {\n",
              "      background-color: #3B4455;\n",
              "      fill: #D2E3FC;\n",
              "    }\n",
              "\n",
              "    [theme=dark] .colab-df-convert:hover {\n",
              "      background-color: #434B5C;\n",
              "      box-shadow: 0px 1px 3px 1px rgba(0, 0, 0, 0.15);\n",
              "      filter: drop-shadow(0px 1px 2px rgba(0, 0, 0, 0.3));\n",
              "      fill: #FFFFFF;\n",
              "    }\n",
              "  </style>\n",
              "\n",
              "    <script>\n",
              "      const buttonEl =\n",
              "        document.querySelector('#df-aa8526f4-9bc0-4182-9fff-eddfe25f24af button.colab-df-convert');\n",
              "      buttonEl.style.display =\n",
              "        google.colab.kernel.accessAllowed ? 'block' : 'none';\n",
              "\n",
              "      async function convertToInteractive(key) {\n",
              "        const element = document.querySelector('#df-aa8526f4-9bc0-4182-9fff-eddfe25f24af');\n",
              "        const dataTable =\n",
              "          await google.colab.kernel.invokeFunction('convertToInteractive',\n",
              "                                                    [key], {});\n",
              "        if (!dataTable) return;\n",
              "\n",
              "        const docLinkHtml = 'Like what you see? Visit the ' +\n",
              "          '<a target=\"_blank\" href=https://colab.research.google.com/notebooks/data_table.ipynb>data table notebook</a>'\n",
              "          + ' to learn more about interactive tables.';\n",
              "        element.innerHTML = '';\n",
              "        dataTable['output_type'] = 'display_data';\n",
              "        await google.colab.output.renderOutput(dataTable, element);\n",
              "        const docLink = document.createElement('div');\n",
              "        docLink.innerHTML = docLinkHtml;\n",
              "        element.appendChild(docLink);\n",
              "      }\n",
              "    </script>\n",
              "  </div>\n",
              "\n",
              "\n",
              "<div id=\"df-88aac1d6-6c91-4aa1-b893-9d1a34dc7e29\">\n",
              "  <button class=\"colab-df-quickchart\" onclick=\"quickchart('df-88aac1d6-6c91-4aa1-b893-9d1a34dc7e29')\"\n",
              "            title=\"Suggest charts\"\n",
              "            style=\"display:none;\">\n",
              "\n",
              "<svg xmlns=\"http://www.w3.org/2000/svg\" height=\"24px\"viewBox=\"0 0 24 24\"\n",
              "     width=\"24px\">\n",
              "    <g>\n",
              "        <path d=\"M19 3H5c-1.1 0-2 .9-2 2v14c0 1.1.9 2 2 2h14c1.1 0 2-.9 2-2V5c0-1.1-.9-2-2-2zM9 17H7v-7h2v7zm4 0h-2V7h2v10zm4 0h-2v-4h2v4z\"/>\n",
              "    </g>\n",
              "</svg>\n",
              "  </button>\n",
              "\n",
              "<style>\n",
              "  .colab-df-quickchart {\n",
              "      --bg-color: #E8F0FE;\n",
              "      --fill-color: #1967D2;\n",
              "      --hover-bg-color: #E2EBFA;\n",
              "      --hover-fill-color: #174EA6;\n",
              "      --disabled-fill-color: #AAA;\n",
              "      --disabled-bg-color: #DDD;\n",
              "  }\n",
              "\n",
              "  [theme=dark] .colab-df-quickchart {\n",
              "      --bg-color: #3B4455;\n",
              "      --fill-color: #D2E3FC;\n",
              "      --hover-bg-color: #434B5C;\n",
              "      --hover-fill-color: #FFFFFF;\n",
              "      --disabled-bg-color: #3B4455;\n",
              "      --disabled-fill-color: #666;\n",
              "  }\n",
              "\n",
              "  .colab-df-quickchart {\n",
              "    background-color: var(--bg-color);\n",
              "    border: none;\n",
              "    border-radius: 50%;\n",
              "    cursor: pointer;\n",
              "    display: none;\n",
              "    fill: var(--fill-color);\n",
              "    height: 32px;\n",
              "    padding: 0;\n",
              "    width: 32px;\n",
              "  }\n",
              "\n",
              "  .colab-df-quickchart:hover {\n",
              "    background-color: var(--hover-bg-color);\n",
              "    box-shadow: 0 1px 2px rgba(60, 64, 67, 0.3), 0 1px 3px 1px rgba(60, 64, 67, 0.15);\n",
              "    fill: var(--button-hover-fill-color);\n",
              "  }\n",
              "\n",
              "  .colab-df-quickchart-complete:disabled,\n",
              "  .colab-df-quickchart-complete:disabled:hover {\n",
              "    background-color: var(--disabled-bg-color);\n",
              "    fill: var(--disabled-fill-color);\n",
              "    box-shadow: none;\n",
              "  }\n",
              "\n",
              "  .colab-df-spinner {\n",
              "    border: 2px solid var(--fill-color);\n",
              "    border-color: transparent;\n",
              "    border-bottom-color: var(--fill-color);\n",
              "    animation:\n",
              "      spin 1s steps(1) infinite;\n",
              "  }\n",
              "\n",
              "  @keyframes spin {\n",
              "    0% {\n",
              "      border-color: transparent;\n",
              "      border-bottom-color: var(--fill-color);\n",
              "      border-left-color: var(--fill-color);\n",
              "    }\n",
              "    20% {\n",
              "      border-color: transparent;\n",
              "      border-left-color: var(--fill-color);\n",
              "      border-top-color: var(--fill-color);\n",
              "    }\n",
              "    30% {\n",
              "      border-color: transparent;\n",
              "      border-left-color: var(--fill-color);\n",
              "      border-top-color: var(--fill-color);\n",
              "      border-right-color: var(--fill-color);\n",
              "    }\n",
              "    40% {\n",
              "      border-color: transparent;\n",
              "      border-right-color: var(--fill-color);\n",
              "      border-top-color: var(--fill-color);\n",
              "    }\n",
              "    60% {\n",
              "      border-color: transparent;\n",
              "      border-right-color: var(--fill-color);\n",
              "    }\n",
              "    80% {\n",
              "      border-color: transparent;\n",
              "      border-right-color: var(--fill-color);\n",
              "      border-bottom-color: var(--fill-color);\n",
              "    }\n",
              "    90% {\n",
              "      border-color: transparent;\n",
              "      border-bottom-color: var(--fill-color);\n",
              "    }\n",
              "  }\n",
              "</style>\n",
              "\n",
              "  <script>\n",
              "    async function quickchart(key) {\n",
              "      const quickchartButtonEl =\n",
              "        document.querySelector('#' + key + ' button');\n",
              "      quickchartButtonEl.disabled = true;  // To prevent multiple clicks.\n",
              "      quickchartButtonEl.classList.add('colab-df-spinner');\n",
              "      try {\n",
              "        const charts = await google.colab.kernel.invokeFunction(\n",
              "            'suggestCharts', [key], {});\n",
              "      } catch (error) {\n",
              "        console.error('Error during call to suggestCharts:', error);\n",
              "      }\n",
              "      quickchartButtonEl.classList.remove('colab-df-spinner');\n",
              "      quickchartButtonEl.classList.add('colab-df-quickchart-complete');\n",
              "    }\n",
              "    (() => {\n",
              "      let quickchartButtonEl =\n",
              "        document.querySelector('#df-88aac1d6-6c91-4aa1-b893-9d1a34dc7e29 button');\n",
              "      quickchartButtonEl.style.display =\n",
              "        google.colab.kernel.accessAllowed ? 'block' : 'none';\n",
              "    })();\n",
              "  </script>\n",
              "</div>\n",
              "    </div>\n",
              "  </div>\n"
            ],
            "application/vnd.google.colaboratory.intrinsic+json": {
              "type": "dataframe",
              "variable_name": "dataset",
              "summary": "{\n  \"name\": \"dataset\",\n  \"rows\": 159,\n  \"fields\": [\n    {\n      \"column\": \"Name\",\n      \"properties\": {\n        \"dtype\": \"string\",\n        \"num_unique_values\": 159,\n        \"samples\": [\n          \"Irish Water Spaniel\",\n          \"Wirehaired Dachshund\",\n          \"Scottish Deerhound\"\n        ],\n        \"semantic_type\": \"\",\n        \"description\": \"\"\n      }\n    },\n    {\n      \"column\": \"Origin\",\n      \"properties\": {\n        \"dtype\": \"category\",\n        \"num_unique_values\": 40,\n        \"samples\": [\n          \"China\",\n          \"Italy\",\n          \"Israel\"\n        ],\n        \"semantic_type\": \"\",\n        \"description\": \"\"\n      }\n    },\n    {\n      \"column\": \"Type\",\n      \"properties\": {\n        \"dtype\": \"category\",\n        \"num_unique_values\": 8,\n        \"samples\": [\n          \"Hound\",\n          \"Herding\",\n          \"Toy\"\n        ],\n        \"semantic_type\": \"\",\n        \"description\": \"\"\n      }\n    },\n    {\n      \"column\": \"Friendliness\",\n      \"properties\": {\n        \"dtype\": \"number\",\n        \"std\": 0,\n        \"min\": 5,\n        \"max\": 10,\n        \"num_unique_values\": 6,\n        \"samples\": [\n          7,\n          5,\n          10\n        ],\n        \"semantic_type\": \"\",\n        \"description\": \"\"\n      }\n    },\n    {\n      \"column\": \"Life Span\",\n      \"properties\": {\n        \"dtype\": \"number\",\n        \"std\": 1,\n        \"min\": 7,\n        \"max\": 16,\n        \"num_unique_values\": 10,\n        \"samples\": [\n          7,\n          13,\n          9\n        ],\n        \"semantic_type\": \"\",\n        \"description\": \"\"\n      }\n    },\n    {\n      \"column\": \"Size\",\n      \"properties\": {\n        \"dtype\": \"number\",\n        \"std\": 0,\n        \"min\": 0,\n        \"max\": 4,\n        \"num_unique_values\": 5,\n        \"samples\": [\n          3,\n          0,\n          2\n        ],\n        \"semantic_type\": \"\",\n        \"description\": \"\"\n      }\n    },\n    {\n      \"column\": \"Grooming Needs\",\n      \"properties\": {\n        \"dtype\": \"category\",\n        \"num_unique_values\": 4,\n        \"samples\": [\n          \"Very High\",\n          \"Low\",\n          \"High\"\n        ],\n        \"semantic_type\": \"\",\n        \"description\": \"\"\n      }\n    },\n    {\n      \"column\": \"Exercise Requirements\",\n      \"properties\": {\n        \"dtype\": \"number\",\n        \"std\": 0.45052137440644263,\n        \"min\": 1.0,\n        \"max\": 3.0,\n        \"num_unique_values\": 5,\n        \"samples\": [\n          2.0,\n          1.0,\n          3.0\n        ],\n        \"semantic_type\": \"\",\n        \"description\": \"\"\n      }\n    },\n    {\n      \"column\": \"Good with Children\",\n      \"properties\": {\n        \"dtype\": \"category\",\n        \"num_unique_values\": 3,\n        \"samples\": [\n          \"Yes\",\n          \"No\",\n          \"With Training\"\n        ],\n        \"semantic_type\": \"\",\n        \"description\": \"\"\n      }\n    },\n    {\n      \"column\": \"Intelligence\",\n      \"properties\": {\n        \"dtype\": \"number\",\n        \"std\": 0,\n        \"min\": 4,\n        \"max\": 10,\n        \"num_unique_values\": 7,\n        \"samples\": [\n          8,\n          4,\n          5\n        ],\n        \"semantic_type\": \"\",\n        \"description\": \"\"\n      }\n    },\n    {\n      \"column\": \"Shedding\",\n      \"properties\": {\n        \"dtype\": \"category\",\n        \"num_unique_values\": 4,\n        \"samples\": [\n          \"High\",\n          \"Low\",\n          \"Moderate\"\n        ],\n        \"semantic_type\": \"\",\n        \"description\": \"\"\n      }\n    },\n    {\n      \"column\": \"Health Issues Risk\",\n      \"properties\": {\n        \"dtype\": \"category\",\n        \"num_unique_values\": 3,\n        \"samples\": [\n          \"Low\",\n          \"Moderate\",\n          \"High\"\n        ],\n        \"semantic_type\": \"\",\n        \"description\": \"\"\n      }\n    },\n    {\n      \"column\": \"Weight\",\n      \"properties\": {\n        \"dtype\": \"number\",\n        \"std\": 15.980682550874226,\n        \"min\": 2.0,\n        \"max\": 78.0,\n        \"num_unique_values\": 52,\n        \"samples\": [\n          34.0,\n          61.0,\n          78.0\n        ],\n        \"semantic_type\": \"\",\n        \"description\": \"\"\n      }\n    },\n    {\n      \"column\": \"Training Difficulty\",\n      \"properties\": {\n        \"dtype\": \"number\",\n        \"std\": 0,\n        \"min\": 4,\n        \"max\": 9,\n        \"num_unique_values\": 6,\n        \"samples\": [\n          6,\n          8,\n          4\n        ],\n        \"semantic_type\": \"\",\n        \"description\": \"\"\n      }\n    }\n  ]\n}"
            }
          },
          "metadata": {},
          "execution_count": 4
        }
      ]
    },
    {
      "cell_type": "markdown",
      "source": [
        "The dataset contains information about 159 dog breeds. Now, let's discover NARs in this table."
      ],
      "metadata": {
        "id": "nmY1inXqgAWm"
      }
    },
    {
      "cell_type": "markdown",
      "source": [
        "# Find numerical association rules"
      ],
      "metadata": {
        "id": "16WcNf41g8NA"
      }
    },
    {
      "cell_type": "markdown",
      "source": [
        "Desbordante implements an algorithm called \"Differential Evolution Solver\" (DES). It is a nature-inspired stochastic optimization algorithm that imitates the evolution process for NARs."
      ],
      "metadata": {
        "id": "1ArUv48hg_t2"
      }
    },
    {
      "cell_type": "markdown",
      "source": [
        "We will use a minimum support of 0.1 and a minimum confidence of 0.7. We will also use a population size of 500 and max_fitness_evaluations of 700. Larger values for max_fitness_evaluations tend to return larger rules encompassing more attributes. The population size parameter affects the number of NARs being generated and mutated. Larger values are slower but output more NARs.\n",
        "\n",
        "Finally, as the DES algorithm is a randomized one, we need to set the seed parameter to the specially-selected value in order:\n",
        "\n",
        "1.   to present you an interesting and illustrative example of NAR and,\n",
        "2.   to ensure the repeatability of this example (i.e., that NAR found stays the same over different runs)\n",
        "\n",
        "\n",
        "Note that if you do not set the seed parameter, the default value would be used."
      ],
      "metadata": {
        "id": "oAC8lWH3iaSk"
      }
    },
    {
      "cell_type": "markdown",
      "source": [
        "Now, let's find NARs with Desbordante:"
      ],
      "metadata": {
        "id": "SS-vcNR1hDDB"
      }
    },
    {
      "cell_type": "code",
      "source": [
        "algo = desbordante.nar.algorithms.DES()\n",
        "algo.load_data(table=dataset)\n",
        "algo.execute(minconf=0.7, minsup=0.1, population_size=500, seed=5854,\n",
        "             max_fitness_evaluations=700)\n",
        "nars = algo.get_nars()\n",
        "for nar in nars:\n",
        "  print(nar)"
      ],
      "metadata": {
        "colab": {
          "base_uri": "https://localhost:8080/"
        },
        "id": "cbZcilfMhWcK",
        "outputId": "44f3b20e-b03d-4661-d52d-9dcf58dbe361"
      },
      "execution_count": null,
      "outputs": [
        {
          "output_type": "stream",
          "name": "stdout",
          "text": [
            "{7: [1.506209 - 2.725071], 8: [With Training]} ===> {9: [4 - 9], 12: [3.956433 - 71.077742]}\n",
            "{2: [Hound]} ===> {9: [5 - 8], 3: [5 - 9]}\n"
          ]
        }
      ]
    },
    {
      "cell_type": "markdown",
      "source": [
        "The DES algorithm has found two NARs!"
      ],
      "metadata": {
        "id": "_63JaqmviKp0"
      }
    },
    {
      "cell_type": "markdown",
      "source": [
        "Let's print the second NAR in a more beautiful way:"
      ],
      "metadata": {
        "id": "428uzgEwoRV3"
      }
    },
    {
      "cell_type": "code",
      "source": [
        "DOWN_ARROW = \"      |\\n      |\\n      V\"\n",
        "\n",
        "def print_rule_part(rule_part, columns):\n",
        "    for column_index, value in rule_part.items():\n",
        "        print(f'{columns[column_index]}{value}')\n",
        "\n",
        "def print_nar(nar, df_columns):\n",
        "    print_rule_part(nar.ante, df_columns)\n",
        "    print(DOWN_ARROW)\n",
        "    print_rule_part(nar.cons, df_columns)\n",
        "    print(f\"   support = {nar.support}\")\n",
        "    print(f\"   confidence = {nar.confidence}\")\n",
        "\n",
        "print_nar(nars[1],dataset.columns)"
      ],
      "metadata": {
        "colab": {
          "base_uri": "https://localhost:8080/"
        },
        "id": "XSzyHYiijEqU",
        "outputId": "1ffaf396-0c79-4ce0-aa5d-dc6e7774ad29"
      },
      "execution_count": null,
      "outputs": [
        {
          "output_type": "stream",
          "name": "stdout",
          "text": [
            "Type[Hound]\n",
            "      |\n",
            "      |\n",
            "      V\n",
            "Intelligence[5 - 8]\n",
            "Friendliness[5 - 9]\n",
            "   support = 0.16352201257861634\n",
            "   confidence = 0.9629629629629629\n"
          ]
        }
      ]
    },
    {
      "cell_type": "markdown",
      "source": [
        "The above NAR states that about 96% of all dog breeds of type 'Hound' have an intelligence rating between 5 and 8 out of 10 and have a friendliness rating between 5 and 9 out of 10. This suggests that, in general, hounds are intelligent dogs and are mostly friendly. Let's see if that is true:"
      ],
      "metadata": {
        "id": "8OA_oMBpjWh-"
      }
    },
    {
      "cell_type": "code",
      "source": [
        "example_nar = nars[1]\n",
        "min_intelligence = example_nar.cons[9].lower_bound\n",
        "max_intelligence = example_nar.cons[9].upper_bound\n",
        "min_friendliness = example_nar.cons[3].lower_bound\n",
        "max_friendliness = example_nar.cons[3].upper_bound\n",
        "\n",
        "def color_cells(x):\n",
        "  df1=pd.DataFrame('',index=x.index,columns=x.columns)\n",
        "  for i, (_, row) in enumerate(x.iterrows()):\n",
        "    intelligence = row['Intelligence']\n",
        "    friendliness = row['Friendliness']\n",
        "    if (intelligence < min_intelligence or intelligence > max_intelligence or\n",
        "        friendliness < min_friendliness or friendliness > max_friendliness):\n",
        "      df1.iloc[i,0]='background-color:red;color:white;font-weight:bold'\n",
        "      df1.iloc[i,1]='background-color:red;color:white;font-weight:bold'\n",
        "      df1.iloc[i,2]='background-color:red;color:white;font-weight:bold'\n",
        "      df1.iloc[i,3]='background-color:red;color:white;font-weight:bold'\n",
        "  return df1\n",
        "\n",
        "hound_rows = dataset[dataset['Type'] == 'Hound']\n",
        "hound_rows = hound_rows[['Name','Type','Intelligence','Friendliness']]\n",
        "hound_rows.style.apply(color_cells,axis=None)"
      ],
      "metadata": {
        "colab": {
          "base_uri": "https://localhost:8080/",
          "height": 896
        },
        "id": "8P0gD7_VkS9i",
        "outputId": "87d0fce7-3860-495e-e569-22cda0bf0d32"
      },
      "execution_count": null,
      "outputs": [
        {
          "output_type": "execute_result",
          "data": {
            "text/plain": [
              "<pandas.io.formats.style.Styler at 0x7bddd762c090>"
            ],
            "text/html": [
              "<style type=\"text/css\">\n",
              "#T_03744_row0_col0, #T_03744_row0_col1, #T_03744_row0_col2, #T_03744_row0_col3 {\n",
              "  background-color: red;\n",
              "  color: white;\n",
              "  font-weight: bold;\n",
              "}\n",
              "</style>\n",
              "<table id=\"T_03744\" class=\"dataframe\">\n",
              "  <thead>\n",
              "    <tr>\n",
              "      <th class=\"blank level0\" >&nbsp;</th>\n",
              "      <th id=\"T_03744_level0_col0\" class=\"col_heading level0 col0\" >Name</th>\n",
              "      <th id=\"T_03744_level0_col1\" class=\"col_heading level0 col1\" >Type</th>\n",
              "      <th id=\"T_03744_level0_col2\" class=\"col_heading level0 col2\" >Intelligence</th>\n",
              "      <th id=\"T_03744_level0_col3\" class=\"col_heading level0 col3\" >Friendliness</th>\n",
              "    </tr>\n",
              "  </thead>\n",
              "  <tbody>\n",
              "    <tr>\n",
              "      <th id=\"T_03744_level0_row0\" class=\"row_heading level0 row0\" >1</th>\n",
              "      <td id=\"T_03744_row0_col0\" class=\"data row0 col0\" >Afghan Hound</td>\n",
              "      <td id=\"T_03744_row0_col1\" class=\"data row0 col1\" >Hound</td>\n",
              "      <td id=\"T_03744_row0_col2\" class=\"data row0 col2\" >4</td>\n",
              "      <td id=\"T_03744_row0_col3\" class=\"data row0 col3\" >5</td>\n",
              "    </tr>\n",
              "    <tr>\n",
              "      <th id=\"T_03744_level0_row1\" class=\"row_heading level0 row1\" >7</th>\n",
              "      <td id=\"T_03744_row1_col0\" class=\"data row1 col0\" >American Foxhound</td>\n",
              "      <td id=\"T_03744_row1_col1\" class=\"data row1 col1\" >Hound</td>\n",
              "      <td id=\"T_03744_row1_col2\" class=\"data row1 col2\" >6</td>\n",
              "      <td id=\"T_03744_row1_col3\" class=\"data row1 col3\" >8</td>\n",
              "    </tr>\n",
              "    <tr>\n",
              "      <th id=\"T_03744_level0_row2\" class=\"row_heading level0 row2\" >11</th>\n",
              "      <td id=\"T_03744_row2_col0\" class=\"data row2 col0\" >Basenji</td>\n",
              "      <td id=\"T_03744_row2_col1\" class=\"data row2 col1\" >Hound</td>\n",
              "      <td id=\"T_03744_row2_col2\" class=\"data row2 col2\" >6</td>\n",
              "      <td id=\"T_03744_row2_col3\" class=\"data row2 col3\" >6</td>\n",
              "    </tr>\n",
              "    <tr>\n",
              "      <th id=\"T_03744_level0_row3\" class=\"row_heading level0 row3\" >12</th>\n",
              "      <td id=\"T_03744_row3_col0\" class=\"data row3 col0\" >Basset Hound</td>\n",
              "      <td id=\"T_03744_row3_col1\" class=\"data row3 col1\" >Hound</td>\n",
              "      <td id=\"T_03744_row3_col2\" class=\"data row3 col2\" >5</td>\n",
              "      <td id=\"T_03744_row3_col3\" class=\"data row3 col3\" >8</td>\n",
              "    </tr>\n",
              "    <tr>\n",
              "      <th id=\"T_03744_level0_row4\" class=\"row_heading level0 row4\" >13</th>\n",
              "      <td id=\"T_03744_row4_col0\" class=\"data row4 col0\" >Beagle</td>\n",
              "      <td id=\"T_03744_row4_col1\" class=\"data row4 col1\" >Hound</td>\n",
              "      <td id=\"T_03744_row4_col2\" class=\"data row4 col2\" >7</td>\n",
              "      <td id=\"T_03744_row4_col3\" class=\"data row4 col3\" >9</td>\n",
              "    </tr>\n",
              "    <tr>\n",
              "      <th id=\"T_03744_level0_row5\" class=\"row_heading level0 row5\" >18</th>\n",
              "      <td id=\"T_03744_row5_col0\" class=\"data row5 col0\" >Bloodhound</td>\n",
              "      <td id=\"T_03744_row5_col1\" class=\"data row5 col1\" >Hound</td>\n",
              "      <td id=\"T_03744_row5_col2\" class=\"data row5 col2\" >6</td>\n",
              "      <td id=\"T_03744_row5_col3\" class=\"data row5 col3\" >7</td>\n",
              "    </tr>\n",
              "    <tr>\n",
              "      <th id=\"T_03744_level0_row6\" class=\"row_heading level0 row6\" >21</th>\n",
              "      <td id=\"T_03744_row6_col0\" class=\"data row6 col0\" >Borzoi</td>\n",
              "      <td id=\"T_03744_row6_col1\" class=\"data row6 col1\" >Hound</td>\n",
              "      <td id=\"T_03744_row6_col2\" class=\"data row6 col2\" >6</td>\n",
              "      <td id=\"T_03744_row6_col3\" class=\"data row6 col3\" >6</td>\n",
              "    </tr>\n",
              "    <tr>\n",
              "      <th id=\"T_03744_level0_row7\" class=\"row_heading level0 row7\" >44</th>\n",
              "      <td id=\"T_03744_row7_col0\" class=\"data row7 col0\" >Dachshund</td>\n",
              "      <td id=\"T_03744_row7_col1\" class=\"data row7 col1\" >Hound</td>\n",
              "      <td id=\"T_03744_row7_col2\" class=\"data row7 col2\" >7</td>\n",
              "      <td id=\"T_03744_row7_col3\" class=\"data row7 col3\" >7</td>\n",
              "    </tr>\n",
              "    <tr>\n",
              "      <th id=\"T_03744_level0_row8\" class=\"row_heading level0 row8\" >50</th>\n",
              "      <td id=\"T_03744_row8_col0\" class=\"data row8 col0\" >English Foxhound</td>\n",
              "      <td id=\"T_03744_row8_col1\" class=\"data row8 col1\" >Hound</td>\n",
              "      <td id=\"T_03744_row8_col2\" class=\"data row8 col2\" >6</td>\n",
              "      <td id=\"T_03744_row8_col3\" class=\"data row8 col3\" >7</td>\n",
              "    </tr>\n",
              "    <tr>\n",
              "      <th id=\"T_03744_level0_row9\" class=\"row_heading level0 row9\" >70</th>\n",
              "      <td id=\"T_03744_row9_col0\" class=\"data row9 col0\" >Greyhound</td>\n",
              "      <td id=\"T_03744_row9_col1\" class=\"data row9 col1\" >Hound</td>\n",
              "      <td id=\"T_03744_row9_col2\" class=\"data row9 col2\" >7</td>\n",
              "      <td id=\"T_03744_row9_col3\" class=\"data row9 col3\" >7</td>\n",
              "    </tr>\n",
              "    <tr>\n",
              "      <th id=\"T_03744_level0_row10\" class=\"row_heading level0 row10\" >71</th>\n",
              "      <td id=\"T_03744_row10_col0\" class=\"data row10 col0\" >Harrier</td>\n",
              "      <td id=\"T_03744_row10_col1\" class=\"data row10 col1\" >Hound</td>\n",
              "      <td id=\"T_03744_row10_col2\" class=\"data row10 col2\" >6</td>\n",
              "      <td id=\"T_03744_row10_col3\" class=\"data row10 col3\" >8</td>\n",
              "    </tr>\n",
              "    <tr>\n",
              "      <th id=\"T_03744_level0_row11\" class=\"row_heading level0 row11\" >73</th>\n",
              "      <td id=\"T_03744_row11_col0\" class=\"data row11 col0\" >Ibizan Hound</td>\n",
              "      <td id=\"T_03744_row11_col1\" class=\"data row11 col1\" >Hound</td>\n",
              "      <td id=\"T_03744_row11_col2\" class=\"data row11 col2\" >7</td>\n",
              "      <td id=\"T_03744_row11_col3\" class=\"data row11 col3\" >7</td>\n",
              "    </tr>\n",
              "    <tr>\n",
              "      <th id=\"T_03744_level0_row12\" class=\"row_heading level0 row12\" >79</th>\n",
              "      <td id=\"T_03744_row12_col0\" class=\"data row12 col0\" >Irish Wolfhound</td>\n",
              "      <td id=\"T_03744_row12_col1\" class=\"data row12 col1\" >Hound</td>\n",
              "      <td id=\"T_03744_row12_col2\" class=\"data row12 col2\" >6</td>\n",
              "      <td id=\"T_03744_row12_col3\" class=\"data row12 col3\" >7</td>\n",
              "    </tr>\n",
              "    <tr>\n",
              "      <th id=\"T_03744_level0_row13\" class=\"row_heading level0 row13\" >101</th>\n",
              "      <td id=\"T_03744_row13_col0\" class=\"data row13 col0\" >Norwegian Elkhound</td>\n",
              "      <td id=\"T_03744_row13_col1\" class=\"data row13 col1\" >Hound</td>\n",
              "      <td id=\"T_03744_row13_col2\" class=\"data row13 col2\" >7</td>\n",
              "      <td id=\"T_03744_row13_col3\" class=\"data row13 col3\" >7</td>\n",
              "    </tr>\n",
              "    <tr>\n",
              "      <th id=\"T_03744_level0_row14\" class=\"row_heading level0 row14\" >104</th>\n",
              "      <td id=\"T_03744_row14_col0\" class=\"data row14 col0\" >Otterhound</td>\n",
              "      <td id=\"T_03744_row14_col1\" class=\"data row14 col1\" >Hound</td>\n",
              "      <td id=\"T_03744_row14_col2\" class=\"data row14 col2\" >6</td>\n",
              "      <td id=\"T_03744_row14_col3\" class=\"data row14 col3\" >7</td>\n",
              "    </tr>\n",
              "    <tr>\n",
              "      <th id=\"T_03744_level0_row15\" class=\"row_heading level0 row15\" >108</th>\n",
              "      <td id=\"T_03744_row15_col0\" class=\"data row15 col0\" >Petit Basset Griffon Vendeen</td>\n",
              "      <td id=\"T_03744_row15_col1\" class=\"data row15 col1\" >Hound</td>\n",
              "      <td id=\"T_03744_row15_col2\" class=\"data row15 col2\" >6</td>\n",
              "      <td id=\"T_03744_row15_col3\" class=\"data row15 col3\" >7</td>\n",
              "    </tr>\n",
              "    <tr>\n",
              "      <th id=\"T_03744_level0_row16\" class=\"row_heading level0 row16\" >109</th>\n",
              "      <td id=\"T_03744_row16_col0\" class=\"data row16 col0\" >Pharaoh Hound</td>\n",
              "      <td id=\"T_03744_row16_col1\" class=\"data row16 col1\" >Hound</td>\n",
              "      <td id=\"T_03744_row16_col2\" class=\"data row16 col2\" >8</td>\n",
              "      <td id=\"T_03744_row16_col3\" class=\"data row16 col3\" >7</td>\n",
              "    </tr>\n",
              "    <tr>\n",
              "      <th id=\"T_03744_level0_row17\" class=\"row_heading level0 row17\" >115</th>\n",
              "      <td id=\"T_03744_row17_col0\" class=\"data row17 col0\" >Portuguese Podengo</td>\n",
              "      <td id=\"T_03744_row17_col1\" class=\"data row17 col1\" >Hound</td>\n",
              "      <td id=\"T_03744_row17_col2\" class=\"data row17 col2\" >8</td>\n",
              "      <td id=\"T_03744_row17_col3\" class=\"data row17 col3\" >7</td>\n",
              "    </tr>\n",
              "    <tr>\n",
              "      <th id=\"T_03744_level0_row18\" class=\"row_heading level0 row18\" >121</th>\n",
              "      <td id=\"T_03744_row18_col0\" class=\"data row18 col0\" >Redbone Coonhound</td>\n",
              "      <td id=\"T_03744_row18_col1\" class=\"data row18 col1\" >Hound</td>\n",
              "      <td id=\"T_03744_row18_col2\" class=\"data row18 col2\" >6</td>\n",
              "      <td id=\"T_03744_row18_col3\" class=\"data row18 col3\" >8</td>\n",
              "    </tr>\n",
              "    <tr>\n",
              "      <th id=\"T_03744_level0_row19\" class=\"row_heading level0 row19\" >122</th>\n",
              "      <td id=\"T_03744_row19_col0\" class=\"data row19 col0\" >Rhodesian Ridgeback</td>\n",
              "      <td id=\"T_03744_row19_col1\" class=\"data row19 col1\" >Hound</td>\n",
              "      <td id=\"T_03744_row19_col2\" class=\"data row19 col2\" >8</td>\n",
              "      <td id=\"T_03744_row19_col3\" class=\"data row19 col3\" >6</td>\n",
              "    </tr>\n",
              "    <tr>\n",
              "      <th id=\"T_03744_level0_row20\" class=\"row_heading level0 row20\" >125</th>\n",
              "      <td id=\"T_03744_row20_col0\" class=\"data row20 col0\" >Saluki</td>\n",
              "      <td id=\"T_03744_row20_col1\" class=\"data row20 col1\" >Hound</td>\n",
              "      <td id=\"T_03744_row20_col2\" class=\"data row20 col2\" >7</td>\n",
              "      <td id=\"T_03744_row20_col3\" class=\"data row20 col3\" >6</td>\n",
              "    </tr>\n",
              "    <tr>\n",
              "      <th id=\"T_03744_level0_row21\" class=\"row_heading level0 row21\" >128</th>\n",
              "      <td id=\"T_03744_row21_col0\" class=\"data row21 col0\" >Scottish Deerhound</td>\n",
              "      <td id=\"T_03744_row21_col1\" class=\"data row21 col1\" >Hound</td>\n",
              "      <td id=\"T_03744_row21_col2\" class=\"data row21 col2\" >6</td>\n",
              "      <td id=\"T_03744_row21_col3\" class=\"data row21 col3\" >6</td>\n",
              "    </tr>\n",
              "    <tr>\n",
              "      <th id=\"T_03744_level0_row22\" class=\"row_heading level0 row22\" >136</th>\n",
              "      <td id=\"T_03744_row22_col0\" class=\"data row22 col0\" >Sloughi</td>\n",
              "      <td id=\"T_03744_row22_col1\" class=\"data row22 col1\" >Hound</td>\n",
              "      <td id=\"T_03744_row22_col2\" class=\"data row22 col2\" >7</td>\n",
              "      <td id=\"T_03744_row22_col3\" class=\"data row22 col3\" >6</td>\n",
              "    </tr>\n",
              "    <tr>\n",
              "      <th id=\"T_03744_level0_row23\" class=\"row_heading level0 row23\" >146</th>\n",
              "      <td id=\"T_03744_row23_col0\" class=\"data row23 col0\" >Thai Ridgeback</td>\n",
              "      <td id=\"T_03744_row23_col1\" class=\"data row23 col1\" >Hound</td>\n",
              "      <td id=\"T_03744_row23_col2\" class=\"data row23 col2\" >7</td>\n",
              "      <td id=\"T_03744_row23_col3\" class=\"data row23 col3\" >6</td>\n",
              "    </tr>\n",
              "    <tr>\n",
              "      <th id=\"T_03744_level0_row24\" class=\"row_heading level0 row24\" >149</th>\n",
              "      <td id=\"T_03744_row24_col0\" class=\"data row24 col0\" >Treeing Walker Coonhound</td>\n",
              "      <td id=\"T_03744_row24_col1\" class=\"data row24 col1\" >Hound</td>\n",
              "      <td id=\"T_03744_row24_col2\" class=\"data row24 col2\" >7</td>\n",
              "      <td id=\"T_03744_row24_col3\" class=\"data row24 col3\" >8</td>\n",
              "    </tr>\n",
              "    <tr>\n",
              "      <th id=\"T_03744_level0_row25\" class=\"row_heading level0 row25\" >153</th>\n",
              "      <td id=\"T_03744_row25_col0\" class=\"data row25 col0\" >Whippet</td>\n",
              "      <td id=\"T_03744_row25_col1\" class=\"data row25 col1\" >Hound</td>\n",
              "      <td id=\"T_03744_row25_col2\" class=\"data row25 col2\" >8</td>\n",
              "      <td id=\"T_03744_row25_col3\" class=\"data row25 col3\" >7</td>\n",
              "    </tr>\n",
              "    <tr>\n",
              "      <th id=\"T_03744_level0_row26\" class=\"row_heading level0 row26\" >155</th>\n",
              "      <td id=\"T_03744_row26_col0\" class=\"data row26 col0\" >Wirehaired Dachshund</td>\n",
              "      <td id=\"T_03744_row26_col1\" class=\"data row26 col1\" >Hound</td>\n",
              "      <td id=\"T_03744_row26_col2\" class=\"data row26 col2\" >7</td>\n",
              "      <td id=\"T_03744_row26_col3\" class=\"data row26 col3\" >7</td>\n",
              "    </tr>\n",
              "  </tbody>\n",
              "</table>\n"
            ]
          },
          "metadata": {},
          "execution_count": 7
        }
      ]
    },
    {
      "cell_type": "markdown",
      "source": [
        "As observed, only 1 row with 'Type' equal to 'Hound' falls outside either the intelligence or friendliness bounds. This record accounts for the $\\frac{27-1}{27} \\approx 96\\%$ confidence level of this rule."
      ],
      "metadata": {
        "id": "Y622RsHmmwQk"
      }
    },
    {
      "cell_type": "markdown",
      "source": [
        "# Second example"
      ],
      "metadata": {
        "id": "UE1-_dua91I0"
      }
    },
    {
      "cell_type": "markdown",
      "source": [
        "Let's try again, but this time with different settings. This time, minimum support will have a more lenient value of 0.05 and the population size will be 700. This will help discover more NARs. The value of max_fitness_evaluations will also need to be increased to 1500 in accordance with the population size to produce a non-empty result."
      ],
      "metadata": {
        "id": "xZMSS6gCmxN7"
      }
    },
    {
      "cell_type": "code",
      "source": [
        "algo.execute(minconf=0.7, minsup=0.05, population_size=700,\n",
        "                 max_fitness_evaluations=1500, seed=10)\n",
        "nars = algo.get_nars()\n",
        "for i, nar in enumerate(nars, start=1):\n",
        "  print(f\"NAR {i}:\")\n",
        "  print_nar(nar,dataset.columns)\n",
        "  print()"
      ],
      "metadata": {
        "colab": {
          "base_uri": "https://localhost:8080/"
        },
        "id": "pwLoU7OrpUEI",
        "outputId": "e9f09980-226f-4b64-d021-faac3cdba475"
      },
      "execution_count": null,
      "outputs": [
        {
          "output_type": "stream",
          "name": "stdout",
          "text": [
            "NAR 1:\n",
            "Intelligence[4 - 10]\n",
            "Shedding[Moderate]\n",
            "      |\n",
            "      |\n",
            "      V\n",
            "Friendliness[6 - 10]\n",
            "Life Span[9 - 16]\n",
            "   support = 0.5660377358490566\n",
            "   confidence = 0.9574468085106383\n",
            "\n",
            "NAR 2:\n",
            "Health Issues Risk[Moderate]\n",
            "Life Span[8 - 14]\n",
            "      |\n",
            "      |\n",
            "      V\n",
            "Friendliness[5 - 8]\n",
            "   support = 0.33962264150943394\n",
            "   confidence = 0.7714285714285715\n",
            "\n",
            "NAR 3:\n",
            "Size[1 - 2]\n",
            "Intelligence[5 - 8]\n",
            "Grooming Needs[Moderate]\n",
            "Weight[15.246273 - 68.261820]\n",
            "      |\n",
            "      |\n",
            "      V\n",
            "Shedding[Moderate]\n",
            "   support = 0.05660377358490566\n",
            "   confidence = 0.9\n",
            "\n",
            "NAR 4:\n",
            "Friendliness[5 - 10]\n",
            "Exercise Requirements[1.708423 - 2.261994]\n",
            "Type[Working]\n",
            "      |\n",
            "      |\n",
            "      V\n",
            "Life Span[10 - 16]\n",
            "Training Difficulty[4 - 9]\n",
            "   support = 0.08176100628930817\n",
            "   confidence = 0.7222222222222222\n",
            "\n"
          ]
        }
      ]
    },
    {
      "cell_type": "markdown",
      "source": [
        "These found NARs are less striking, but nevertheless they represent some thought-provoking facts."
      ],
      "metadata": {
        "id": "F9bAjGYYp-Ri"
      }
    },
    {
      "cell_type": "markdown",
      "source": [
        "# Conclusion"
      ],
      "metadata": {
        "id": "TixB85isp--I"
      }
    },
    {
      "cell_type": "markdown",
      "source": [
        "If you are reading this, then you have learnt about numerical association rules. Congratulations!\n",
        "\n",
        "We have explored data and found that hounds are friendly and intelligent dogs.\n",
        "We have also found a few more facts about different dog breeds using DES algorithm.\n",
        "\n",
        "If you wish to find these patterns in your data, now you know how to do it 🙂\n",
        "Also, you can learn more about other pattern types presented in [Desbordante](https://github.com/Desbordante/desbordante-core)."
      ],
      "metadata": {
        "id": "bNB4PTpzqA-S"
      }
    }
  ]
}