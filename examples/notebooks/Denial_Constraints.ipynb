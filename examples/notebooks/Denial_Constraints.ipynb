{
  "nbformat": 4,
  "nbformat_minor": 0,
  "metadata": {
    "colab": {
      "provenance": []
    },
    "kernelspec": {
      "name": "python3",
      "display_name": "Python 3"
    },
    "language_info": {
      "name": "python"
    }
  },
  "cells": [
    {
      "cell_type": "markdown",
      "source": [
        "**Denial constraints** are really powerful in finding complex metadata in your data. Let's try them with [Desbordante](https://github.com/Desbordante/desbordante-core)!"
      ],
      "metadata": {
        "id": "Fq7DDIN6-ZRV"
      }
    },
    {
      "cell_type": "markdown",
      "source": [
        "# Install necessary dependencies"
      ],
      "metadata": {
        "id": "uU0yPiN-GJHn"
      }
    },
    {
      "cell_type": "markdown",
      "source": [
        "Firstly, let's download and import necessary libraries:"
      ],
      "metadata": {
        "id": "xuMWctdFGLDw"
      }
    },
    {
      "cell_type": "code",
      "execution_count": null,
      "metadata": {
        "colab": {
          "base_uri": "https://localhost:8080/"
        },
        "id": "0g0zW7F4-UCY",
        "outputId": "bd77f347-9a2a-4505-dfb2-8d025efcccae"
      },
      "outputs": [
        {
          "output_type": "stream",
          "name": "stdout",
          "text": [
            "Collecting desbordante==2.3.2\n",
            "  Downloading desbordante-2.3.2-cp311-cp311-manylinux_2_17_x86_64.manylinux2014_x86_64.whl.metadata (19 kB)\n",
            "Downloading desbordante-2.3.2-cp311-cp311-manylinux_2_17_x86_64.manylinux2014_x86_64.whl (4.0 MB)\n",
            "\u001b[?25l   \u001b[90m━━━━━━━━━━━━━━━━━━━━━━━━━━━━━━━━━━━━━━━━\u001b[0m \u001b[32m0.0/4.0 MB\u001b[0m \u001b[31m?\u001b[0m eta \u001b[36m-:--:--\u001b[0m\r\u001b[2K   \u001b[91m━━\u001b[0m\u001b[91m╸\u001b[0m\u001b[90m━━━━━━━━━━━━━━━━━━━━━━━━━━━━━━━━━━━━━\u001b[0m \u001b[32m0.3/4.0 MB\u001b[0m \u001b[31m8.0 MB/s\u001b[0m eta \u001b[36m0:00:01\u001b[0m\r\u001b[2K   \u001b[91m━━━━━━━━━━━━━━━━\u001b[0m\u001b[91m╸\u001b[0m\u001b[90m━━━━━━━━━━━━━━━━━━━━━━━\u001b[0m \u001b[32m1.7/4.0 MB\u001b[0m \u001b[31m24.0 MB/s\u001b[0m eta \u001b[36m0:00:01\u001b[0m\r\u001b[2K   \u001b[91m━━━━━━━━━━━━━━━━━━━━━━━━━━━━━━━━━━━━━━━\u001b[0m\u001b[91m╸\u001b[0m \u001b[32m4.0/4.0 MB\u001b[0m \u001b[31m43.8 MB/s\u001b[0m eta \u001b[36m0:00:01\u001b[0m\r\u001b[2K   \u001b[90m━━━━━━━━━━━━━━━━━━━━━━━━━━━━━━━━━━━━━━━━\u001b[0m \u001b[32m4.0/4.0 MB\u001b[0m \u001b[31m32.3 MB/s\u001b[0m eta \u001b[36m0:00:00\u001b[0m\n",
            "\u001b[?25hInstalling collected packages: desbordante\n",
            "Successfully installed desbordante-2.3.2\n"
          ]
        }
      ],
      "source": [
        "!pip install desbordante==2.3.2"
      ]
    },
    {
      "cell_type": "markdown",
      "source": [
        "Desbordante library will be used for discovery of denial constraints and Pandas library will be used for visualising the data:"
      ],
      "metadata": {
        "id": "j3aa1qYRGTtZ"
      }
    },
    {
      "cell_type": "code",
      "source": [
        "import desbordante\n",
        "import pandas as pd"
      ],
      "metadata": {
        "id": "hHBW_MkMGUPu"
      },
      "execution_count": null,
      "outputs": []
    },
    {
      "cell_type": "markdown",
      "source": [
        "Let's download example data:"
      ],
      "metadata": {
        "id": "UxtFA4lIGZFx"
      }
    },
    {
      "cell_type": "code",
      "source": [
        "!wget https://raw.githubusercontent.com/Desbordante/desbordante-core/refs/heads/main/examples/datasets/taxes.csv"
      ],
      "metadata": {
        "colab": {
          "base_uri": "https://localhost:8080/"
        },
        "id": "4sPbLQRLGa-R",
        "outputId": "c066158f-1e4b-47f7-dbe3-8072fb172d80"
      },
      "execution_count": null,
      "outputs": [
        {
          "output_type": "stream",
          "name": "stdout",
          "text": [
            "--2025-03-20 16:58:54--  https://raw.githubusercontent.com/Desbordante/desbordante-core/refs/heads/main/examples/datasets/taxes.csv\n",
            "Resolving raw.githubusercontent.com (raw.githubusercontent.com)... 185.199.111.133, 185.199.108.133, 185.199.110.133, ...\n",
            "Connecting to raw.githubusercontent.com (raw.githubusercontent.com)|185.199.111.133|:443... connected.\n",
            "HTTP request sent, awaiting response... 200 OK\n",
            "Length: 181 [text/plain]\n",
            "Saving to: ‘taxes.csv’\n",
            "\n",
            "\rtaxes.csv             0%[                    ]       0  --.-KB/s               \rtaxes.csv           100%[===================>]     181  --.-KB/s    in 0s      \n",
            "\n",
            "2025-03-20 16:58:54 (8.69 MB/s) - ‘taxes.csv’ saved [181/181]\n",
            "\n"
          ]
        }
      ]
    },
    {
      "cell_type": "markdown",
      "source": [
        "# Understanding denial constraints"
      ],
      "metadata": {
        "id": "5YlXzzmKI77Y"
      }
    },
    {
      "cell_type": "markdown",
      "source": [
        "A denial constraint (DC) is a statement that says: \"For all pairs of different rows in a table, it should never happen that some condition holds.\"\n",
        "\n",
        "Formally, DC $\\varphi$ is a conjunction of predicates of the following form:\n",
        "$\\forall s, t \\in R, s \\neq t: \\neg(p_1 \\wedge \\cdots \\wedge p_m)$."
      ],
      "metadata": {
        "id": "bxYejE3YI-vq"
      }
    },
    {
      "cell_type": "markdown",
      "source": [
        "For example, let's create a small table:"
      ],
      "metadata": {
        "id": "PibudRxHL6b0"
      }
    },
    {
      "cell_type": "code",
      "source": [
        "data = {'Name': ['Alice', 'Bob', 'Carol'],\n",
        "        'Grade': [3, 4, 4],\n",
        "        'Salary': [3000, 4000, 4000]}\n",
        "\n",
        "small_dataset = pd.DataFrame(data)\n",
        "small_dataset"
      ],
      "metadata": {
        "colab": {
          "base_uri": "https://localhost:8080/",
          "height": 143
        },
        "id": "F64l-Hy3I-Mo",
        "outputId": "15448ae1-e0a0-4056-a83f-568e9fa8c2a4"
      },
      "execution_count": null,
      "outputs": [
        {
          "output_type": "execute_result",
          "data": {
            "text/plain": [
              "    Name  Grade  Salary\n",
              "0  Alice      3    3000\n",
              "1    Bob      4    4000\n",
              "2  Carol      4    4000"
            ],
            "text/html": [
              "\n",
              "  <div id=\"df-632657ed-dd53-4af3-b8d6-cc27701db9ba\" class=\"colab-df-container\">\n",
              "    <div>\n",
              "<style scoped>\n",
              "    .dataframe tbody tr th:only-of-type {\n",
              "        vertical-align: middle;\n",
              "    }\n",
              "\n",
              "    .dataframe tbody tr th {\n",
              "        vertical-align: top;\n",
              "    }\n",
              "\n",
              "    .dataframe thead th {\n",
              "        text-align: right;\n",
              "    }\n",
              "</style>\n",
              "<table border=\"1\" class=\"dataframe\">\n",
              "  <thead>\n",
              "    <tr style=\"text-align: right;\">\n",
              "      <th></th>\n",
              "      <th>Name</th>\n",
              "      <th>Grade</th>\n",
              "      <th>Salary</th>\n",
              "    </tr>\n",
              "  </thead>\n",
              "  <tbody>\n",
              "    <tr>\n",
              "      <th>0</th>\n",
              "      <td>Alice</td>\n",
              "      <td>3</td>\n",
              "      <td>3000</td>\n",
              "    </tr>\n",
              "    <tr>\n",
              "      <th>1</th>\n",
              "      <td>Bob</td>\n",
              "      <td>4</td>\n",
              "      <td>4000</td>\n",
              "    </tr>\n",
              "    <tr>\n",
              "      <th>2</th>\n",
              "      <td>Carol</td>\n",
              "      <td>4</td>\n",
              "      <td>4000</td>\n",
              "    </tr>\n",
              "  </tbody>\n",
              "</table>\n",
              "</div>\n",
              "    <div class=\"colab-df-buttons\">\n",
              "\n",
              "  <div class=\"colab-df-container\">\n",
              "    <button class=\"colab-df-convert\" onclick=\"convertToInteractive('df-632657ed-dd53-4af3-b8d6-cc27701db9ba')\"\n",
              "            title=\"Convert this dataframe to an interactive table.\"\n",
              "            style=\"display:none;\">\n",
              "\n",
              "  <svg xmlns=\"http://www.w3.org/2000/svg\" height=\"24px\" viewBox=\"0 -960 960 960\">\n",
              "    <path d=\"M120-120v-720h720v720H120Zm60-500h600v-160H180v160Zm220 220h160v-160H400v160Zm0 220h160v-160H400v160ZM180-400h160v-160H180v160Zm440 0h160v-160H620v160ZM180-180h160v-160H180v160Zm440 0h160v-160H620v160Z\"/>\n",
              "  </svg>\n",
              "    </button>\n",
              "\n",
              "  <style>\n",
              "    .colab-df-container {\n",
              "      display:flex;\n",
              "      gap: 12px;\n",
              "    }\n",
              "\n",
              "    .colab-df-convert {\n",
              "      background-color: #E8F0FE;\n",
              "      border: none;\n",
              "      border-radius: 50%;\n",
              "      cursor: pointer;\n",
              "      display: none;\n",
              "      fill: #1967D2;\n",
              "      height: 32px;\n",
              "      padding: 0 0 0 0;\n",
              "      width: 32px;\n",
              "    }\n",
              "\n",
              "    .colab-df-convert:hover {\n",
              "      background-color: #E2EBFA;\n",
              "      box-shadow: 0px 1px 2px rgba(60, 64, 67, 0.3), 0px 1px 3px 1px rgba(60, 64, 67, 0.15);\n",
              "      fill: #174EA6;\n",
              "    }\n",
              "\n",
              "    .colab-df-buttons div {\n",
              "      margin-bottom: 4px;\n",
              "    }\n",
              "\n",
              "    [theme=dark] .colab-df-convert {\n",
              "      background-color: #3B4455;\n",
              "      fill: #D2E3FC;\n",
              "    }\n",
              "\n",
              "    [theme=dark] .colab-df-convert:hover {\n",
              "      background-color: #434B5C;\n",
              "      box-shadow: 0px 1px 3px 1px rgba(0, 0, 0, 0.15);\n",
              "      filter: drop-shadow(0px 1px 2px rgba(0, 0, 0, 0.3));\n",
              "      fill: #FFFFFF;\n",
              "    }\n",
              "  </style>\n",
              "\n",
              "    <script>\n",
              "      const buttonEl =\n",
              "        document.querySelector('#df-632657ed-dd53-4af3-b8d6-cc27701db9ba button.colab-df-convert');\n",
              "      buttonEl.style.display =\n",
              "        google.colab.kernel.accessAllowed ? 'block' : 'none';\n",
              "\n",
              "      async function convertToInteractive(key) {\n",
              "        const element = document.querySelector('#df-632657ed-dd53-4af3-b8d6-cc27701db9ba');\n",
              "        const dataTable =\n",
              "          await google.colab.kernel.invokeFunction('convertToInteractive',\n",
              "                                                    [key], {});\n",
              "        if (!dataTable) return;\n",
              "\n",
              "        const docLinkHtml = 'Like what you see? Visit the ' +\n",
              "          '<a target=\"_blank\" href=https://colab.research.google.com/notebooks/data_table.ipynb>data table notebook</a>'\n",
              "          + ' to learn more about interactive tables.';\n",
              "        element.innerHTML = '';\n",
              "        dataTable['output_type'] = 'display_data';\n",
              "        await google.colab.output.renderOutput(dataTable, element);\n",
              "        const docLink = document.createElement('div');\n",
              "        docLink.innerHTML = docLinkHtml;\n",
              "        element.appendChild(docLink);\n",
              "      }\n",
              "    </script>\n",
              "  </div>\n",
              "\n",
              "\n",
              "<div id=\"df-3176e1bc-0f74-48f4-b855-5fb525b546b1\">\n",
              "  <button class=\"colab-df-quickchart\" onclick=\"quickchart('df-3176e1bc-0f74-48f4-b855-5fb525b546b1')\"\n",
              "            title=\"Suggest charts\"\n",
              "            style=\"display:none;\">\n",
              "\n",
              "<svg xmlns=\"http://www.w3.org/2000/svg\" height=\"24px\"viewBox=\"0 0 24 24\"\n",
              "     width=\"24px\">\n",
              "    <g>\n",
              "        <path d=\"M19 3H5c-1.1 0-2 .9-2 2v14c0 1.1.9 2 2 2h14c1.1 0 2-.9 2-2V5c0-1.1-.9-2-2-2zM9 17H7v-7h2v7zm4 0h-2V7h2v10zm4 0h-2v-4h2v4z\"/>\n",
              "    </g>\n",
              "</svg>\n",
              "  </button>\n",
              "\n",
              "<style>\n",
              "  .colab-df-quickchart {\n",
              "      --bg-color: #E8F0FE;\n",
              "      --fill-color: #1967D2;\n",
              "      --hover-bg-color: #E2EBFA;\n",
              "      --hover-fill-color: #174EA6;\n",
              "      --disabled-fill-color: #AAA;\n",
              "      --disabled-bg-color: #DDD;\n",
              "  }\n",
              "\n",
              "  [theme=dark] .colab-df-quickchart {\n",
              "      --bg-color: #3B4455;\n",
              "      --fill-color: #D2E3FC;\n",
              "      --hover-bg-color: #434B5C;\n",
              "      --hover-fill-color: #FFFFFF;\n",
              "      --disabled-bg-color: #3B4455;\n",
              "      --disabled-fill-color: #666;\n",
              "  }\n",
              "\n",
              "  .colab-df-quickchart {\n",
              "    background-color: var(--bg-color);\n",
              "    border: none;\n",
              "    border-radius: 50%;\n",
              "    cursor: pointer;\n",
              "    display: none;\n",
              "    fill: var(--fill-color);\n",
              "    height: 32px;\n",
              "    padding: 0;\n",
              "    width: 32px;\n",
              "  }\n",
              "\n",
              "  .colab-df-quickchart:hover {\n",
              "    background-color: var(--hover-bg-color);\n",
              "    box-shadow: 0 1px 2px rgba(60, 64, 67, 0.3), 0 1px 3px 1px rgba(60, 64, 67, 0.15);\n",
              "    fill: var(--button-hover-fill-color);\n",
              "  }\n",
              "\n",
              "  .colab-df-quickchart-complete:disabled,\n",
              "  .colab-df-quickchart-complete:disabled:hover {\n",
              "    background-color: var(--disabled-bg-color);\n",
              "    fill: var(--disabled-fill-color);\n",
              "    box-shadow: none;\n",
              "  }\n",
              "\n",
              "  .colab-df-spinner {\n",
              "    border: 2px solid var(--fill-color);\n",
              "    border-color: transparent;\n",
              "    border-bottom-color: var(--fill-color);\n",
              "    animation:\n",
              "      spin 1s steps(1) infinite;\n",
              "  }\n",
              "\n",
              "  @keyframes spin {\n",
              "    0% {\n",
              "      border-color: transparent;\n",
              "      border-bottom-color: var(--fill-color);\n",
              "      border-left-color: var(--fill-color);\n",
              "    }\n",
              "    20% {\n",
              "      border-color: transparent;\n",
              "      border-left-color: var(--fill-color);\n",
              "      border-top-color: var(--fill-color);\n",
              "    }\n",
              "    30% {\n",
              "      border-color: transparent;\n",
              "      border-left-color: var(--fill-color);\n",
              "      border-top-color: var(--fill-color);\n",
              "      border-right-color: var(--fill-color);\n",
              "    }\n",
              "    40% {\n",
              "      border-color: transparent;\n",
              "      border-right-color: var(--fill-color);\n",
              "      border-top-color: var(--fill-color);\n",
              "    }\n",
              "    60% {\n",
              "      border-color: transparent;\n",
              "      border-right-color: var(--fill-color);\n",
              "    }\n",
              "    80% {\n",
              "      border-color: transparent;\n",
              "      border-right-color: var(--fill-color);\n",
              "      border-bottom-color: var(--fill-color);\n",
              "    }\n",
              "    90% {\n",
              "      border-color: transparent;\n",
              "      border-bottom-color: var(--fill-color);\n",
              "    }\n",
              "  }\n",
              "</style>\n",
              "\n",
              "  <script>\n",
              "    async function quickchart(key) {\n",
              "      const quickchartButtonEl =\n",
              "        document.querySelector('#' + key + ' button');\n",
              "      quickchartButtonEl.disabled = true;  // To prevent multiple clicks.\n",
              "      quickchartButtonEl.classList.add('colab-df-spinner');\n",
              "      try {\n",
              "        const charts = await google.colab.kernel.invokeFunction(\n",
              "            'suggestCharts', [key], {});\n",
              "      } catch (error) {\n",
              "        console.error('Error during call to suggestCharts:', error);\n",
              "      }\n",
              "      quickchartButtonEl.classList.remove('colab-df-spinner');\n",
              "      quickchartButtonEl.classList.add('colab-df-quickchart-complete');\n",
              "    }\n",
              "    (() => {\n",
              "      let quickchartButtonEl =\n",
              "        document.querySelector('#df-3176e1bc-0f74-48f4-b855-5fb525b546b1 button');\n",
              "      quickchartButtonEl.style.display =\n",
              "        google.colab.kernel.accessAllowed ? 'block' : 'none';\n",
              "    })();\n",
              "  </script>\n",
              "</div>\n",
              "    </div>\n",
              "  </div>\n"
            ],
            "application/vnd.google.colaboratory.intrinsic+json": {
              "type": "dataframe",
              "variable_name": "small_dataset",
              "summary": "{\n  \"name\": \"small_dataset\",\n  \"rows\": 3,\n  \"fields\": [\n    {\n      \"column\": \"Name\",\n      \"properties\": {\n        \"dtype\": \"string\",\n        \"num_unique_values\": 3,\n        \"samples\": [\n          \"Alice\",\n          \"Bob\",\n          \"Carol\"\n        ],\n        \"semantic_type\": \"\",\n        \"description\": \"\"\n      }\n    },\n    {\n      \"column\": \"Grade\",\n      \"properties\": {\n        \"dtype\": \"number\",\n        \"std\": 0,\n        \"min\": 3,\n        \"max\": 4,\n        \"num_unique_values\": 2,\n        \"samples\": [\n          4,\n          3\n        ],\n        \"semantic_type\": \"\",\n        \"description\": \"\"\n      }\n    },\n    {\n      \"column\": \"Salary\",\n      \"properties\": {\n        \"dtype\": \"number\",\n        \"std\": 577,\n        \"min\": 3000,\n        \"max\": 4000,\n        \"num_unique_values\": 2,\n        \"samples\": [\n          4000,\n          3000\n        ],\n        \"semantic_type\": \"\",\n        \"description\": \"\"\n      }\n    }\n  ]\n}"
            }
          },
          "metadata": {},
          "execution_count": 4
        }
      ]
    },
    {
      "cell_type": "markdown",
      "source": [
        "A possible DC here is: ¬{ t.Grade == s.Grade ∧ t.Salary != s.Salary }. This means: \"It should never happen that two people have the same grade but different salaries.\", or in other words, if two rows share the same Grade, they must share the same Salary."
      ],
      "metadata": {
        "id": "32rloiDgMvjz"
      }
    },
    {
      "cell_type": "markdown",
      "source": [
        "As we can see from the table, only tuple pair (1, 2) satisfies the first predicate (its values on column Grade are equal):"
      ],
      "metadata": {
        "id": "gK6WtvKUNSSL"
      }
    },
    {
      "cell_type": "code",
      "source": [
        "def color_cells(x):\n",
        "  df1=pd.DataFrame('',index=x.index,columns=x.columns)\n",
        "  df1.iloc[1,1]='color:green;font-weight:bold'\n",
        "  df1.iloc[2,1]='color:green;font-weight:bold'\n",
        "  df1.iloc[1,2]='color:red;font-weight:bold'\n",
        "  df1.iloc[2,2]='color:red;font-weight:bold'\n",
        "  return df1\n",
        "\n",
        "small_dataset.style.apply(color_cells,axis=None)"
      ],
      "metadata": {
        "colab": {
          "base_uri": "https://localhost:8080/",
          "height": 143
        },
        "id": "9jUfxgF-OBid",
        "outputId": "04f129a4-0855-4ddb-c5dd-c51007c03828"
      },
      "execution_count": null,
      "outputs": [
        {
          "output_type": "execute_result",
          "data": {
            "text/plain": [
              "<pandas.io.formats.style.Styler at 0x7b2a781a0e10>"
            ],
            "text/html": [
              "<style type=\"text/css\">\n",
              "#T_89346_row1_col1, #T_89346_row2_col1 {\n",
              "  color: green;\n",
              "  font-weight: bold;\n",
              "}\n",
              "#T_89346_row1_col2, #T_89346_row2_col2 {\n",
              "  color: red;\n",
              "  font-weight: bold;\n",
              "}\n",
              "</style>\n",
              "<table id=\"T_89346\" class=\"dataframe\">\n",
              "  <thead>\n",
              "    <tr>\n",
              "      <th class=\"blank level0\" >&nbsp;</th>\n",
              "      <th id=\"T_89346_level0_col0\" class=\"col_heading level0 col0\" >Name</th>\n",
              "      <th id=\"T_89346_level0_col1\" class=\"col_heading level0 col1\" >Grade</th>\n",
              "      <th id=\"T_89346_level0_col2\" class=\"col_heading level0 col2\" >Salary</th>\n",
              "    </tr>\n",
              "  </thead>\n",
              "  <tbody>\n",
              "    <tr>\n",
              "      <th id=\"T_89346_level0_row0\" class=\"row_heading level0 row0\" >0</th>\n",
              "      <td id=\"T_89346_row0_col0\" class=\"data row0 col0\" >Alice</td>\n",
              "      <td id=\"T_89346_row0_col1\" class=\"data row0 col1\" >3</td>\n",
              "      <td id=\"T_89346_row0_col2\" class=\"data row0 col2\" >3000</td>\n",
              "    </tr>\n",
              "    <tr>\n",
              "      <th id=\"T_89346_level0_row1\" class=\"row_heading level0 row1\" >1</th>\n",
              "      <td id=\"T_89346_row1_col0\" class=\"data row1 col0\" >Bob</td>\n",
              "      <td id=\"T_89346_row1_col1\" class=\"data row1 col1\" >4</td>\n",
              "      <td id=\"T_89346_row1_col2\" class=\"data row1 col2\" >4000</td>\n",
              "    </tr>\n",
              "    <tr>\n",
              "      <th id=\"T_89346_level0_row2\" class=\"row_heading level0 row2\" >2</th>\n",
              "      <td id=\"T_89346_row2_col0\" class=\"data row2 col0\" >Carol</td>\n",
              "      <td id=\"T_89346_row2_col1\" class=\"data row2 col1\" >4</td>\n",
              "      <td id=\"T_89346_row2_col2\" class=\"data row2 col2\" >4000</td>\n",
              "    </tr>\n",
              "  </tbody>\n",
              "</table>\n"
            ]
          },
          "metadata": {},
          "execution_count": 5
        }
      ]
    },
    {
      "cell_type": "markdown",
      "source": [
        "This tuple pair doesn't satisfy the second predicate (its values on column Salary are also equal), thus the DC holds in the table."
      ],
      "metadata": {
        "id": "O7EmHRMxORYx"
      }
    },
    {
      "cell_type": "markdown",
      "source": [
        "Sometimes, we allow a DC to hold approximately, which means a small number of row pairs might violate it. The measure used for that is the $g_1$ metric. Roughly, the $g_1$ metric checks what fraction of all row pairs violates the DC, and if that fraction is lower than a chosen threshold, we consider the DC 'valid enough.'"
      ],
      "metadata": {
        "id": "gtCcRebRPIG_"
      }
    },
    {
      "cell_type": "markdown",
      "source": [
        "# Mining denial constraints"
      ],
      "metadata": {
        "id": "cjvjWRQ8G2wZ"
      }
    },
    {
      "cell_type": "markdown",
      "source": [
        "Let's have a look at the dataset:"
      ],
      "metadata": {
        "id": "1gme4g9jG4TR"
      }
    },
    {
      "cell_type": "code",
      "source": [
        "dataset = pd.read_csv('taxes.csv')\n",
        "dataset"
      ],
      "metadata": {
        "colab": {
          "base_uri": "https://localhost:8080/",
          "height": 332
        },
        "id": "fq8OxD-JG6jx",
        "outputId": "c66a3424-0686-48f1-dccb-b304606542d6"
      },
      "execution_count": null,
      "outputs": [
        {
          "output_type": "execute_result",
          "data": {
            "text/plain": [
              "       State  Salary  FedTaxRate\n",
              "0    NewYork    3000        0.20\n",
              "1    NewYork    4000        0.25\n",
              "2    NewYork    5000        0.30\n",
              "3  Wisconsin    5000        0.15\n",
              "4  Wisconsin    6000        0.20\n",
              "5  Wisconsin    4000        0.10\n",
              "6      Texas    1000        0.15\n",
              "7      Texas    2000        0.25\n",
              "8      Texas    3000        0.30"
            ],
            "text/html": [
              "\n",
              "  <div id=\"df-0399956e-9dc9-4291-8b14-c82c5237028a\" class=\"colab-df-container\">\n",
              "    <div>\n",
              "<style scoped>\n",
              "    .dataframe tbody tr th:only-of-type {\n",
              "        vertical-align: middle;\n",
              "    }\n",
              "\n",
              "    .dataframe tbody tr th {\n",
              "        vertical-align: top;\n",
              "    }\n",
              "\n",
              "    .dataframe thead th {\n",
              "        text-align: right;\n",
              "    }\n",
              "</style>\n",
              "<table border=\"1\" class=\"dataframe\">\n",
              "  <thead>\n",
              "    <tr style=\"text-align: right;\">\n",
              "      <th></th>\n",
              "      <th>State</th>\n",
              "      <th>Salary</th>\n",
              "      <th>FedTaxRate</th>\n",
              "    </tr>\n",
              "  </thead>\n",
              "  <tbody>\n",
              "    <tr>\n",
              "      <th>0</th>\n",
              "      <td>NewYork</td>\n",
              "      <td>3000</td>\n",
              "      <td>0.20</td>\n",
              "    </tr>\n",
              "    <tr>\n",
              "      <th>1</th>\n",
              "      <td>NewYork</td>\n",
              "      <td>4000</td>\n",
              "      <td>0.25</td>\n",
              "    </tr>\n",
              "    <tr>\n",
              "      <th>2</th>\n",
              "      <td>NewYork</td>\n",
              "      <td>5000</td>\n",
              "      <td>0.30</td>\n",
              "    </tr>\n",
              "    <tr>\n",
              "      <th>3</th>\n",
              "      <td>Wisconsin</td>\n",
              "      <td>5000</td>\n",
              "      <td>0.15</td>\n",
              "    </tr>\n",
              "    <tr>\n",
              "      <th>4</th>\n",
              "      <td>Wisconsin</td>\n",
              "      <td>6000</td>\n",
              "      <td>0.20</td>\n",
              "    </tr>\n",
              "    <tr>\n",
              "      <th>5</th>\n",
              "      <td>Wisconsin</td>\n",
              "      <td>4000</td>\n",
              "      <td>0.10</td>\n",
              "    </tr>\n",
              "    <tr>\n",
              "      <th>6</th>\n",
              "      <td>Texas</td>\n",
              "      <td>1000</td>\n",
              "      <td>0.15</td>\n",
              "    </tr>\n",
              "    <tr>\n",
              "      <th>7</th>\n",
              "      <td>Texas</td>\n",
              "      <td>2000</td>\n",
              "      <td>0.25</td>\n",
              "    </tr>\n",
              "    <tr>\n",
              "      <th>8</th>\n",
              "      <td>Texas</td>\n",
              "      <td>3000</td>\n",
              "      <td>0.30</td>\n",
              "    </tr>\n",
              "  </tbody>\n",
              "</table>\n",
              "</div>\n",
              "    <div class=\"colab-df-buttons\">\n",
              "\n",
              "  <div class=\"colab-df-container\">\n",
              "    <button class=\"colab-df-convert\" onclick=\"convertToInteractive('df-0399956e-9dc9-4291-8b14-c82c5237028a')\"\n",
              "            title=\"Convert this dataframe to an interactive table.\"\n",
              "            style=\"display:none;\">\n",
              "\n",
              "  <svg xmlns=\"http://www.w3.org/2000/svg\" height=\"24px\" viewBox=\"0 -960 960 960\">\n",
              "    <path d=\"M120-120v-720h720v720H120Zm60-500h600v-160H180v160Zm220 220h160v-160H400v160Zm0 220h160v-160H400v160ZM180-400h160v-160H180v160Zm440 0h160v-160H620v160ZM180-180h160v-160H180v160Zm440 0h160v-160H620v160Z\"/>\n",
              "  </svg>\n",
              "    </button>\n",
              "\n",
              "  <style>\n",
              "    .colab-df-container {\n",
              "      display:flex;\n",
              "      gap: 12px;\n",
              "    }\n",
              "\n",
              "    .colab-df-convert {\n",
              "      background-color: #E8F0FE;\n",
              "      border: none;\n",
              "      border-radius: 50%;\n",
              "      cursor: pointer;\n",
              "      display: none;\n",
              "      fill: #1967D2;\n",
              "      height: 32px;\n",
              "      padding: 0 0 0 0;\n",
              "      width: 32px;\n",
              "    }\n",
              "\n",
              "    .colab-df-convert:hover {\n",
              "      background-color: #E2EBFA;\n",
              "      box-shadow: 0px 1px 2px rgba(60, 64, 67, 0.3), 0px 1px 3px 1px rgba(60, 64, 67, 0.15);\n",
              "      fill: #174EA6;\n",
              "    }\n",
              "\n",
              "    .colab-df-buttons div {\n",
              "      margin-bottom: 4px;\n",
              "    }\n",
              "\n",
              "    [theme=dark] .colab-df-convert {\n",
              "      background-color: #3B4455;\n",
              "      fill: #D2E3FC;\n",
              "    }\n",
              "\n",
              "    [theme=dark] .colab-df-convert:hover {\n",
              "      background-color: #434B5C;\n",
              "      box-shadow: 0px 1px 3px 1px rgba(0, 0, 0, 0.15);\n",
              "      filter: drop-shadow(0px 1px 2px rgba(0, 0, 0, 0.3));\n",
              "      fill: #FFFFFF;\n",
              "    }\n",
              "  </style>\n",
              "\n",
              "    <script>\n",
              "      const buttonEl =\n",
              "        document.querySelector('#df-0399956e-9dc9-4291-8b14-c82c5237028a button.colab-df-convert');\n",
              "      buttonEl.style.display =\n",
              "        google.colab.kernel.accessAllowed ? 'block' : 'none';\n",
              "\n",
              "      async function convertToInteractive(key) {\n",
              "        const element = document.querySelector('#df-0399956e-9dc9-4291-8b14-c82c5237028a');\n",
              "        const dataTable =\n",
              "          await google.colab.kernel.invokeFunction('convertToInteractive',\n",
              "                                                    [key], {});\n",
              "        if (!dataTable) return;\n",
              "\n",
              "        const docLinkHtml = 'Like what you see? Visit the ' +\n",
              "          '<a target=\"_blank\" href=https://colab.research.google.com/notebooks/data_table.ipynb>data table notebook</a>'\n",
              "          + ' to learn more about interactive tables.';\n",
              "        element.innerHTML = '';\n",
              "        dataTable['output_type'] = 'display_data';\n",
              "        await google.colab.output.renderOutput(dataTable, element);\n",
              "        const docLink = document.createElement('div');\n",
              "        docLink.innerHTML = docLinkHtml;\n",
              "        element.appendChild(docLink);\n",
              "      }\n",
              "    </script>\n",
              "  </div>\n",
              "\n",
              "\n",
              "<div id=\"df-934609f7-6849-4f3a-b37c-ff7ac997f1c7\">\n",
              "  <button class=\"colab-df-quickchart\" onclick=\"quickchart('df-934609f7-6849-4f3a-b37c-ff7ac997f1c7')\"\n",
              "            title=\"Suggest charts\"\n",
              "            style=\"display:none;\">\n",
              "\n",
              "<svg xmlns=\"http://www.w3.org/2000/svg\" height=\"24px\"viewBox=\"0 0 24 24\"\n",
              "     width=\"24px\">\n",
              "    <g>\n",
              "        <path d=\"M19 3H5c-1.1 0-2 .9-2 2v14c0 1.1.9 2 2 2h14c1.1 0 2-.9 2-2V5c0-1.1-.9-2-2-2zM9 17H7v-7h2v7zm4 0h-2V7h2v10zm4 0h-2v-4h2v4z\"/>\n",
              "    </g>\n",
              "</svg>\n",
              "  </button>\n",
              "\n",
              "<style>\n",
              "  .colab-df-quickchart {\n",
              "      --bg-color: #E8F0FE;\n",
              "      --fill-color: #1967D2;\n",
              "      --hover-bg-color: #E2EBFA;\n",
              "      --hover-fill-color: #174EA6;\n",
              "      --disabled-fill-color: #AAA;\n",
              "      --disabled-bg-color: #DDD;\n",
              "  }\n",
              "\n",
              "  [theme=dark] .colab-df-quickchart {\n",
              "      --bg-color: #3B4455;\n",
              "      --fill-color: #D2E3FC;\n",
              "      --hover-bg-color: #434B5C;\n",
              "      --hover-fill-color: #FFFFFF;\n",
              "      --disabled-bg-color: #3B4455;\n",
              "      --disabled-fill-color: #666;\n",
              "  }\n",
              "\n",
              "  .colab-df-quickchart {\n",
              "    background-color: var(--bg-color);\n",
              "    border: none;\n",
              "    border-radius: 50%;\n",
              "    cursor: pointer;\n",
              "    display: none;\n",
              "    fill: var(--fill-color);\n",
              "    height: 32px;\n",
              "    padding: 0;\n",
              "    width: 32px;\n",
              "  }\n",
              "\n",
              "  .colab-df-quickchart:hover {\n",
              "    background-color: var(--hover-bg-color);\n",
              "    box-shadow: 0 1px 2px rgba(60, 64, 67, 0.3), 0 1px 3px 1px rgba(60, 64, 67, 0.15);\n",
              "    fill: var(--button-hover-fill-color);\n",
              "  }\n",
              "\n",
              "  .colab-df-quickchart-complete:disabled,\n",
              "  .colab-df-quickchart-complete:disabled:hover {\n",
              "    background-color: var(--disabled-bg-color);\n",
              "    fill: var(--disabled-fill-color);\n",
              "    box-shadow: none;\n",
              "  }\n",
              "\n",
              "  .colab-df-spinner {\n",
              "    border: 2px solid var(--fill-color);\n",
              "    border-color: transparent;\n",
              "    border-bottom-color: var(--fill-color);\n",
              "    animation:\n",
              "      spin 1s steps(1) infinite;\n",
              "  }\n",
              "\n",
              "  @keyframes spin {\n",
              "    0% {\n",
              "      border-color: transparent;\n",
              "      border-bottom-color: var(--fill-color);\n",
              "      border-left-color: var(--fill-color);\n",
              "    }\n",
              "    20% {\n",
              "      border-color: transparent;\n",
              "      border-left-color: var(--fill-color);\n",
              "      border-top-color: var(--fill-color);\n",
              "    }\n",
              "    30% {\n",
              "      border-color: transparent;\n",
              "      border-left-color: var(--fill-color);\n",
              "      border-top-color: var(--fill-color);\n",
              "      border-right-color: var(--fill-color);\n",
              "    }\n",
              "    40% {\n",
              "      border-color: transparent;\n",
              "      border-right-color: var(--fill-color);\n",
              "      border-top-color: var(--fill-color);\n",
              "    }\n",
              "    60% {\n",
              "      border-color: transparent;\n",
              "      border-right-color: var(--fill-color);\n",
              "    }\n",
              "    80% {\n",
              "      border-color: transparent;\n",
              "      border-right-color: var(--fill-color);\n",
              "      border-bottom-color: var(--fill-color);\n",
              "    }\n",
              "    90% {\n",
              "      border-color: transparent;\n",
              "      border-bottom-color: var(--fill-color);\n",
              "    }\n",
              "  }\n",
              "</style>\n",
              "\n",
              "  <script>\n",
              "    async function quickchart(key) {\n",
              "      const quickchartButtonEl =\n",
              "        document.querySelector('#' + key + ' button');\n",
              "      quickchartButtonEl.disabled = true;  // To prevent multiple clicks.\n",
              "      quickchartButtonEl.classList.add('colab-df-spinner');\n",
              "      try {\n",
              "        const charts = await google.colab.kernel.invokeFunction(\n",
              "            'suggestCharts', [key], {});\n",
              "      } catch (error) {\n",
              "        console.error('Error during call to suggestCharts:', error);\n",
              "      }\n",
              "      quickchartButtonEl.classList.remove('colab-df-spinner');\n",
              "      quickchartButtonEl.classList.add('colab-df-quickchart-complete');\n",
              "    }\n",
              "    (() => {\n",
              "      let quickchartButtonEl =\n",
              "        document.querySelector('#df-934609f7-6849-4f3a-b37c-ff7ac997f1c7 button');\n",
              "      quickchartButtonEl.style.display =\n",
              "        google.colab.kernel.accessAllowed ? 'block' : 'none';\n",
              "    })();\n",
              "  </script>\n",
              "</div>\n",
              "    </div>\n",
              "  </div>\n"
            ],
            "application/vnd.google.colaboratory.intrinsic+json": {
              "type": "dataframe",
              "variable_name": "dataset",
              "summary": "{\n  \"name\": \"dataset\",\n  \"rows\": 9,\n  \"fields\": [\n    {\n      \"column\": \"State\",\n      \"properties\": {\n        \"dtype\": \"category\",\n        \"num_unique_values\": 3,\n        \"samples\": [\n          \"NewYork\",\n          \"Wisconsin\",\n          \"Texas\"\n        ],\n        \"semantic_type\": \"\",\n        \"description\": \"\"\n      }\n    },\n    {\n      \"column\": \"Salary\",\n      \"properties\": {\n        \"dtype\": \"number\",\n        \"std\": 1581,\n        \"min\": 1000,\n        \"max\": 6000,\n        \"num_unique_values\": 6,\n        \"samples\": [\n          3000,\n          4000,\n          2000\n        ],\n        \"semantic_type\": \"\",\n        \"description\": \"\"\n      }\n    },\n    {\n      \"column\": \"FedTaxRate\",\n      \"properties\": {\n        \"dtype\": \"number\",\n        \"std\": 0.06972166887783962,\n        \"min\": 0.1,\n        \"max\": 0.3,\n        \"num_unique_values\": 5,\n        \"samples\": [\n          0.25,\n          0.1,\n          0.3\n        ],\n        \"semantic_type\": \"\",\n        \"description\": \"\"\n      }\n    }\n  ]\n}"
            }
          },
          "metadata": {},
          "execution_count": 6
        }
      ]
    },
    {
      "cell_type": "markdown",
      "source": [
        "The dataset contains some information about salaries and taxes in different US states."
      ],
      "metadata": {
        "id": "xk_-GdaYHGZz"
      }
    },
    {
      "cell_type": "markdown",
      "source": [
        "Now, let's find DCs using Desbordante:"
      ],
      "metadata": {
        "id": "iwTO4XJpSdG3"
      }
    },
    {
      "cell_type": "code",
      "source": [
        "algo = desbordante.dc.algorithms.Default()\n",
        "algo.load_data(table=dataset)\n",
        "algo.execute(evidence_threshold=0, shard_length=0)\n",
        "exact_dcs = algo.get_dcs()\n",
        "\n",
        "print(\"Discovered DCs:\")\n",
        "for dc in exact_dcs:\n",
        "    print(dc)"
      ],
      "metadata": {
        "colab": {
          "base_uri": "https://localhost:8080/"
        },
        "id": "YOQShwatTQ3V",
        "outputId": "903ce75a-9fb0-44c0-9556-81b8bc6d723d"
      },
      "execution_count": null,
      "outputs": [
        {
          "output_type": "stream",
          "name": "stdout",
          "text": [
            "Discovered DCs:\n",
            "¬{ t.State == s.State ∧ t.Salary <= s.Salary ∧ t.FedTaxRate >= s.FedTaxRate }\n",
            "¬{ t.Salary == s.Salary ∧ t.FedTaxRate == s.FedTaxRate }\n",
            "¬{ t.State == s.State ∧ t.FedTaxRate == s.FedTaxRate }\n",
            "¬{ t.State == s.State ∧ t.Salary == s.Salary }\n"
          ]
        }
      ]
    },
    {
      "cell_type": "markdown",
      "source": [
        "The DC mining algorithm has found four DCs!"
      ],
      "metadata": {
        "id": "K603_wAjUQVF"
      }
    },
    {
      "cell_type": "markdown",
      "source": [
        "We have two parameters in Desbordante's DC mining algorithm:\n",
        "\n",
        "1.   evidence_threshold: This sets the fraction of row pairs that must satisfy the DC for it to be considered valid. A value of 0 means exact DC mining (no violations allowed).\n",
        "2.   shard_length: This splits the dataset into row \"shards\" for parallelization. A value of 0 means no split, so the entire dataset is processed at once.\n",
        "\n"
      ],
      "metadata": {
        "id": "FZ-oJ2wTTwl2"
      }
    },
    {
      "cell_type": "markdown",
      "source": [
        "Note the following DC we found:\n",
        "\n",
        "¬{ t.State == s.State ∧ t.Salary <= s.Salary ∧ t.FedTaxRate >= s.FedTaxRate }.\n",
        "\n",
        "It states that for all people in the same state, the person with a higher salary\n",
        "should have a higher tax rate. No pairs of rows should violate that rule."
      ],
      "metadata": {
        "id": "VzUsYNJtUFJu"
      }
    },
    {
      "cell_type": "markdown",
      "source": [
        "# Verifying DCs"
      ],
      "metadata": {
        "id": "Qe-zV4P_WaPP"
      }
    },
    {
      "cell_type": "markdown",
      "source": [
        "The algorithm for DC verification can check whether a given exact DC holds in the table."
      ],
      "metadata": {
        "id": "jo9SvZtkZtS-"
      }
    },
    {
      "cell_type": "markdown",
      "source": [
        "Let's check the above DC using Desbordante:"
      ],
      "metadata": {
        "id": "MMUxjtBUWdfv"
      }
    },
    {
      "cell_type": "code",
      "source": [
        "DC = \"!(t.State == s.State and t.Salary <= s.Salary and t.FedTaxRate >= s.FedTaxRate)\"\n",
        "\n",
        "verifier = desbordante.dc_verification.algorithms.Default()\n",
        "verifier.load_data(table=dataset)\n",
        "verifier.execute(denial_constraint=DC)\n",
        "\n",
        "if(verifier.dc_holds()):\n",
        "  print(f\"DC {DC} holds.\")\n",
        "else:\n",
        "  print(f\"DC {DC} doesn't hold.\")"
      ],
      "metadata": {
        "colab": {
          "base_uri": "https://localhost:8080/"
        },
        "id": "kN5HAvXFWnbn",
        "outputId": "0073336c-dc26-4691-c076-830950ced05b"
      },
      "execution_count": null,
      "outputs": [
        {
          "output_type": "stream",
          "name": "stdout",
          "text": [
            "DC !(t.State == s.State and t.Salary <= s.Salary and t.FedTaxRate >= s.FedTaxRate) holds.\n"
          ]
        }
      ]
    },
    {
      "cell_type": "markdown",
      "source": [
        "As we can see, the above DC indeed holds in the table."
      ],
      "metadata": {
        "id": "nogNh93fZkHG"
      }
    },
    {
      "cell_type": "markdown",
      "source": [
        "# Mining approximate DCs"
      ],
      "metadata": {
        "id": "_I07J-7RXb0x"
      }
    },
    {
      "cell_type": "markdown",
      "source": [
        "Now let's mine approximate DCs (ADCs) by setting evidence_threshold to 0.5.\n",
        "This means we only require that at least half of all row pairs satisfy each DC (according to $g_1$)."
      ],
      "metadata": {
        "id": "ImK9-7MTXnkP"
      }
    },
    {
      "cell_type": "code",
      "source": [
        "algo.execute(evidence_threshold=0.5, shard_length=0)\n",
        "approximate_dcs = algo.get_dcs()\n",
        "\n",
        "print(\"Discovered ADCs:\")\n",
        "for dc in approximate_dcs:\n",
        "    print(dc)"
      ],
      "metadata": {
        "colab": {
          "base_uri": "https://localhost:8080/"
        },
        "id": "cHeGoSbHXrxs",
        "outputId": "6a8191b8-58a5-4aa3-9451-a3a532700442"
      },
      "execution_count": null,
      "outputs": [
        {
          "output_type": "stream",
          "name": "stdout",
          "text": [
            "Discovered ADCs:\n",
            "¬{ t.Salary <= s.Salary ∧ t.FedTaxRate <= s.FedTaxRate }\n",
            "¬{ t.Salary <= s.Salary ∧ t.FedTaxRate >= s.FedTaxRate }\n",
            "¬{ t.Salary <= s.Salary ∧ t.FedTaxRate != s.FedTaxRate }\n",
            "¬{ t.State != s.State ∧ t.FedTaxRate <= s.FedTaxRate }\n",
            "¬{ t.State != s.State ∧ t.Salary <= s.Salary }\n",
            "¬{ t.FedTaxRate < s.FedTaxRate }\n",
            "¬{ t.Salary < s.Salary }\n",
            "¬{ t.FedTaxRate == s.FedTaxRate }\n",
            "¬{ t.Salary == s.Salary }\n",
            "¬{ t.State == s.State }\n"
          ]
        }
      ]
    },
    {
      "cell_type": "markdown",
      "source": [
        "Here, for example, the $g_1$ metric values for a few approximate DCs are:\n",
        "\n",
        "¬{ t.Salary <= s.Salary ∧ t.FedTaxRate <= s.FedTaxRate } → 0.486111\n",
        "\n",
        "¬{ t.Salary <= s.Salary ∧ t.FedTaxRate >= s.FedTaxRate } → 0.458333\n",
        "\n",
        "¬{ t.State == s.State } → 0.25\n",
        "\n",
        "Note: A smaller $g_1$ value means fewer violations, making the DC more close to exact."
      ],
      "metadata": {
        "id": "V65GXiTbZtof"
      }
    },
    {
      "cell_type": "markdown",
      "source": [
        "In real scenarios, exact DCs may be too rigid. Allowing a small fraction of violations is often a practical compromise, but setting a very high threshold quickly becomes meaningless since it would permit too many inconsistencies. The best threshold often depends on how 'dirty' the data is; datasets with more inconsistencies may require a higher threshold to capture meaningful DCs."
      ],
      "metadata": {
        "id": "5wkBIkIscbB0"
      }
    },
    {
      "cell_type": "markdown",
      "source": [
        "Now, let's add a new row to the dataset:"
      ],
      "metadata": {
        "id": "T_BLE3qDc3Nv"
      }
    },
    {
      "cell_type": "code",
      "source": [
        "dataset.loc[9] = [\"Texas\", 5000, 0.05]\n",
        "dataset"
      ],
      "metadata": {
        "colab": {
          "base_uri": "https://localhost:8080/",
          "height": 363
        },
        "id": "l_dRn_ukc6ws",
        "outputId": "c44258bc-803d-4c04-d979-c01ec90b1fe3"
      },
      "execution_count": null,
      "outputs": [
        {
          "output_type": "execute_result",
          "data": {
            "text/plain": [
              "       State  Salary  FedTaxRate\n",
              "0    NewYork    3000        0.20\n",
              "1    NewYork    4000        0.25\n",
              "2    NewYork    5000        0.30\n",
              "3  Wisconsin    5000        0.15\n",
              "4  Wisconsin    6000        0.20\n",
              "5  Wisconsin    4000        0.10\n",
              "6      Texas    1000        0.15\n",
              "7      Texas    2000        0.25\n",
              "8      Texas    3000        0.30\n",
              "9      Texas    5000        0.05"
            ],
            "text/html": [
              "\n",
              "  <div id=\"df-e250b906-7ced-4df7-9ba2-b21ee993a067\" class=\"colab-df-container\">\n",
              "    <div>\n",
              "<style scoped>\n",
              "    .dataframe tbody tr th:only-of-type {\n",
              "        vertical-align: middle;\n",
              "    }\n",
              "\n",
              "    .dataframe tbody tr th {\n",
              "        vertical-align: top;\n",
              "    }\n",
              "\n",
              "    .dataframe thead th {\n",
              "        text-align: right;\n",
              "    }\n",
              "</style>\n",
              "<table border=\"1\" class=\"dataframe\">\n",
              "  <thead>\n",
              "    <tr style=\"text-align: right;\">\n",
              "      <th></th>\n",
              "      <th>State</th>\n",
              "      <th>Salary</th>\n",
              "      <th>FedTaxRate</th>\n",
              "    </tr>\n",
              "  </thead>\n",
              "  <tbody>\n",
              "    <tr>\n",
              "      <th>0</th>\n",
              "      <td>NewYork</td>\n",
              "      <td>3000</td>\n",
              "      <td>0.20</td>\n",
              "    </tr>\n",
              "    <tr>\n",
              "      <th>1</th>\n",
              "      <td>NewYork</td>\n",
              "      <td>4000</td>\n",
              "      <td>0.25</td>\n",
              "    </tr>\n",
              "    <tr>\n",
              "      <th>2</th>\n",
              "      <td>NewYork</td>\n",
              "      <td>5000</td>\n",
              "      <td>0.30</td>\n",
              "    </tr>\n",
              "    <tr>\n",
              "      <th>3</th>\n",
              "      <td>Wisconsin</td>\n",
              "      <td>5000</td>\n",
              "      <td>0.15</td>\n",
              "    </tr>\n",
              "    <tr>\n",
              "      <th>4</th>\n",
              "      <td>Wisconsin</td>\n",
              "      <td>6000</td>\n",
              "      <td>0.20</td>\n",
              "    </tr>\n",
              "    <tr>\n",
              "      <th>5</th>\n",
              "      <td>Wisconsin</td>\n",
              "      <td>4000</td>\n",
              "      <td>0.10</td>\n",
              "    </tr>\n",
              "    <tr>\n",
              "      <th>6</th>\n",
              "      <td>Texas</td>\n",
              "      <td>1000</td>\n",
              "      <td>0.15</td>\n",
              "    </tr>\n",
              "    <tr>\n",
              "      <th>7</th>\n",
              "      <td>Texas</td>\n",
              "      <td>2000</td>\n",
              "      <td>0.25</td>\n",
              "    </tr>\n",
              "    <tr>\n",
              "      <th>8</th>\n",
              "      <td>Texas</td>\n",
              "      <td>3000</td>\n",
              "      <td>0.30</td>\n",
              "    </tr>\n",
              "    <tr>\n",
              "      <th>9</th>\n",
              "      <td>Texas</td>\n",
              "      <td>5000</td>\n",
              "      <td>0.05</td>\n",
              "    </tr>\n",
              "  </tbody>\n",
              "</table>\n",
              "</div>\n",
              "    <div class=\"colab-df-buttons\">\n",
              "\n",
              "  <div class=\"colab-df-container\">\n",
              "    <button class=\"colab-df-convert\" onclick=\"convertToInteractive('df-e250b906-7ced-4df7-9ba2-b21ee993a067')\"\n",
              "            title=\"Convert this dataframe to an interactive table.\"\n",
              "            style=\"display:none;\">\n",
              "\n",
              "  <svg xmlns=\"http://www.w3.org/2000/svg\" height=\"24px\" viewBox=\"0 -960 960 960\">\n",
              "    <path d=\"M120-120v-720h720v720H120Zm60-500h600v-160H180v160Zm220 220h160v-160H400v160Zm0 220h160v-160H400v160ZM180-400h160v-160H180v160Zm440 0h160v-160H620v160ZM180-180h160v-160H180v160Zm440 0h160v-160H620v160Z\"/>\n",
              "  </svg>\n",
              "    </button>\n",
              "\n",
              "  <style>\n",
              "    .colab-df-container {\n",
              "      display:flex;\n",
              "      gap: 12px;\n",
              "    }\n",
              "\n",
              "    .colab-df-convert {\n",
              "      background-color: #E8F0FE;\n",
              "      border: none;\n",
              "      border-radius: 50%;\n",
              "      cursor: pointer;\n",
              "      display: none;\n",
              "      fill: #1967D2;\n",
              "      height: 32px;\n",
              "      padding: 0 0 0 0;\n",
              "      width: 32px;\n",
              "    }\n",
              "\n",
              "    .colab-df-convert:hover {\n",
              "      background-color: #E2EBFA;\n",
              "      box-shadow: 0px 1px 2px rgba(60, 64, 67, 0.3), 0px 1px 3px 1px rgba(60, 64, 67, 0.15);\n",
              "      fill: #174EA6;\n",
              "    }\n",
              "\n",
              "    .colab-df-buttons div {\n",
              "      margin-bottom: 4px;\n",
              "    }\n",
              "\n",
              "    [theme=dark] .colab-df-convert {\n",
              "      background-color: #3B4455;\n",
              "      fill: #D2E3FC;\n",
              "    }\n",
              "\n",
              "    [theme=dark] .colab-df-convert:hover {\n",
              "      background-color: #434B5C;\n",
              "      box-shadow: 0px 1px 3px 1px rgba(0, 0, 0, 0.15);\n",
              "      filter: drop-shadow(0px 1px 2px rgba(0, 0, 0, 0.3));\n",
              "      fill: #FFFFFF;\n",
              "    }\n",
              "  </style>\n",
              "\n",
              "    <script>\n",
              "      const buttonEl =\n",
              "        document.querySelector('#df-e250b906-7ced-4df7-9ba2-b21ee993a067 button.colab-df-convert');\n",
              "      buttonEl.style.display =\n",
              "        google.colab.kernel.accessAllowed ? 'block' : 'none';\n",
              "\n",
              "      async function convertToInteractive(key) {\n",
              "        const element = document.querySelector('#df-e250b906-7ced-4df7-9ba2-b21ee993a067');\n",
              "        const dataTable =\n",
              "          await google.colab.kernel.invokeFunction('convertToInteractive',\n",
              "                                                    [key], {});\n",
              "        if (!dataTable) return;\n",
              "\n",
              "        const docLinkHtml = 'Like what you see? Visit the ' +\n",
              "          '<a target=\"_blank\" href=https://colab.research.google.com/notebooks/data_table.ipynb>data table notebook</a>'\n",
              "          + ' to learn more about interactive tables.';\n",
              "        element.innerHTML = '';\n",
              "        dataTable['output_type'] = 'display_data';\n",
              "        await google.colab.output.renderOutput(dataTable, element);\n",
              "        const docLink = document.createElement('div');\n",
              "        docLink.innerHTML = docLinkHtml;\n",
              "        element.appendChild(docLink);\n",
              "      }\n",
              "    </script>\n",
              "  </div>\n",
              "\n",
              "\n",
              "<div id=\"df-a3b13e54-7aeb-4b83-8d1e-01f1ca860eb1\">\n",
              "  <button class=\"colab-df-quickchart\" onclick=\"quickchart('df-a3b13e54-7aeb-4b83-8d1e-01f1ca860eb1')\"\n",
              "            title=\"Suggest charts\"\n",
              "            style=\"display:none;\">\n",
              "\n",
              "<svg xmlns=\"http://www.w3.org/2000/svg\" height=\"24px\"viewBox=\"0 0 24 24\"\n",
              "     width=\"24px\">\n",
              "    <g>\n",
              "        <path d=\"M19 3H5c-1.1 0-2 .9-2 2v14c0 1.1.9 2 2 2h14c1.1 0 2-.9 2-2V5c0-1.1-.9-2-2-2zM9 17H7v-7h2v7zm4 0h-2V7h2v10zm4 0h-2v-4h2v4z\"/>\n",
              "    </g>\n",
              "</svg>\n",
              "  </button>\n",
              "\n",
              "<style>\n",
              "  .colab-df-quickchart {\n",
              "      --bg-color: #E8F0FE;\n",
              "      --fill-color: #1967D2;\n",
              "      --hover-bg-color: #E2EBFA;\n",
              "      --hover-fill-color: #174EA6;\n",
              "      --disabled-fill-color: #AAA;\n",
              "      --disabled-bg-color: #DDD;\n",
              "  }\n",
              "\n",
              "  [theme=dark] .colab-df-quickchart {\n",
              "      --bg-color: #3B4455;\n",
              "      --fill-color: #D2E3FC;\n",
              "      --hover-bg-color: #434B5C;\n",
              "      --hover-fill-color: #FFFFFF;\n",
              "      --disabled-bg-color: #3B4455;\n",
              "      --disabled-fill-color: #666;\n",
              "  }\n",
              "\n",
              "  .colab-df-quickchart {\n",
              "    background-color: var(--bg-color);\n",
              "    border: none;\n",
              "    border-radius: 50%;\n",
              "    cursor: pointer;\n",
              "    display: none;\n",
              "    fill: var(--fill-color);\n",
              "    height: 32px;\n",
              "    padding: 0;\n",
              "    width: 32px;\n",
              "  }\n",
              "\n",
              "  .colab-df-quickchart:hover {\n",
              "    background-color: var(--hover-bg-color);\n",
              "    box-shadow: 0 1px 2px rgba(60, 64, 67, 0.3), 0 1px 3px 1px rgba(60, 64, 67, 0.15);\n",
              "    fill: var(--button-hover-fill-color);\n",
              "  }\n",
              "\n",
              "  .colab-df-quickchart-complete:disabled,\n",
              "  .colab-df-quickchart-complete:disabled:hover {\n",
              "    background-color: var(--disabled-bg-color);\n",
              "    fill: var(--disabled-fill-color);\n",
              "    box-shadow: none;\n",
              "  }\n",
              "\n",
              "  .colab-df-spinner {\n",
              "    border: 2px solid var(--fill-color);\n",
              "    border-color: transparent;\n",
              "    border-bottom-color: var(--fill-color);\n",
              "    animation:\n",
              "      spin 1s steps(1) infinite;\n",
              "  }\n",
              "\n",
              "  @keyframes spin {\n",
              "    0% {\n",
              "      border-color: transparent;\n",
              "      border-bottom-color: var(--fill-color);\n",
              "      border-left-color: var(--fill-color);\n",
              "    }\n",
              "    20% {\n",
              "      border-color: transparent;\n",
              "      border-left-color: var(--fill-color);\n",
              "      border-top-color: var(--fill-color);\n",
              "    }\n",
              "    30% {\n",
              "      border-color: transparent;\n",
              "      border-left-color: var(--fill-color);\n",
              "      border-top-color: var(--fill-color);\n",
              "      border-right-color: var(--fill-color);\n",
              "    }\n",
              "    40% {\n",
              "      border-color: transparent;\n",
              "      border-right-color: var(--fill-color);\n",
              "      border-top-color: var(--fill-color);\n",
              "    }\n",
              "    60% {\n",
              "      border-color: transparent;\n",
              "      border-right-color: var(--fill-color);\n",
              "    }\n",
              "    80% {\n",
              "      border-color: transparent;\n",
              "      border-right-color: var(--fill-color);\n",
              "      border-bottom-color: var(--fill-color);\n",
              "    }\n",
              "    90% {\n",
              "      border-color: transparent;\n",
              "      border-bottom-color: var(--fill-color);\n",
              "    }\n",
              "  }\n",
              "</style>\n",
              "\n",
              "  <script>\n",
              "    async function quickchart(key) {\n",
              "      const quickchartButtonEl =\n",
              "        document.querySelector('#' + key + ' button');\n",
              "      quickchartButtonEl.disabled = true;  // To prevent multiple clicks.\n",
              "      quickchartButtonEl.classList.add('colab-df-spinner');\n",
              "      try {\n",
              "        const charts = await google.colab.kernel.invokeFunction(\n",
              "            'suggestCharts', [key], {});\n",
              "      } catch (error) {\n",
              "        console.error('Error during call to suggestCharts:', error);\n",
              "      }\n",
              "      quickchartButtonEl.classList.remove('colab-df-spinner');\n",
              "      quickchartButtonEl.classList.add('colab-df-quickchart-complete');\n",
              "    }\n",
              "    (() => {\n",
              "      let quickchartButtonEl =\n",
              "        document.querySelector('#df-a3b13e54-7aeb-4b83-8d1e-01f1ca860eb1 button');\n",
              "      quickchartButtonEl.style.display =\n",
              "        google.colab.kernel.accessAllowed ? 'block' : 'none';\n",
              "    })();\n",
              "  </script>\n",
              "</div>\n",
              "    </div>\n",
              "  </div>\n"
            ],
            "application/vnd.google.colaboratory.intrinsic+json": {
              "type": "dataframe",
              "variable_name": "dataset",
              "summary": "{\n  \"name\": \"dataset\",\n  \"rows\": 10,\n  \"fields\": [\n    {\n      \"column\": \"State\",\n      \"properties\": {\n        \"dtype\": \"category\",\n        \"num_unique_values\": 3,\n        \"samples\": [\n          \"NewYork\",\n          \"Wisconsin\",\n          \"Texas\"\n        ],\n        \"semantic_type\": \"\",\n        \"description\": \"\"\n      }\n    },\n    {\n      \"column\": \"Salary\",\n      \"properties\": {\n        \"dtype\": \"number\",\n        \"std\": 1549,\n        \"min\": 1000,\n        \"max\": 6000,\n        \"num_unique_values\": 6,\n        \"samples\": [\n          3000,\n          4000,\n          2000\n        ],\n        \"semantic_type\": \"\",\n        \"description\": \"\"\n      }\n    },\n    {\n      \"column\": \"FedTaxRate\",\n      \"properties\": {\n        \"dtype\": \"number\",\n        \"std\": 0.08316649966583099,\n        \"min\": 0.05,\n        \"max\": 0.3,\n        \"num_unique_values\": 6,\n        \"samples\": [\n          0.2,\n          0.25,\n          0.05\n        ],\n        \"semantic_type\": \"\",\n        \"description\": \"\"\n      }\n    }\n  ]\n}"
            }
          },
          "metadata": {},
          "execution_count": 10
        }
      ]
    },
    {
      "cell_type": "markdown",
      "source": [
        "Let's run the algorithm again and see how the exact DC mining changes due to this additional record:"
      ],
      "metadata": {
        "id": "F_HMlX4pdUYM"
      }
    },
    {
      "cell_type": "code",
      "source": [
        "algo1 = desbordante.dc.algorithms.Default()\n",
        "algo1.load_data(table=dataset)\n",
        "algo1.execute(evidence_threshold=0, shard_length=0)\n",
        "new_exact_dcs = algo1.get_dcs()\n",
        "\n",
        "print(\"Discovered DCs:\")\n",
        "for dc in new_exact_dcs:\n",
        "    print(dc)"
      ],
      "metadata": {
        "colab": {
          "base_uri": "https://localhost:8080/"
        },
        "id": "E59KzuhbdYpR",
        "outputId": "3a12d9dc-e779-4eee-b790-ad3918dc4b41"
      },
      "execution_count": null,
      "outputs": [
        {
          "output_type": "stream",
          "name": "stdout",
          "text": [
            "Discovered DCs:\n",
            "¬{ t.Salary == s.Salary ∧ t.FedTaxRate == s.FedTaxRate }\n",
            "¬{ t.State == s.State ∧ t.FedTaxRate == s.FedTaxRate }\n",
            "¬{ t.State == s.State ∧ t.Salary == s.Salary }\n"
          ]
        }
      ]
    },
    {
      "cell_type": "markdown",
      "source": [
        "Let's recall the result for the old dataset:"
      ],
      "metadata": {
        "id": "LMX0gZggeKOT"
      }
    },
    {
      "cell_type": "code",
      "source": [
        "for dc in exact_dcs:\n",
        "    print(dc)"
      ],
      "metadata": {
        "id": "vM5TZzUHePf8",
        "colab": {
          "base_uri": "https://localhost:8080/"
        },
        "outputId": "0291fe57-c0f2-44b4-f041-a985dc5e2bb2"
      },
      "execution_count": null,
      "outputs": [
        {
          "output_type": "stream",
          "name": "stdout",
          "text": [
            "¬{ t.State == s.State ∧ t.Salary <= s.Salary ∧ t.FedTaxRate >= s.FedTaxRate }\n",
            "¬{ t.Salary == s.Salary ∧ t.FedTaxRate == s.FedTaxRate }\n",
            "¬{ t.State == s.State ∧ t.FedTaxRate == s.FedTaxRate }\n",
            "¬{ t.State == s.State ∧ t.Salary == s.Salary }\n"
          ]
        }
      ]
    },
    {
      "cell_type": "markdown",
      "source": [
        "We can see that the DC ¬{ t.State == s.State ∧ t.Salary <= s.Salary ∧ t.FedTaxRate >= s.FedTaxRate } no longer appears because of the violation introduced by the added record.\n",
        "\n",
        "This record introduces a scenario that breaks this DC, stating \"the person with a higher salary should have a higher tax rate,\" because there are now people in Texas with a higher salary but a lower tax rate.\n",
        "\n",
        "Those violations occur in pairs like (6, 9), (7, 9), (8, 9),\n",
        "where each number is a record index in the dataset:"
      ],
      "metadata": {
        "id": "Sdu6kdPQeHB5"
      }
    },
    {
      "cell_type": "code",
      "source": [
        "def color_cells(x):\n",
        "  df1=pd.DataFrame('',index=x.index,columns=x.columns)\n",
        "  df1.iloc[6,1]='color:green;font-weight:bold'\n",
        "  df1.iloc[9,1]='color:green;font-weight:bold'\n",
        "  df1.iloc[6,2]='color:red;font-weight:bold'\n",
        "  df1.iloc[9,2]='color:red;font-weight:bold'\n",
        "  return df1\n",
        "\n",
        "dataset.style.apply(color_cells,axis=None)"
      ],
      "metadata": {
        "colab": {
          "base_uri": "https://localhost:8080/",
          "height": 363
        },
        "id": "xWWBZW3voalM",
        "outputId": "2d578103-482b-4973-c53d-7174cbe9be45"
      },
      "execution_count": null,
      "outputs": [
        {
          "output_type": "execute_result",
          "data": {
            "text/plain": [
              "<pandas.io.formats.style.Styler at 0x7b2a71708510>"
            ],
            "text/html": [
              "<style type=\"text/css\">\n",
              "#T_a9626_row6_col1, #T_a9626_row9_col1 {\n",
              "  color: green;\n",
              "  font-weight: bold;\n",
              "}\n",
              "#T_a9626_row6_col2, #T_a9626_row9_col2 {\n",
              "  color: red;\n",
              "  font-weight: bold;\n",
              "}\n",
              "</style>\n",
              "<table id=\"T_a9626\" class=\"dataframe\">\n",
              "  <thead>\n",
              "    <tr>\n",
              "      <th class=\"blank level0\" >&nbsp;</th>\n",
              "      <th id=\"T_a9626_level0_col0\" class=\"col_heading level0 col0\" >State</th>\n",
              "      <th id=\"T_a9626_level0_col1\" class=\"col_heading level0 col1\" >Salary</th>\n",
              "      <th id=\"T_a9626_level0_col2\" class=\"col_heading level0 col2\" >FedTaxRate</th>\n",
              "    </tr>\n",
              "  </thead>\n",
              "  <tbody>\n",
              "    <tr>\n",
              "      <th id=\"T_a9626_level0_row0\" class=\"row_heading level0 row0\" >0</th>\n",
              "      <td id=\"T_a9626_row0_col0\" class=\"data row0 col0\" >NewYork</td>\n",
              "      <td id=\"T_a9626_row0_col1\" class=\"data row0 col1\" >3000</td>\n",
              "      <td id=\"T_a9626_row0_col2\" class=\"data row0 col2\" >0.200000</td>\n",
              "    </tr>\n",
              "    <tr>\n",
              "      <th id=\"T_a9626_level0_row1\" class=\"row_heading level0 row1\" >1</th>\n",
              "      <td id=\"T_a9626_row1_col0\" class=\"data row1 col0\" >NewYork</td>\n",
              "      <td id=\"T_a9626_row1_col1\" class=\"data row1 col1\" >4000</td>\n",
              "      <td id=\"T_a9626_row1_col2\" class=\"data row1 col2\" >0.250000</td>\n",
              "    </tr>\n",
              "    <tr>\n",
              "      <th id=\"T_a9626_level0_row2\" class=\"row_heading level0 row2\" >2</th>\n",
              "      <td id=\"T_a9626_row2_col0\" class=\"data row2 col0\" >NewYork</td>\n",
              "      <td id=\"T_a9626_row2_col1\" class=\"data row2 col1\" >5000</td>\n",
              "      <td id=\"T_a9626_row2_col2\" class=\"data row2 col2\" >0.300000</td>\n",
              "    </tr>\n",
              "    <tr>\n",
              "      <th id=\"T_a9626_level0_row3\" class=\"row_heading level0 row3\" >3</th>\n",
              "      <td id=\"T_a9626_row3_col0\" class=\"data row3 col0\" >Wisconsin</td>\n",
              "      <td id=\"T_a9626_row3_col1\" class=\"data row3 col1\" >5000</td>\n",
              "      <td id=\"T_a9626_row3_col2\" class=\"data row3 col2\" >0.150000</td>\n",
              "    </tr>\n",
              "    <tr>\n",
              "      <th id=\"T_a9626_level0_row4\" class=\"row_heading level0 row4\" >4</th>\n",
              "      <td id=\"T_a9626_row4_col0\" class=\"data row4 col0\" >Wisconsin</td>\n",
              "      <td id=\"T_a9626_row4_col1\" class=\"data row4 col1\" >6000</td>\n",
              "      <td id=\"T_a9626_row4_col2\" class=\"data row4 col2\" >0.200000</td>\n",
              "    </tr>\n",
              "    <tr>\n",
              "      <th id=\"T_a9626_level0_row5\" class=\"row_heading level0 row5\" >5</th>\n",
              "      <td id=\"T_a9626_row5_col0\" class=\"data row5 col0\" >Wisconsin</td>\n",
              "      <td id=\"T_a9626_row5_col1\" class=\"data row5 col1\" >4000</td>\n",
              "      <td id=\"T_a9626_row5_col2\" class=\"data row5 col2\" >0.100000</td>\n",
              "    </tr>\n",
              "    <tr>\n",
              "      <th id=\"T_a9626_level0_row6\" class=\"row_heading level0 row6\" >6</th>\n",
              "      <td id=\"T_a9626_row6_col0\" class=\"data row6 col0\" >Texas</td>\n",
              "      <td id=\"T_a9626_row6_col1\" class=\"data row6 col1\" >1000</td>\n",
              "      <td id=\"T_a9626_row6_col2\" class=\"data row6 col2\" >0.150000</td>\n",
              "    </tr>\n",
              "    <tr>\n",
              "      <th id=\"T_a9626_level0_row7\" class=\"row_heading level0 row7\" >7</th>\n",
              "      <td id=\"T_a9626_row7_col0\" class=\"data row7 col0\" >Texas</td>\n",
              "      <td id=\"T_a9626_row7_col1\" class=\"data row7 col1\" >2000</td>\n",
              "      <td id=\"T_a9626_row7_col2\" class=\"data row7 col2\" >0.250000</td>\n",
              "    </tr>\n",
              "    <tr>\n",
              "      <th id=\"T_a9626_level0_row8\" class=\"row_heading level0 row8\" >8</th>\n",
              "      <td id=\"T_a9626_row8_col0\" class=\"data row8 col0\" >Texas</td>\n",
              "      <td id=\"T_a9626_row8_col1\" class=\"data row8 col1\" >3000</td>\n",
              "      <td id=\"T_a9626_row8_col2\" class=\"data row8 col2\" >0.300000</td>\n",
              "    </tr>\n",
              "    <tr>\n",
              "      <th id=\"T_a9626_level0_row9\" class=\"row_heading level0 row9\" >9</th>\n",
              "      <td id=\"T_a9626_row9_col0\" class=\"data row9 col0\" >Texas</td>\n",
              "      <td id=\"T_a9626_row9_col1\" class=\"data row9 col1\" >5000</td>\n",
              "      <td id=\"T_a9626_row9_col2\" class=\"data row9 col2\" >0.050000</td>\n",
              "    </tr>\n",
              "  </tbody>\n",
              "</table>\n"
            ]
          },
          "metadata": {},
          "execution_count": 13
        }
      ]
    },
    {
      "cell_type": "markdown",
      "source": [
        "Let's check this DC again:"
      ],
      "metadata": {
        "id": "B9u_NN0btmcS"
      }
    },
    {
      "cell_type": "code",
      "source": [
        "DC = \"!(t.State == s.State and t.Salary <= s.Salary and t.FedTaxRate >= s.FedTaxRate)\"\n",
        "\n",
        "verifier = desbordante.dc_verification.algorithms.Default()\n",
        "verifier.load_data(table=dataset)\n",
        "verifier.execute(denial_constraint=DC)\n",
        "\n",
        "if(verifier.dc_holds()):\n",
        "  print(f\"DC {DC} holds.\")\n",
        "else:\n",
        "  print(f\"DC {DC} doesn't hold.\")"
      ],
      "metadata": {
        "colab": {
          "base_uri": "https://localhost:8080/"
        },
        "id": "OWDii703tkZe",
        "outputId": "43797fe3-5ab9-4978-d3c5-be8cdc9621e7"
      },
      "execution_count": null,
      "outputs": [
        {
          "output_type": "stream",
          "name": "stdout",
          "text": [
            "DC !(t.State == s.State and t.Salary <= s.Salary and t.FedTaxRate >= s.FedTaxRate) doesn't hold.\n"
          ]
        }
      ]
    },
    {
      "cell_type": "markdown",
      "source": [
        "The DC doesn't hold, as we expected."
      ],
      "metadata": {
        "id": "0SemWhjktrT-"
      }
    },
    {
      "cell_type": "markdown",
      "source": [
        "# Conclusion"
      ],
      "metadata": {
        "id": "kzisCobNplD8"
      }
    },
    {
      "cell_type": "markdown",
      "source": [
        "If you are reading this, then you have learnt about denial constraints. Congratulations!\n",
        "\n",
        "We have explored data and found that for all people living in the same state, the person with a higher salary should also have a higher tax rate. We have also learnt about the approximation of DCs with $g_1$ metric and why allowing violations may be useful.\n",
        "\n",
        "\n",
        "If you wish to find these patterns in your data, now you know how to do it 🙂\n",
        "Also, you can learn more about other pattern types presented in [Desbordante](https://github.com/Desbordante/desbordante-core)."
      ],
      "metadata": {
        "id": "G_5Lg4IypmqS"
      }
    }
  ]
}