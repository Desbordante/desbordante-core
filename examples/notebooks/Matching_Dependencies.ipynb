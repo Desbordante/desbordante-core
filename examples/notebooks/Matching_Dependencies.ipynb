{
  "nbformat": 4,
  "nbformat_minor": 0,
  "metadata": {
    "colab": {
      "provenance": []
    },
    "kernelspec": {
      "name": "python3",
      "display_name": "Python 3"
    },
    "language_info": {
      "name": "python"
    }
  },
  "cells": [
    {
      "cell_type": "markdown",
      "source": [
        "**Matching dependencies** are able to capture a huge number of hidden patterns in your data. Let's try them with [Desbordante](https://github.com/Desbordante/desbordante-core)!"
      ],
      "metadata": {
        "id": "mclBj9wgBEy_"
      }
    },
    {
      "cell_type": "markdown",
      "source": [
        "# Install necessary dependencies"
      ],
      "metadata": {
        "id": "w6mjJfF6FLB1"
      }
    },
    {
      "cell_type": "markdown",
      "source": [
        "Firstly, let's download and import necessary libraries:"
      ],
      "metadata": {
        "id": "NVwzklmoFNTC"
      }
    },
    {
      "cell_type": "code",
      "execution_count": null,
      "metadata": {
        "colab": {
          "base_uri": "https://localhost:8080/"
        },
        "id": "wwFiO7WeA08r",
        "outputId": "de75cece-efce-4977-d947-17dee1425670"
      },
      "outputs": [
        {
          "output_type": "stream",
          "name": "stdout",
          "text": [
            "Collecting desbordante==2.3.2\n",
            "  Downloading desbordante-2.3.2-cp311-cp311-manylinux_2_17_x86_64.manylinux2014_x86_64.whl.metadata (19 kB)\n",
            "Downloading desbordante-2.3.2-cp311-cp311-manylinux_2_17_x86_64.manylinux2014_x86_64.whl (4.0 MB)\n",
            "\u001b[2K   \u001b[90m━━━━━━━━━━━━━━━━━━━━━━━━━━━━━━━━━━━━━━━━\u001b[0m \u001b[32m4.0/4.0 MB\u001b[0m \u001b[31m51.0 MB/s\u001b[0m eta \u001b[36m0:00:00\u001b[0m\n",
            "\u001b[?25hInstalling collected packages: desbordante\n",
            "Successfully installed desbordante-2.3.2\n"
          ]
        }
      ],
      "source": [
        "!pip install desbordante==2.3.2"
      ]
    },
    {
      "cell_type": "markdown",
      "source": [
        "Desbordante library will be used for discovery of matching dependencies and Pandas library will be used for visualising the data:"
      ],
      "metadata": {
        "id": "V3Uit6uoFV5K"
      }
    },
    {
      "cell_type": "code",
      "source": [
        "import desbordante\n",
        "import pandas as pd"
      ],
      "metadata": {
        "id": "AsX69vgIFWms"
      },
      "execution_count": null,
      "outputs": []
    },
    {
      "cell_type": "markdown",
      "source": [
        "Let's download example data:"
      ],
      "metadata": {
        "id": "64WUUq8ZFswH"
      }
    },
    {
      "cell_type": "code",
      "source": [
        "!wget https://raw.githubusercontent.com/Desbordante/desbordante-core/refs/heads/main/examples/datasets/animals_beverages.csv\n",
        "!wget https://raw.githubusercontent.com/Desbordante/desbordante-core/refs/heads/main/examples/datasets/carrier_merger.csv"
      ],
      "metadata": {
        "colab": {
          "base_uri": "https://localhost:8080/"
        },
        "id": "DOwE2Tr0FtSq",
        "outputId": "352a8515-ef2c-4e10-bdd6-1448d968a7da"
      },
      "execution_count": null,
      "outputs": [
        {
          "output_type": "stream",
          "name": "stdout",
          "text": [
            "--2025-03-20 16:56:34--  https://raw.githubusercontent.com/Desbordante/desbordante-core/refs/heads/main/examples/datasets/animals_beverages.csv\n",
            "Resolving raw.githubusercontent.com (raw.githubusercontent.com)... 185.199.108.133, 185.199.109.133, 185.199.110.133, ...\n",
            "Connecting to raw.githubusercontent.com (raw.githubusercontent.com)|185.199.108.133|:443... connected.\n",
            "HTTP request sent, awaiting response... 200 OK\n",
            "Length: 115 [text/plain]\n",
            "Saving to: ‘animals_beverages.csv’\n",
            "\n",
            "animals_beverages.c 100%[===================>]     115  --.-KB/s    in 0s      \n",
            "\n",
            "2025-03-20 16:56:34 (1.84 MB/s) - ‘animals_beverages.csv’ saved [115/115]\n",
            "\n",
            "--2025-03-20 16:56:34--  https://raw.githubusercontent.com/Desbordante/desbordante-core/refs/heads/main/examples/datasets/carrier_merger.csv\n",
            "Resolving raw.githubusercontent.com (raw.githubusercontent.com)... 185.199.108.133, 185.199.109.133, 185.199.110.133, ...\n",
            "Connecting to raw.githubusercontent.com (raw.githubusercontent.com)|185.199.108.133|:443... connected.\n",
            "HTTP request sent, awaiting response... 200 OK\n",
            "Length: 412 [text/plain]\n",
            "Saving to: ‘carrier_merger.csv’\n",
            "\n",
            "carrier_merger.csv  100%[===================>]     412  --.-KB/s    in 0s      \n",
            "\n",
            "2025-03-20 16:56:35 (6.84 MB/s) - ‘carrier_merger.csv’ saved [412/412]\n",
            "\n"
          ]
        }
      ]
    },
    {
      "cell_type": "markdown",
      "source": [
        "# Preliminary: similarity measures"
      ],
      "metadata": {
        "id": "sJAuY6H9HrAT"
      }
    },
    {
      "cell_type": "markdown",
      "source": [
        "If you are already familiar with similarity measures, you can skip this section.\n",
        "\n",
        "---"
      ],
      "metadata": {
        "id": "rcVMrJxmjbMp"
      }
    },
    {
      "cell_type": "markdown",
      "source": [
        "To achieve better understanding of matching dependencies let's talk about similarity measures. It's a way to describe difference between two values. More formally, a similarity measure is a function that takes two values and returns a value between 0.0 and 1.0. Intuitively, similarity of 1.0 means that values are equal, and the smaller the similarity gets, the more different are the values. Let's look at some examples of similarity measures."
      ],
      "metadata": {
        "id": "wsFGs9H1Hwi_"
      }
    },
    {
      "cell_type": "markdown",
      "source": [
        "**Levenshtein similarity measure**\n",
        "\n",
        "[Levenstein distance](https://en.wikipedia.org/wiki/Levenshtein_distance) between two strings is the number of characters that need to be substituted, deleted or inserted in order to turn the first string into the second. Levenshtein similarity measure is just Levenshtein distance being normalized by a simple formula:\n",
        "\n",
        "$sim_{id}(a,b)=1.0 - \\frac{dist(a,b)}{max(|a|,|b|)}$.\n",
        "\n",
        "The similarity obtained by this formula is always between 0.0 and 1.0."
      ],
      "metadata": {
        "id": "xPKeIvYqMeTP"
      }
    },
    {
      "cell_type": "markdown",
      "source": [
        "Let's use Levenshtein python library for calculating Levenshtein distance:"
      ],
      "metadata": {
        "id": "3YTJGSYtRdmI"
      }
    },
    {
      "cell_type": "code",
      "source": [
        "!pip install Levenshtein"
      ],
      "metadata": {
        "colab": {
          "base_uri": "https://localhost:8080/"
        },
        "id": "kbMRdZuQVHjb",
        "outputId": "575e22e4-aa05-430d-ca3a-79de5ad7fc68"
      },
      "execution_count": null,
      "outputs": [
        {
          "output_type": "stream",
          "name": "stdout",
          "text": [
            "Collecting Levenshtein\n",
            "  Downloading levenshtein-0.27.1-cp311-cp311-manylinux_2_17_x86_64.manylinux2014_x86_64.whl.metadata (3.6 kB)\n",
            "Collecting rapidfuzz<4.0.0,>=3.9.0 (from Levenshtein)\n",
            "  Downloading rapidfuzz-3.12.2-cp311-cp311-manylinux_2_17_x86_64.manylinux2014_x86_64.whl.metadata (12 kB)\n",
            "Downloading levenshtein-0.27.1-cp311-cp311-manylinux_2_17_x86_64.manylinux2014_x86_64.whl (161 kB)\n",
            "\u001b[2K   \u001b[90m━━━━━━━━━━━━━━━━━━━━━━━━━━━━━━━━━━━━━━━━\u001b[0m \u001b[32m161.7/161.7 kB\u001b[0m \u001b[31m8.1 MB/s\u001b[0m eta \u001b[36m0:00:00\u001b[0m\n",
            "\u001b[?25hDownloading rapidfuzz-3.12.2-cp311-cp311-manylinux_2_17_x86_64.manylinux2014_x86_64.whl (3.1 MB)\n",
            "\u001b[2K   \u001b[90m━━━━━━━━━━━━━━━━━━━━━━━━━━━━━━━━━━━━━━━━\u001b[0m \u001b[32m3.1/3.1 MB\u001b[0m \u001b[31m37.7 MB/s\u001b[0m eta \u001b[36m0:00:00\u001b[0m\n",
            "\u001b[?25hInstalling collected packages: rapidfuzz, Levenshtein\n",
            "Successfully installed Levenshtein-0.27.1 rapidfuzz-3.12.2\n"
          ]
        }
      ]
    },
    {
      "cell_type": "markdown",
      "source": [
        "Here we use the above formula for calculating Levenshtein similarity:"
      ],
      "metadata": {
        "id": "B-zEmnk1V1V-"
      }
    },
    {
      "cell_type": "code",
      "source": [
        "import Levenshtein as lev\n",
        "\n",
        "def LevenshteinSimilarity(str1, str2):\n",
        "    max_dist = max(len(str1), len(str2))\n",
        "    if max_dist != 0:\n",
        "        dist = lev.distance(str1, str2)\n",
        "        return (max_dist - dist) / max_dist\n",
        "    return 1.0\n",
        "\n",
        "print(LevenshteinSimilarity(\"hello\", \"hello\"))\n",
        "print(LevenshteinSimilarity(\"hello\", \"hallo\"))\n",
        "print(LevenshteinSimilarity(\"hello\", \"world\"))"
      ],
      "metadata": {
        "colab": {
          "base_uri": "https://localhost:8080/"
        },
        "id": "o3Z5SLSPVLgj",
        "outputId": "354ebf6d-65db-4ad8-e824-83dbcdc047ca"
      },
      "execution_count": null,
      "outputs": [
        {
          "output_type": "stream",
          "name": "stdout",
          "text": [
            "1.0\n",
            "0.8\n",
            "0.2\n"
          ]
        }
      ]
    },
    {
      "cell_type": "markdown",
      "source": [
        "**Equality similarity measure**"
      ],
      "metadata": {
        "id": "oJ4CL-TFWjDl"
      }
    },
    {
      "cell_type": "markdown",
      "source": [
        "Equality similarity measure is simple: it returns 1.0 if values are equal and 0.0 otherwise. Let's implement this similarity measure in a function:"
      ],
      "metadata": {
        "id": "7_wRTzyFWoFL"
      }
    },
    {
      "cell_type": "code",
      "source": [
        "def EqualitySimilarity(str1, str2):\n",
        "  return 1.0 if str1 == str2 else 0.0\n",
        "\n",
        "print(EqualitySimilarity(\"hello\", \"hello\"))\n",
        "print(EqualitySimilarity(\"hello\", \"hallo\"))\n",
        "print(EqualitySimilarity(\"hello\", \"world\"))"
      ],
      "metadata": {
        "colab": {
          "base_uri": "https://localhost:8080/"
        },
        "id": "2J3YSOy4W3sG",
        "outputId": "214d82a6-8fd0-4eff-9c89-73dd14962e8e"
      },
      "execution_count": null,
      "outputs": [
        {
          "output_type": "stream",
          "name": "stdout",
          "text": [
            "1.0\n",
            "0.0\n",
            "0.0\n"
          ]
        }
      ]
    },
    {
      "cell_type": "markdown",
      "source": [
        "**Jaccard similarity measure**\n",
        "\n",
        "[Jaccard similarity measure](https://en.wikipedia.org/wiki/Jaccard_index) is defined as similarity between two sets:\n",
        "\n",
        "$J(A,B)=\\frac{|A \\cap B|}{|A \\cup B|}=\\frac{|A \\cap B|}{|A|+|B|-|A \\cap B|}$."
      ],
      "metadata": {
        "id": "nCEZ-Ra-XoRt"
      }
    },
    {
      "cell_type": "markdown",
      "source": [
        "Let's implement a function for calculating this similarity measure for string values. The function treats strings as sets of symbols:"
      ],
      "metadata": {
        "id": "PFO8Pq1ragEq"
      }
    },
    {
      "cell_type": "code",
      "source": [
        "def SymbolJaccardSimilarity(str1, str2):\n",
        "    symbols1 = set(str1)\n",
        "    symbols2 = set(str2)\n",
        "    intersection_size = len(symbols1 & symbols2)\n",
        "    union_size = len(symbols1) + len(symbols2) - intersection_size\n",
        "    return intersection_size / union_size\n",
        "\n",
        "print(SymbolJaccardSimilarity(\"hello\", \"hello\"))\n",
        "print(SymbolJaccardSimilarity(\"hello\", \"hallo\"))\n",
        "print(SymbolJaccardSimilarity(\"hello\", \"world\"))"
      ],
      "metadata": {
        "colab": {
          "base_uri": "https://localhost:8080/"
        },
        "id": "XiKel-OiXYvl",
        "outputId": "62b40c26-4cdc-4bd7-f8dc-cfae7ed02fd8"
      },
      "execution_count": null,
      "outputs": [
        {
          "output_type": "stream",
          "name": "stdout",
          "text": [
            "1.0\n",
            "0.6\n",
            "0.2857142857142857\n"
          ]
        }
      ]
    },
    {
      "cell_type": "markdown",
      "source": [
        "Another way to implement Jaccard similarity measure for strings is to treat them as sets of words:"
      ],
      "metadata": {
        "id": "T2DZwgOBxMDp"
      }
    },
    {
      "cell_type": "code",
      "source": [
        "def WordJaccardSimilarity(str1, str2):\n",
        "    symbols1 = set(str1.split())\n",
        "    symbols2 = set(str2.split())\n",
        "    intersection_size = len(symbols1 & symbols2)\n",
        "    union_size = len(symbols1) + len(symbols2) - intersection_size\n",
        "    return intersection_size / union_size\n",
        "\n",
        "print(WordJaccardSimilarity(\"hello world\", \"hello world\"))\n",
        "print(WordJaccardSimilarity(\"hello hello\", \"hallo hello\"))\n",
        "print(WordJaccardSimilarity(\"hello\", \"world\"))"
      ],
      "metadata": {
        "colab": {
          "base_uri": "https://localhost:8080/"
        },
        "id": "GchqWXlMxTBS",
        "outputId": "c449c70a-80cc-4900-fb76-6e6f54b9fe9c"
      },
      "execution_count": null,
      "outputs": [
        {
          "output_type": "stream",
          "name": "stdout",
          "text": [
            "1.0\n",
            "0.5\n",
            "0.0\n"
          ]
        }
      ]
    },
    {
      "cell_type": "markdown",
      "source": [
        "Let's try these similarity measures:"
      ],
      "metadata": {
        "id": "ZgN2fJcQdLaW"
      }
    },
    {
      "cell_type": "code",
      "source": [
        "str1, str2 = input(\"Enter two strings: \").split()\n",
        "\n",
        "print(f\"Similarities between '{str1}' and '{str2}':\")\n",
        "print(\"Levenshtein similarity:\", LevenshteinSimilarity(str1, str2))\n",
        "print(\"Equality similarity:\", EqualitySimilarity(str1, str2))\n",
        "print(\"Symbol Jaccard similarity:\", SymbolJaccardSimilarity(str1, str2))\n",
        "print(\"Word Jaccard similarity:\", WordJaccardSimilarity(str1, str2))"
      ],
      "metadata": {
        "colab": {
          "base_uri": "https://localhost:8080/"
        },
        "id": "eVu7lWVsdWW2",
        "outputId": "862cb82a-9452-416c-88bd-b2d0fbdf40ae"
      },
      "execution_count": null,
      "outputs": [
        {
          "output_type": "stream",
          "name": "stdout",
          "text": [
            "Enter two strings: hello hallo\n",
            "Similarities between 'hello' and 'hallo':\n",
            "Levenshtein similarity: 0.8\n",
            "Equality similarity: 0.0\n",
            "Symbol Jaccard similarity: 0.6\n",
            "Word Jaccard similarity: 0.0\n"
          ]
        }
      ]
    },
    {
      "cell_type": "markdown",
      "source": [
        "There is a vast amount of different similarity measures. The presented similarity measures are probably most commonly used. Now, we are prepared for matching dependency discovery!"
      ],
      "metadata": {
        "id": "XcrPtwcNelo9"
      }
    },
    {
      "cell_type": "markdown",
      "source": [
        "# First example"
      ],
      "metadata": {
        "id": "tfzPSgxuGk9u"
      }
    },
    {
      "cell_type": "markdown",
      "source": [
        "Let's look at the first dataset:"
      ],
      "metadata": {
        "id": "-u4pFEWiGnZs"
      }
    },
    {
      "cell_type": "code",
      "source": [
        "first_dataset=pd.read_csv('animals_beverages.csv')\n",
        "first_dataset"
      ],
      "metadata": {
        "colab": {
          "base_uri": "https://localhost:8080/",
          "height": 175
        },
        "id": "GYSR1eDWGviL",
        "outputId": "95db0177-48c3-4e34-82e9-ade75b0d361b"
      },
      "execution_count": null,
      "outputs": [
        {
          "output_type": "execute_result",
          "data": {
            "text/plain": [
              "       name     zoo animal  diet\n",
              "0     Simba  berlin   lion  meat\n",
              "1  Clarence  london   lion  mead\n",
              "2     Baloo  berlin   bear  fish\n",
              "3      Pooh  london   beer  fish"
            ],
            "text/html": [
              "\n",
              "  <div id=\"df-06b161a0-6993-41d9-a4a2-25142ded9933\" class=\"colab-df-container\">\n",
              "    <div>\n",
              "<style scoped>\n",
              "    .dataframe tbody tr th:only-of-type {\n",
              "        vertical-align: middle;\n",
              "    }\n",
              "\n",
              "    .dataframe tbody tr th {\n",
              "        vertical-align: top;\n",
              "    }\n",
              "\n",
              "    .dataframe thead th {\n",
              "        text-align: right;\n",
              "    }\n",
              "</style>\n",
              "<table border=\"1\" class=\"dataframe\">\n",
              "  <thead>\n",
              "    <tr style=\"text-align: right;\">\n",
              "      <th></th>\n",
              "      <th>name</th>\n",
              "      <th>zoo</th>\n",
              "      <th>animal</th>\n",
              "      <th>diet</th>\n",
              "    </tr>\n",
              "  </thead>\n",
              "  <tbody>\n",
              "    <tr>\n",
              "      <th>0</th>\n",
              "      <td>Simba</td>\n",
              "      <td>berlin</td>\n",
              "      <td>lion</td>\n",
              "      <td>meat</td>\n",
              "    </tr>\n",
              "    <tr>\n",
              "      <th>1</th>\n",
              "      <td>Clarence</td>\n",
              "      <td>london</td>\n",
              "      <td>lion</td>\n",
              "      <td>mead</td>\n",
              "    </tr>\n",
              "    <tr>\n",
              "      <th>2</th>\n",
              "      <td>Baloo</td>\n",
              "      <td>berlin</td>\n",
              "      <td>bear</td>\n",
              "      <td>fish</td>\n",
              "    </tr>\n",
              "    <tr>\n",
              "      <th>3</th>\n",
              "      <td>Pooh</td>\n",
              "      <td>london</td>\n",
              "      <td>beer</td>\n",
              "      <td>fish</td>\n",
              "    </tr>\n",
              "  </tbody>\n",
              "</table>\n",
              "</div>\n",
              "    <div class=\"colab-df-buttons\">\n",
              "\n",
              "  <div class=\"colab-df-container\">\n",
              "    <button class=\"colab-df-convert\" onclick=\"convertToInteractive('df-06b161a0-6993-41d9-a4a2-25142ded9933')\"\n",
              "            title=\"Convert this dataframe to an interactive table.\"\n",
              "            style=\"display:none;\">\n",
              "\n",
              "  <svg xmlns=\"http://www.w3.org/2000/svg\" height=\"24px\" viewBox=\"0 -960 960 960\">\n",
              "    <path d=\"M120-120v-720h720v720H120Zm60-500h600v-160H180v160Zm220 220h160v-160H400v160Zm0 220h160v-160H400v160ZM180-400h160v-160H180v160Zm440 0h160v-160H620v160ZM180-180h160v-160H180v160Zm440 0h160v-160H620v160Z\"/>\n",
              "  </svg>\n",
              "    </button>\n",
              "\n",
              "  <style>\n",
              "    .colab-df-container {\n",
              "      display:flex;\n",
              "      gap: 12px;\n",
              "    }\n",
              "\n",
              "    .colab-df-convert {\n",
              "      background-color: #E8F0FE;\n",
              "      border: none;\n",
              "      border-radius: 50%;\n",
              "      cursor: pointer;\n",
              "      display: none;\n",
              "      fill: #1967D2;\n",
              "      height: 32px;\n",
              "      padding: 0 0 0 0;\n",
              "      width: 32px;\n",
              "    }\n",
              "\n",
              "    .colab-df-convert:hover {\n",
              "      background-color: #E2EBFA;\n",
              "      box-shadow: 0px 1px 2px rgba(60, 64, 67, 0.3), 0px 1px 3px 1px rgba(60, 64, 67, 0.15);\n",
              "      fill: #174EA6;\n",
              "    }\n",
              "\n",
              "    .colab-df-buttons div {\n",
              "      margin-bottom: 4px;\n",
              "    }\n",
              "\n",
              "    [theme=dark] .colab-df-convert {\n",
              "      background-color: #3B4455;\n",
              "      fill: #D2E3FC;\n",
              "    }\n",
              "\n",
              "    [theme=dark] .colab-df-convert:hover {\n",
              "      background-color: #434B5C;\n",
              "      box-shadow: 0px 1px 3px 1px rgba(0, 0, 0, 0.15);\n",
              "      filter: drop-shadow(0px 1px 2px rgba(0, 0, 0, 0.3));\n",
              "      fill: #FFFFFF;\n",
              "    }\n",
              "  </style>\n",
              "\n",
              "    <script>\n",
              "      const buttonEl =\n",
              "        document.querySelector('#df-06b161a0-6993-41d9-a4a2-25142ded9933 button.colab-df-convert');\n",
              "      buttonEl.style.display =\n",
              "        google.colab.kernel.accessAllowed ? 'block' : 'none';\n",
              "\n",
              "      async function convertToInteractive(key) {\n",
              "        const element = document.querySelector('#df-06b161a0-6993-41d9-a4a2-25142ded9933');\n",
              "        const dataTable =\n",
              "          await google.colab.kernel.invokeFunction('convertToInteractive',\n",
              "                                                    [key], {});\n",
              "        if (!dataTable) return;\n",
              "\n",
              "        const docLinkHtml = 'Like what you see? Visit the ' +\n",
              "          '<a target=\"_blank\" href=https://colab.research.google.com/notebooks/data_table.ipynb>data table notebook</a>'\n",
              "          + ' to learn more about interactive tables.';\n",
              "        element.innerHTML = '';\n",
              "        dataTable['output_type'] = 'display_data';\n",
              "        await google.colab.output.renderOutput(dataTable, element);\n",
              "        const docLink = document.createElement('div');\n",
              "        docLink.innerHTML = docLinkHtml;\n",
              "        element.appendChild(docLink);\n",
              "      }\n",
              "    </script>\n",
              "  </div>\n",
              "\n",
              "\n",
              "<div id=\"df-d16ec057-c62a-4ba4-8a13-550ce85beda1\">\n",
              "  <button class=\"colab-df-quickchart\" onclick=\"quickchart('df-d16ec057-c62a-4ba4-8a13-550ce85beda1')\"\n",
              "            title=\"Suggest charts\"\n",
              "            style=\"display:none;\">\n",
              "\n",
              "<svg xmlns=\"http://www.w3.org/2000/svg\" height=\"24px\"viewBox=\"0 0 24 24\"\n",
              "     width=\"24px\">\n",
              "    <g>\n",
              "        <path d=\"M19 3H5c-1.1 0-2 .9-2 2v14c0 1.1.9 2 2 2h14c1.1 0 2-.9 2-2V5c0-1.1-.9-2-2-2zM9 17H7v-7h2v7zm4 0h-2V7h2v10zm4 0h-2v-4h2v4z\"/>\n",
              "    </g>\n",
              "</svg>\n",
              "  </button>\n",
              "\n",
              "<style>\n",
              "  .colab-df-quickchart {\n",
              "      --bg-color: #E8F0FE;\n",
              "      --fill-color: #1967D2;\n",
              "      --hover-bg-color: #E2EBFA;\n",
              "      --hover-fill-color: #174EA6;\n",
              "      --disabled-fill-color: #AAA;\n",
              "      --disabled-bg-color: #DDD;\n",
              "  }\n",
              "\n",
              "  [theme=dark] .colab-df-quickchart {\n",
              "      --bg-color: #3B4455;\n",
              "      --fill-color: #D2E3FC;\n",
              "      --hover-bg-color: #434B5C;\n",
              "      --hover-fill-color: #FFFFFF;\n",
              "      --disabled-bg-color: #3B4455;\n",
              "      --disabled-fill-color: #666;\n",
              "  }\n",
              "\n",
              "  .colab-df-quickchart {\n",
              "    background-color: var(--bg-color);\n",
              "    border: none;\n",
              "    border-radius: 50%;\n",
              "    cursor: pointer;\n",
              "    display: none;\n",
              "    fill: var(--fill-color);\n",
              "    height: 32px;\n",
              "    padding: 0;\n",
              "    width: 32px;\n",
              "  }\n",
              "\n",
              "  .colab-df-quickchart:hover {\n",
              "    background-color: var(--hover-bg-color);\n",
              "    box-shadow: 0 1px 2px rgba(60, 64, 67, 0.3), 0 1px 3px 1px rgba(60, 64, 67, 0.15);\n",
              "    fill: var(--button-hover-fill-color);\n",
              "  }\n",
              "\n",
              "  .colab-df-quickchart-complete:disabled,\n",
              "  .colab-df-quickchart-complete:disabled:hover {\n",
              "    background-color: var(--disabled-bg-color);\n",
              "    fill: var(--disabled-fill-color);\n",
              "    box-shadow: none;\n",
              "  }\n",
              "\n",
              "  .colab-df-spinner {\n",
              "    border: 2px solid var(--fill-color);\n",
              "    border-color: transparent;\n",
              "    border-bottom-color: var(--fill-color);\n",
              "    animation:\n",
              "      spin 1s steps(1) infinite;\n",
              "  }\n",
              "\n",
              "  @keyframes spin {\n",
              "    0% {\n",
              "      border-color: transparent;\n",
              "      border-bottom-color: var(--fill-color);\n",
              "      border-left-color: var(--fill-color);\n",
              "    }\n",
              "    20% {\n",
              "      border-color: transparent;\n",
              "      border-left-color: var(--fill-color);\n",
              "      border-top-color: var(--fill-color);\n",
              "    }\n",
              "    30% {\n",
              "      border-color: transparent;\n",
              "      border-left-color: var(--fill-color);\n",
              "      border-top-color: var(--fill-color);\n",
              "      border-right-color: var(--fill-color);\n",
              "    }\n",
              "    40% {\n",
              "      border-color: transparent;\n",
              "      border-right-color: var(--fill-color);\n",
              "      border-top-color: var(--fill-color);\n",
              "    }\n",
              "    60% {\n",
              "      border-color: transparent;\n",
              "      border-right-color: var(--fill-color);\n",
              "    }\n",
              "    80% {\n",
              "      border-color: transparent;\n",
              "      border-right-color: var(--fill-color);\n",
              "      border-bottom-color: var(--fill-color);\n",
              "    }\n",
              "    90% {\n",
              "      border-color: transparent;\n",
              "      border-bottom-color: var(--fill-color);\n",
              "    }\n",
              "  }\n",
              "</style>\n",
              "\n",
              "  <script>\n",
              "    async function quickchart(key) {\n",
              "      const quickchartButtonEl =\n",
              "        document.querySelector('#' + key + ' button');\n",
              "      quickchartButtonEl.disabled = true;  // To prevent multiple clicks.\n",
              "      quickchartButtonEl.classList.add('colab-df-spinner');\n",
              "      try {\n",
              "        const charts = await google.colab.kernel.invokeFunction(\n",
              "            'suggestCharts', [key], {});\n",
              "      } catch (error) {\n",
              "        console.error('Error during call to suggestCharts:', error);\n",
              "      }\n",
              "      quickchartButtonEl.classList.remove('colab-df-spinner');\n",
              "      quickchartButtonEl.classList.add('colab-df-quickchart-complete');\n",
              "    }\n",
              "    (() => {\n",
              "      let quickchartButtonEl =\n",
              "        document.querySelector('#df-d16ec057-c62a-4ba4-8a13-550ce85beda1 button');\n",
              "      quickchartButtonEl.style.display =\n",
              "        google.colab.kernel.accessAllowed ? 'block' : 'none';\n",
              "    })();\n",
              "  </script>\n",
              "</div>\n",
              "    </div>\n",
              "  </div>\n"
            ],
            "application/vnd.google.colaboratory.intrinsic+json": {
              "type": "dataframe",
              "variable_name": "first_dataset",
              "summary": "{\n  \"name\": \"first_dataset\",\n  \"rows\": 4,\n  \"fields\": [\n    {\n      \"column\": \"name\",\n      \"properties\": {\n        \"dtype\": \"string\",\n        \"num_unique_values\": 4,\n        \"samples\": [\n          \"Clarence\",\n          \"Pooh\",\n          \"Simba\"\n        ],\n        \"semantic_type\": \"\",\n        \"description\": \"\"\n      }\n    },\n    {\n      \"column\": \"zoo\",\n      \"properties\": {\n        \"dtype\": \"string\",\n        \"num_unique_values\": 2,\n        \"samples\": [\n          \"london\",\n          \"berlin\"\n        ],\n        \"semantic_type\": \"\",\n        \"description\": \"\"\n      }\n    },\n    {\n      \"column\": \"animal\",\n      \"properties\": {\n        \"dtype\": \"string\",\n        \"num_unique_values\": 3,\n        \"samples\": [\n          \"lion\",\n          \"bear\"\n        ],\n        \"semantic_type\": \"\",\n        \"description\": \"\"\n      }\n    },\n    {\n      \"column\": \"diet\",\n      \"properties\": {\n        \"dtype\": \"string\",\n        \"num_unique_values\": 3,\n        \"samples\": [\n          \"meat\",\n          \"mead\"\n        ],\n        \"semantic_type\": \"\",\n        \"description\": \"\"\n      }\n    }\n  ]\n}"
            }
          },
          "metadata": {},
          "execution_count": 10
        }
      ]
    },
    {
      "cell_type": "markdown",
      "source": [
        "It's a small example dataset that contains information about animals.\n",
        "\n",
        "Now, let's find matching dependencies using Desbordante!\n",
        "\n",
        "Initially, we define columns the values of which are going to be compared and the similarity measure according to which similarity of values is going to be determined. The HyMD algorithm then finds the set of decision boundaries of all MDs that are enough to infer MDs that satisfy some requirements (interestingness criteria) and hold on the data."
      ],
      "metadata": {
        "id": "PSmYQLJXG8La"
      }
    },
    {
      "cell_type": "markdown",
      "source": [
        "In this example, we are going to compare values of every column to itself using normalized Levenshtein distance:"
      ],
      "metadata": {
        "id": "qJao2oF5u7vE"
      }
    },
    {
      "cell_type": "code",
      "source": [
        "Levenshtein = desbordante.md.column_matches.Levenshtein\n",
        "\n",
        "algo = desbordante.md.algorithms.HyMD()\n",
        "algo.load_data(left_table=first_dataset)\n",
        "column_matches = [Levenshtein(i, i) for i in range(len(first_dataset.columns))]\n",
        "algo.execute(column_matches=column_matches)\n",
        "mds = algo.get_mds()\n",
        "print('Found MDs:')\n",
        "print(*(f'{i + 1} {md}' for i, md in enumerate(mds)), sep='\\n')"
      ],
      "metadata": {
        "id": "8AHGZm3tHTpt",
        "colab": {
          "base_uri": "https://localhost:8080/"
        },
        "outputId": "a5ad5201-a9cb-425c-cc95-87d3ccd566ff"
      },
      "execution_count": null,
      "outputs": [
        {
          "output_type": "stream",
          "name": "stdout",
          "text": [
            "Found MDs:\n",
            "1 [ levenshtein(diet, diet)>=0.75 ] -> levenshtein(animal, animal)>=0.75\n",
            "2 [ levenshtein(animal, animal)>=0.75 ] -> levenshtein(diet, diet)>=0.75\n"
          ]
        }
      ]
    },
    {
      "cell_type": "markdown",
      "source": [
        "The HyMD algorithm found two matching dependencies (MDs)! These MDs can also be displayed in short form, showing only non-zero decision boundaries:"
      ],
      "metadata": {
        "id": "rgXQw1XFgMmv"
      }
    },
    {
      "cell_type": "code",
      "source": [
        "print(*map(lambda md: md.to_short_string(), mds), sep='\\n')"
      ],
      "metadata": {
        "colab": {
          "base_uri": "https://localhost:8080/"
        },
        "id": "lRr03c56w1kl",
        "outputId": "572489ca-1c28-45bf-fe36-db1e924bc46b"
      },
      "execution_count": null,
      "outputs": [
        {
          "output_type": "stream",
          "name": "stdout",
          "text": [
            "[,,,0.75]->2@0.75\n",
            "[,,0.75,]->3@0.75\n"
          ]
        }
      ]
    },
    {
      "cell_type": "markdown",
      "source": [
        "The first MD, \"[ levenshtein(diet, diet)>=0.75 ] -> levenshtein(animal, animal)>=0.75\", means the following.\n",
        "\n",
        "For any two tuples of the table if the Levenshtein similarity between their values on column \"diet\" is greater than 0.75, then the Levenshtein similarity between their values on column \"animal\" is greater than 0.75."
      ],
      "metadata": {
        "id": "19AQAgKbgSU-"
      }
    },
    {
      "cell_type": "markdown",
      "source": [
        "As we can see, there are two tuple pairs that satisfy left-hand side (LHS) of the MD:"
      ],
      "metadata": {
        "id": "Vgoc5OR8kFxp"
      }
    },
    {
      "cell_type": "code",
      "source": [
        "print(LevenshteinSimilarity(\"meat\",\"mead\"))\n",
        "print(LevenshteinSimilarity(\"fish\",\"fish\"))"
      ],
      "metadata": {
        "colab": {
          "base_uri": "https://localhost:8080/"
        },
        "id": "1wAEht6BkcaQ",
        "outputId": "8cae04cb-2afa-4e58-af29-9df222ebb643"
      },
      "execution_count": null,
      "outputs": [
        {
          "output_type": "stream",
          "name": "stdout",
          "text": [
            "0.75\n",
            "1.0\n"
          ]
        }
      ]
    },
    {
      "cell_type": "code",
      "source": [
        "def color_cells(x):\n",
        "  df1=pd.DataFrame('',index=x.index,columns=x.columns)\n",
        "  df1.iloc[0,3]='color:green;font-weight:bold'\n",
        "  df1.iloc[1,3]='color:green;font-weight:bold'\n",
        "  df1.iloc[2,3]='color:blue;font-weight:bold'\n",
        "  df1.iloc[3,3]='color:blue;font-weight:bold'\n",
        "  return df1\n",
        "\n",
        "first_dataset.style.apply(color_cells,axis=None)"
      ],
      "metadata": {
        "colab": {
          "base_uri": "https://localhost:8080/",
          "height": 175
        },
        "id": "06lee8ZMlMX4",
        "outputId": "2c30b8e8-6048-41cc-e33a-9a2932c5af8f"
      },
      "execution_count": null,
      "outputs": [
        {
          "output_type": "execute_result",
          "data": {
            "text/plain": [
              "<pandas.io.formats.style.Styler at 0x79aead66ecd0>"
            ],
            "text/html": [
              "<style type=\"text/css\">\n",
              "#T_83746_row0_col3, #T_83746_row1_col3 {\n",
              "  color: green;\n",
              "  font-weight: bold;\n",
              "}\n",
              "#T_83746_row2_col3, #T_83746_row3_col3 {\n",
              "  color: blue;\n",
              "  font-weight: bold;\n",
              "}\n",
              "</style>\n",
              "<table id=\"T_83746\" class=\"dataframe\">\n",
              "  <thead>\n",
              "    <tr>\n",
              "      <th class=\"blank level0\" >&nbsp;</th>\n",
              "      <th id=\"T_83746_level0_col0\" class=\"col_heading level0 col0\" >name</th>\n",
              "      <th id=\"T_83746_level0_col1\" class=\"col_heading level0 col1\" >zoo</th>\n",
              "      <th id=\"T_83746_level0_col2\" class=\"col_heading level0 col2\" >animal</th>\n",
              "      <th id=\"T_83746_level0_col3\" class=\"col_heading level0 col3\" >diet</th>\n",
              "    </tr>\n",
              "  </thead>\n",
              "  <tbody>\n",
              "    <tr>\n",
              "      <th id=\"T_83746_level0_row0\" class=\"row_heading level0 row0\" >0</th>\n",
              "      <td id=\"T_83746_row0_col0\" class=\"data row0 col0\" >Simba</td>\n",
              "      <td id=\"T_83746_row0_col1\" class=\"data row0 col1\" >berlin</td>\n",
              "      <td id=\"T_83746_row0_col2\" class=\"data row0 col2\" >lion</td>\n",
              "      <td id=\"T_83746_row0_col3\" class=\"data row0 col3\" >meat</td>\n",
              "    </tr>\n",
              "    <tr>\n",
              "      <th id=\"T_83746_level0_row1\" class=\"row_heading level0 row1\" >1</th>\n",
              "      <td id=\"T_83746_row1_col0\" class=\"data row1 col0\" >Clarence</td>\n",
              "      <td id=\"T_83746_row1_col1\" class=\"data row1 col1\" >london</td>\n",
              "      <td id=\"T_83746_row1_col2\" class=\"data row1 col2\" >lion</td>\n",
              "      <td id=\"T_83746_row1_col3\" class=\"data row1 col3\" >mead</td>\n",
              "    </tr>\n",
              "    <tr>\n",
              "      <th id=\"T_83746_level0_row2\" class=\"row_heading level0 row2\" >2</th>\n",
              "      <td id=\"T_83746_row2_col0\" class=\"data row2 col0\" >Baloo</td>\n",
              "      <td id=\"T_83746_row2_col1\" class=\"data row2 col1\" >berlin</td>\n",
              "      <td id=\"T_83746_row2_col2\" class=\"data row2 col2\" >bear</td>\n",
              "      <td id=\"T_83746_row2_col3\" class=\"data row2 col3\" >fish</td>\n",
              "    </tr>\n",
              "    <tr>\n",
              "      <th id=\"T_83746_level0_row3\" class=\"row_heading level0 row3\" >3</th>\n",
              "      <td id=\"T_83746_row3_col0\" class=\"data row3 col0\" >Pooh</td>\n",
              "      <td id=\"T_83746_row3_col1\" class=\"data row3 col1\" >london</td>\n",
              "      <td id=\"T_83746_row3_col2\" class=\"data row3 col2\" >beer</td>\n",
              "      <td id=\"T_83746_row3_col3\" class=\"data row3 col3\" >fish</td>\n",
              "    </tr>\n",
              "  </tbody>\n",
              "</table>\n"
            ]
          },
          "metadata": {},
          "execution_count": 14
        }
      ]
    },
    {
      "cell_type": "markdown",
      "source": [
        "Let's look at their values on column \"animal\":"
      ],
      "metadata": {
        "id": "H4oaYJRWlxzB"
      }
    },
    {
      "cell_type": "code",
      "source": [
        "def color_cells(x):\n",
        "  df1=pd.DataFrame('',index=x.index,columns=x.columns)\n",
        "  for j in range(2,4):\n",
        "    df1.iloc[0,j]='color:green;font-weight:bold'\n",
        "    df1.iloc[1,j]='color:green;font-weight:bold'\n",
        "    df1.iloc[2,j]='color:blue;font-weight:bold'\n",
        "    df1.iloc[3,j]='color:blue;font-weight:bold'\n",
        "  return df1\n",
        "\n",
        "first_dataset.style.apply(color_cells,axis=None)"
      ],
      "metadata": {
        "colab": {
          "base_uri": "https://localhost:8080/",
          "height": 175
        },
        "id": "Gn8_Tq9mmSdO",
        "outputId": "8c6697a0-1cb8-44f2-f43b-b0dc95d46ec9"
      },
      "execution_count": null,
      "outputs": [
        {
          "output_type": "execute_result",
          "data": {
            "text/plain": [
              "<pandas.io.formats.style.Styler at 0x79aeaf960f90>"
            ],
            "text/html": [
              "<style type=\"text/css\">\n",
              "#T_a8df5_row0_col2, #T_a8df5_row0_col3, #T_a8df5_row1_col2, #T_a8df5_row1_col3 {\n",
              "  color: green;\n",
              "  font-weight: bold;\n",
              "}\n",
              "#T_a8df5_row2_col2, #T_a8df5_row2_col3, #T_a8df5_row3_col2, #T_a8df5_row3_col3 {\n",
              "  color: blue;\n",
              "  font-weight: bold;\n",
              "}\n",
              "</style>\n",
              "<table id=\"T_a8df5\" class=\"dataframe\">\n",
              "  <thead>\n",
              "    <tr>\n",
              "      <th class=\"blank level0\" >&nbsp;</th>\n",
              "      <th id=\"T_a8df5_level0_col0\" class=\"col_heading level0 col0\" >name</th>\n",
              "      <th id=\"T_a8df5_level0_col1\" class=\"col_heading level0 col1\" >zoo</th>\n",
              "      <th id=\"T_a8df5_level0_col2\" class=\"col_heading level0 col2\" >animal</th>\n",
              "      <th id=\"T_a8df5_level0_col3\" class=\"col_heading level0 col3\" >diet</th>\n",
              "    </tr>\n",
              "  </thead>\n",
              "  <tbody>\n",
              "    <tr>\n",
              "      <th id=\"T_a8df5_level0_row0\" class=\"row_heading level0 row0\" >0</th>\n",
              "      <td id=\"T_a8df5_row0_col0\" class=\"data row0 col0\" >Simba</td>\n",
              "      <td id=\"T_a8df5_row0_col1\" class=\"data row0 col1\" >berlin</td>\n",
              "      <td id=\"T_a8df5_row0_col2\" class=\"data row0 col2\" >lion</td>\n",
              "      <td id=\"T_a8df5_row0_col3\" class=\"data row0 col3\" >meat</td>\n",
              "    </tr>\n",
              "    <tr>\n",
              "      <th id=\"T_a8df5_level0_row1\" class=\"row_heading level0 row1\" >1</th>\n",
              "      <td id=\"T_a8df5_row1_col0\" class=\"data row1 col0\" >Clarence</td>\n",
              "      <td id=\"T_a8df5_row1_col1\" class=\"data row1 col1\" >london</td>\n",
              "      <td id=\"T_a8df5_row1_col2\" class=\"data row1 col2\" >lion</td>\n",
              "      <td id=\"T_a8df5_row1_col3\" class=\"data row1 col3\" >mead</td>\n",
              "    </tr>\n",
              "    <tr>\n",
              "      <th id=\"T_a8df5_level0_row2\" class=\"row_heading level0 row2\" >2</th>\n",
              "      <td id=\"T_a8df5_row2_col0\" class=\"data row2 col0\" >Baloo</td>\n",
              "      <td id=\"T_a8df5_row2_col1\" class=\"data row2 col1\" >berlin</td>\n",
              "      <td id=\"T_a8df5_row2_col2\" class=\"data row2 col2\" >bear</td>\n",
              "      <td id=\"T_a8df5_row2_col3\" class=\"data row2 col3\" >fish</td>\n",
              "    </tr>\n",
              "    <tr>\n",
              "      <th id=\"T_a8df5_level0_row3\" class=\"row_heading level0 row3\" >3</th>\n",
              "      <td id=\"T_a8df5_row3_col0\" class=\"data row3 col0\" >Pooh</td>\n",
              "      <td id=\"T_a8df5_row3_col1\" class=\"data row3 col1\" >london</td>\n",
              "      <td id=\"T_a8df5_row3_col2\" class=\"data row3 col2\" >beer</td>\n",
              "      <td id=\"T_a8df5_row3_col3\" class=\"data row3 col3\" >fish</td>\n",
              "    </tr>\n",
              "  </tbody>\n",
              "</table>\n"
            ]
          },
          "metadata": {},
          "execution_count": 15
        }
      ]
    },
    {
      "cell_type": "markdown",
      "source": [
        "It can easily be seen that the similarity between these values is greater than 0.75:"
      ],
      "metadata": {
        "id": "Ax13JojImhZQ"
      }
    },
    {
      "cell_type": "code",
      "source": [
        "print(LevenshteinSimilarity(\"lion\",\"lion\"))\n",
        "print(LevenshteinSimilarity(\"bear\",\"beer\"))"
      ],
      "metadata": {
        "colab": {
          "base_uri": "https://localhost:8080/"
        },
        "id": "XSFrujVZmqDP",
        "outputId": "876bced1-3acf-485b-87a6-68d32320b4d5"
      },
      "execution_count": null,
      "outputs": [
        {
          "output_type": "stream",
          "name": "stdout",
          "text": [
            "1.0\n",
            "0.75\n"
          ]
        }
      ]
    },
    {
      "cell_type": "markdown",
      "source": [
        "Thus, the first MD holds in the table. The second MD is inverse to the first one and holds in the table for similar reasons."
      ],
      "metadata": {
        "id": "v1MoGMZamv-u"
      }
    },
    {
      "cell_type": "markdown",
      "source": [
        "# Column matches"
      ],
      "metadata": {
        "id": "T5ScMrUYoVoy"
      }
    },
    {
      "cell_type": "markdown",
      "source": [
        "Matching dependencies are defined on **column matches** instead of single columns. A column match has the following form: *measure(column1, column2)*. It means that a similarity measure *measure* is used for comparing values from *column1* to values from *column2*. For example, *levenshtein(diet, diet)* means that Levenshtein similarity measure is used for comparing values from column *diet*. In the above example all of the columns in column matches were the same, but it is possible to define a column match on different columns."
      ],
      "metadata": {
        "id": "57jSrZtwoXmb"
      }
    },
    {
      "cell_type": "markdown",
      "source": [
        "```python\n",
        "Levenshtein = desbordante.md.column_matches.Levenshtein\n",
        "column_matches = [Levenshtein(i, i) for i in range(len(first_dataset.columns))\n",
        "```\n",
        "\n",
        "These two lines from the above example were used to create column matches for discovery of MDs on them. Creation of column matches with Levenshtein similarity measure is directly supported in Desbordante. As you can see, we have created column matches from same columns. Let's move to the second example to see more complex column matches and similarity measures!"
      ],
      "metadata": {
        "id": "YddnhCs6rWj8"
      }
    },
    {
      "cell_type": "markdown",
      "source": [
        "# Second example"
      ],
      "metadata": {
        "id": "wdGLVkAwtK6Q"
      }
    },
    {
      "cell_type": "markdown",
      "source": [
        "Let's have a look at the second dataset:"
      ],
      "metadata": {
        "id": "rMvD8rT7t4Fh"
      }
    },
    {
      "cell_type": "code",
      "source": [
        "second_dataset=pd.read_csv('carrier_merger.csv')\n",
        "second_dataset"
      ],
      "metadata": {
        "colab": {
          "base_uri": "https://localhost:8080/",
          "height": 426
        },
        "id": "QSfqZIb_t-fy",
        "outputId": "c7816a14-706d-4f85-c54d-15f08813b074"
      },
      "execution_count": null,
      "outputs": [
        {
          "output_type": "execute_result",
          "data": {
            "text/plain": [
              "    id Source              From                To  Distance (km)\n",
              "0    1    ac1  Saint-Petersburg          Helsinki            315\n",
              "1    2    ac2     St-Petersburg          Helsinki            301\n",
              "2    3    ac2            Moscow     St-Petersburg            650\n",
              "3    4    ac2            Moscow     St-Petersburg            638\n",
              "4    5    ac1            Moscow  Saint-Petersburg            670\n",
              "5    6    ac1            Moscow     Yekaterinburg           1417\n",
              "6    7    ac2         Trondheim        Copenhagen            877\n",
              "7    8    ac1        Copenhagen         Trondheim            877\n",
              "8    9    ac2           Dobfany          Helsinki           1396\n",
              "9   10    ac2     St-Petersburg          Kostroma            659\n",
              "10  11    ac2     St-Petersburg            Moscow            650\n",
              "11  12    ac1            Varstu          Helsinki            315"
            ],
            "text/html": [
              "\n",
              "  <div id=\"df-07fcbdce-eda4-41bc-a28b-69c06b79ee72\" class=\"colab-df-container\">\n",
              "    <div>\n",
              "<style scoped>\n",
              "    .dataframe tbody tr th:only-of-type {\n",
              "        vertical-align: middle;\n",
              "    }\n",
              "\n",
              "    .dataframe tbody tr th {\n",
              "        vertical-align: top;\n",
              "    }\n",
              "\n",
              "    .dataframe thead th {\n",
              "        text-align: right;\n",
              "    }\n",
              "</style>\n",
              "<table border=\"1\" class=\"dataframe\">\n",
              "  <thead>\n",
              "    <tr style=\"text-align: right;\">\n",
              "      <th></th>\n",
              "      <th>id</th>\n",
              "      <th>Source</th>\n",
              "      <th>From</th>\n",
              "      <th>To</th>\n",
              "      <th>Distance (km)</th>\n",
              "    </tr>\n",
              "  </thead>\n",
              "  <tbody>\n",
              "    <tr>\n",
              "      <th>0</th>\n",
              "      <td>1</td>\n",
              "      <td>ac1</td>\n",
              "      <td>Saint-Petersburg</td>\n",
              "      <td>Helsinki</td>\n",
              "      <td>315</td>\n",
              "    </tr>\n",
              "    <tr>\n",
              "      <th>1</th>\n",
              "      <td>2</td>\n",
              "      <td>ac2</td>\n",
              "      <td>St-Petersburg</td>\n",
              "      <td>Helsinki</td>\n",
              "      <td>301</td>\n",
              "    </tr>\n",
              "    <tr>\n",
              "      <th>2</th>\n",
              "      <td>3</td>\n",
              "      <td>ac2</td>\n",
              "      <td>Moscow</td>\n",
              "      <td>St-Petersburg</td>\n",
              "      <td>650</td>\n",
              "    </tr>\n",
              "    <tr>\n",
              "      <th>3</th>\n",
              "      <td>4</td>\n",
              "      <td>ac2</td>\n",
              "      <td>Moscow</td>\n",
              "      <td>St-Petersburg</td>\n",
              "      <td>638</td>\n",
              "    </tr>\n",
              "    <tr>\n",
              "      <th>4</th>\n",
              "      <td>5</td>\n",
              "      <td>ac1</td>\n",
              "      <td>Moscow</td>\n",
              "      <td>Saint-Petersburg</td>\n",
              "      <td>670</td>\n",
              "    </tr>\n",
              "    <tr>\n",
              "      <th>5</th>\n",
              "      <td>6</td>\n",
              "      <td>ac1</td>\n",
              "      <td>Moscow</td>\n",
              "      <td>Yekaterinburg</td>\n",
              "      <td>1417</td>\n",
              "    </tr>\n",
              "    <tr>\n",
              "      <th>6</th>\n",
              "      <td>7</td>\n",
              "      <td>ac2</td>\n",
              "      <td>Trondheim</td>\n",
              "      <td>Copenhagen</td>\n",
              "      <td>877</td>\n",
              "    </tr>\n",
              "    <tr>\n",
              "      <th>7</th>\n",
              "      <td>8</td>\n",
              "      <td>ac1</td>\n",
              "      <td>Copenhagen</td>\n",
              "      <td>Trondheim</td>\n",
              "      <td>877</td>\n",
              "    </tr>\n",
              "    <tr>\n",
              "      <th>8</th>\n",
              "      <td>9</td>\n",
              "      <td>ac2</td>\n",
              "      <td>Dobfany</td>\n",
              "      <td>Helsinki</td>\n",
              "      <td>1396</td>\n",
              "    </tr>\n",
              "    <tr>\n",
              "      <th>9</th>\n",
              "      <td>10</td>\n",
              "      <td>ac2</td>\n",
              "      <td>St-Petersburg</td>\n",
              "      <td>Kostroma</td>\n",
              "      <td>659</td>\n",
              "    </tr>\n",
              "    <tr>\n",
              "      <th>10</th>\n",
              "      <td>11</td>\n",
              "      <td>ac2</td>\n",
              "      <td>St-Petersburg</td>\n",
              "      <td>Moscow</td>\n",
              "      <td>650</td>\n",
              "    </tr>\n",
              "    <tr>\n",
              "      <th>11</th>\n",
              "      <td>12</td>\n",
              "      <td>ac1</td>\n",
              "      <td>Varstu</td>\n",
              "      <td>Helsinki</td>\n",
              "      <td>315</td>\n",
              "    </tr>\n",
              "  </tbody>\n",
              "</table>\n",
              "</div>\n",
              "    <div class=\"colab-df-buttons\">\n",
              "\n",
              "  <div class=\"colab-df-container\">\n",
              "    <button class=\"colab-df-convert\" onclick=\"convertToInteractive('df-07fcbdce-eda4-41bc-a28b-69c06b79ee72')\"\n",
              "            title=\"Convert this dataframe to an interactive table.\"\n",
              "            style=\"display:none;\">\n",
              "\n",
              "  <svg xmlns=\"http://www.w3.org/2000/svg\" height=\"24px\" viewBox=\"0 -960 960 960\">\n",
              "    <path d=\"M120-120v-720h720v720H120Zm60-500h600v-160H180v160Zm220 220h160v-160H400v160Zm0 220h160v-160H400v160ZM180-400h160v-160H180v160Zm440 0h160v-160H620v160ZM180-180h160v-160H180v160Zm440 0h160v-160H620v160Z\"/>\n",
              "  </svg>\n",
              "    </button>\n",
              "\n",
              "  <style>\n",
              "    .colab-df-container {\n",
              "      display:flex;\n",
              "      gap: 12px;\n",
              "    }\n",
              "\n",
              "    .colab-df-convert {\n",
              "      background-color: #E8F0FE;\n",
              "      border: none;\n",
              "      border-radius: 50%;\n",
              "      cursor: pointer;\n",
              "      display: none;\n",
              "      fill: #1967D2;\n",
              "      height: 32px;\n",
              "      padding: 0 0 0 0;\n",
              "      width: 32px;\n",
              "    }\n",
              "\n",
              "    .colab-df-convert:hover {\n",
              "      background-color: #E2EBFA;\n",
              "      box-shadow: 0px 1px 2px rgba(60, 64, 67, 0.3), 0px 1px 3px 1px rgba(60, 64, 67, 0.15);\n",
              "      fill: #174EA6;\n",
              "    }\n",
              "\n",
              "    .colab-df-buttons div {\n",
              "      margin-bottom: 4px;\n",
              "    }\n",
              "\n",
              "    [theme=dark] .colab-df-convert {\n",
              "      background-color: #3B4455;\n",
              "      fill: #D2E3FC;\n",
              "    }\n",
              "\n",
              "    [theme=dark] .colab-df-convert:hover {\n",
              "      background-color: #434B5C;\n",
              "      box-shadow: 0px 1px 3px 1px rgba(0, 0, 0, 0.15);\n",
              "      filter: drop-shadow(0px 1px 2px rgba(0, 0, 0, 0.3));\n",
              "      fill: #FFFFFF;\n",
              "    }\n",
              "  </style>\n",
              "\n",
              "    <script>\n",
              "      const buttonEl =\n",
              "        document.querySelector('#df-07fcbdce-eda4-41bc-a28b-69c06b79ee72 button.colab-df-convert');\n",
              "      buttonEl.style.display =\n",
              "        google.colab.kernel.accessAllowed ? 'block' : 'none';\n",
              "\n",
              "      async function convertToInteractive(key) {\n",
              "        const element = document.querySelector('#df-07fcbdce-eda4-41bc-a28b-69c06b79ee72');\n",
              "        const dataTable =\n",
              "          await google.colab.kernel.invokeFunction('convertToInteractive',\n",
              "                                                    [key], {});\n",
              "        if (!dataTable) return;\n",
              "\n",
              "        const docLinkHtml = 'Like what you see? Visit the ' +\n",
              "          '<a target=\"_blank\" href=https://colab.research.google.com/notebooks/data_table.ipynb>data table notebook</a>'\n",
              "          + ' to learn more about interactive tables.';\n",
              "        element.innerHTML = '';\n",
              "        dataTable['output_type'] = 'display_data';\n",
              "        await google.colab.output.renderOutput(dataTable, element);\n",
              "        const docLink = document.createElement('div');\n",
              "        docLink.innerHTML = docLinkHtml;\n",
              "        element.appendChild(docLink);\n",
              "      }\n",
              "    </script>\n",
              "  </div>\n",
              "\n",
              "\n",
              "<div id=\"df-1c0aaf10-2015-4043-8a1c-5f9b68e5b9b9\">\n",
              "  <button class=\"colab-df-quickchart\" onclick=\"quickchart('df-1c0aaf10-2015-4043-8a1c-5f9b68e5b9b9')\"\n",
              "            title=\"Suggest charts\"\n",
              "            style=\"display:none;\">\n",
              "\n",
              "<svg xmlns=\"http://www.w3.org/2000/svg\" height=\"24px\"viewBox=\"0 0 24 24\"\n",
              "     width=\"24px\">\n",
              "    <g>\n",
              "        <path d=\"M19 3H5c-1.1 0-2 .9-2 2v14c0 1.1.9 2 2 2h14c1.1 0 2-.9 2-2V5c0-1.1-.9-2-2-2zM9 17H7v-7h2v7zm4 0h-2V7h2v10zm4 0h-2v-4h2v4z\"/>\n",
              "    </g>\n",
              "</svg>\n",
              "  </button>\n",
              "\n",
              "<style>\n",
              "  .colab-df-quickchart {\n",
              "      --bg-color: #E8F0FE;\n",
              "      --fill-color: #1967D2;\n",
              "      --hover-bg-color: #E2EBFA;\n",
              "      --hover-fill-color: #174EA6;\n",
              "      --disabled-fill-color: #AAA;\n",
              "      --disabled-bg-color: #DDD;\n",
              "  }\n",
              "\n",
              "  [theme=dark] .colab-df-quickchart {\n",
              "      --bg-color: #3B4455;\n",
              "      --fill-color: #D2E3FC;\n",
              "      --hover-bg-color: #434B5C;\n",
              "      --hover-fill-color: #FFFFFF;\n",
              "      --disabled-bg-color: #3B4455;\n",
              "      --disabled-fill-color: #666;\n",
              "  }\n",
              "\n",
              "  .colab-df-quickchart {\n",
              "    background-color: var(--bg-color);\n",
              "    border: none;\n",
              "    border-radius: 50%;\n",
              "    cursor: pointer;\n",
              "    display: none;\n",
              "    fill: var(--fill-color);\n",
              "    height: 32px;\n",
              "    padding: 0;\n",
              "    width: 32px;\n",
              "  }\n",
              "\n",
              "  .colab-df-quickchart:hover {\n",
              "    background-color: var(--hover-bg-color);\n",
              "    box-shadow: 0 1px 2px rgba(60, 64, 67, 0.3), 0 1px 3px 1px rgba(60, 64, 67, 0.15);\n",
              "    fill: var(--button-hover-fill-color);\n",
              "  }\n",
              "\n",
              "  .colab-df-quickchart-complete:disabled,\n",
              "  .colab-df-quickchart-complete:disabled:hover {\n",
              "    background-color: var(--disabled-bg-color);\n",
              "    fill: var(--disabled-fill-color);\n",
              "    box-shadow: none;\n",
              "  }\n",
              "\n",
              "  .colab-df-spinner {\n",
              "    border: 2px solid var(--fill-color);\n",
              "    border-color: transparent;\n",
              "    border-bottom-color: var(--fill-color);\n",
              "    animation:\n",
              "      spin 1s steps(1) infinite;\n",
              "  }\n",
              "\n",
              "  @keyframes spin {\n",
              "    0% {\n",
              "      border-color: transparent;\n",
              "      border-bottom-color: var(--fill-color);\n",
              "      border-left-color: var(--fill-color);\n",
              "    }\n",
              "    20% {\n",
              "      border-color: transparent;\n",
              "      border-left-color: var(--fill-color);\n",
              "      border-top-color: var(--fill-color);\n",
              "    }\n",
              "    30% {\n",
              "      border-color: transparent;\n",
              "      border-left-color: var(--fill-color);\n",
              "      border-top-color: var(--fill-color);\n",
              "      border-right-color: var(--fill-color);\n",
              "    }\n",
              "    40% {\n",
              "      border-color: transparent;\n",
              "      border-right-color: var(--fill-color);\n",
              "      border-top-color: var(--fill-color);\n",
              "    }\n",
              "    60% {\n",
              "      border-color: transparent;\n",
              "      border-right-color: var(--fill-color);\n",
              "    }\n",
              "    80% {\n",
              "      border-color: transparent;\n",
              "      border-right-color: var(--fill-color);\n",
              "      border-bottom-color: var(--fill-color);\n",
              "    }\n",
              "    90% {\n",
              "      border-color: transparent;\n",
              "      border-bottom-color: var(--fill-color);\n",
              "    }\n",
              "  }\n",
              "</style>\n",
              "\n",
              "  <script>\n",
              "    async function quickchart(key) {\n",
              "      const quickchartButtonEl =\n",
              "        document.querySelector('#' + key + ' button');\n",
              "      quickchartButtonEl.disabled = true;  // To prevent multiple clicks.\n",
              "      quickchartButtonEl.classList.add('colab-df-spinner');\n",
              "      try {\n",
              "        const charts = await google.colab.kernel.invokeFunction(\n",
              "            'suggestCharts', [key], {});\n",
              "      } catch (error) {\n",
              "        console.error('Error during call to suggestCharts:', error);\n",
              "      }\n",
              "      quickchartButtonEl.classList.remove('colab-df-spinner');\n",
              "      quickchartButtonEl.classList.add('colab-df-quickchart-complete');\n",
              "    }\n",
              "    (() => {\n",
              "      let quickchartButtonEl =\n",
              "        document.querySelector('#df-1c0aaf10-2015-4043-8a1c-5f9b68e5b9b9 button');\n",
              "      quickchartButtonEl.style.display =\n",
              "        google.colab.kernel.accessAllowed ? 'block' : 'none';\n",
              "    })();\n",
              "  </script>\n",
              "</div>\n",
              "    </div>\n",
              "  </div>\n"
            ],
            "application/vnd.google.colaboratory.intrinsic+json": {
              "type": "dataframe",
              "variable_name": "second_dataset",
              "summary": "{\n  \"name\": \"second_dataset\",\n  \"rows\": 12,\n  \"fields\": [\n    {\n      \"column\": \"id\",\n      \"properties\": {\n        \"dtype\": \"number\",\n        \"std\": 3,\n        \"min\": 1,\n        \"max\": 12,\n        \"num_unique_values\": 12,\n        \"samples\": [\n          11,\n          10,\n          1\n        ],\n        \"semantic_type\": \"\",\n        \"description\": \"\"\n      }\n    },\n    {\n      \"column\": \"Source\",\n      \"properties\": {\n        \"dtype\": \"category\",\n        \"num_unique_values\": 2,\n        \"samples\": [\n          \"ac2\",\n          \"ac1\"\n        ],\n        \"semantic_type\": \"\",\n        \"description\": \"\"\n      }\n    },\n    {\n      \"column\": \"From\",\n      \"properties\": {\n        \"dtype\": \"string\",\n        \"num_unique_values\": 7,\n        \"samples\": [\n          \"Saint-Petersburg\",\n          \"St-Petersburg\"\n        ],\n        \"semantic_type\": \"\",\n        \"description\": \"\"\n      }\n    },\n    {\n      \"column\": \"To\",\n      \"properties\": {\n        \"dtype\": \"string\",\n        \"num_unique_values\": 8,\n        \"samples\": [\n          \"St-Petersburg\",\n          \"Trondheim\"\n        ],\n        \"semantic_type\": \"\",\n        \"description\": \"\"\n      }\n    },\n    {\n      \"column\": \"Distance (km)\",\n      \"properties\": {\n        \"dtype\": \"number\",\n        \"std\": 371,\n        \"min\": 301,\n        \"max\": 1417,\n        \"num_unique_values\": 9,\n        \"samples\": [\n          1396,\n          301\n        ],\n        \"semantic_type\": \"\",\n        \"description\": \"\"\n      }\n    }\n  ]\n}"
            }
          },
          "metadata": {},
          "execution_count": 17
        }
      ]
    },
    {
      "cell_type": "markdown",
      "source": [
        "The dataset is obtained as a result of merger of data from two aircraft carriers (ac1 and ac2)."
      ],
      "metadata": {
        "id": "je3ysbVbxnpU"
      }
    },
    {
      "cell_type": "markdown",
      "source": [
        "Firstly, let's define column matches for MD discovery:"
      ],
      "metadata": {
        "id": "l78UGob0xu0G"
      }
    },
    {
      "cell_type": "code",
      "source": [
        "Equality = desbordante.md.column_matches.Equality\n",
        "Custom = desbordante.md.column_matches.Custom\n",
        "Jaccard = desbordante.md.column_matches.Jaccard\n",
        "\n",
        "algo = desbordante.md.algorithms.HyMD()\n",
        "algo.load_data(left_table=second_dataset)\n",
        "\n",
        "max_distance = max(second_dataset['Distance (km)'])\n",
        "\n",
        "column_matches = [\n",
        "        Equality('id', 'id'),\n",
        "        Equality('Source', 'Source'),\n",
        "        Custom(SymbolJaccardSimilarity, 'From', 'From', symmetrical=True, equality_is_max=True,\n",
        "               measure_name='jaccard'),\n",
        "        Custom(SymbolJaccardSimilarity, 'To', 'To', symmetrical=True, equality_is_max=True,\n",
        "               measure_name='jaccard'),\n",
        "        Custom(SymbolJaccardSimilarity, 'To', 'From', symmetrical=True, equality_is_max=True,\n",
        "               measure_name='jaccard'),\n",
        "        Custom(SymbolJaccardSimilarity, 'From', 'To', symmetrical=True, equality_is_max=True,\n",
        "               measure_name='jaccard'),\n",
        "        Custom(lambda d1, d2: 1 - abs(int(d1) - int(d2)) / max_distance, 'Distance (km)',\n",
        "               'Distance (km)', symmetrical=True, equality_is_max=True,\n",
        "               measure_name='normalized_distance')]"
      ],
      "metadata": {
        "id": "xjKlxgHRyL-O"
      },
      "execution_count": null,
      "outputs": []
    },
    {
      "cell_type": "markdown",
      "source": [
        "As we can see,\n",
        "1.   IDs and sources are considered similar if they are equal\n",
        "2.   Departure (\"From\" column) and arrival (\"To\" column) city names are going to be compared to themselves (\"From\" to \"From\", \"To\" to \"To\") and to each other (\"To\" to \"From\", \"From\" to \"To\") using the Jaccard similarity measure\n",
        "3.   Distances are going to be compared to each other using normalized difference: 1 - |dist1 - dist2| / max_distance, where max_distance is the maximum value in the column"
      ],
      "metadata": {
        "id": "ErGol2JMzLov"
      }
    },
    {
      "cell_type": "markdown",
      "source": [
        "Now, let's run the HyMD algorithm:"
      ],
      "metadata": {
        "id": "GonEUvdx0ySZ"
      }
    },
    {
      "cell_type": "code",
      "source": [
        "algo.execute(column_matches=column_matches)\n",
        "mds = algo.get_mds()\n",
        "print('Found MDs:')\n",
        "print(*(f'{i + 1} {md}' for i, md in enumerate(mds)), sep='\\n')"
      ],
      "metadata": {
        "colab": {
          "base_uri": "https://localhost:8080/"
        },
        "id": "9nvMlV_I04ha",
        "outputId": "bca455b9-30e6-4ac6-d240-d989aa4e81fc"
      },
      "execution_count": null,
      "outputs": [
        {
          "output_type": "stream",
          "name": "stdout",
          "text": [
            "Found MDs:\n",
            "1 [ jaccard(To, To)>=0.769231 | normalized_distance(Distance (km), Distance (km))>=0.991531 ] -> equality(Source, Source)>=1\n",
            "2 [ jaccard(From, From)>=0.769231 | normalized_distance(Distance (km), Distance (km))>=0.991531 ] -> equality(Source, Source)>=1\n",
            "3 [ jaccard(From, From)>=0.769231 | jaccard(To, To)>=0.769231 ] -> normalized_distance(Distance (km), Distance (km))>=0.977417\n",
            "4 [ jaccard(From, From)>=0.769231 | jaccard(To, To)>=1 ] -> normalized_distance(Distance (km), Distance (km))>=0.99012\n",
            "5 [ jaccard(From, From)>=1 | normalized_distance(Distance (km), Distance (km))>=0.99012 ] -> equality(Source, Source)>=1\n",
            "6 [ jaccard(From, From)>=1 | jaccard(To, To)>=1 ] -> equality(Source, Source)>=1\n",
            "7 [ jaccard(From, From)>=1 | jaccard(To, To)>=1 ] -> normalized_distance(Distance (km), Distance (km))>=0.991531\n",
            "8 [ equality(Source, Source)>=1 | jaccard(From, From)>=0.769231 | jaccard(To, To)>=0.769231 ] -> normalized_distance(Distance (km), Distance (km))>=0.991531\n"
          ]
        }
      ]
    },
    {
      "cell_type": "markdown",
      "source": [
        "# Custom similarity measures"
      ],
      "metadata": {
        "id": "23TBI5go9a4x"
      }
    },
    {
      "cell_type": "markdown",
      "source": [
        "In this example we used column matches based on our own similarity measures:\n",
        "\n",
        "```python\n",
        "Custom(SymbolJaccardSimilarity, 'From', 'From', symmetrical=True, equality_is_max=True,\n",
        "               measure_name='jaccard')\n",
        "```\n",
        "As it can be seen, to create a column match we need to pass the name of the function that calculates similarity measure, names of columns, which values we want to compare using this measure and some properties of the measure: is the function symmetrical and does it return maximum number for equal values."
      ],
      "metadata": {
        "id": "lmdQrG0f4zuZ"
      }
    },
    {
      "cell_type": "markdown",
      "source": [
        "For example, for those similarity measures that are supported in Desbordante we have two options to pass them:"
      ],
      "metadata": {
        "id": "MLG4JUn96MxL"
      }
    },
    {
      "cell_type": "code",
      "source": [
        "Equality = desbordante.md.column_matches.Equality\n",
        "Custom = desbordante.md.column_matches.Custom\n",
        "Jaccard = desbordante.md.column_matches.Jaccard\n",
        "\n",
        "algo = desbordante.md.algorithms.HyMD()\n",
        "algo.load_data(left_table=second_dataset)\n",
        "\n",
        "max_distance = max(second_dataset['Distance (km)'])\n",
        "\n",
        "\n",
        "column_matches1 = [\n",
        "        Equality('id', 'id'),\n",
        "        Equality('Source', 'Source'),\n",
        "        Jaccard('From', 'From'),\n",
        "        Jaccard('To', 'To'),\n",
        "        Jaccard('To', 'From'),\n",
        "        Jaccard('From', 'To'),\n",
        "        Custom(lambda d1, d2: 1 - abs(int(d1) - int(d2)) / max_distance, 'Distance (km)',\n",
        "               'Distance (km)', symmetrical=True, equality_is_max=True,\n",
        "               measure_name='normalized_distance')]\n",
        "\n",
        "column_matches2 = [\n",
        "        Custom(EqualitySimilarity, 'id', 'id', symmetrical=True, equality_is_max=True,\n",
        "               measure_name='equality'),\n",
        "        Custom(EqualitySimilarity, 'Source', 'Source', symmetrical=True, equality_is_max=True,\n",
        "               measure_name='equality'),\n",
        "        Custom(WordJaccardSimilarity, 'From', 'From', symmetrical=True, equality_is_max=True,\n",
        "               measure_name='jaccard'),\n",
        "        Custom(WordJaccardSimilarity, 'To', 'To', symmetrical=True, equality_is_max=True,\n",
        "               measure_name='jaccard'),\n",
        "        Custom(WordJaccardSimilarity, 'To', 'From', symmetrical=True, equality_is_max=True,\n",
        "               measure_name='jaccard'),\n",
        "        Custom(WordJaccardSimilarity, 'From', 'To', symmetrical=True, equality_is_max=True,\n",
        "               measure_name='jaccard'),\n",
        "        Custom(lambda d1, d2: 1 - abs(int(d1) - int(d2)) / max_distance, 'Distance (km)',\n",
        "               'Distance (km)', symmetrical=True, equality_is_max=True,\n",
        "               measure_name='normalized_distance')]"
      ],
      "metadata": {
        "id": "Fj0mFp0o6nNR"
      },
      "execution_count": null,
      "outputs": []
    },
    {
      "cell_type": "markdown",
      "source": [
        "As we can see, the outputs are identical:"
      ],
      "metadata": {
        "id": "B9yudSOe7AdL"
      }
    },
    {
      "cell_type": "code",
      "source": [
        "algo.execute(column_matches=column_matches1)\n",
        "mds = algo.get_mds()\n",
        "print('Found MDs using supported measures:')\n",
        "print(*(f'{i + 1} {md}' for i, md in enumerate(mds)), sep='\\n')\n",
        "print()\n",
        "algo.execute(column_matches=column_matches2)\n",
        "mds = algo.get_mds()\n",
        "print('Found MDs using custom measures:')\n",
        "print(*(f'{i + 1} {md}' for i, md in enumerate(mds)), sep='\\n')"
      ],
      "metadata": {
        "colab": {
          "base_uri": "https://localhost:8080/"
        },
        "id": "razD8sM07EMt",
        "outputId": "af35c7f3-77fd-4ab7-d9db-4260ac95dac0"
      },
      "execution_count": null,
      "outputs": [
        {
          "output_type": "stream",
          "name": "stdout",
          "text": [
            "Found MDs using supported measures:\n",
            "1 [ jaccard(To, To)>=1 | normalized_distance(Distance (km), Distance (km))>=0.991531 ] -> equality(Source, Source)>=1\n",
            "2 [ jaccard(From, From)>=1 | normalized_distance(Distance (km), Distance (km))>=0.99012 ] -> equality(Source, Source)>=1\n",
            "3 [ jaccard(From, From)>=1 | jaccard(To, To)>=1 ] -> equality(Source, Source)>=1\n",
            "4 [ jaccard(From, From)>=1 | jaccard(To, To)>=1 ] -> normalized_distance(Distance (km), Distance (km))>=0.991531\n",
            "\n",
            "Found MDs using custom measures:\n",
            "1 [ jaccard(To, To)>=1 | normalized_distance(Distance (km), Distance (km))>=0.991531 ] -> equality(Source, Source)>=1\n",
            "2 [ jaccard(From, From)>=1 | normalized_distance(Distance (km), Distance (km))>=0.99012 ] -> equality(Source, Source)>=1\n",
            "3 [ jaccard(From, From)>=1 | jaccard(To, To)>=1 ] -> equality(Source, Source)>=1\n",
            "4 [ jaccard(From, From)>=1 | jaccard(To, To)>=1 ] -> normalized_distance(Distance (km), Distance (km))>=0.991531\n"
          ]
        }
      ]
    },
    {
      "cell_type": "markdown",
      "source": [
        "# Support of MDs"
      ],
      "metadata": {
        "id": "hE_OeEUy9lX_"
      }
    },
    {
      "cell_type": "markdown",
      "source": [
        "Now, let's look at the results of the second example more thoroughly:"
      ],
      "metadata": {
        "id": "dBfvB5869NRK"
      }
    },
    {
      "cell_type": "code",
      "source": [
        "algo.execute(column_matches=column_matches)\n",
        "mds = algo.get_mds()\n",
        "print('Found MDs:')\n",
        "print(*(f'{i + 1} {md}' for i, md in enumerate(mds)), sep='\\n')"
      ],
      "metadata": {
        "colab": {
          "base_uri": "https://localhost:8080/"
        },
        "id": "8wpHHE8N9Rgn",
        "outputId": "c5d848f8-6eee-49ba-a4c9-2f74012d0f8d"
      },
      "execution_count": null,
      "outputs": [
        {
          "output_type": "stream",
          "name": "stdout",
          "text": [
            "Found MDs:\n",
            "1 [ jaccard(To, To)>=0.769231 | normalized_distance(Distance (km), Distance (km))>=0.991531 ] -> equality(Source, Source)>=1\n",
            "2 [ jaccard(From, From)>=0.769231 | normalized_distance(Distance (km), Distance (km))>=0.991531 ] -> equality(Source, Source)>=1\n",
            "3 [ jaccard(From, From)>=0.769231 | jaccard(To, To)>=0.769231 ] -> normalized_distance(Distance (km), Distance (km))>=0.977417\n",
            "4 [ jaccard(From, From)>=0.769231 | jaccard(To, To)>=1 ] -> normalized_distance(Distance (km), Distance (km))>=0.99012\n",
            "5 [ jaccard(From, From)>=1 | normalized_distance(Distance (km), Distance (km))>=0.99012 ] -> equality(Source, Source)>=1\n",
            "6 [ jaccard(From, From)>=1 | jaccard(To, To)>=1 ] -> equality(Source, Source)>=1\n",
            "7 [ jaccard(From, From)>=1 | jaccard(To, To)>=1 ] -> normalized_distance(Distance (km), Distance (km))>=0.991531\n",
            "8 [ equality(Source, Source)>=1 | jaccard(From, From)>=0.769231 | jaccard(To, To)>=0.769231 ] -> normalized_distance(Distance (km), Distance (km))>=0.991531\n"
          ]
        }
      ]
    },
    {
      "cell_type": "markdown",
      "source": [
        "Let's also look again at the dataset:"
      ],
      "metadata": {
        "id": "WVk5NURT99n7"
      }
    },
    {
      "cell_type": "code",
      "source": [
        "second_dataset"
      ],
      "metadata": {
        "colab": {
          "base_uri": "https://localhost:8080/",
          "height": 426
        },
        "id": "-W0FrJp697Mc",
        "outputId": "7a11b2dd-286c-4903-a4fb-88967cf6d293"
      },
      "execution_count": null,
      "outputs": [
        {
          "output_type": "execute_result",
          "data": {
            "text/plain": [
              "    id Source              From                To  Distance (km)\n",
              "0    1    ac1  Saint-Petersburg          Helsinki            315\n",
              "1    2    ac2     St-Petersburg          Helsinki            301\n",
              "2    3    ac2            Moscow     St-Petersburg            650\n",
              "3    4    ac2            Moscow     St-Petersburg            638\n",
              "4    5    ac1            Moscow  Saint-Petersburg            670\n",
              "5    6    ac1            Moscow     Yekaterinburg           1417\n",
              "6    7    ac2         Trondheim        Copenhagen            877\n",
              "7    8    ac1        Copenhagen         Trondheim            877\n",
              "8    9    ac2           Dobfany          Helsinki           1396\n",
              "9   10    ac2     St-Petersburg          Kostroma            659\n",
              "10  11    ac2     St-Petersburg            Moscow            650\n",
              "11  12    ac1            Varstu          Helsinki            315"
            ],
            "text/html": [
              "\n",
              "  <div id=\"df-1405359b-1a78-45e3-86e7-38228a08faea\" class=\"colab-df-container\">\n",
              "    <div>\n",
              "<style scoped>\n",
              "    .dataframe tbody tr th:only-of-type {\n",
              "        vertical-align: middle;\n",
              "    }\n",
              "\n",
              "    .dataframe tbody tr th {\n",
              "        vertical-align: top;\n",
              "    }\n",
              "\n",
              "    .dataframe thead th {\n",
              "        text-align: right;\n",
              "    }\n",
              "</style>\n",
              "<table border=\"1\" class=\"dataframe\">\n",
              "  <thead>\n",
              "    <tr style=\"text-align: right;\">\n",
              "      <th></th>\n",
              "      <th>id</th>\n",
              "      <th>Source</th>\n",
              "      <th>From</th>\n",
              "      <th>To</th>\n",
              "      <th>Distance (km)</th>\n",
              "    </tr>\n",
              "  </thead>\n",
              "  <tbody>\n",
              "    <tr>\n",
              "      <th>0</th>\n",
              "      <td>1</td>\n",
              "      <td>ac1</td>\n",
              "      <td>Saint-Petersburg</td>\n",
              "      <td>Helsinki</td>\n",
              "      <td>315</td>\n",
              "    </tr>\n",
              "    <tr>\n",
              "      <th>1</th>\n",
              "      <td>2</td>\n",
              "      <td>ac2</td>\n",
              "      <td>St-Petersburg</td>\n",
              "      <td>Helsinki</td>\n",
              "      <td>301</td>\n",
              "    </tr>\n",
              "    <tr>\n",
              "      <th>2</th>\n",
              "      <td>3</td>\n",
              "      <td>ac2</td>\n",
              "      <td>Moscow</td>\n",
              "      <td>St-Petersburg</td>\n",
              "      <td>650</td>\n",
              "    </tr>\n",
              "    <tr>\n",
              "      <th>3</th>\n",
              "      <td>4</td>\n",
              "      <td>ac2</td>\n",
              "      <td>Moscow</td>\n",
              "      <td>St-Petersburg</td>\n",
              "      <td>638</td>\n",
              "    </tr>\n",
              "    <tr>\n",
              "      <th>4</th>\n",
              "      <td>5</td>\n",
              "      <td>ac1</td>\n",
              "      <td>Moscow</td>\n",
              "      <td>Saint-Petersburg</td>\n",
              "      <td>670</td>\n",
              "    </tr>\n",
              "    <tr>\n",
              "      <th>5</th>\n",
              "      <td>6</td>\n",
              "      <td>ac1</td>\n",
              "      <td>Moscow</td>\n",
              "      <td>Yekaterinburg</td>\n",
              "      <td>1417</td>\n",
              "    </tr>\n",
              "    <tr>\n",
              "      <th>6</th>\n",
              "      <td>7</td>\n",
              "      <td>ac2</td>\n",
              "      <td>Trondheim</td>\n",
              "      <td>Copenhagen</td>\n",
              "      <td>877</td>\n",
              "    </tr>\n",
              "    <tr>\n",
              "      <th>7</th>\n",
              "      <td>8</td>\n",
              "      <td>ac1</td>\n",
              "      <td>Copenhagen</td>\n",
              "      <td>Trondheim</td>\n",
              "      <td>877</td>\n",
              "    </tr>\n",
              "    <tr>\n",
              "      <th>8</th>\n",
              "      <td>9</td>\n",
              "      <td>ac2</td>\n",
              "      <td>Dobfany</td>\n",
              "      <td>Helsinki</td>\n",
              "      <td>1396</td>\n",
              "    </tr>\n",
              "    <tr>\n",
              "      <th>9</th>\n",
              "      <td>10</td>\n",
              "      <td>ac2</td>\n",
              "      <td>St-Petersburg</td>\n",
              "      <td>Kostroma</td>\n",
              "      <td>659</td>\n",
              "    </tr>\n",
              "    <tr>\n",
              "      <th>10</th>\n",
              "      <td>11</td>\n",
              "      <td>ac2</td>\n",
              "      <td>St-Petersburg</td>\n",
              "      <td>Moscow</td>\n",
              "      <td>650</td>\n",
              "    </tr>\n",
              "    <tr>\n",
              "      <th>11</th>\n",
              "      <td>12</td>\n",
              "      <td>ac1</td>\n",
              "      <td>Varstu</td>\n",
              "      <td>Helsinki</td>\n",
              "      <td>315</td>\n",
              "    </tr>\n",
              "  </tbody>\n",
              "</table>\n",
              "</div>\n",
              "    <div class=\"colab-df-buttons\">\n",
              "\n",
              "  <div class=\"colab-df-container\">\n",
              "    <button class=\"colab-df-convert\" onclick=\"convertToInteractive('df-1405359b-1a78-45e3-86e7-38228a08faea')\"\n",
              "            title=\"Convert this dataframe to an interactive table.\"\n",
              "            style=\"display:none;\">\n",
              "\n",
              "  <svg xmlns=\"http://www.w3.org/2000/svg\" height=\"24px\" viewBox=\"0 -960 960 960\">\n",
              "    <path d=\"M120-120v-720h720v720H120Zm60-500h600v-160H180v160Zm220 220h160v-160H400v160Zm0 220h160v-160H400v160ZM180-400h160v-160H180v160Zm440 0h160v-160H620v160ZM180-180h160v-160H180v160Zm440 0h160v-160H620v160Z\"/>\n",
              "  </svg>\n",
              "    </button>\n",
              "\n",
              "  <style>\n",
              "    .colab-df-container {\n",
              "      display:flex;\n",
              "      gap: 12px;\n",
              "    }\n",
              "\n",
              "    .colab-df-convert {\n",
              "      background-color: #E8F0FE;\n",
              "      border: none;\n",
              "      border-radius: 50%;\n",
              "      cursor: pointer;\n",
              "      display: none;\n",
              "      fill: #1967D2;\n",
              "      height: 32px;\n",
              "      padding: 0 0 0 0;\n",
              "      width: 32px;\n",
              "    }\n",
              "\n",
              "    .colab-df-convert:hover {\n",
              "      background-color: #E2EBFA;\n",
              "      box-shadow: 0px 1px 2px rgba(60, 64, 67, 0.3), 0px 1px 3px 1px rgba(60, 64, 67, 0.15);\n",
              "      fill: #174EA6;\n",
              "    }\n",
              "\n",
              "    .colab-df-buttons div {\n",
              "      margin-bottom: 4px;\n",
              "    }\n",
              "\n",
              "    [theme=dark] .colab-df-convert {\n",
              "      background-color: #3B4455;\n",
              "      fill: #D2E3FC;\n",
              "    }\n",
              "\n",
              "    [theme=dark] .colab-df-convert:hover {\n",
              "      background-color: #434B5C;\n",
              "      box-shadow: 0px 1px 3px 1px rgba(0, 0, 0, 0.15);\n",
              "      filter: drop-shadow(0px 1px 2px rgba(0, 0, 0, 0.3));\n",
              "      fill: #FFFFFF;\n",
              "    }\n",
              "  </style>\n",
              "\n",
              "    <script>\n",
              "      const buttonEl =\n",
              "        document.querySelector('#df-1405359b-1a78-45e3-86e7-38228a08faea button.colab-df-convert');\n",
              "      buttonEl.style.display =\n",
              "        google.colab.kernel.accessAllowed ? 'block' : 'none';\n",
              "\n",
              "      async function convertToInteractive(key) {\n",
              "        const element = document.querySelector('#df-1405359b-1a78-45e3-86e7-38228a08faea');\n",
              "        const dataTable =\n",
              "          await google.colab.kernel.invokeFunction('convertToInteractive',\n",
              "                                                    [key], {});\n",
              "        if (!dataTable) return;\n",
              "\n",
              "        const docLinkHtml = 'Like what you see? Visit the ' +\n",
              "          '<a target=\"_blank\" href=https://colab.research.google.com/notebooks/data_table.ipynb>data table notebook</a>'\n",
              "          + ' to learn more about interactive tables.';\n",
              "        element.innerHTML = '';\n",
              "        dataTable['output_type'] = 'display_data';\n",
              "        await google.colab.output.renderOutput(dataTable, element);\n",
              "        const docLink = document.createElement('div');\n",
              "        docLink.innerHTML = docLinkHtml;\n",
              "        element.appendChild(docLink);\n",
              "      }\n",
              "    </script>\n",
              "  </div>\n",
              "\n",
              "\n",
              "<div id=\"df-9d4b865d-65bf-40d2-ae06-8320f8ee84a6\">\n",
              "  <button class=\"colab-df-quickchart\" onclick=\"quickchart('df-9d4b865d-65bf-40d2-ae06-8320f8ee84a6')\"\n",
              "            title=\"Suggest charts\"\n",
              "            style=\"display:none;\">\n",
              "\n",
              "<svg xmlns=\"http://www.w3.org/2000/svg\" height=\"24px\"viewBox=\"0 0 24 24\"\n",
              "     width=\"24px\">\n",
              "    <g>\n",
              "        <path d=\"M19 3H5c-1.1 0-2 .9-2 2v14c0 1.1.9 2 2 2h14c1.1 0 2-.9 2-2V5c0-1.1-.9-2-2-2zM9 17H7v-7h2v7zm4 0h-2V7h2v10zm4 0h-2v-4h2v4z\"/>\n",
              "    </g>\n",
              "</svg>\n",
              "  </button>\n",
              "\n",
              "<style>\n",
              "  .colab-df-quickchart {\n",
              "      --bg-color: #E8F0FE;\n",
              "      --fill-color: #1967D2;\n",
              "      --hover-bg-color: #E2EBFA;\n",
              "      --hover-fill-color: #174EA6;\n",
              "      --disabled-fill-color: #AAA;\n",
              "      --disabled-bg-color: #DDD;\n",
              "  }\n",
              "\n",
              "  [theme=dark] .colab-df-quickchart {\n",
              "      --bg-color: #3B4455;\n",
              "      --fill-color: #D2E3FC;\n",
              "      --hover-bg-color: #434B5C;\n",
              "      --hover-fill-color: #FFFFFF;\n",
              "      --disabled-bg-color: #3B4455;\n",
              "      --disabled-fill-color: #666;\n",
              "  }\n",
              "\n",
              "  .colab-df-quickchart {\n",
              "    background-color: var(--bg-color);\n",
              "    border: none;\n",
              "    border-radius: 50%;\n",
              "    cursor: pointer;\n",
              "    display: none;\n",
              "    fill: var(--fill-color);\n",
              "    height: 32px;\n",
              "    padding: 0;\n",
              "    width: 32px;\n",
              "  }\n",
              "\n",
              "  .colab-df-quickchart:hover {\n",
              "    background-color: var(--hover-bg-color);\n",
              "    box-shadow: 0 1px 2px rgba(60, 64, 67, 0.3), 0 1px 3px 1px rgba(60, 64, 67, 0.15);\n",
              "    fill: var(--button-hover-fill-color);\n",
              "  }\n",
              "\n",
              "  .colab-df-quickchart-complete:disabled,\n",
              "  .colab-df-quickchart-complete:disabled:hover {\n",
              "    background-color: var(--disabled-bg-color);\n",
              "    fill: var(--disabled-fill-color);\n",
              "    box-shadow: none;\n",
              "  }\n",
              "\n",
              "  .colab-df-spinner {\n",
              "    border: 2px solid var(--fill-color);\n",
              "    border-color: transparent;\n",
              "    border-bottom-color: var(--fill-color);\n",
              "    animation:\n",
              "      spin 1s steps(1) infinite;\n",
              "  }\n",
              "\n",
              "  @keyframes spin {\n",
              "    0% {\n",
              "      border-color: transparent;\n",
              "      border-bottom-color: var(--fill-color);\n",
              "      border-left-color: var(--fill-color);\n",
              "    }\n",
              "    20% {\n",
              "      border-color: transparent;\n",
              "      border-left-color: var(--fill-color);\n",
              "      border-top-color: var(--fill-color);\n",
              "    }\n",
              "    30% {\n",
              "      border-color: transparent;\n",
              "      border-left-color: var(--fill-color);\n",
              "      border-top-color: var(--fill-color);\n",
              "      border-right-color: var(--fill-color);\n",
              "    }\n",
              "    40% {\n",
              "      border-color: transparent;\n",
              "      border-right-color: var(--fill-color);\n",
              "      border-top-color: var(--fill-color);\n",
              "    }\n",
              "    60% {\n",
              "      border-color: transparent;\n",
              "      border-right-color: var(--fill-color);\n",
              "    }\n",
              "    80% {\n",
              "      border-color: transparent;\n",
              "      border-right-color: var(--fill-color);\n",
              "      border-bottom-color: var(--fill-color);\n",
              "    }\n",
              "    90% {\n",
              "      border-color: transparent;\n",
              "      border-bottom-color: var(--fill-color);\n",
              "    }\n",
              "  }\n",
              "</style>\n",
              "\n",
              "  <script>\n",
              "    async function quickchart(key) {\n",
              "      const quickchartButtonEl =\n",
              "        document.querySelector('#' + key + ' button');\n",
              "      quickchartButtonEl.disabled = true;  // To prevent multiple clicks.\n",
              "      quickchartButtonEl.classList.add('colab-df-spinner');\n",
              "      try {\n",
              "        const charts = await google.colab.kernel.invokeFunction(\n",
              "            'suggestCharts', [key], {});\n",
              "      } catch (error) {\n",
              "        console.error('Error during call to suggestCharts:', error);\n",
              "      }\n",
              "      quickchartButtonEl.classList.remove('colab-df-spinner');\n",
              "      quickchartButtonEl.classList.add('colab-df-quickchart-complete');\n",
              "    }\n",
              "    (() => {\n",
              "      let quickchartButtonEl =\n",
              "        document.querySelector('#df-9d4b865d-65bf-40d2-ae06-8320f8ee84a6 button');\n",
              "      quickchartButtonEl.style.display =\n",
              "        google.colab.kernel.accessAllowed ? 'block' : 'none';\n",
              "    })();\n",
              "  </script>\n",
              "</div>\n",
              "    </div>\n",
              "  </div>\n"
            ],
            "application/vnd.google.colaboratory.intrinsic+json": {
              "type": "dataframe",
              "variable_name": "second_dataset",
              "summary": "{\n  \"name\": \"second_dataset\",\n  \"rows\": 12,\n  \"fields\": [\n    {\n      \"column\": \"id\",\n      \"properties\": {\n        \"dtype\": \"number\",\n        \"std\": 3,\n        \"min\": 1,\n        \"max\": 12,\n        \"num_unique_values\": 12,\n        \"samples\": [\n          11,\n          10,\n          1\n        ],\n        \"semantic_type\": \"\",\n        \"description\": \"\"\n      }\n    },\n    {\n      \"column\": \"Source\",\n      \"properties\": {\n        \"dtype\": \"category\",\n        \"num_unique_values\": 2,\n        \"samples\": [\n          \"ac2\",\n          \"ac1\"\n        ],\n        \"semantic_type\": \"\",\n        \"description\": \"\"\n      }\n    },\n    {\n      \"column\": \"From\",\n      \"properties\": {\n        \"dtype\": \"string\",\n        \"num_unique_values\": 7,\n        \"samples\": [\n          \"Saint-Petersburg\",\n          \"St-Petersburg\"\n        ],\n        \"semantic_type\": \"\",\n        \"description\": \"\"\n      }\n    },\n    {\n      \"column\": \"To\",\n      \"properties\": {\n        \"dtype\": \"string\",\n        \"num_unique_values\": 8,\n        \"samples\": [\n          \"St-Petersburg\",\n          \"Trondheim\"\n        ],\n        \"semantic_type\": \"\",\n        \"description\": \"\"\n      }\n    },\n    {\n      \"column\": \"Distance (km)\",\n      \"properties\": {\n        \"dtype\": \"number\",\n        \"std\": 371,\n        \"min\": 301,\n        \"max\": 1417,\n        \"num_unique_values\": 9,\n        \"samples\": [\n          1396,\n          301\n        ],\n        \"semantic_type\": \"\",\n        \"description\": \"\"\n      }\n    }\n  ]\n}"
            }
          },
          "metadata": {},
          "execution_count": 23
        }
      ]
    },
    {
      "cell_type": "markdown",
      "source": [
        "It is clear to see that ID determines every other attribute, so, for example, the following MD holds in the table: \"[ equality(id, id)>=1 ] -> equality(Source, Source)>=1\". However, there are no dependencies in the above results that indicate that."
      ],
      "metadata": {
        "id": "MEHVZBXG-Cdb"
      }
    },
    {
      "cell_type": "markdown",
      "source": [
        "In the same manner, one would expect names of departure and arrival cities being similar to indicate distances also being similar. There is indeed a dependency like that, which is dependency 3. That dependency matches the \"To\" and \"From\" values to themselves. However, it also makes sense for there to be a dependency that matches a \"To\" value to a \"From\" value or the other way around. And yet, none of these dependencies are presented in the answer."
      ],
      "metadata": {
        "id": "vvmG-bVn-098"
      }
    },
    {
      "cell_type": "markdown",
      "source": [
        "This is because they do not satisfy an interestingness criterion: their support is too low. \"Support\" in this case means the number of record pairs with similar values, i.e. pairs that satisfy LHS. By default, when there is only one source table, the minimum support is set to one greater than its number of records. As their support is lower than that, these dependencies are pruned."
      ],
      "metadata": {
        "id": "qL-FaWQo_wVf"
      }
    },
    {
      "cell_type": "markdown",
      "source": [
        "For example, the support of MD \"[ equality(id, id)>=1 ] -> equality(Source, Source)>=1\" equals to the number of records (12), thus the support of this MD is less than the default minimum support (13) and the dependency is considered to be not interesting."
      ],
      "metadata": {
        "id": "SwfqfBlu_407"
      }
    },
    {
      "cell_type": "markdown",
      "source": [
        "Let's decrease the minimum support from 13 to 6:"
      ],
      "metadata": {
        "id": "HAjWv0RcBw2F"
      }
    },
    {
      "cell_type": "code",
      "source": [
        "algo.execute(column_matches=column_matches, min_support=6)\n",
        "mds = algo.get_mds()\n",
        "print('Found MDs:')\n",
        "print(*(f'{i + 1} {md}' for i, md in enumerate(mds)), sep='\\n')"
      ],
      "metadata": {
        "colab": {
          "base_uri": "https://localhost:8080/"
        },
        "id": "hmSQBARaB1hG",
        "outputId": "9f0014f2-fc45-4832-d8b5-b2cd52e7380b"
      },
      "execution_count": null,
      "outputs": [
        {
          "output_type": "stream",
          "name": "stdout",
          "text": [
            "Found MDs:\n",
            "1 [ equality(id, id)>=1 ] -> equality(Source, Source)>=1\n",
            "2 [ equality(id, id)>=1 ] -> jaccard(From, From)>=1\n",
            "3 [ equality(id, id)>=1 ] -> jaccard(To, To)>=1\n",
            "4 [ equality(id, id)>=1 ] -> normalized_distance(Distance (km), Distance (km))>=1\n",
            "5 [ jaccard(To, From)>=0.769231 | jaccard(From, To)>=0.769231 ] -> normalized_distance(Distance (km), Distance (km))>=0.985886\n",
            "6 [ jaccard(To, From)>=1 | jaccard(From, To)>=1 ] -> normalized_distance(Distance (km), Distance (km))>=0.991531\n",
            "7 [ jaccard(To, To)>=0.769231 | normalized_distance(Distance (km), Distance (km))>=0.991531 ] -> equality(Source, Source)>=1\n",
            "8 [ jaccard(From, From)>=0.769231 | normalized_distance(Distance (km), Distance (km))>=0.991531 ] -> equality(Source, Source)>=1\n",
            "9 [ jaccard(From, From)>=0.769231 | normalized_distance(Distance (km), Distance (km))>=1 ] -> equality(id, id)>=1\n",
            "10 [ jaccard(From, From)>=0.769231 | normalized_distance(Distance (km), Distance (km))>=1 ] -> jaccard(To, To)>=1\n",
            "11 [ jaccard(From, From)>=0.769231 | jaccard(To, To)>=0.769231 ] -> normalized_distance(Distance (km), Distance (km))>=0.977417\n",
            "12 [ jaccard(From, From)>=0.769231 | jaccard(To, To)>=1 ] -> normalized_distance(Distance (km), Distance (km))>=0.99012\n",
            "13 [ jaccard(From, From)>=1 | normalized_distance(Distance (km), Distance (km))>=0.99012 ] -> equality(Source, Source)>=1\n",
            "14 [ jaccard(From, From)>=1 | jaccard(To, To)>=1 ] -> equality(Source, Source)>=1\n",
            "15 [ jaccard(From, From)>=1 | jaccard(To, To)>=1 ] -> normalized_distance(Distance (km), Distance (km))>=0.991531\n",
            "16 [ equality(Source, Source)>=1 | jaccard(From, To)>=0.769231 ] -> normalized_distance(Distance (km), Distance (km))>=0.749471\n",
            "17 [ equality(Source, Source)>=1 | jaccard(To, From)>=0.769231 ] -> normalized_distance(Distance (km), Distance (km))>=0.749471\n",
            "18 [ jaccard(From, From)>=0.769231 | jaccard(To, To)>=0.769231 | normalized_distance(Distance (km), Distance (km))>=0.992237 ] -> equality(id, id)>=1\n",
            "19 [ equality(Source, Source)>=1 | jaccard(From, From)>=0.769231 | jaccard(To, To)>=0.769231 ] -> normalized_distance(Distance (km), Distance (km))>=0.991531\n"
          ]
        }
      ]
    },
    {
      "cell_type": "markdown",
      "source": [
        "Now these dependencies are present, they are the first five of the ones displayed.\n",
        "However, there also several dependencies that \"do not make sense\", like \"the departure city and closeness in distance determines the arrival city\". These only hold because the dataset being inspected does not happen to contain a counterexample."
      ],
      "metadata": {
        "id": "0oVmJYGHCgqf"
      }
    },
    {
      "cell_type": "markdown",
      "source": [
        "We can also increase the minimum support requirement. This can help us find the dependencies that are more reliable, with more examples supporting them:"
      ],
      "metadata": {
        "id": "71X0ZZPICtRZ"
      }
    },
    {
      "cell_type": "code",
      "source": [
        "algo.execute(column_matches=column_matches, min_support=round(len(second_dataset) * 1.5))\n",
        "mds = algo.get_mds()\n",
        "print('Found MDs:')\n",
        "print(*(f'{i + 1} {md}' for i, md in enumerate(mds)), sep='\\n')"
      ],
      "metadata": {
        "colab": {
          "base_uri": "https://localhost:8080/"
        },
        "id": "aW98Kz8CCua_",
        "outputId": "fb4ed44d-c39c-453e-a34e-f0cdaae19b89"
      },
      "execution_count": null,
      "outputs": [
        {
          "output_type": "stream",
          "name": "stdout",
          "text": [
            "Found MDs:\n",
            "1 [ jaccard(From, From)>=0.769231 | jaccard(To, To)>=0.769231 ] -> normalized_distance(Distance (km), Distance (km))>=0.977417\n"
          ]
        }
      ]
    },
    {
      "cell_type": "markdown",
      "source": [
        "# Conclusion"
      ],
      "metadata": {
        "id": "0BX3w6ddDYP7"
      }
    },
    {
      "cell_type": "markdown",
      "source": [
        "If you are reading this, then you have learnt about matching dependencies. Congratulations!\n",
        "\n",
        "We have explored data and found that flights with similar departure and arrival cities have similar distances. We have also learnt about different similarity measures and how to use them for discovery of matching dependencies. Now, for each type of data in a column you can choose the similarity measure that suits your needs the most.\n",
        "\n",
        "\n",
        "If you wish to find these patterns in your data, now you know how to do it 🙂\n",
        "Also, you can learn more about other pattern types presented in [Desbordante](https://github.com/Desbordante/desbordante-core)."
      ],
      "metadata": {
        "id": "nh2CXR_gDaDR"
      }
    }
  ]
}