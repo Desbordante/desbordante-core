{
  "nbformat": 4,
  "nbformat_minor": 0,
  "metadata": {
    "colab": {
      "provenance": [],
      "toc_visible": true
    },
    "kernelspec": {
      "name": "python3",
      "display_name": "Python 3"
    },
    "language_info": {
      "name": "python"
    }
  },
  "cells": [
    {
      "cell_type": "markdown",
      "source": [
        "# **Algebraic Constraints (AC)**\n",
        "This example is dedicated to Fuzzy Algebraic Constraints (AC). The definition and algorithm are based on article \"B-HUNT: Automatic Discovery of Fuzzy Algebraic Constraints in Relational Data\" by Paul G. Brown & Peter J. Haas presented at VLDB in 2003.\n",
        "\n",
        "First of all, let's figure out what AC is. However, to avoid going too deep, we will give you a simple definition without formalization. AC represents the results of applying binary operations between two table columns, with values grouped into meaningful intervals.\n",
        "Let's illustrate this with an example.\n"
      ],
      "metadata": {
        "id": "H4tMaUnNrEba"
      }
    },
    {
      "cell_type": "markdown",
      "source": [
        "# Installing and import python libraries\n",
        "First of all we need to install python libraries."
      ],
      "metadata": {
        "id": "b4uwxcXwsEFB"
      }
    },
    {
      "cell_type": "code",
      "execution_count": null,
      "metadata": {
        "colab": {
          "base_uri": "https://localhost:8080/"
        },
        "id": "FsaSNsMgrBMm",
        "outputId": "84cb2bd1-53aa-4549-b7d0-5a6254c7b3d3"
      },
      "outputs": [
        {
          "output_type": "stream",
          "name": "stdout",
          "text": [
            "Collecting desbordante==2.3.2\n",
            "  Downloading desbordante-2.3.2-cp311-cp311-manylinux_2_17_x86_64.manylinux2014_x86_64.whl.metadata (19 kB)\n",
            "Downloading desbordante-2.3.2-cp311-cp311-manylinux_2_17_x86_64.manylinux2014_x86_64.whl (4.0 MB)\n",
            "\u001b[2K   \u001b[90m━━━━━━━━━━━━━━━━━━━━━━━━━━━━━━━━━━━━━━━━\u001b[0m \u001b[32m4.0/4.0 MB\u001b[0m \u001b[31m29.8 MB/s\u001b[0m eta \u001b[36m0:00:00\u001b[0m\n",
            "\u001b[?25hInstalling collected packages: desbordante\n",
            "Successfully installed desbordante-2.3.2\n",
            "Requirement already satisfied: pandas in /usr/local/lib/python3.11/dist-packages (2.2.2)\n",
            "Requirement already satisfied: numpy>=1.23.2 in /usr/local/lib/python3.11/dist-packages (from pandas) (2.0.2)\n",
            "Requirement already satisfied: python-dateutil>=2.8.2 in /usr/local/lib/python3.11/dist-packages (from pandas) (2.9.0.post0)\n",
            "Requirement already satisfied: pytz>=2020.1 in /usr/local/lib/python3.11/dist-packages (from pandas) (2025.2)\n",
            "Requirement already satisfied: tzdata>=2022.7 in /usr/local/lib/python3.11/dist-packages (from pandas) (2025.2)\n",
            "Requirement already satisfied: six>=1.5 in /usr/local/lib/python3.11/dist-packages (from python-dateutil>=2.8.2->pandas) (1.17.0)\n",
            "Requirement already satisfied: tabulate in /usr/local/lib/python3.11/dist-packages (0.9.0)\n"
          ]
        }
      ],
      "source": [
        "!pip install desbordante==2.3.2\n",
        "!pip install pandas\n",
        "!pip install tabulate"
      ]
    },
    {
      "cell_type": "markdown",
      "source": [
        "Then import all required libraries."
      ],
      "metadata": {
        "id": "TkYabQfztpL_"
      }
    },
    {
      "cell_type": "code",
      "source": [
        "import desbordante\n",
        "import pandas\n",
        "import operator\n",
        "from tabulate import tabulate"
      ],
      "metadata": {
        "id": "ksTLbTCVuAyv"
      },
      "execution_count": null,
      "outputs": []
    },
    {
      "cell_type": "markdown",
      "source": [
        "# Fixing the constants\n",
        "\n",
        "For default parameters we will use those values: binary operation is \"-\", weight - 0.1, fuzziness - 0.2, p_fuzz - 0.85, bumps_limit - 0, iterations_limit - 4, AC_seed - 11.\n",
        "\n",
        "We will tell you what each of the parameters means later, but for now we just set them like this."
      ],
      "metadata": {
        "id": "zhnlwkWDuaBu"
      }
    },
    {
      "cell_type": "code",
      "source": [
        "HEADER = 0\n",
        "SEPARATOR = ','\n",
        "P_FUZZ = 0.85\n",
        "FUZZINESS = 0.2\n",
        "BUMPS_LIMIT = 0\n",
        "WEIGHT = 0.1\n",
        "BIN_OPERATION = '-'\n",
        "AC_SEED = 11\n",
        "ITERATIONS_LIMIT = 4\n",
        "OPERATIONS = {\n",
        "    '+': (operator.add, 'Sum'),\n",
        "    '-': (operator.sub, 'Difference'),\n",
        "    '*': (operator.mul, 'Product'),\n",
        "    '/': (operator.truediv, 'Ratio'),\n",
        "}"
      ],
      "metadata": {
        "id": "IK7nZuotuepg"
      },
      "execution_count": null,
      "outputs": []
    },
    {
      "cell_type": "markdown",
      "source": [
        "# Getting sample datasets"
      ],
      "metadata": {
        "id": "pc8E9dbwC_jj"
      }
    },
    {
      "cell_type": "code",
      "source": [
        "!wget -q https://raw.githubusercontent.com/Desbordante/desbordante-core/86085bbe5fb310795a8da70c63978f07b5d96a3b/examples/datasets/player_stats.csv"
      ],
      "metadata": {
        "id": "fMYuGpBd9jOV"
      },
      "execution_count": null,
      "outputs": []
    },
    {
      "cell_type": "markdown",
      "source": [
        "Load the first data file."
      ],
      "metadata": {
        "id": "c0E15Ves89uC"
      }
    },
    {
      "cell_type": "code",
      "source": [
        "table_for_example = pandas.read_csv('player_stats.csv',\n",
        "                                    sep=SEPARATOR, header=HEADER)"
      ],
      "metadata": {
        "id": "GoKpp1R388Q9"
      },
      "execution_count": null,
      "outputs": []
    },
    {
      "cell_type": "markdown",
      "source": [
        "Function for printing table."
      ],
      "metadata": {
        "id": "AtI8xIzF-Cl9"
      }
    },
    {
      "cell_type": "code",
      "source": [
        "def print_table(table_, headers_ = None, title_ = None):\n",
        "    if title_ is not None:\n",
        "        print(title_)\n",
        "\n",
        "    print(tabulate(table_, headers=headers_, tablefmt='pipe', showindex=False, stralign='center'))\n",
        "    print()"
      ],
      "metadata": {
        "id": "HEsmtqYY-Ihi"
      },
      "execution_count": null,
      "outputs": []
    },
    {
      "cell_type": "code",
      "source": [
        "print_table(table_for_example, headers_=['id', 'Strength', 'Agility'])"
      ],
      "metadata": {
        "colab": {
          "base_uri": "https://localhost:8080/"
        },
        "id": "5HHrD-fp-RWi",
        "outputId": "e38839e4-e38d-4db5-e2ea-6f7934bcaf28"
      },
      "execution_count": null,
      "outputs": [
        {
          "output_type": "stream",
          "name": "stdout",
          "text": [
            "|   id |   Strength |   Agility |\n",
            "|-----:|-----------:|----------:|\n",
            "|    0 |          3 |         1 |\n",
            "|    1 |          4 |         1 |\n",
            "|    2 |          1 |         3 |\n",
            "|    3 |          2 |         2 |\n",
            "|    4 |          1 |         4 |\n",
            "|    5 |         10 |        12 |\n",
            "|    6 |         14 |        10 |\n",
            "|    7 |          1 |        23 |\n",
            "|    8 |          6 |        16 |\n",
            "\n"
          ]
        }
      ]
    },
    {
      "cell_type": "markdown",
      "source": [
        "# Discovering algebraic constraints"
      ],
      "metadata": {
        "id": "dRv9ca05DOd2"
      }
    },
    {
      "cell_type": "markdown",
      "source": [
        "Let's run the algorithm with applying binary operation \"+\" to the Strength and Agility columns and observe the results."
      ],
      "metadata": {
        "id": "ceCTxRaL-7an"
      }
    },
    {
      "cell_type": "code",
      "source": [
        "operation, operation_name = OPERATIONS['+']\n",
        "\n",
        "algo = desbordante.ac.algorithms.Default()\n",
        "\n",
        "df_without_id = table_for_example[['Strength', 'Agility']]\n",
        "\n",
        "algo.load_data(table=df_without_id)\n",
        "\n",
        "algo.execute(p_fuzz=P_FUZZ, fuzziness=FUZZINESS, bumps_limit=BUMPS_LIMIT, weight=WEIGHT,\n",
        "        bin_operation='+', ac_seed=AC_SEED, iterations_limit=ITERATIONS_LIMIT)"
      ],
      "metadata": {
        "id": "5hgq9miq_O09"
      },
      "execution_count": null,
      "outputs": []
    },
    {
      "cell_type": "markdown",
      "source": [
        "Printing the results."
      ],
      "metadata": {
        "id": "UMd4nTfh_5fV"
      }
    },
    {
      "cell_type": "code",
      "source": [
        "ac_ranges = algo.get_ac_ranges()\n",
        "for ac_range in ac_ranges:\n",
        "    l_col = df_without_id.columns[ac_range.column_indices[0]]\n",
        "    r_col = df_without_id.columns[ac_range.column_indices[1]]\n",
        "    print(f'Discovered ranges for ({l_col} + {r_col}) are:')\n",
        "    print(ac_range.ranges)"
      ],
      "metadata": {
        "colab": {
          "base_uri": "https://localhost:8080/"
        },
        "id": "j0BEeIIQ_--l",
        "outputId": "50f5059a-da1a-4d5a-f3bc-1759e466df0c"
      },
      "execution_count": null,
      "outputs": [
        {
          "output_type": "stream",
          "name": "stdout",
          "text": [
            "Discovered ranges for (Strength + Agility) are:\n",
            "[(4.0, 5.0), (22.0, 24.0)]\n"
          ]
        }
      ]
    },
    {
      "cell_type": "markdown",
      "source": [
        "As shown, the sum of Strength and Agility falls within either the (4, 5) or (22, 24) ranges.\n",
        "This pattern may emerge because player characters with similar combined attribute values likely belong to the same tier."
      ],
      "metadata": {
        "id": "Hfh4T-98An77"
      }
    },
    {
      "cell_type": "markdown",
      "source": [
        "# Discovering exceptions"
      ],
      "metadata": {
        "id": "UpMvhqyaDixX"
      }
    },
    {
      "cell_type": "markdown",
      "source": [
        "But algorithm also find data that falling out this rule.\n",
        "Let's see how to get it."
      ],
      "metadata": {
        "id": "0wtrXYDlAv22"
      }
    },
    {
      "cell_type": "code",
      "source": [
        "ac_exceptions = algo.get_ac_exceptions()\n",
        "print()\n",
        "print('Rows in which the result of the chosen operation (+) is outside of discovered ranges:')\n",
        "for ac_exception in ac_exceptions:\n",
        "    id_range, column1, column2 = table_.iloc[ac_exception.row_index]\n",
        "    print(f'id: {id_range}')\n",
        "    print(f'Agility: {column2}')\n",
        "    print(f'Strength: {column1}')\n",
        "    print(f'{operation_name}: {operation(column1, column2)}')\n",
        "\n",
        "if len(ac_exceptions) == 0:\n",
        "    print('None')"
      ],
      "metadata": {
        "colab": {
          "base_uri": "https://localhost:8080/"
        },
        "id": "-9L-Mk3RBGNP",
        "outputId": "1222f466-26ce-4e29-beec-5726ec694909"
      },
      "execution_count": null,
      "outputs": [
        {
          "output_type": "stream",
          "name": "stdout",
          "text": [
            "\n",
            "Rows in which the result of the chosen operation (+) is outside of discovered ranges:\n",
            "None\n"
          ]
        }
      ]
    },
    {
      "cell_type": "markdown",
      "source": [
        "How you can see in this case no data is outside of discovered ranges."
      ],
      "metadata": {
        "id": "SQ-czRT7B1v7"
      }
    },
    {
      "cell_type": "markdown",
      "source": [
        "# Summing everything up"
      ],
      "metadata": {
        "id": "ucikjaubEHIg"
      }
    },
    {
      "cell_type": "markdown",
      "source": [
        "For further convenience, let's collect all this code into one function."
      ],
      "metadata": {
        "id": "_uzeiBtwCA8r"
      }
    },
    {
      "cell_type": "code",
      "source": [
        "def run_ac_mining(table_, columns_, p_fuzz_=P_FUZZ, fuzziness_=FUZZINESS,\n",
        "         bumps_limit_=BUMPS_LIMIT, weight_=WEIGHT, bin_operation_=BIN_OPERATION,\n",
        "         ac_seed_=AC_SEED, iterations_limit_=ITERATIONS_LIMIT):\n",
        "    operation, operation_name = OPERATIONS[bin_operation_]\n",
        "\n",
        "    algo = desbordante.ac.algorithms.Default()\n",
        "\n",
        "    df_without_id = table_[columns_]\n",
        "\n",
        "    algo.load_data(table=df_without_id)\n",
        "\n",
        "    algo.execute(p_fuzz=p_fuzz_, fuzziness=fuzziness_, bumps_limit=bumps_limit_, weight=weight_,\n",
        "            bin_operation=bin_operation_, ac_seed=ac_seed_, iterations_limit=iterations_limit_)\n",
        "    print()\n",
        "    ac_ranges = algo.get_ac_ranges()\n",
        "    for ac_range in ac_ranges:\n",
        "        l_col = df_without_id.columns[ac_range.column_indices[0]]\n",
        "        r_col = df_without_id.columns[ac_range.column_indices[1]]\n",
        "        print('Discovered ranges ' +\n",
        "              f'for ({l_col} {bin_operation_} {r_col}) are:')\n",
        "        print(ac_range.ranges)\n",
        "\n",
        "    ac_exceptions = algo.get_ac_exceptions()\n",
        "    print()\n",
        "    print(f'Rows in which the result of the chosen operation ({bin_operation_}) is ' +\n",
        "          'outside of discovered ranges:')\n",
        "    for ac_exception in ac_exceptions:\n",
        "        id_range, column1, column2 = table_.iloc[ac_exception.row_index]\n",
        "        print(f'id: {id_range}')\n",
        "        print(f'{columns_[1]}: {column2}')\n",
        "        print(f'{columns_[0]}: {column1}')\n",
        "        print(f'{operation_name}: {operation(column1, column2)}\\n')\n",
        "\n",
        "    if len(ac_exceptions) == 0:\n",
        "        print('None')"
      ],
      "metadata": {
        "id": "ZWWjaYU4CPAf"
      },
      "execution_count": null,
      "outputs": []
    },
    {
      "cell_type": "markdown",
      "source": [
        "# Algorithm parameters"
      ],
      "metadata": {
        "id": "4RAby9JNEZIG"
      }
    },
    {
      "cell_type": "markdown",
      "source": [
        "To run the algorithm, you must configure the parameters below:\n",
        "For binary arithmetic operations, you can use four options:\n",
        "```\n",
        " \"+\"\n",
        " \"-\"\n",
        " \"*\"\n",
        " \"/\"\n",
        "```\n",
        "\n",
        "Furthermore, AC mining algorithm provides five parameters\n",
        "for setting up execution:\n",
        "\n",
        "\n",
        "*   **weight**\n",
        "\n",
        "    Weight accepts values in the range (0, 1]. Values closer to 1 force the algorithm to produce fewer larger intervals (up to a single interval covering all values). Values closer to 0 force the algorithm to produce smaller intervals.\n",
        "*   **fuzziness and p_fuzz**\n",
        "\n",
        "    Fuzziness belongs to (0,1) range while p_fuzz belongs to [0,1] range. These parameters control precision and the number of considered rows. Fuzziness values closer to 0 and p_fuzz values closer to 1 force the algorithm to include more rows (higher accuracy). Fuzziness values closer to 1 and p_fuzz values closer to 0 force the algorithm to include fewer rows (higher chance of skipping rows, lower precision, but faster execution).\n",
        "*   **bumps_limit**\n",
        "    \n",
        "    Bumps_limit accepts only natural numbers from the range [1, inf) and limits the number of intervals for all column pairs. To set bumps_limit to inf you should use the 0 value.\n",
        "*   **iterations_limit**\n",
        "    \n",
        "    Iterations_limit accepts only natural numbers. Lower values (close to 1) reduce accuracy due to algorithm performing fewer iterations.\n",
        "*   **AC_seed**\n",
        "    \n",
        "    AC_seed accepts only natural numbers. B-HUNT is a randomized algorithm that accepts the seed parameter (AC_seed). Fixing this parameter ensures reproducible results, which are necessary for verifying results during testing of the algorithm. Furthermore, we need to fix it in this example for demonstration purposes; otherwise, we may obtain a different number of intervals with different boundaries that will not correspond to the text we wrote for our output."
      ],
      "metadata": {
        "id": "Xgn8n9-iFNF3"
      }
    },
    {
      "cell_type": "markdown",
      "source": [
        "# Example #1"
      ],
      "metadata": {
        "id": "jqnXPuzEEplz"
      }
    },
    {
      "cell_type": "markdown",
      "source": [
        "Let's proceed to a visual example. We will use this dataset:"
      ],
      "metadata": {
        "id": "prjhbtsuKaoI"
      }
    },
    {
      "cell_type": "code",
      "source": [
        "!wget -q https://raw.githubusercontent.com/Desbordante/desbordante-core/refs/heads/main/examples/datasets/cargo_march.csv\n",
        "TABLE = 'cargo_march.csv'"
      ],
      "metadata": {
        "id": "dzBO19WzKxzD"
      },
      "execution_count": null,
      "outputs": []
    },
    {
      "cell_type": "markdown",
      "source": [
        "We remind you that for default parameters we will use those values:\n",
        "binary operation is \"-\", weight - 0.1, fuzziness - 0.2, p_fuzz - 0.85, bumps_limit - 0,\n",
        "iterations_limit - 4, AC_seed - 11."
      ],
      "metadata": {
        "id": "Jxi-HFCILHuc"
      }
    },
    {
      "cell_type": "markdown",
      "source": [
        "Let's see the result of the algorithm with these parameters.\n"
      ],
      "metadata": {
        "id": "cwHUs-sRLSXb"
      }
    },
    {
      "cell_type": "code",
      "source": [
        "table_for_example = pandas.read_csv(TABLE, sep=SEPARATOR, header=HEADER)\n",
        "run_ac_mining(table_for_example, ['Delivery date', 'Dispatch date'])"
      ],
      "metadata": {
        "colab": {
          "base_uri": "https://localhost:8080/"
        },
        "id": "qUzD3fyFLUqV",
        "outputId": "542dedb4-9d07-4744-87dc-6fd12e17ed1f"
      },
      "execution_count": null,
      "outputs": [
        {
          "output_type": "stream",
          "name": "stdout",
          "text": [
            "\n",
            "Discovered ranges for (Delivery date - Dispatch date) are:\n",
            "[(2.0, 7.0), (15.0, 22.0)]\n",
            "\n",
            "Rows in which the result of the chosen operation (-) is outside of discovered ranges:\n",
            "id: 7\n",
            "Dispatch date: 1\n",
            "Delivery date: 30\n",
            "Difference: 29\n",
            "\n",
            "id: 26\n",
            "Dispatch date: 7\n",
            "Delivery date: 18\n",
            "Difference: 11\n",
            "\n",
            "id: 30\n",
            "Dispatch date: 11\n",
            "Delivery date: 22\n",
            "Difference: 11\n",
            "\n"
          ]
        }
      ]
    },
    {
      "cell_type": "markdown",
      "source": [
        "# Explanation of discovered data in example #1"
      ],
      "metadata": {
        "id": "dpgABm9wEy_a"
      }
    },
    {
      "cell_type": "markdown",
      "source": [
        "You can see that the algorithm creates two intervals for the binary operation \"-\": (2-7) and\n",
        "(15-22). This means that the difference between the dispatch date and delivery date always\n",
        "falls within these intervals, except for three rows where the difference lies outside the\n",
        "discovered ranges. From this, we can infer that:\n",
        "\n",
        "**Packages for some addresses are typically delivered within 7 days.**\n",
        "\n",
        "**Packages for some addresses take up to 22 days.**\n"
      ],
      "metadata": {
        "id": "9L8a8hl5NNzL"
      }
    },
    {
      "cell_type": "markdown",
      "source": [
        "Why these two intervals? To answer this question, more context is needed; that is, we should\n",
        "look into the underlying data. We can imagine several reasons for this result, such as: 1)\n",
        "nearby addresses versus far addresses; 2) air shipping versus regular shipping.\n",
        "\n",
        "There are three parcels that fall outside of these delivery intervals. Why? This is a point\n",
        "for further investigation, which requires additional context. There are many possible reasons\n",
        "for this: 1) on these dates there was a workers' strike in some regions; or 2) an incorrect\n",
        "address was specified, which increased the delivery time; or 3) it is just a typo in the table.\n"
      ],
      "metadata": {
        "id": "xQMyKaryNqtt"
      }
    },
    {
      "cell_type": "markdown",
      "source": [
        "# Example #2"
      ],
      "metadata": {
        "id": "KtSR6NbiE87G"
      }
    },
    {
      "cell_type": "markdown",
      "source": [
        "Now we reduce the value of the parameter weight to 0.05.\n"
      ],
      "metadata": {
        "id": "9xxEJSlVNs06"
      }
    },
    {
      "cell_type": "code",
      "source": [
        "table_for_example = pandas.read_csv(TABLE, sep=SEPARATOR, header=HEADER)\n",
        "run_ac_mining(table_for_example, ['Delivery date', 'Dispatch date'], weight_=0.05)"
      ],
      "metadata": {
        "colab": {
          "base_uri": "https://localhost:8080/"
        },
        "id": "vgg3dr3oNvOR",
        "outputId": "1c0e2641-78f6-4f3d-fdb4-8aa5aff0c177"
      },
      "execution_count": null,
      "outputs": [
        {
          "output_type": "stream",
          "name": "stdout",
          "text": [
            "\n",
            "Discovered ranges for (Delivery date - Dispatch date) are:\n",
            "[(2.0, 7.0), (11.0, 11.0), (15.0, 22.0), (29.0, 29.0)]\n",
            "\n",
            "Rows in which the result of the chosen operation (-) is outside of discovered ranges:\n",
            "None\n"
          ]
        }
      ]
    },
    {
      "cell_type": "markdown",
      "source": [
        "# Explanation of discovered data in example #2"
      ],
      "metadata": {
        "id": "f1cIZURDFFAS"
      }
    },
    {
      "cell_type": "markdown",
      "source": [
        "You can see that the number of intervals increases, and there is no longer any data outside of\n",
        "the discovered ranges.\n",
        "However, with this number of intervals, it is difficult to draw immediate conclusions about the\n",
        "delivery date. In this case, a detailed analysis of other attributes might enable more meaningful\n",
        "predictions for delivery times. For example, it may be a good idea to partition data by the region\n",
        "attribute (or by month/quarter) and consider each partition individually."
      ],
      "metadata": {
        "id": "BgD-rcifN2Pp"
      }
    },
    {
      "cell_type": "markdown",
      "source": [
        "Another option is to try to find a parameter combination that will result in a smaller number of\n",
        "intervals. Next, remember that the algorithm is randomized (unless you run it with the exact\n",
        "settings) — it can skip some rows, so you can also try to alter the seed."
      ],
      "metadata": {
        "id": "9aOtq5IpN8NP"
      }
    },
    {
      "cell_type": "markdown",
      "source": [
        "Finally, cleaning up the data by removing duplicate and incomplete rows might also help.\n",
        "Thus, the quantity and quality of the intervals are the user's responsibility. It may take several\n",
        "attempts to achieve something interesting. Experiment!"
      ],
      "metadata": {
        "id": "xNWgtfmXN_hX"
      }
    }
  ]
}